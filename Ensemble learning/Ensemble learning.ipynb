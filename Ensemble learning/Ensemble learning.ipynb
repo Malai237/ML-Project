{
 "cells": [
  {
   "cell_type": "markdown",
   "id": "7b3f19d6",
   "metadata": {},
   "source": [
    "## Ensemble Learning: Bagging and Boosting\n",
    "\n",
    "Pengyu Hong"
   ]
  },
  {
   "cell_type": "markdown",
   "id": "17d5d327-1ce9-4aee-8f47-6bfd7572e7f5",
   "metadata": {
    "tags": []
   },
   "source": [
    "### 0. Import libraries and load demo datasets"
   ]
  },
  {
   "cell_type": "code",
   "execution_count": 10,
   "id": "181c06c4-bb4a-4d87-a3ff-1b538238fa97",
   "metadata": {
    "tags": []
   },
   "outputs": [],
   "source": [
    "import numpy as np\n",
    "import pandas as pd\n",
    "import os\n",
    "import matplotlib.pyplot as plt\n",
    "\n",
    "from sklearn.ensemble import RandomForestClassifier\n",
    "from sklearn.model_selection import train_test_split\n",
    "from sklearn.metrics import f1_score\n",
    "from sklearn import tree\n",
    "\n",
    "from sklearn.model_selection import train_test_split, GridSearchCV\n",
    "from sklearn.preprocessing import StandardScaler\n",
    "\n",
    "trainData = pd.read_csv( 'training_data.csv' )\n",
    "testData = pd.read_csv( 'test_data.csv' )"
   ]
  },
  {
   "cell_type": "code",
   "execution_count": 2,
   "id": "5f2e912d",
   "metadata": {
    "tags": []
   },
   "outputs": [],
   "source": [
    "# Prepare training data\n",
    "X_train = trainData.drop( ['Label'], axis = 1 )\n",
    "y_train = trainData['Label']\n",
    "X_test = testData.drop( ['Label'], axis = 1 )\n",
    "y_test = testData['Label']"
   ]
  },
  {
   "cell_type": "markdown",
   "id": "4e03dc00",
   "metadata": {},
   "source": [
    "### 1. Single Tree"
   ]
  },
  {
   "cell_type": "code",
   "execution_count": 3,
   "id": "91b4a73a-6084-42e8-874b-c8c92469fdd3",
   "metadata": {
    "tags": []
   },
   "outputs": [
    {
     "name": "stdout",
     "output_type": "stream",
     "text": [
      "Single tree: training accuracy = 1.0\n",
      "Single tree: test accuracy = 0.771\n"
     ]
    }
   ],
   "source": [
    "aTreeClassifier = tree.DecisionTreeClassifier()\n",
    "aTreeClassifier = aTreeClassifier.fit(X_train, y_train)\n",
    "\n",
    "y_pred = aTreeClassifier.predict( X_train )\n",
    "print( 'Single tree: training accuracy =', sum( y_pred == y_train ) / len( y_train ) )\n",
    "\n",
    "y_pred = aTreeClassifier.predict( X_test )\n",
    "print( 'Single tree: test accuracy =', sum( y_pred == y_test ) / len( y_test ) )"
   ]
  },
  {
   "cell_type": "markdown",
   "id": "ecc8c6fa-179f-46ff-8bec-44b8b58f1429",
   "metadata": {
    "tags": []
   },
   "source": [
    "#### Exercise: Train a better tree classifier."
   ]
  },
  {
   "cell_type": "code",
   "execution_count": 42,
   "id": "a6b332ec-27f2-44e0-b78c-addad5c13d62",
   "metadata": {
    "tags": []
   },
   "outputs": [
    {
     "name": "stdout",
     "output_type": "stream",
     "text": [
      "Single tree: training accuracy = 0.861\n",
      "Single tree: training accuracy = 0.816\n"
     ]
    }
   ],
   "source": [
    "# Your codes here\n",
    "clf = tree.DecisionTreeClassifier()\n",
    "\n",
    "param = {\n",
    "    \"criterion\": [\"gini\", \"entropy\", \"log_loss\"],\n",
    "    \"max_depth\": [2,4,6,8,10,12,14,16,18,20],\n",
    "    \"splitter\": [\"best\", \"random\"]\n",
    "    }\n",
    "grid = GridSearchCV(clf, param_grid=param, cv=8)\n",
    "\n",
    "aTreeClassifier = grid.fit(X_train, y_train)\n",
    "\n",
    "y_pred = grid.predict(X_train)\n",
    "print( 'Single tree: training accuracy =', sum( y_pred == y_train ) / len( y_train ) )\n",
    "\n",
    "y_pred = grid.predict(X_test)\n",
    "print( 'Single tree: training accuracy =', sum( y_pred == y_train ) / len( y_train ) )"
   ]
  },
  {
   "cell_type": "markdown",
   "id": "04316f93-2eef-4fab-aa3a-6c54b33fe855",
   "metadata": {},
   "source": [
    "### 2. Random Forest"
   ]
  },
  {
   "cell_type": "code",
   "execution_count": 32,
   "id": "a11915c3",
   "metadata": {
    "tags": []
   },
   "outputs": [
    {
     "name": "stdout",
     "output_type": "stream",
     "text": [
      "Random forest: training accuracy = 0.992\n",
      "Random forest: test accuracy = 0.83\n"
     ]
    }
   ],
   "source": [
    "rf = RandomForestClassifier(n_estimators=10)\n",
    "rf.fit(X_train, y_train)\n",
    "\n",
    "y_pred = rf.predict(X_train)\n",
    "print( 'Random forest: training accuracy =', sum( y_pred == y_train ) / len( y_train ) )\n",
    "\n",
    "y_pred = rf.predict(X_test)\n",
    "print( 'Random forest: test accuracy =', sum( y_pred == y_test ) / len( y_test ) )"
   ]
  },
  {
   "cell_type": "code",
   "execution_count": 29,
   "metadata": {},
   "outputs": [
    {
     "data": {
      "text/plain": [
       "{'max_depth': 20, 'n_estimators': 100}"
      ]
     },
     "execution_count": 29,
     "metadata": {},
     "output_type": "execute_result"
    }
   ],
   "source": [
    "grid.best_params_"
   ]
  },
  {
   "cell_type": "markdown",
   "id": "8a6502e6",
   "metadata": {},
   "source": [
    "#### Exercise: Train a better random forest classifier"
   ]
  },
  {
   "cell_type": "code",
   "execution_count": 38,
   "id": "75be0391-f30a-4f46-8e35-a809f7b90efb",
   "metadata": {},
   "outputs": [
    {
     "name": "stdout",
     "output_type": "stream",
     "text": [
      "Random forest: training accuracy = 1.0\n",
      "Random forest: test accuracy = 0.854\n"
     ]
    }
   ],
   "source": [
    "# Your codes here\n",
    "rf = RandomForestClassifier(n_estimators=100,max_depth=20)\n",
    "\n",
    "rf.fit(X_train, y_train)\n",
    "\n",
    "y_pred = rf.predict(X_train)\n",
    "print( 'Random forest: training accuracy =', sum( y_pred == y_train ) / len( y_train ) )\n",
    "\n",
    "y_pred = rf.predict(X_test)\n",
    "print( 'Random forest: test accuracy =', sum( y_pred == y_test ) / len( y_test ) )"
   ]
  },
  {
   "cell_type": "markdown",
   "id": "e5526158",
   "metadata": {},
   "source": [
    "#### 2.1 Feature importance"
   ]
  },
  {
   "cell_type": "code",
   "execution_count": 39,
   "id": "89d5d923",
   "metadata": {
    "tags": []
   },
   "outputs": [
    {
     "data": {
      "image/png": "[encoded data removed]",
      "text/plain": [
       "<Figure size 640x480 with 1 Axes>"
      ]
     },
     "metadata": {},
     "output_type": "display_data"
    }
   ],
   "source": [
    "importances = rf.feature_importances_\n",
    "\n",
    "plt.figure()\n",
    "plt.title(\"Random Forest: Feature Importance\")\n",
    "plt.bar(range(X_train.shape[1]), importances, align=\"center\")\n",
    "plt.xticks(range(X_train.shape[1]), X_train.columns, rotation=90)\n",
    "plt.xlim([-1, X_train.shape[1]])\n",
    "plt.show()"
   ]
  },
  {
   "cell_type": "markdown",
   "id": "a9a5e80e",
   "metadata": {},
   "source": [
    "### 3. Boosting - AdaBoost"
   ]
  },
  {
   "cell_type": "code",
   "execution_count": 40,
   "id": "5825ec59",
   "metadata": {
    "tags": []
   },
   "outputs": [],
   "source": [
    "from sklearn.ensemble import AdaBoostClassifier"
   ]
  },
  {
   "cell_type": "code",
   "execution_count": 64,
   "id": "88b8380f",
   "metadata": {
    "tags": []
   },
   "outputs": [
    {
     "name": "stdout",
     "output_type": "stream",
     "text": [
      "AdaBoost tree: training accuracy = 1.0\n",
      "AdaBoost tree: test Accuracy = 0.785\n"
     ]
    }
   ],
   "source": [
    "abc = AdaBoostClassifier( tree.DecisionTreeClassifier(max_depth=6), n_estimators = 10 )\n",
    "abc.fit(X_train, y_train)\n",
    "\n",
    "y_pred = abc.predict( X_train )\n",
    "print( 'AdaBoost tree: training accuracy =', sum( y_pred == y_train ) / len( y_train ) )\n",
    "\n",
    "y_pred = abc.predict(X_test)\n",
    "print( 'AdaBoost tree: test Accuracy =', sum( y_pred == y_test ) / len( y_test ) )"
   ]
  },
  {
   "cell_type": "markdown",
   "id": "a4c9c435-7be9-4020-955b-6a6c9c96fcf3",
   "metadata": {
    "tags": []
   },
   "source": [
    "#### Exercise: Train a better AdaBoost classifier"
   ]
  },
  {
   "cell_type": "code",
   "execution_count": 62,
   "id": "8c426383-8d02-41ae-9a72-12d7f1a28805",
   "metadata": {
    "tags": []
   },
   "outputs": [
    {
     "name": "stdout",
     "output_type": "stream",
     "text": [
      "AdaBoost tree: training accuracy = 1.0\n",
      "AdaBoost tree: test Accuracy = 0.852\n"
     ]
    }
   ],
   "source": [
    "# Your codes here\n",
    "abc = AdaBoostClassifier( tree.DecisionTreeClassifier(criterion= 'entropy', max_depth=4, splitter= 'best'), n_estimators = 1000, learning_rate=1.6, \n",
    "                         algorithm='SAMME' )\n",
    "abc.fit(X_train, y_train)\n",
    "\n",
    "y_pred = abc.predict( X_train )\n",
    "print( 'AdaBoost tree: training accuracy =', sum( y_pred == y_train ) / len( y_train ) )\n",
    "\n",
    "y_pred = abc.predict(X_test)\n",
    "print( 'AdaBoost tree: test Accuracy =', sum( y_pred == y_test ) / len( y_test ) )"
   ]
  },
  {
   "cell_type": "code",
   "execution_count": 65,
   "id": "12e4db1d-f67c-47e2-8a55-df39a7ab5cda",
   "metadata": {
    "tags": []
   },
   "outputs": [
    {
     "name": "stderr",
     "output_type": "stream",
     "text": [
      "/Users/ericwang/opt/miniconda3/lib/python3.8/site-packages/sklearn/tree/_classes.py:666: RuntimeWarning: invalid value encountered in divide\n",
      "  return self.tree_.compute_feature_importances()\n"
     ]
    },
    {
     "data": {
      "image/png": "[encoded data removed]",
      "text/plain": [
       "<Figure size 640x480 with 1 Axes>"
      ]
     },
     "metadata": {},
     "output_type": "display_data"
    }
   ],
   "source": [
    "importances = abc.feature_importances_\n",
    "\n",
    "plt.figure()\n",
    "plt.title(\"AdaBoost: Feature Importance\")\n",
    "plt.bar(range(X_train.shape[1]), importances, align=\"center\")\n",
    "plt.xticks(range(X_train.shape[1]), X_train.columns, rotation=90)\n",
    "plt.xlim([-1, X_train.shape[1]])\n",
    "plt.show()"
   ]
  },
  {
   "cell_type": "code",
   "execution_count": null,
   "id": "5c09091d-f3c4-47cb-86f0-be0bbf453802",
   "metadata": {},
   "outputs": [],
   "source": []
  }
 ],
 "metadata": {
  "kernelspec": {
   "display_name": "Python 3 (ipykernel)",
   "language": "python",
   "name": "python3"
  },
  "language_info": {
   "codemirror_mode": {
    "name": "ipython",
    "version": 3
   },
   "file_extension": ".py",
   "mimetype": "text/x-python",
   "name": "python",
   "nbconvert_exporter": "python",
   "pygments_lexer": "ipython3",
   "version": "3.8.13"
  }
 },
 "nbformat": 4,
 "nbformat_minor": 5
}
