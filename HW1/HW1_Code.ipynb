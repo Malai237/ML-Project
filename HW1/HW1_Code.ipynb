{
 "cells": [
  {
   "cell_type": "code",
   "execution_count": 1,
   "id": "eb5ec916",
   "metadata": {},
   "outputs": [],
   "source": [
    "import numpy as np\n",
    "import pandas as pd\n",
    "import matplotlib.pyplot as plt"
   ]
  },
  {
   "cell_type": "code",
   "execution_count": 2,
   "id": "6ca6c2d6",
   "metadata": {},
   "outputs": [
    {
     "name": "stdout",
     "output_type": "stream",
     "text": [
      "Data set size:  78467\n"
     ]
    }
   ],
   "source": [
    "data = pd.read_csv(\"HW_Dataset_1.csv\")\n",
    "print( 'Data set size: ', len( data ) )"
   ]
  },
  {
   "cell_type": "markdown",
   "id": "14b015b3",
   "metadata": {},
   "source": [
    "### Queston 1a."
   ]
  },
  {
   "cell_type": "code",
   "execution_count": 3,
   "id": "6525ed47",
   "metadata": {},
   "outputs": [],
   "source": [
    "# filters for north east and south region\n",
    "NorthEastSouth = data.loc[data[\"REGION\"] <= 2]\n",
    "# drops -88 and -99 records in RECVDVACC\n",
    "NorthEastSouth = NorthEastSouth.drop(NorthEastSouth[NorthEastSouth.RECVDVACC == -88].index)\n",
    "NorthEastSouth = NorthEastSouth.drop(NorthEastSouth[NorthEastSouth.RECVDVACC == -99].index)"
   ]
  },
  {
   "cell_type": "code",
   "execution_count": 4,
   "id": "04bad32f",
   "metadata": {},
   "outputs": [],
   "source": [
    "# filters for vaccinated persons in north east and south region\n",
    "Vaccinated = sum(NorthEastSouth[\"RECVDVACC\"] == 1)"
   ]
  },
  {
   "cell_type": "code",
   "execution_count": 7,
   "id": "be75dc97",
   "metadata": {},
   "outputs": [
    {
     "data": {
      "text/plain": [
       "0.8314007044161474"
      ]
     },
     "execution_count": 7,
     "metadata": {},
     "output_type": "execute_result"
    }
   ],
   "source": [
    "# calculates vaccination rate\n",
    "VaccinationRate = Vaccinated/len(NorthEastSouth)\n",
    "VaccinationRate"
   ]
  },
  {
   "cell_type": "markdown",
   "id": "76d74ba3",
   "metadata": {},
   "source": [
    "### Question 1b."
   ]
  },
  {
   "cell_type": "code",
   "execution_count": 27,
   "id": "61f9fcb1",
   "metadata": {},
   "outputs": [],
   "source": [
    "# filters for metro area and non metro area and removes -88 and -99 values\n",
    "Metro = data.loc[data[\"EST_MSA\"].notnull()]\n",
    "Metro = Metro.drop(Metro[Metro.RECVDVACC == -88].index)\n",
    "Metro = Metro.drop(Metro[Metro.RECVDVACC == -99].index)\n",
    "\n",
    "NonMetro = data.loc[data[\"EST_MSA\"].isnull()]\n",
    "NonMetro = NonMetro.drop(NonMetro[NonMetro.RECVDVACC == -88].index)\n",
    "NonMetro = NonMetro.drop(NonMetro[NonMetro.RECVDVACC == -99].index)"
   ]
  },
  {
   "cell_type": "code",
   "execution_count": 31,
   "id": "2410c4a0",
   "metadata": {},
   "outputs": [
    {
     "name": "stdout",
     "output_type": "stream",
     "text": [
      "MVaccinationRate:  0.8634043369794665 \n",
      "NMVaccinationRate:  0.8108727910427627\n"
     ]
    }
   ],
   "source": [
    "# calculates vaccination rate\n",
    "MVaccinationRate = sum(Metro[\"RECVDVACC\"] == 1)/len(Metro)\n",
    "NMVaccinationRate = sum(NonMetro[\"RECVDVACC\"] == 1)/len(NonMetro)\n",
    "print('MVaccinationRate: ', MVaccinationRate, '\\nNMVaccinationRate: ', NMVaccinationRate)"
   ]
  },
  {
   "cell_type": "markdown",
   "id": "455dc9d5",
   "metadata": {},
   "source": [
    "Vaccination rate in metro areas is higher than non-metro areas"
   ]
  },
  {
   "cell_type": "markdown",
   "id": "451c0678",
   "metadata": {},
   "source": [
    "### Question 1c."
   ]
  },
  {
   "cell_type": "code",
   "execution_count": 37,
   "id": "b8e4a02a",
   "metadata": {},
   "outputs": [],
   "source": [
    "# filters for north east and removes -88 and -99\n",
    "NE = data.loc[data[\"REGION\"]==1]\n",
    "NE = NE.drop(NE[NE.RECVDVACC == -88].index)\n",
    "NE = NE.drop(NE[NE.RECVDVACC == -99].index)\n",
    "\n",
    "# counts old people\n",
    "old = sum(NE[\"TBIRTH_YEAR\"] <= 1972)\n",
    "young = sum(NE[\"TBIRTH_YEAR\"] > 1972)\n",
    "\n",
    "OlderVaccination = sum((NE[\"TBIRTH_YEAR\"] <= 1972) & (NE[\"RECVDVACC\"] == 1))\n",
    "YoungerVaccination = sum((NE[\"TBIRTH_YEAR\"] > 1972) & (NE[\"RECVDVACC\"] == 1))"
   ]
  },
  {
   "cell_type": "code",
   "execution_count": 38,
   "id": "3d436af6",
   "metadata": {},
   "outputs": [
    {
     "name": "stdout",
     "output_type": "stream",
     "text": [
      "OlderVaccinationRate:  0.9227936507936508 YoungerVaccination:  0.7968514125512185\n"
     ]
    }
   ],
   "source": [
    "# calculates vaccination rate\n",
    "OlderVaccinationRate = OlderVaccination/old\n",
    "YoungerVaccinationRate = YoungerVaccination/young\n",
    "print('OlderVaccinationRate: ', OlderVaccinationRate, 'YoungerVaccination: ', YoungerVaccinationRate)"
   ]
  },
  {
   "cell_type": "markdown",
   "id": "62368739",
   "metadata": {},
   "source": [
    "Older population has higher vaccination rate than younger population"
   ]
  },
  {
   "cell_type": "markdown",
   "id": "80bd1490",
   "metadata": {},
   "source": [
    "### Question 1d."
   ]
  },
  {
   "cell_type": "code",
   "execution_count": 39,
   "id": "90ef5e4a",
   "metadata": {},
   "outputs": [],
   "source": [
    "# Subset df for north east and midwest regions\n",
    "NE = data.loc[data[\"REGION\"] == 1]\n",
    "MidW = data.loc[data[\"REGION\"] == 3]\n",
    "\n",
    "# Removes -88 and -99 values\n",
    "NE = NE.drop(NE[NE.INCOME == -88].index)\n",
    "NE = NE.drop(NE[NE.INCOME == -99].index)\n",
    "MidW = MidW.drop(MidW[MidW.INCOME == -88].index)\n",
    "MidW = MidW.drop(MidW[MidW.INCOME == -99].index)"
   ]
  },
  {
   "cell_type": "code",
   "execution_count": 40,
   "id": "ebfa2268",
   "metadata": {},
   "outputs": [
    {
     "data": {
      "text/plain": [
       "(array([ 787.,  669.,  860.,    0., 1457., 1292.,    0., 1769.,  950.,\n",
       "        1257.]),\n",
       " array([1. , 1.7, 2.4, 3.1, 3.8, 4.5, 5.2, 5.9, 6.6, 7.3, 8. ]),\n",
       " <BarContainer object of 10 artists>)"
      ]
     },
     "execution_count": 40,
     "metadata": {},
     "output_type": "execute_result"
    },
    {
     "data": {
      "image/png": "[encoded data removed]",
      "text/plain": [
       "<Figure size 640x480 with 1 Axes>"
      ]
     },
     "metadata": {},
     "output_type": "display_data"
    }
   ],
   "source": [
    "plt.hist(NE.INCOME)"
   ]
  },
  {
   "cell_type": "code",
   "execution_count": 5,
   "id": "1946632a",
   "metadata": {},
   "outputs": [
    {
     "data": {
      "text/plain": [
       "(array([1205., 1020., 1421.,    0., 2197., 1843.,    0., 2286.,  955.,\n",
       "         969.]),\n",
       " array([1. , 1.7, 2.4, 3.1, 3.8, 4.5, 5.2, 5.9, 6.6, 7.3, 8. ]),\n",
       " <BarContainer object of 10 artists>)"
      ]
     },
     "execution_count": 5,
     "metadata": {},
     "output_type": "execute_result"
    },
    {
     "data": {
      "image/png": "[encoded data removed]",
      "text/plain": [
       "<Figure size 640x480 with 1 Axes>"
      ]
     },
     "metadata": {},
     "output_type": "display_data"
    }
   ],
   "source": [
    "plt.hist(MidW.INCOME)"
   ]
  },
  {
   "cell_type": "markdown",
   "id": "ffc1d977",
   "metadata": {},
   "source": [
    "Income Distribution\n",
    "1-3) 0 - 49,999   \n",
    "4-5) 50,000 - 99,999   \n",
    "6-8) 100,000 and above"
   ]
  },
  {
   "cell_type": "code",
   "execution_count": 41,
   "id": "51655a0d",
   "metadata": {},
   "outputs": [
    {
     "name": "stdout",
     "output_type": "stream",
     "text": [
      "Income 1-3: \n",
      "NE:  2316 \n",
      "MidW:  3646 \n",
      "\n",
      "\n",
      "Income 4-5: \n",
      "NE:  2749 \n",
      "MidW:  3646 \n",
      "\n",
      "\n",
      "Income 6-8: \n",
      "NE:  2207 \n",
      "MidW:  1924 \n",
      "\n",
      "\n",
      "Income is more evenly distributed in NE region than MidW region\n",
      "Majority of MidW population earn less than $100,000\n"
     ]
    }
   ],
   "source": [
    "print('Income 1-3: \\nNE: ', sum(NE[\"INCOME\"] <=3), '\\nMidW: ', sum(MidW[\"INCOME\"] <= 3), '\\n\\n')\n",
    "print('Income 4-5: \\nNE: ', sum((NE[\"INCOME\"] >3) & (NE[\"INCOME\"] < 6)), '\\nMidW: ', sum((MidW[\"INCOME\"] <= 3) & (MidW[\"INCOME\"] < 6)), '\\n\\n')\n",
    "print('Income 6-8: \\nNE: ', sum(NE[\"INCOME\"] > 6), '\\nMidW: ', sum(MidW[\"INCOME\"] > 6), '\\n\\n')\n",
    "print('Income is more evenly distributed in NE region than MidW region\\nMajority of MidW population earn less than $100,000')"
   ]
  },
  {
   "cell_type": "markdown",
   "id": "7f004018",
   "metadata": {},
   "source": [
    "### Question 1e."
   ]
  },
  {
   "cell_type": "code",
   "execution_count": 43,
   "id": "cb466ee1",
   "metadata": {},
   "outputs": [],
   "source": [
    "# removes -88 and -99\n",
    "temp = data.drop(data[data.EXPNS_DIF == -99].index)\n",
    "temp = data.drop(data[data.EXPNS_DIF == -88].index)\n",
    "\n",
    "# Subset df for metro and non metro areas\n",
    "Metro = temp.loc[temp[\"EST_MSA\"].notnull()]\n",
    "NonMetro = temp.loc[temp[\"EST_MSA\"].isnull()]\n",
    "\n"
   ]
  },
  {
   "cell_type": "code",
   "execution_count": 44,
   "id": "77daf0b9",
   "metadata": {},
   "outputs": [],
   "source": [
    "# Counts no difficulties for metro and non metro areas\n",
    "NoDiff_Metro = sum(Metro[\"EXPNS_DIF\"] == 1)\n",
    "NoDiff_NonMetro = sum(NonMetro[\"EXPNS_DIF\"] == 1)"
   ]
  },
  {
   "cell_type": "code",
   "execution_count": 46,
   "id": "3d45db1d",
   "metadata": {},
   "outputs": [
    {
     "name": "stdout",
     "output_type": "stream",
     "text": [
      "no difficulties rate (Metro):  0.6064874436574372\n",
      "no difficulties rate (NonMetro):  0.6033221792534114\n"
     ]
    }
   ],
   "source": [
    "# Calculates no expense difficulites rate in metro and non metro ares\n",
    "print('no difficulties rate (Metro): ', NoDiff_Metro/len(Metro))\n",
    "print('no difficulties rate (NonMetro): ', NoDiff_NonMetro/len(NonMetro))"
   ]
  },
  {
   "cell_type": "markdown",
   "id": "502261d0",
   "metadata": {},
   "source": [
    "Residents of Metro Areas have slightly less hardship than NonMetro Areas, not significant"
   ]
  }
 ],
 "metadata": {
  "kernelspec": {
   "display_name": "Python 3",
   "language": "python",
   "name": "python3"
  },
  "language_info": {
   "codemirror_mode": {
    "name": "ipython",
    "version": 3
   },
   "file_extension": ".py",
   "mimetype": "text/x-python",
   "name": "python",
   "nbconvert_exporter": "python",
   "pygments_lexer": "ipython3",
   "version": "3.9.6 (default, Aug  5 2022, 15:21:02) \n[Clang 14.0.0 (clang-1400.0.29.102)]"
  },
  "vscode": {
   "interpreter": {
    "hash": "31f2aee4e71d21fbe5cf8b01ff0e069b9275f58929596ceb00d14d90e3e16cd6"
   }
  }
 },
 "nbformat": 4,
 "nbformat_minor": 5
}
