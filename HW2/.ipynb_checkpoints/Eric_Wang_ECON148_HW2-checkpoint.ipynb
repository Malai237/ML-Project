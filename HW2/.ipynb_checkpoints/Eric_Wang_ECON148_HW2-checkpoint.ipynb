{
 "cells": [
  {
   "cell_type": "code",
   "execution_count": 13,
   "id": "61465cab",
   "metadata": {},
   "outputs": [],
   "source": [
    "import numpy as np\n",
    "import pandas as pd\n",
    "from sklearn.linear_model import LinearRegression, LogisticRegression\n",
    "from sklearn.model_selection import train_test_split\n",
    "import os\n",
    "import matplotlib.pyplot as plt\n",
    "from sklearn.metrics import accuracy_score, r2_score\n",
    "from sklearn.linear_model import RidgeCV, LassoCV, ElasticNetCV"
   ]
  },
  {
   "cell_type": "code",
   "execution_count": 2,
   "id": "0c0e33f8",
   "metadata": {},
   "outputs": [],
   "source": [
    "os.chdir('/Users/ericwang/Desktop/ECON_148/HW2')\n",
    "data = pd.read_csv(\"current_dataHW2.csv\")"
   ]
  },
  {
   "cell_type": "code",
   "execution_count": 3,
   "id": "16040d91",
   "metadata": {},
   "outputs": [
    {
     "name": "stderr",
     "output_type": "stream",
     "text": [
      "/var/folders/hb/vc7g33x55zj491kqzxj0jdm80000gn/T/ipykernel_19081/1623819159.py:7: SettingWithCopyWarning: \n",
      "A value is trying to be set on a copy of a slice from a DataFrame\n",
      "\n",
      "See the caveats in the documentation: https://pandas.pydata.org/pandas-docs/stable/user_guide/indexing.html#returning-a-view-versus-a-copy\n",
      "  X.replace(-99, 1, inplace = True) # replace -99 with 1.\n"
     ]
    }
   ],
   "source": [
    "# Formattting data, removes -99 and -88 for RECVDVACC\n",
    "data=data[data['RECVDVACC']>=0]\n",
    "data['age'] = 2023-data['TBIRTH_YEAR']\n",
    "X = data[['age', 'EGENDER', 'EEDUC']] # age, gender, education\n",
    "y = data['RECVDVACC']\n",
    "X_reg=pd.get_dummies(X, columns=['EGENDER','EEDUC'], drop_first=True) # create dummy variables\n",
    "X.replace(-99, 1, inplace = True) # replace -99 with 1. "
   ]
  },
  {
   "cell_type": "markdown",
   "id": "b6aa2e89",
   "metadata": {},
   "source": [
    "# a.)\n",
    "### Linear Regression"
   ]
  },
  {
   "cell_type": "code",
   "execution_count": 4,
   "id": "118546f9",
   "metadata": {},
   "outputs": [
    {
     "name": "stdout",
     "output_type": "stream",
     "text": [
      "Linear Regression R-squared:  0.17524058780261187\n"
     ]
    }
   ],
   "source": [
    "linear_model = LinearRegression().fit(X_reg, y)\n",
    "linear_pred = linear_model.predict(X_reg)\n",
    "linear_r2 = r2_score(y, linear_pred)\n",
    "print(f\"Linear Regression R-squared: \", linear_r2)"
   ]
  },
  {
   "cell_type": "markdown",
   "id": "4b05172d",
   "metadata": {},
   "source": [
    "### Logistic Regression"
   ]
  },
  {
   "cell_type": "code",
   "execution_count": 5,
   "id": "3d773b8d",
   "metadata": {},
   "outputs": [
    {
     "name": "stdout",
     "output_type": "stream",
     "text": [
      "Logistic Regression Accuracy:  0.6857853972027712\n"
     ]
    }
   ],
   "source": [
    "logistic_model = LogisticRegression(solver='newton-cg').fit(X_reg, y)\n",
    "logistic_pred = logistic_model.predict(X_reg)\n",
    "logistic_acc = accuracy_score(y, logistic_pred)\n",
    "print(f\"Logistic Regression Accuracy: \", logistic_acc)"
   ]
  },
  {
   "cell_type": "markdown",
   "id": "58e901db",
   "metadata": {},
   "source": [
    "#### Logistic regression significantly performs better than linear regression in this case"
   ]
  },
  {
   "cell_type": "markdown",
   "id": "bc0e7cbf",
   "metadata": {},
   "source": [
    "## B.)\n",
    "### Linear Model\n",
    "#### Variables: \n",
    "##### REGION: Political stances correlate with region and location; More republican areas are more likely to be unvaccinated\n",
    "##### EXPNS_DIF: Financial dificulties may correlate with whether or not individuals are able to afford getting sick, i.e. it would be more costly for individuals who struggle financially to not get the vaccine.\n",
    "##### WORRY: Directly related to how cautious a person is regarding anything and everything\n",
    "##### DELAY: Medical treatment delays may impact decision making of individuals which can influence the percieved cost to recieve the vaccine\n",
    "##### INTRNTAVAIL: Directly influences the individual's decision making"
   ]
  },
  {
   "cell_type": "code",
   "execution_count": 6,
   "id": "9af7fc8f",
   "metadata": {},
   "outputs": [],
   "source": [
    "data = pd.read_csv(\"current_dataHW2.csv\")\n",
    "data = data[data['REGION']>=0]\n",
    "data = data[data['EXPNS_DIF']>=0]\n",
    "data = data[data['WORRY']>=0]\n",
    "data = data[data['DELAY']>=0]\n",
    "data = data[data['INTRNTAVAIL']>=0]\n",
    "# data = data[data['RECVDVACC']>=0]\n",
    "\n",
    "X = data[['REGION', 'EXPNS_DIF', 'WORRY', 'DELAY', 'INTRNTAVAIL']]\n",
    "y = data['RECVDVACC']\n",
    "X_reg=pd.get_dummies(X, columns=['EXPNS_DIF', 'WORRY', 'DELAY', 'INTRNTAVAIL'], drop_first=True) # create dummy variables"
   ]
  },
  {
   "cell_type": "code",
   "execution_count": 8,
   "id": "ca8cc935",
   "metadata": {},
   "outputs": [
    {
     "data": {
      "text/html": [
       "<div>\n",
       "<style scoped>\n",
       "    .dataframe tbody tr th:only-of-type {\n",
       "        vertical-align: middle;\n",
       "    }\n",
       "\n",
       "    .dataframe tbody tr th {\n",
       "        vertical-align: top;\n",
       "    }\n",
       "\n",
       "    .dataframe thead th {\n",
       "        text-align: right;\n",
       "    }\n",
       "</style>\n",
       "<table border=\"1\" class=\"dataframe\">\n",
       "  <thead>\n",
       "    <tr style=\"text-align: right;\">\n",
       "      <th></th>\n",
       "      <th>REGION</th>\n",
       "      <th>EXPNS_DIF_2</th>\n",
       "      <th>EXPNS_DIF_3</th>\n",
       "      <th>EXPNS_DIF_4</th>\n",
       "      <th>WORRY_2</th>\n",
       "      <th>WORRY_3</th>\n",
       "      <th>WORRY_4</th>\n",
       "      <th>DELAY_2</th>\n",
       "      <th>INTRNTAVAIL_2</th>\n",
       "      <th>INTRNTAVAIL_3</th>\n",
       "      <th>INTRNTAVAIL_4</th>\n",
       "      <th>INTRNTAVAIL_5</th>\n",
       "    </tr>\n",
       "  </thead>\n",
       "  <tbody>\n",
       "    <tr>\n",
       "      <th>count</th>\n",
       "      <td>9639.000000</td>\n",
       "      <td>9639.000000</td>\n",
       "      <td>9639.000000</td>\n",
       "      <td>9639.000000</td>\n",
       "      <td>9639.000000</td>\n",
       "      <td>9639.000000</td>\n",
       "      <td>9639.000000</td>\n",
       "      <td>9639.000000</td>\n",
       "      <td>9639.000000</td>\n",
       "      <td>9639.000000</td>\n",
       "      <td>9639.000000</td>\n",
       "      <td>9639.000000</td>\n",
       "    </tr>\n",
       "    <tr>\n",
       "      <th>mean</th>\n",
       "      <td>2.723727</td>\n",
       "      <td>0.236435</td>\n",
       "      <td>0.145451</td>\n",
       "      <td>0.088806</td>\n",
       "      <td>0.314348</td>\n",
       "      <td>0.095134</td>\n",
       "      <td>0.112460</td>\n",
       "      <td>0.732441</td>\n",
       "      <td>0.139122</td>\n",
       "      <td>0.026040</td>\n",
       "      <td>0.007677</td>\n",
       "      <td>0.004461</td>\n",
       "    </tr>\n",
       "    <tr>\n",
       "      <th>std</th>\n",
       "      <td>1.079208</td>\n",
       "      <td>0.424915</td>\n",
       "      <td>0.352573</td>\n",
       "      <td>0.284478</td>\n",
       "      <td>0.464280</td>\n",
       "      <td>0.293416</td>\n",
       "      <td>0.315948</td>\n",
       "      <td>0.442709</td>\n",
       "      <td>0.346092</td>\n",
       "      <td>0.159263</td>\n",
       "      <td>0.087287</td>\n",
       "      <td>0.066645</td>\n",
       "    </tr>\n",
       "    <tr>\n",
       "      <th>min</th>\n",
       "      <td>1.000000</td>\n",
       "      <td>0.000000</td>\n",
       "      <td>0.000000</td>\n",
       "      <td>0.000000</td>\n",
       "      <td>0.000000</td>\n",
       "      <td>0.000000</td>\n",
       "      <td>0.000000</td>\n",
       "      <td>0.000000</td>\n",
       "      <td>0.000000</td>\n",
       "      <td>0.000000</td>\n",
       "      <td>0.000000</td>\n",
       "      <td>0.000000</td>\n",
       "    </tr>\n",
       "    <tr>\n",
       "      <th>25%</th>\n",
       "      <td>2.000000</td>\n",
       "      <td>0.000000</td>\n",
       "      <td>0.000000</td>\n",
       "      <td>0.000000</td>\n",
       "      <td>0.000000</td>\n",
       "      <td>0.000000</td>\n",
       "      <td>0.000000</td>\n",
       "      <td>0.000000</td>\n",
       "      <td>0.000000</td>\n",
       "      <td>0.000000</td>\n",
       "      <td>0.000000</td>\n",
       "      <td>0.000000</td>\n",
       "    </tr>\n",
       "    <tr>\n",
       "      <th>50%</th>\n",
       "      <td>3.000000</td>\n",
       "      <td>0.000000</td>\n",
       "      <td>0.000000</td>\n",
       "      <td>0.000000</td>\n",
       "      <td>0.000000</td>\n",
       "      <td>0.000000</td>\n",
       "      <td>0.000000</td>\n",
       "      <td>1.000000</td>\n",
       "      <td>0.000000</td>\n",
       "      <td>0.000000</td>\n",
       "      <td>0.000000</td>\n",
       "      <td>0.000000</td>\n",
       "    </tr>\n",
       "    <tr>\n",
       "      <th>75%</th>\n",
       "      <td>4.000000</td>\n",
       "      <td>0.000000</td>\n",
       "      <td>0.000000</td>\n",
       "      <td>0.000000</td>\n",
       "      <td>1.000000</td>\n",
       "      <td>0.000000</td>\n",
       "      <td>0.000000</td>\n",
       "      <td>1.000000</td>\n",
       "      <td>0.000000</td>\n",
       "      <td>0.000000</td>\n",
       "      <td>0.000000</td>\n",
       "      <td>0.000000</td>\n",
       "    </tr>\n",
       "    <tr>\n",
       "      <th>max</th>\n",
       "      <td>4.000000</td>\n",
       "      <td>1.000000</td>\n",
       "      <td>1.000000</td>\n",
       "      <td>1.000000</td>\n",
       "      <td>1.000000</td>\n",
       "      <td>1.000000</td>\n",
       "      <td>1.000000</td>\n",
       "      <td>1.000000</td>\n",
       "      <td>1.000000</td>\n",
       "      <td>1.000000</td>\n",
       "      <td>1.000000</td>\n",
       "      <td>1.000000</td>\n",
       "    </tr>\n",
       "  </tbody>\n",
       "</table>\n",
       "</div>"
      ],
      "text/plain": [
       "            REGION  EXPNS_DIF_2  EXPNS_DIF_3  EXPNS_DIF_4      WORRY_2  \\\n",
       "count  9639.000000  9639.000000  9639.000000  9639.000000  9639.000000   \n",
       "mean      2.723727     0.236435     0.145451     0.088806     0.314348   \n",
       "std       1.079208     0.424915     0.352573     0.284478     0.464280   \n",
       "min       1.000000     0.000000     0.000000     0.000000     0.000000   \n",
       "25%       2.000000     0.000000     0.000000     0.000000     0.000000   \n",
       "50%       3.000000     0.000000     0.000000     0.000000     0.000000   \n",
       "75%       4.000000     0.000000     0.000000     0.000000     1.000000   \n",
       "max       4.000000     1.000000     1.000000     1.000000     1.000000   \n",
       "\n",
       "           WORRY_3      WORRY_4      DELAY_2  INTRNTAVAIL_2  INTRNTAVAIL_3  \\\n",
       "count  9639.000000  9639.000000  9639.000000    9639.000000    9639.000000   \n",
       "mean      0.095134     0.112460     0.732441       0.139122       0.026040   \n",
       "std       0.293416     0.315948     0.442709       0.346092       0.159263   \n",
       "min       0.000000     0.000000     0.000000       0.000000       0.000000   \n",
       "25%       0.000000     0.000000     0.000000       0.000000       0.000000   \n",
       "50%       0.000000     0.000000     1.000000       0.000000       0.000000   \n",
       "75%       0.000000     0.000000     1.000000       0.000000       0.000000   \n",
       "max       1.000000     1.000000     1.000000       1.000000       1.000000   \n",
       "\n",
       "       INTRNTAVAIL_4  INTRNTAVAIL_5  \n",
       "count    9639.000000    9639.000000  \n",
       "mean        0.007677       0.004461  \n",
       "std         0.087287       0.066645  \n",
       "min         0.000000       0.000000  \n",
       "25%         0.000000       0.000000  \n",
       "50%         0.000000       0.000000  \n",
       "75%         0.000000       0.000000  \n",
       "max         1.000000       1.000000  "
      ]
     },
     "execution_count": 8,
     "metadata": {},
     "output_type": "execute_result"
    }
   ],
   "source": [
    "X_reg.describe()"
   ]
  },
  {
   "cell_type": "code",
   "execution_count": 10,
   "id": "10e2b34e",
   "metadata": {},
   "outputs": [
    {
     "name": "stdout",
     "output_type": "stream",
     "text": [
      "Linear Regression R-squared:  0.0017412439784707523\n"
     ]
    }
   ],
   "source": [
    "linear_model = LinearRegression().fit(X_reg, y)\n",
    "linear_pred = linear_model.predict(X_reg)\n",
    "linear_r2 = r2_score(y, linear_pred)\n",
    "print(f\"Linear Regression R-squared: \", linear_r2)"
   ]
  },
  {
   "cell_type": "code",
   "execution_count": 11,
   "id": "4a522931",
   "metadata": {},
   "outputs": [
    {
     "name": "stdout",
     "output_type": "stream",
     "text": [
      "0.42784521215893767\n"
     ]
    }
   ],
   "source": [
    "# convert the prediction from the linear model to either 1 or 2.\n",
    "for i in range(len(linear_pred)):\n",
    "    if linear_pred[i] <1.5:\n",
    "        linear_pred[i] = 1\n",
    "    else:\n",
    "        linear_pred[i] = 2\n",
    "# compute the accuracy of the prediction from linear model (after converting it to 1 or 2)\n",
    "Accuracy_linear=1-np.sum(np.abs(y-linear_pred))/len(y)\n",
    "print(Accuracy_linear)"
   ]
  },
  {
   "cell_type": "markdown",
   "id": "7d2d030d",
   "metadata": {},
   "source": [
    "## c.)\n",
    "##### WRKLOSS: Indicator for disposable income\n",
    "##### EXPNS_DIF: Indicator for disposable income\n",
    "##### LIVQTR: Type of housing indicates income level"
   ]
  },
  {
   "cell_type": "code",
   "execution_count": 8,
   "id": "89631043",
   "metadata": {},
   "outputs": [],
   "source": [
    "data = pd.read_csv(\"current_dataHW2.csv\")\n",
    "data = data[data['WRKLOSS']>=0]\n",
    "data = data[data['EXPNS_DIF']>=0]\n",
    "data = data[data['LIVQTR']>=0]\n",
    "\n",
    "X = data[['WRKLOSS', 'EXPNS_DIF', 'LIVQTR']]\n",
    "y = data['EST_ST']\n",
    "\n",
    "X_reg=pd.get_dummies(X, columns=['EXPNS_DIF','LIVQTR'], drop_first=True) # create dummy variables. \n",
    "train_x, test_x, train_y, test_y = train_test_split(X_reg, y, test_size=0.4, random_state = 138)"
   ]
  },
  {
   "cell_type": "code",
   "execution_count": 9,
   "id": "40af3fb3",
   "metadata": {},
   "outputs": [],
   "source": [
    "Xtrain_scaled=train_x.copy()\n",
    "for i in Xtrain_scaled.columns:\n",
    "    Xtrain_scaled[i] = (Xtrain_scaled[i]-Xtrain_scaled[i].min())/(Xtrain_scaled[i].max()-Xtrain_scaled[i].min())\n",
    "\n",
    "Xtest_scaled=test_x.copy()\n",
    "for i in Xtest_scaled.columns:\n",
    "    Xtest_scaled[i] = (Xtest_scaled[i]-Xtest_scaled[i].min())/(Xtest_scaled[i].max()-Xtest_scaled[i].min())"
   ]
  },
  {
   "cell_type": "code",
   "execution_count": 10,
   "id": "d86fe0a5",
   "metadata": {},
   "outputs": [
    {
     "data": {
      "text/plain": [
       "265.9319327714442"
      ]
     },
     "execution_count": 10,
     "metadata": {},
     "output_type": "execute_result"
    }
   ],
   "source": [
    "# linear model\n",
    "reg1 = LinearRegression().fit(Xtrain_scaled, train_y) # train a linear model\n",
    "y_pred_linear=reg1.predict(Xtest_scaled) # predict using the linear model on test data\n",
    "Accuracy_linear_full=np.sum(np.square(y_pred_linear-test_y))/len(test_y) # evaluate MSE on test data\n",
    "Accuracy_linear_full"
   ]
  },
  {
   "cell_type": "code",
   "execution_count": 14,
   "id": "a1ffe2fc",
   "metadata": {},
   "outputs": [
    {
     "data": {
      "text/plain": [
       "265.9866820807777"
      ]
     },
     "execution_count": 14,
     "metadata": {},
     "output_type": "execute_result"
    }
   ],
   "source": [
    "# Lasso\n",
    "Lasso_model=LassoCV(cv=5, random_state=0).fit(Xtrain_scaled, train_y) # train Lasso with cross validation\n",
    "y_pred_lasso=Lasso_model.predict(Xtest_scaled)\n",
    "Accuracy_linear_lasso=np.sum(np.square(y_pred_lasso-test_y))/len(test_y)\n",
    "Accuracy_linear_lasso"
   ]
  },
  {
   "cell_type": "code",
   "execution_count": 15,
   "id": "c8f891de",
   "metadata": {},
   "outputs": [
    {
     "data": {
      "text/plain": [
       "265.93248754236794"
      ]
     },
     "execution_count": 15,
     "metadata": {},
     "output_type": "execute_result"
    }
   ],
   "source": [
    "# Ridge \n",
    "Ridge_model = RidgeCV(alphas=[1e-3, 1e-2, 1e-1, 1]).fit(Xtrain_scaled, train_y) # train ridge with cross validation\n",
    "y_pred_ridge=Ridge_model.predict(Xtest_scaled)\n",
    "Accuracy_linear_ridge=np.sum(np.square(y_pred_ridge-test_y))/len(test_y)\n",
    "Accuracy_linear_ridge"
   ]
  },
  {
   "cell_type": "code",
   "execution_count": 16,
   "id": "302e7cb2",
   "metadata": {},
   "outputs": [
    {
     "data": {
      "text/plain": [
       "265.97409851788575"
      ]
     },
     "execution_count": 16,
     "metadata": {},
     "output_type": "execute_result"
    }
   ],
   "source": [
    "# Elastic net\n",
    "EN_model = ElasticNetCV(cv=5, random_state=0).fit(Xtrain_scaled, train_y) # train elastic net with cross validation\n",
    "y_pred_EN=EN_model.predict(Xtest_scaled)\n",
    "Accuracy_linear_EN=np.sum(np.square(y_pred_EN-test_y))/len(test_y)\n",
    "Accuracy_linear_EN"
   ]
  },
  {
   "cell_type": "markdown",
   "id": "1181eec4",
   "metadata": {},
   "source": [
    "##### Ridge model seems to be in the middel of the 4 models, i.e. performs the best"
   ]
  },
  {
   "cell_type": "markdown",
   "id": "726b4b13",
   "metadata": {},
   "source": [
    "## D.)"
   ]
  },
  {
   "cell_type": "code",
   "execution_count": 18,
   "id": "36ec68c3",
   "metadata": {},
   "outputs": [],
   "source": [
    "data = pd.read_csv(\"future_dataHW2.csv\")\n",
    "data = data[data['WRKLOSS']>=0]\n",
    "data = data[data['EXPNS_DIF']>=0]\n",
    "data = data[data['LIVQTR']>=0]\n",
    "\n",
    "X = data[['WRKLOSS', 'EXPNS_DIF', 'LIVQTR']]\n",
    "X_reg=pd.get_dummies(X, columns=['EXPNS_DIF','LIVQTR'], drop_first=True) # create dummy variables. \n",
    "\n",
    "y_pred = Ridge_model.predict(X_reg)"
   ]
  }
 ],
 "metadata": {
  "kernelspec": {
   "display_name": "Python 3 (ipykernel)",
   "language": "python",
   "name": "python3"
  },
  "language_info": {
   "codemirror_mode": {
    "name": "ipython",
    "version": 3
   },
   "file_extension": ".py",
   "mimetype": "text/x-python",
   "name": "python",
   "nbconvert_exporter": "python",
   "pygments_lexer": "ipython3",
   "version": "3.8.13"
  }
 },
 "nbformat": 4,
 "nbformat_minor": 5
}
