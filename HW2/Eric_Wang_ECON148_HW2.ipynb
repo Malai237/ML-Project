{
 "cells": [
  {
   "cell_type": "code",
   "execution_count": 30,
   "id": "61465cab",
   "metadata": {},
   "outputs": [],
   "source": [
    "import numpy as np\n",
    "import pandas as pd\n",
    "from sklearn.linear_model import LinearRegression, LogisticRegression, LassoCV, RidgeCV, ElasticNetCV\n",
    "from sklearn.model_selection import train_test_split\n",
    "import os\n",
    "import matplotlib.pyplot as plt\n",
    "from sklearn.metrics import accuracy_score, r2_score, mean_squared_error"
   ]
  },
  {
   "cell_type": "code",
   "execution_count": 9,
   "id": "0c0e33f8",
   "metadata": {},
   "outputs": [],
   "source": [
    "os.chdir('/Users/ericwang/Desktop/ECON_148/HW2')\n",
    "data = pd.read_csv(\"current_dataHW2.csv\")"
   ]
  },
  {
   "cell_type": "code",
   "execution_count": 38,
   "id": "16040d91",
   "metadata": {},
   "outputs": [],
   "source": [
    "# Formattting data, removes -99 and -88 for RECVDVACC\n",
    "data=data[data['RECVDVACC']>=0]\n",
    "data['age'] = 2023-data['TBIRTH_YEAR']\n",
    "X = data[['age', 'EGENDER', 'EEDUC']] # age, gender, education\n",
    "y = data['RECVDVACC']\n",
    "X_reg=pd.get_dummies(X, columns=['EGENDER','EEDUC'], drop_first=True) # create dummy variables"
   ]
  },
  {
   "cell_type": "markdown",
   "id": "b6aa2e89",
   "metadata": {},
   "source": [
    "# a.)\n",
    "### Linear Regression"
   ]
  },
  {
   "cell_type": "code",
   "execution_count": 39,
   "id": "118546f9",
   "metadata": {},
   "outputs": [
    {
     "name": "stdout",
     "output_type": "stream",
     "text": [
      "Linear Regression R-squared:  0.1453256339137905\n"
     ]
    }
   ],
   "source": [
    "linear_model = LinearRegression().fit(X_reg, y)\n",
    "linear_pred = linear_model.predict(X_reg)\n",
    "linear_r2 = r2_score(y, linear_pred)\n",
    "print(f\"Linear Regression R-squared: \", linear_r2)"
   ]
  },
  {
   "cell_type": "markdown",
   "id": "4b05172d",
   "metadata": {},
   "source": [
    "### Logistic Regression"
   ]
  },
  {
   "cell_type": "code",
   "execution_count": 40,
   "id": "3d773b8d",
   "metadata": {},
   "outputs": [
    {
     "name": "stdout",
     "output_type": "stream",
     "text": [
      "Logistic Regression Accuracy:  0.6650778519224658\n"
     ]
    }
   ],
   "source": [
    "logistic_model = LogisticRegression(solver='newton-cg').fit(X_reg, y)\n",
    "logistic_pred = logistic_model.predict(X_reg)\n",
    "logistic_acc = accuracy_score(y, logistic_pred)\n",
    "print(f\"Logistic Regression Accuracy: \", logistic_acc)"
   ]
  },
  {
   "cell_type": "markdown",
   "id": "58e901db",
   "metadata": {},
   "source": [
    "#### Logistic regression significantly performs better than linear regression in this case"
   ]
  },
  {
   "attachments": {},
   "cell_type": "markdown",
   "id": "bc0e7cbf",
   "metadata": {},
   "source": [
    "## b.)\n",
    "### Linear Model\n",
    "#### Variables: \n",
    "##### REGION: Political stances correlate with region and location; More republican areas are more likely to be unvaccinated\n",
    "##### EXPNS_DIF: Financial dificulties may correlate with whether or not individuals are able to afford getting sick, i.e. it would be more costly for individuals who struggle financially to not get the vaccine.\n",
    "##### WORRY: Directly related to how cautious a person is regarding anything and everything\n",
    "##### DELAY: Medical treatment delays may impact decision making of individuals which can influence the percieved cost to recieve the vaccine\n",
    "##### INTRNTAVAIL: Directly influences the individual's decision making"
   ]
  },
  {
   "cell_type": "code",
   "execution_count": 43,
   "id": "9af7fc8f",
   "metadata": {},
   "outputs": [],
   "source": [
    "data = pd.read_csv(\"current_dataHW2.csv\")\n",
    "# removes all -88 and -99 values\n",
    "data = data[data['REGION']>=0]\n",
    "data = data[data['EXPNS_DIF']>=0]\n",
    "data = data[data['WORRY']>=0]\n",
    "data = data[data['DELAY']>=0]\n",
    "data = data[data['INTRNTAVAIL']>=0]\n",
    "data = data[data['RECVDVACC']>=0]\n",
    "\n",
    "X = data[['REGION', 'EXPNS_DIF', 'WORRY', 'DELAY', 'INTRNTAVAIL']]\n",
    "y = data['RECVDVACC']\n",
    "X_reg=pd.get_dummies(X, columns=['EXPNS_DIF', 'WORRY', 'DELAY', 'INTRNTAVAIL'], drop_first=True) # create dummy variables"
   ]
  },
  {
   "cell_type": "code",
   "execution_count": 44,
   "id": "10e2b34e",
   "metadata": {},
   "outputs": [
    {
     "name": "stdout",
     "output_type": "stream",
     "text": [
      "Linear Regression R-squared:  0.019928109159753182\n"
     ]
    },
    {
     "data": {
      "text/plain": [
       "array([-0.00983677,  0.05240657,  0.0928349 ,  0.17448662, -0.03575474,\n",
       "       -0.01218119,  0.04330587,  0.00986447,  0.02992434,  0.05499585,\n",
       "        0.21399649,  0.06201616])"
      ]
     },
     "execution_count": 44,
     "metadata": {},
     "output_type": "execute_result"
    }
   ],
   "source": [
    "linear_model = LinearRegression().fit(X_reg, y)\n",
    "linear_pred = linear_model.predict(X_reg)\n",
    "linear_r2 = r2_score(y, linear_pred)\n",
    "print(f\"Linear Regression R-squared: \", linear_r2)\n",
    "linear_model.coef_"
   ]
  },
  {
   "cell_type": "code",
   "execution_count": 45,
   "id": "4a522931",
   "metadata": {},
   "outputs": [
    {
     "name": "stdout",
     "output_type": "stream",
     "text": [
      "0.5529485049833887\n"
     ]
    }
   ],
   "source": [
    "# convert the prediction from the linear model to either 1 or 2.\n",
    "for i in range(len(linear_pred)):\n",
    "    if linear_pred[i] <1.5:\n",
    "        linear_pred[i] = 1\n",
    "    else:\n",
    "        linear_pred[i] = 2\n",
    "# compute the accuracy of the prediction from linear model (after converting it to 1 or 2)\n",
    "Accuracy_linear=1-np.sum(np.abs(y-linear_pred))/len(y)\n",
    "print(Accuracy_linear)\n"
   ]
  },
  {
   "attachments": {},
   "cell_type": "markdown",
   "id": "04075954",
   "metadata": {},
   "source": [
    "Shows positive correlation except for b0_REGION, b4_EXPNS_DIF, b5_WORRY\n",
    "b0 kind of makes sense because out of region shouldn't have any correlation with vaccination\n",
    "b4 and b5 both makes sense because no expns_dif and no worry should mean that they're not worried about vaccination"
   ]
  },
  {
   "attachments": {},
   "cell_type": "markdown",
   "id": "e4ed0adc",
   "metadata": {},
   "source": [
    "## c.)\n",
    "##### WRKLOSS: Indicator for disposable income\n",
    "##### EXPNS_DIF: Indicator for disposable income\n",
    "##### LIVQTR: Type of housing indicates income level"
   ]
  },
  {
   "cell_type": "code",
   "execution_count": 45,
   "id": "49eeeb2c",
   "metadata": {},
   "outputs": [],
   "source": [
    "data = pd.read_csv(\"current_dataHW2.csv\")\n",
    "# limit to california\n",
    "data = data[data['EST_ST'] == 6]\n",
    "\n",
    "# removes all -88 and -99 values\n",
    "data = data[data['WRKLOSS']>=0]\n",
    "data = data[data['EXPNS_DIF']>=0]\n",
    "data = data[data['LIVQTR']>=0]\n",
    "data = data[data['TSPNDPRPD']>=0]\n",
    "data = data[data['TSPNDFOOD']>=0]\n",
    "\n",
    "data['food_expns'] = data['TSPNDFOOD'] + data['TSPNDPRPD']\n",
    "\n",
    "X = data[['WRKLOSS', 'EXPNS_DIF', 'LIVQTR']]\n",
    "y = data['food_expns']\n",
    "\n",
    "X_reg=pd.get_dummies(X, columns=['EXPNS_DIF','LIVQTR'], drop_first=True) # create dummy variables. \n",
    "train_x, test_x, train_y, test_y = train_test_split(X_reg, y, test_size=0.2, random_state = 42)"
   ]
  },
  {
   "cell_type": "code",
   "execution_count": 46,
   "id": "0afb3f4e",
   "metadata": {},
   "outputs": [],
   "source": [
    "# normalize the data (both training and test)\n",
    "Xtrain_scaled=train_x.copy()\n",
    "for i in Xtrain_scaled.columns:\n",
    "    Xtrain_scaled[i] = (Xtrain_scaled[i]-Xtrain_scaled[i].min())/(Xtrain_scaled[i].max()-Xtrain_scaled[i].min())\n",
    "\n",
    "Xtest_scaled=test_x.copy()\n",
    "for i in Xtest_scaled.columns:\n",
    "    Xtest_scaled[i] = (Xtest_scaled[i]-Xtest_scaled[i].min())/(Xtest_scaled[i].max()-Xtest_scaled[i].min())"
   ]
  },
  {
   "cell_type": "code",
   "execution_count": 48,
   "id": "ff74af30",
   "metadata": {},
   "outputs": [
    {
     "data": {
      "text/plain": [
       "0.010207205115030482"
      ]
     },
     "execution_count": 48,
     "metadata": {},
     "output_type": "execute_result"
    }
   ],
   "source": [
    "# linear model\n",
    "reg1 = LinearRegression().fit(Xtrain_scaled, train_y) # train a linear model\n",
    "y_pred_linear=reg1.predict(Xtest_scaled) # predict using the linear model on test data\n",
    "Accuracy_linear_full=np.sum(np.square(y_pred_linear-test_y))/len(test_y) # evaluate MSE on test data\n",
    "Accuracy_linear_full, reg1.score(test_x, test_y)\n",
    "reg1.score(test_x, test_y)"
   ]
  },
  {
   "cell_type": "code",
   "execution_count": 49,
   "id": "58e3cc09",
   "metadata": {},
   "outputs": [
    {
     "data": {
      "text/plain": [
       "0.009396890633543542"
      ]
     },
     "execution_count": 49,
     "metadata": {},
     "output_type": "execute_result"
    }
   ],
   "source": [
    "# Lasso\n",
    "Lasso_model=LassoCV(cv=5, random_state=0).fit(Xtrain_scaled, train_y) # train Lasso with cross validation\n",
    "y_pred_lasso=Lasso_model.predict(Xtest_scaled)\n",
    "Accuracy_linear_lasso=np.sum(np.square(y_pred_lasso-test_y))/len(test_y)\n",
    "Accuracy_linear_lasso, Lasso_model.score(Xtest_scaled, test_y)\n",
    "Lasso_model.score(test_x, test_y)"
   ]
  },
  {
   "cell_type": "code",
   "execution_count": null,
   "id": "d7b22124",
   "metadata": {},
   "outputs": [],
   "source": [
    "# Ridge \n",
    "Ridge_model = RidgeCV(alphas=[1e-3, 1e-2, 1e-1, 1]).fit(Xtrain_scaled, train_y) # train ridge with cross validation\n",
    "y_pred_ridge=Ridge_model.predict(Xtest_scaled)\n",
    "Accuracy_linear_ridge=np.sum(np.square(y_pred_ridge-test_y))/len(test_y)\n",
    "Accuracy_linear_ridge, Ridge_model.score(test_x, test_y)\n",
    "Ridge_model.score(test_x, test_y)"
   ]
  },
  {
   "cell_type": "code",
   "execution_count": null,
   "id": "d7f14887",
   "metadata": {},
   "outputs": [],
   "source": [
    "# Elastic net\n",
    "EN_model = ElasticNetCV(cv=5, random_state=2).fit(Xtrain_scaled, train_y) # train elastic net with cross validation\n",
    "y_pred_EN=EN_model.predict(Xtest_scaled)\n",
    "Accuracy_linear_EN=np.sum(np.square(y_pred_EN-test_y))/len(test_y)\n",
    "Accuracy_linear_EN, EN_model.score(test_x, test_y)\n",
    "EN_model.score(test_x, test_y)"
   ]
  },
  {
   "attachments": {},
   "cell_type": "markdown",
   "id": "422877b7",
   "metadata": {},
   "source": [
    "##### EN model appears to have the best performance of R2 = 0.0117"
   ]
  },
  {
   "attachments": {},
   "cell_type": "markdown",
   "id": "311e145e",
   "metadata": {},
   "source": [
    "## d.)"
   ]
  },
  {
   "cell_type": "code",
   "execution_count": null,
   "id": "ba382e48",
   "metadata": {},
   "outputs": [],
   "source": [
    "future = pd.read_csv(\"future_dataHW2.csv\")\n",
    "\n",
    "future = future[future['WRKLOSS']>=0]\n",
    "future = future[future['EXPNS_DIF']>=0]\n",
    "future = future[future['LIVQTR']>=0]\n",
    "future = future[future['TSPNDPRPD']>=0]\n",
    "\n",
    "future['food_expns'] = future['TSPNDPRPD']\n",
    "\n",
    "future_X = future[['WRKLOSS', 'EXPNS_DIF', 'LIVQTR']]\n",
    "future_y = future['food_expns']\n",
    "\n",
    "future_X_reg = pd.get_dummies(future_X, columns=['EXPNS_DIF','LIVQTR'], drop_first=True) # create dummy variables."
   ]
  },
  {
   "cell_type": "code",
   "execution_count": null,
   "id": "2f8962e4",
   "metadata": {},
   "outputs": [],
   "source": [
    "# EN\n",
    "EN_model = ElasticNetCV(cv=5, random_state=0).fit(future_X_reg, future_y) # train elastic net with cross validation\n",
    "y_pred_EN=EN_model.predict(future_X_reg)\n",
    "\n",
    "# save to csv file\n",
    "# np.savetxt('/Users/ericwang/Desktop/ECON_148/HW2/prediction.csv',y_pred_EN, delimiter=',')"
   ]
  },
  {
   "cell_type": "code",
   "execution_count": null,
   "id": "644edd56",
   "metadata": {},
   "outputs": [],
   "source": []
  }
 ],
 "metadata": {
  "kernelspec": {
   "display_name": "base",
   "language": "python",
   "name": "python3"
  },
  "language_info": {
   "codemirror_mode": {
    "name": "ipython",
    "version": 3
   },
   "file_extension": ".py",
   "mimetype": "text/x-python",
   "name": "python",
   "nbconvert_exporter": "python",
   "pygments_lexer": "ipython3",
   "version": "3.8.13"
  },
  "vscode": {
   "interpreter": {
    "hash": "3e2eaa0f745e6f16c8ffd91515421e4a389773f049e7812d12dbb13c71b91c67"
   }
  }
 },
 "nbformat": 4,
 "nbformat_minor": 5
}
