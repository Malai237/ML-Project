{
 "cells": [
  {
   "attachments": {},
   "cell_type": "markdown",
   "metadata": {},
   "source": [
    "### Question 1: construct 95% prediction intervals for the expenditure on restaurants and prepared food (TSPNDPRPD). Train your conformal prediction intervals on \"HW4_train.csv\" and apply your method to \"HW4_test.csv\".\n"
   ]
  },
  {
   "cell_type": "code",
   "execution_count": 12,
   "metadata": {},
   "outputs": [],
   "source": [
    "import pandas as pd\n",
    "import matplotlib.pyplot as plt\n",
    "from sklearn.linear_model import LinearRegression\n",
    "from sklearn.model_selection import train_test_split, GridSearchCV\n",
    "from sklearn import tree\n",
    "import numpy as np\n",
    "from sklearn.feature_selection import SelectKBest, f_classif\n",
    "from sklearn.preprocessing import StandardScaler, RobustScaler, MinMaxScaler\n",
    "\n",
    "train = pd.read_csv(\"HW4_train.csv\")\n",
    "test = pd.read_csv(\"HW4_test.csv\")"
   ]
  },
  {
   "cell_type": "code",
   "execution_count": 13,
   "metadata": {},
   "outputs": [],
   "source": [
    "train['AGE']=2023-train['TBIRTH_YEAR']\n",
    "test['AGE']=2023-test['TBIRTH_YEAR']"
   ]
  },
  {
   "cell_type": "code",
   "execution_count": 14,
   "metadata": {},
   "outputs": [],
   "source": [
    "### Chose these features because I think they are the most likely to effect prediction\n",
    "train = train[['PWEIGHT', 'AGE', 'REGION', 'PUBHLTH', 'PRIVHLTH', 'EST_MSA', 'EST_ST', \n",
    "           'INCOME', 'LIVQTRRV', 'MOBILITY', 'MS', 'EEDUC', 'RRACE', 'WRKLOSSRV', 'TSPNDPRPD']]  \n",
    "\n",
    "'''Following drops all -88 and -99 values and Nan values; pub and priv health uses 3 instead of -88 and -99'''\n",
    "train = train.dropna()\n",
    "\n",
    "train = train.drop(train[train.REGION == -88].index)\n",
    "train = train.drop(train[train.REGION == -99].index)\n",
    "\n",
    "train = train.drop(train[train.PRIVHLTH == 3].index)\n",
    "train = train.drop(train[train.PRIVHLTH == 3].index)\n",
    "\n",
    "train = train.drop(train[train.EST_MSA == -88].index)\n",
    "train = train.drop(train[train.EST_MSA == -99].index)\n",
    "\n",
    "train = train.drop(train[train.EST_ST == -88].index)\n",
    "train = train.drop(train[train.EST_ST == -99].index)\n",
    "\n",
    "train = train.drop(train[train.INCOME == -88].index)\n",
    "train = train.drop(train[train.INCOME == -99].index)\n",
    "\n",
    "train = train.drop(train[train.LIVQTRRV == -88].index)\n",
    "train = train.drop(train[train.LIVQTRRV == -99].index)\n",
    "\n",
    "train = train.drop(train[train.MOBILITY == -88].index)\n",
    "train = train.drop(train[train.MOBILITY == -99].index)\n",
    "\n",
    "train = train.drop(train[train.WRKLOSSRV == -88].index)\n",
    "train = train.drop(train[train.WRKLOSSRV == -99].index)\n",
    "\n",
    "train = train.drop(train[train.MS == -88].index)\n",
    "train = train.drop(train[train.MS == -99].index)\n",
    "\n",
    "train = train.drop(train[train.EEDUC == -88].index)\n",
    "train = train.drop(train[train.EEDUC == -99].index)\n",
    "\n",
    "train = train.drop(train[train.RRACE == -88].index)\n",
    "train = train.drop(train[train.RRACE == -99].index)"
   ]
  },
  {
   "cell_type": "code",
   "execution_count": 4,
   "metadata": {},
   "outputs": [],
   "source": [
    "# test = test[['PWEIGHT', 'AGE', 'REGION', 'PUBHLTH', 'PRIVHLTH', 'EST_MSA', 'EST_ST', \n",
    "#            'INCOME', 'LIVQTRRV', 'MOBILITY', 'MS', 'EEDUC', 'RRACE', 'WRKLOSSRV']]  \n",
    "\n",
    "# '''Following drops all -88 and -99 values and Nan values; pub and priv health uses 3 instead of -88 and -99'''\n",
    "# test = test.dropna()\n",
    "\n",
    "# test = test.drop(test[test.REGION == -88].index)\n",
    "# test = test.drop(test[test.REGION == -99].index)\n",
    "\n",
    "# test = test.drop(test[test.PRIVHLTH == 3].index)\n",
    "# test = test.drop(test[test.PRIVHLTH == 3].index)\n",
    "\n",
    "# test = test.drop(test[test.EST_MSA == -88].index)\n",
    "# test = test.drop(test[test.EST_MSA == -99].index)\n",
    "\n",
    "# test = test.drop(test[test.EST_ST == -88].index)\n",
    "# test = test.drop(test[test.EST_ST == -99].index)\n",
    "\n",
    "# test = test.drop(test[test.INCOME == -88].index)\n",
    "# test = test.drop(test[test.INCOME == -99].index)\n",
    "\n",
    "# test = test.drop(test[test.LIVQTRRV == -88].index)\n",
    "# test = test.drop(test[test.LIVQTRRV == -99].index)\n",
    "\n",
    "# test = test.drop(test[test.MOBILITY == -88].index)\n",
    "# test = test.drop(test[test.MOBILITY == -99].index)\n",
    "\n",
    "# test = test.drop(test[test.WRKLOSSRV == -88].index)\n",
    "# test = test.drop(test[test.WRKLOSSRV == -99].index)\n",
    "\n",
    "# test = test.drop(test[test.MS == -88].index)\n",
    "# test = test.drop(test[test.MS == -99].index)\n",
    "\n",
    "# test = test.drop(test[test.EEDUC == -88].index)\n",
    "# test = test.drop(test[test.EEDUC == -99].index)\n",
    "\n",
    "# test = test.drop(test[test.RRACE == -88].index)\n",
    "# test = test.drop(test[test.RRACE == -99].index)"
   ]
  },
  {
   "cell_type": "code",
   "execution_count": 15,
   "metadata": {},
   "outputs": [],
   "source": [
    "### Creating x and y variables\n",
    "y = train['TSPNDPRPD']\n",
    "x = train.drop(columns=['TSPNDPRPD'])"
   ]
  },
  {
   "cell_type": "code",
   "execution_count": 16,
   "metadata": {},
   "outputs": [],
   "source": [
    "\n",
    "x_train, x_test, y_train, y_test = train_test_split(x, y, test_size=0.4, random_state=213)\n",
    "trainA_x, trainB_x, trainA_y, trainB_y = train_test_split(x_train, y_train, test_size=0.4, random_state = 213)"
   ]
  },
  {
   "cell_type": "code",
   "execution_count": 6,
   "metadata": {},
   "outputs": [
    {
     "ename": "KeyboardInterrupt",
     "evalue": "",
     "output_type": "error",
     "traceback": [
      "\u001b[0;31m---------------------------------------------------------------------------\u001b[0m",
      "\u001b[0;31mKeyboardInterrupt\u001b[0m                         Traceback (most recent call last)",
      "\u001b[1;32m/Users/ericwang/Desktop/ECON_148/HW4/EricWang_HW4.ipynb Cell 8\u001b[0m in \u001b[0;36m1\n\u001b[1;32m      <a href='vscode-notebook-cell:/Users/ericwang/Desktop/ECON_148/HW4/EricWang_HW4.ipynb#X10sZmlsZQ%3D%3D?line=2'>3</a>\u001b[0m param \u001b[39m=\u001b[39m {\n\u001b[1;32m      <a href='vscode-notebook-cell:/Users/ericwang/Desktop/ECON_148/HW4/EricWang_HW4.ipynb#X10sZmlsZQ%3D%3D?line=3'>4</a>\u001b[0m     \u001b[39m\"\u001b[39m\u001b[39mcriterion\u001b[39m\u001b[39m\"\u001b[39m: [\u001b[39m'\u001b[39m\u001b[39msquared_error\u001b[39m\u001b[39m'\u001b[39m, \u001b[39m'\u001b[39m\u001b[39mfriedman_mse\u001b[39m\u001b[39m'\u001b[39m, \u001b[39m'\u001b[39m\u001b[39mabsolute_error\u001b[39m\u001b[39m'\u001b[39m, \u001b[39m'\u001b[39m\u001b[39mpoisson\u001b[39m\u001b[39m'\u001b[39m],\n\u001b[1;32m      <a href='vscode-notebook-cell:/Users/ericwang/Desktop/ECON_148/HW4/EricWang_HW4.ipynb#X10sZmlsZQ%3D%3D?line=4'>5</a>\u001b[0m     \u001b[39m\"\u001b[39m\u001b[39msplitter\u001b[39m\u001b[39m\"\u001b[39m: [\u001b[39m\"\u001b[39m\u001b[39mbest\u001b[39m\u001b[39m\"\u001b[39m, \u001b[39m\"\u001b[39m\u001b[39mrandom\u001b[39m\u001b[39m\"\u001b[39m],\n\u001b[0;32m   (...)\u001b[0m\n\u001b[1;32m      <a href='vscode-notebook-cell:/Users/ericwang/Desktop/ECON_148/HW4/EricWang_HW4.ipynb#X10sZmlsZQ%3D%3D?line=7'>8</a>\u001b[0m     \u001b[39m\"\u001b[39m\u001b[39mmax_features\u001b[39m\u001b[39m\"\u001b[39m: [\u001b[39m1.0\u001b[39m, \u001b[39m'\u001b[39m\u001b[39msqrt\u001b[39m\u001b[39m'\u001b[39m, \u001b[39m'\u001b[39m\u001b[39mlog2\u001b[39m\u001b[39m'\u001b[39m, \u001b[39m'\u001b[39m\u001b[39mNone\u001b[39m\u001b[39m'\u001b[39m]\n\u001b[1;32m      <a href='vscode-notebook-cell:/Users/ericwang/Desktop/ECON_148/HW4/EricWang_HW4.ipynb#X10sZmlsZQ%3D%3D?line=8'>9</a>\u001b[0m     }\n\u001b[1;32m     <a href='vscode-notebook-cell:/Users/ericwang/Desktop/ECON_148/HW4/EricWang_HW4.ipynb#X10sZmlsZQ%3D%3D?line=10'>11</a>\u001b[0m grid \u001b[39m=\u001b[39m GridSearchCV(clf, param_grid\u001b[39m=\u001b[39mparam, cv\u001b[39m=\u001b[39m\u001b[39m10\u001b[39m)\n\u001b[0;32m---> <a href='vscode-notebook-cell:/Users/ericwang/Desktop/ECON_148/HW4/EricWang_HW4.ipynb#X10sZmlsZQ%3D%3D?line=11'>12</a>\u001b[0m grid\u001b[39m.\u001b[39;49mfit(trainA_x,trainA_y)\n",
      "File \u001b[0;32m~/opt/miniconda3/lib/python3.8/site-packages/sklearn/model_selection/_search.py:875\u001b[0m, in \u001b[0;36mBaseSearchCV.fit\u001b[0;34m(self, X, y, groups, **fit_params)\u001b[0m\n\u001b[1;32m    869\u001b[0m     results \u001b[39m=\u001b[39m \u001b[39mself\u001b[39m\u001b[39m.\u001b[39m_format_results(\n\u001b[1;32m    870\u001b[0m         all_candidate_params, n_splits, all_out, all_more_results\n\u001b[1;32m    871\u001b[0m     )\n\u001b[1;32m    873\u001b[0m     \u001b[39mreturn\u001b[39;00m results\n\u001b[0;32m--> 875\u001b[0m \u001b[39mself\u001b[39;49m\u001b[39m.\u001b[39;49m_run_search(evaluate_candidates)\n\u001b[1;32m    877\u001b[0m \u001b[39m# multimetric is determined here because in the case of a callable\u001b[39;00m\n\u001b[1;32m    878\u001b[0m \u001b[39m# self.scoring the return type is only known after calling\u001b[39;00m\n\u001b[1;32m    879\u001b[0m first_test_score \u001b[39m=\u001b[39m all_out[\u001b[39m0\u001b[39m][\u001b[39m\"\u001b[39m\u001b[39mtest_scores\u001b[39m\u001b[39m\"\u001b[39m]\n",
      "File \u001b[0;32m~/opt/miniconda3/lib/python3.8/site-packages/sklearn/model_selection/_search.py:1379\u001b[0m, in \u001b[0;36mGridSearchCV._run_search\u001b[0;34m(self, evaluate_candidates)\u001b[0m\n\u001b[1;32m   1377\u001b[0m \u001b[39mdef\u001b[39;00m \u001b[39m_run_search\u001b[39m(\u001b[39mself\u001b[39m, evaluate_candidates):\n\u001b[1;32m   1378\u001b[0m     \u001b[39m\"\"\"Search all candidates in param_grid\"\"\"\u001b[39;00m\n\u001b[0;32m-> 1379\u001b[0m     evaluate_candidates(ParameterGrid(\u001b[39mself\u001b[39;49m\u001b[39m.\u001b[39;49mparam_grid))\n",
      "File \u001b[0;32m~/opt/miniconda3/lib/python3.8/site-packages/sklearn/model_selection/_search.py:822\u001b[0m, in \u001b[0;36mBaseSearchCV.fit.<locals>.evaluate_candidates\u001b[0;34m(candidate_params, cv, more_results)\u001b[0m\n\u001b[1;32m    814\u001b[0m \u001b[39mif\u001b[39;00m \u001b[39mself\u001b[39m\u001b[39m.\u001b[39mverbose \u001b[39m>\u001b[39m \u001b[39m0\u001b[39m:\n\u001b[1;32m    815\u001b[0m     \u001b[39mprint\u001b[39m(\n\u001b[1;32m    816\u001b[0m         \u001b[39m\"\u001b[39m\u001b[39mFitting \u001b[39m\u001b[39m{0}\u001b[39;00m\u001b[39m folds for each of \u001b[39m\u001b[39m{1}\u001b[39;00m\u001b[39m candidates,\u001b[39m\u001b[39m\"\u001b[39m\n\u001b[1;32m    817\u001b[0m         \u001b[39m\"\u001b[39m\u001b[39m totalling \u001b[39m\u001b[39m{2}\u001b[39;00m\u001b[39m fits\u001b[39m\u001b[39m\"\u001b[39m\u001b[39m.\u001b[39mformat(\n\u001b[1;32m    818\u001b[0m             n_splits, n_candidates, n_candidates \u001b[39m*\u001b[39m n_splits\n\u001b[1;32m    819\u001b[0m         )\n\u001b[1;32m    820\u001b[0m     )\n\u001b[0;32m--> 822\u001b[0m out \u001b[39m=\u001b[39m parallel(\n\u001b[1;32m    823\u001b[0m     delayed(_fit_and_score)(\n\u001b[1;32m    824\u001b[0m         clone(base_estimator),\n\u001b[1;32m    825\u001b[0m         X,\n\u001b[1;32m    826\u001b[0m         y,\n\u001b[1;32m    827\u001b[0m         train\u001b[39m=\u001b[39;49mtrain,\n\u001b[1;32m    828\u001b[0m         test\u001b[39m=\u001b[39;49mtest,\n\u001b[1;32m    829\u001b[0m         parameters\u001b[39m=\u001b[39;49mparameters,\n\u001b[1;32m    830\u001b[0m         split_progress\u001b[39m=\u001b[39;49m(split_idx, n_splits),\n\u001b[1;32m    831\u001b[0m         candidate_progress\u001b[39m=\u001b[39;49m(cand_idx, n_candidates),\n\u001b[1;32m    832\u001b[0m         \u001b[39m*\u001b[39;49m\u001b[39m*\u001b[39;49mfit_and_score_kwargs,\n\u001b[1;32m    833\u001b[0m     )\n\u001b[1;32m    834\u001b[0m     \u001b[39mfor\u001b[39;49;00m (cand_idx, parameters), (split_idx, (train, test)) \u001b[39min\u001b[39;49;00m product(\n\u001b[1;32m    835\u001b[0m         \u001b[39menumerate\u001b[39;49m(candidate_params), \u001b[39menumerate\u001b[39;49m(cv\u001b[39m.\u001b[39;49msplit(X, y, groups))\n\u001b[1;32m    836\u001b[0m     )\n\u001b[1;32m    837\u001b[0m )\n\u001b[1;32m    839\u001b[0m \u001b[39mif\u001b[39;00m \u001b[39mlen\u001b[39m(out) \u001b[39m<\u001b[39m \u001b[39m1\u001b[39m:\n\u001b[1;32m    840\u001b[0m     \u001b[39mraise\u001b[39;00m \u001b[39mValueError\u001b[39;00m(\n\u001b[1;32m    841\u001b[0m         \u001b[39m\"\u001b[39m\u001b[39mNo fits were performed. \u001b[39m\u001b[39m\"\u001b[39m\n\u001b[1;32m    842\u001b[0m         \u001b[39m\"\u001b[39m\u001b[39mWas the CV iterator empty? \u001b[39m\u001b[39m\"\u001b[39m\n\u001b[1;32m    843\u001b[0m         \u001b[39m\"\u001b[39m\u001b[39mWere there no candidates?\u001b[39m\u001b[39m\"\u001b[39m\n\u001b[1;32m    844\u001b[0m     )\n",
      "File \u001b[0;32m~/opt/miniconda3/lib/python3.8/site-packages/joblib/parallel.py:1088\u001b[0m, in \u001b[0;36mParallel.__call__\u001b[0;34m(self, iterable)\u001b[0m\n\u001b[1;32m   1085\u001b[0m \u001b[39mif\u001b[39;00m \u001b[39mself\u001b[39m\u001b[39m.\u001b[39mdispatch_one_batch(iterator):\n\u001b[1;32m   1086\u001b[0m     \u001b[39mself\u001b[39m\u001b[39m.\u001b[39m_iterating \u001b[39m=\u001b[39m \u001b[39mself\u001b[39m\u001b[39m.\u001b[39m_original_iterator \u001b[39mis\u001b[39;00m \u001b[39mnot\u001b[39;00m \u001b[39mNone\u001b[39;00m\n\u001b[0;32m-> 1088\u001b[0m \u001b[39mwhile\u001b[39;00m \u001b[39mself\u001b[39;49m\u001b[39m.\u001b[39;49mdispatch_one_batch(iterator):\n\u001b[1;32m   1089\u001b[0m     \u001b[39mpass\u001b[39;00m\n\u001b[1;32m   1091\u001b[0m \u001b[39mif\u001b[39;00m pre_dispatch \u001b[39m==\u001b[39m \u001b[39m\"\u001b[39m\u001b[39mall\u001b[39m\u001b[39m\"\u001b[39m \u001b[39mor\u001b[39;00m n_jobs \u001b[39m==\u001b[39m \u001b[39m1\u001b[39m:\n\u001b[1;32m   1092\u001b[0m     \u001b[39m# The iterable was consumed all at once by the above for loop.\u001b[39;00m\n\u001b[1;32m   1093\u001b[0m     \u001b[39m# No need to wait for async callbacks to trigger to\u001b[39;00m\n\u001b[1;32m   1094\u001b[0m     \u001b[39m# consumption.\u001b[39;00m\n",
      "File \u001b[0;32m~/opt/miniconda3/lib/python3.8/site-packages/joblib/parallel.py:901\u001b[0m, in \u001b[0;36mParallel.dispatch_one_batch\u001b[0;34m(self, iterator)\u001b[0m\n\u001b[1;32m    899\u001b[0m     \u001b[39mreturn\u001b[39;00m \u001b[39mFalse\u001b[39;00m\n\u001b[1;32m    900\u001b[0m \u001b[39melse\u001b[39;00m:\n\u001b[0;32m--> 901\u001b[0m     \u001b[39mself\u001b[39;49m\u001b[39m.\u001b[39;49m_dispatch(tasks)\n\u001b[1;32m    902\u001b[0m     \u001b[39mreturn\u001b[39;00m \u001b[39mTrue\u001b[39;00m\n",
      "File \u001b[0;32m~/opt/miniconda3/lib/python3.8/site-packages/joblib/parallel.py:819\u001b[0m, in \u001b[0;36mParallel._dispatch\u001b[0;34m(self, batch)\u001b[0m\n\u001b[1;32m    817\u001b[0m \u001b[39mwith\u001b[39;00m \u001b[39mself\u001b[39m\u001b[39m.\u001b[39m_lock:\n\u001b[1;32m    818\u001b[0m     job_idx \u001b[39m=\u001b[39m \u001b[39mlen\u001b[39m(\u001b[39mself\u001b[39m\u001b[39m.\u001b[39m_jobs)\n\u001b[0;32m--> 819\u001b[0m     job \u001b[39m=\u001b[39m \u001b[39mself\u001b[39;49m\u001b[39m.\u001b[39;49m_backend\u001b[39m.\u001b[39;49mapply_async(batch, callback\u001b[39m=\u001b[39;49mcb)\n\u001b[1;32m    820\u001b[0m     \u001b[39m# A job can complete so quickly than its callback is\u001b[39;00m\n\u001b[1;32m    821\u001b[0m     \u001b[39m# called before we get here, causing self._jobs to\u001b[39;00m\n\u001b[1;32m    822\u001b[0m     \u001b[39m# grow. To ensure correct results ordering, .insert is\u001b[39;00m\n\u001b[1;32m    823\u001b[0m     \u001b[39m# used (rather than .append) in the following line\u001b[39;00m\n\u001b[1;32m    824\u001b[0m     \u001b[39mself\u001b[39m\u001b[39m.\u001b[39m_jobs\u001b[39m.\u001b[39minsert(job_idx, job)\n",
      "File \u001b[0;32m~/opt/miniconda3/lib/python3.8/site-packages/joblib/_parallel_backends.py:208\u001b[0m, in \u001b[0;36mSequentialBackend.apply_async\u001b[0;34m(self, func, callback)\u001b[0m\n\u001b[1;32m    206\u001b[0m \u001b[39mdef\u001b[39;00m \u001b[39mapply_async\u001b[39m(\u001b[39mself\u001b[39m, func, callback\u001b[39m=\u001b[39m\u001b[39mNone\u001b[39;00m):\n\u001b[1;32m    207\u001b[0m     \u001b[39m\"\"\"Schedule a func to be run\"\"\"\u001b[39;00m\n\u001b[0;32m--> 208\u001b[0m     result \u001b[39m=\u001b[39m ImmediateResult(func)\n\u001b[1;32m    209\u001b[0m     \u001b[39mif\u001b[39;00m callback:\n\u001b[1;32m    210\u001b[0m         callback(result)\n",
      "File \u001b[0;32m~/opt/miniconda3/lib/python3.8/site-packages/joblib/_parallel_backends.py:597\u001b[0m, in \u001b[0;36mImmediateResult.__init__\u001b[0;34m(self, batch)\u001b[0m\n\u001b[1;32m    594\u001b[0m \u001b[39mdef\u001b[39;00m \u001b[39m__init__\u001b[39m(\u001b[39mself\u001b[39m, batch):\n\u001b[1;32m    595\u001b[0m     \u001b[39m# Don't delay the application, to avoid keeping the input\u001b[39;00m\n\u001b[1;32m    596\u001b[0m     \u001b[39m# arguments in memory\u001b[39;00m\n\u001b[0;32m--> 597\u001b[0m     \u001b[39mself\u001b[39m\u001b[39m.\u001b[39mresults \u001b[39m=\u001b[39m batch()\n",
      "File \u001b[0;32m~/opt/miniconda3/lib/python3.8/site-packages/joblib/parallel.py:288\u001b[0m, in \u001b[0;36mBatchedCalls.__call__\u001b[0;34m(self)\u001b[0m\n\u001b[1;32m    284\u001b[0m \u001b[39mdef\u001b[39;00m \u001b[39m__call__\u001b[39m(\u001b[39mself\u001b[39m):\n\u001b[1;32m    285\u001b[0m     \u001b[39m# Set the default nested backend to self._backend but do not set the\u001b[39;00m\n\u001b[1;32m    286\u001b[0m     \u001b[39m# change the default number of processes to -1\u001b[39;00m\n\u001b[1;32m    287\u001b[0m     \u001b[39mwith\u001b[39;00m parallel_backend(\u001b[39mself\u001b[39m\u001b[39m.\u001b[39m_backend, n_jobs\u001b[39m=\u001b[39m\u001b[39mself\u001b[39m\u001b[39m.\u001b[39m_n_jobs):\n\u001b[0;32m--> 288\u001b[0m         \u001b[39mreturn\u001b[39;00m [func(\u001b[39m*\u001b[39margs, \u001b[39m*\u001b[39m\u001b[39m*\u001b[39mkwargs)\n\u001b[1;32m    289\u001b[0m                 \u001b[39mfor\u001b[39;00m func, args, kwargs \u001b[39min\u001b[39;00m \u001b[39mself\u001b[39m\u001b[39m.\u001b[39mitems]\n",
      "File \u001b[0;32m~/opt/miniconda3/lib/python3.8/site-packages/joblib/parallel.py:288\u001b[0m, in \u001b[0;36m<listcomp>\u001b[0;34m(.0)\u001b[0m\n\u001b[1;32m    284\u001b[0m \u001b[39mdef\u001b[39;00m \u001b[39m__call__\u001b[39m(\u001b[39mself\u001b[39m):\n\u001b[1;32m    285\u001b[0m     \u001b[39m# Set the default nested backend to self._backend but do not set the\u001b[39;00m\n\u001b[1;32m    286\u001b[0m     \u001b[39m# change the default number of processes to -1\u001b[39;00m\n\u001b[1;32m    287\u001b[0m     \u001b[39mwith\u001b[39;00m parallel_backend(\u001b[39mself\u001b[39m\u001b[39m.\u001b[39m_backend, n_jobs\u001b[39m=\u001b[39m\u001b[39mself\u001b[39m\u001b[39m.\u001b[39m_n_jobs):\n\u001b[0;32m--> 288\u001b[0m         \u001b[39mreturn\u001b[39;00m [func(\u001b[39m*\u001b[39;49margs, \u001b[39m*\u001b[39;49m\u001b[39m*\u001b[39;49mkwargs)\n\u001b[1;32m    289\u001b[0m                 \u001b[39mfor\u001b[39;00m func, args, kwargs \u001b[39min\u001b[39;00m \u001b[39mself\u001b[39m\u001b[39m.\u001b[39mitems]\n",
      "File \u001b[0;32m~/opt/miniconda3/lib/python3.8/site-packages/sklearn/utils/fixes.py:117\u001b[0m, in \u001b[0;36m_FuncWrapper.__call__\u001b[0;34m(self, *args, **kwargs)\u001b[0m\n\u001b[1;32m    115\u001b[0m \u001b[39mdef\u001b[39;00m \u001b[39m__call__\u001b[39m(\u001b[39mself\u001b[39m, \u001b[39m*\u001b[39margs, \u001b[39m*\u001b[39m\u001b[39m*\u001b[39mkwargs):\n\u001b[1;32m    116\u001b[0m     \u001b[39mwith\u001b[39;00m config_context(\u001b[39m*\u001b[39m\u001b[39m*\u001b[39m\u001b[39mself\u001b[39m\u001b[39m.\u001b[39mconfig):\n\u001b[0;32m--> 117\u001b[0m         \u001b[39mreturn\u001b[39;00m \u001b[39mself\u001b[39;49m\u001b[39m.\u001b[39;49mfunction(\u001b[39m*\u001b[39;49margs, \u001b[39m*\u001b[39;49m\u001b[39m*\u001b[39;49mkwargs)\n",
      "File \u001b[0;32m~/opt/miniconda3/lib/python3.8/site-packages/sklearn/model_selection/_validation.py:686\u001b[0m, in \u001b[0;36m_fit_and_score\u001b[0;34m(estimator, X, y, scorer, train, test, verbose, parameters, fit_params, return_train_score, return_parameters, return_n_test_samples, return_times, return_estimator, split_progress, candidate_progress, error_score)\u001b[0m\n\u001b[1;32m    684\u001b[0m         estimator\u001b[39m.\u001b[39mfit(X_train, \u001b[39m*\u001b[39m\u001b[39m*\u001b[39mfit_params)\n\u001b[1;32m    685\u001b[0m     \u001b[39melse\u001b[39;00m:\n\u001b[0;32m--> 686\u001b[0m         estimator\u001b[39m.\u001b[39;49mfit(X_train, y_train, \u001b[39m*\u001b[39;49m\u001b[39m*\u001b[39;49mfit_params)\n\u001b[1;32m    688\u001b[0m \u001b[39mexcept\u001b[39;00m \u001b[39mException\u001b[39;00m:\n\u001b[1;32m    689\u001b[0m     \u001b[39m# Note fit time as time until error\u001b[39;00m\n\u001b[1;32m    690\u001b[0m     fit_time \u001b[39m=\u001b[39m time\u001b[39m.\u001b[39mtime() \u001b[39m-\u001b[39m start_time\n",
      "File \u001b[0;32m~/opt/miniconda3/lib/python3.8/site-packages/sklearn/tree/_classes.py:1342\u001b[0m, in \u001b[0;36mDecisionTreeRegressor.fit\u001b[0;34m(self, X, y, sample_weight, check_input)\u001b[0m\n\u001b[1;32m   1313\u001b[0m \u001b[39mdef\u001b[39;00m \u001b[39mfit\u001b[39m(\u001b[39mself\u001b[39m, X, y, sample_weight\u001b[39m=\u001b[39m\u001b[39mNone\u001b[39;00m, check_input\u001b[39m=\u001b[39m\u001b[39mTrue\u001b[39;00m):\n\u001b[1;32m   1314\u001b[0m     \u001b[39m\"\"\"Build a decision tree regressor from the training set (X, y).\u001b[39;00m\n\u001b[1;32m   1315\u001b[0m \n\u001b[1;32m   1316\u001b[0m \u001b[39m    Parameters\u001b[39;00m\n\u001b[0;32m   (...)\u001b[0m\n\u001b[1;32m   1339\u001b[0m \u001b[39m        Fitted estimator.\u001b[39;00m\n\u001b[1;32m   1340\u001b[0m \u001b[39m    \"\"\"\u001b[39;00m\n\u001b[0;32m-> 1342\u001b[0m     \u001b[39msuper\u001b[39;49m()\u001b[39m.\u001b[39;49mfit(\n\u001b[1;32m   1343\u001b[0m         X,\n\u001b[1;32m   1344\u001b[0m         y,\n\u001b[1;32m   1345\u001b[0m         sample_weight\u001b[39m=\u001b[39;49msample_weight,\n\u001b[1;32m   1346\u001b[0m         check_input\u001b[39m=\u001b[39;49mcheck_input,\n\u001b[1;32m   1347\u001b[0m     )\n\u001b[1;32m   1348\u001b[0m     \u001b[39mreturn\u001b[39;00m \u001b[39mself\u001b[39m\n",
      "File \u001b[0;32m~/opt/miniconda3/lib/python3.8/site-packages/sklearn/tree/_classes.py:458\u001b[0m, in \u001b[0;36mBaseDecisionTree.fit\u001b[0;34m(self, X, y, sample_weight, check_input)\u001b[0m\n\u001b[1;32m    447\u001b[0m \u001b[39melse\u001b[39;00m:\n\u001b[1;32m    448\u001b[0m     builder \u001b[39m=\u001b[39m BestFirstTreeBuilder(\n\u001b[1;32m    449\u001b[0m         splitter,\n\u001b[1;32m    450\u001b[0m         min_samples_split,\n\u001b[0;32m   (...)\u001b[0m\n\u001b[1;32m    455\u001b[0m         \u001b[39mself\u001b[39m\u001b[39m.\u001b[39mmin_impurity_decrease,\n\u001b[1;32m    456\u001b[0m     )\n\u001b[0;32m--> 458\u001b[0m builder\u001b[39m.\u001b[39;49mbuild(\u001b[39mself\u001b[39;49m\u001b[39m.\u001b[39;49mtree_, X, y, sample_weight)\n\u001b[1;32m    460\u001b[0m \u001b[39mif\u001b[39;00m \u001b[39mself\u001b[39m\u001b[39m.\u001b[39mn_outputs_ \u001b[39m==\u001b[39m \u001b[39m1\u001b[39m \u001b[39mand\u001b[39;00m is_classifier(\u001b[39mself\u001b[39m):\n\u001b[1;32m    461\u001b[0m     \u001b[39mself\u001b[39m\u001b[39m.\u001b[39mn_classes_ \u001b[39m=\u001b[39m \u001b[39mself\u001b[39m\u001b[39m.\u001b[39mn_classes_[\u001b[39m0\u001b[39m]\n",
      "\u001b[0;31mKeyboardInterrupt\u001b[0m: "
     ]
    }
   ],
   "source": [
    "clf = tree.DecisionTreeRegressor()\n",
    "\n",
    "param = {\n",
    "    \"criterion\": ['squared_error', 'friedman_mse', 'absolute_error', 'poisson'],\n",
    "    \"splitter\": [\"best\", \"random\"],\n",
    "    \"max_depth\": [2,5,8,11,14,17,20],\n",
    "    \"min_samples_split\": [2,5,8,11,14,17,20],\n",
    "    \"max_features\": [1.0, 'sqrt', 'log2', 'None']\n",
    "    }\n",
    "\n",
    "grid = GridSearchCV(clf, param_grid=param, cv=10)\n",
    "grid.fit(trainA_x,trainA_y)"
   ]
  },
  {
   "cell_type": "code",
   "execution_count": null,
   "metadata": {},
   "outputs": [],
   "source": [
    "clf = tree.DecisionTreeRegressor(criterion= grid.best_params_['criterion'], splitter= grid.best_params_['splitter'], \n",
    "                                 max_depth= grid.best_params_['max_depth'], min_samples_split= grid.best_params_['min_samples_split'],\n",
    "                                 max_features=grid.best_params_['max_features'])\n",
    "model = clf.fit(trainA_x, trainA_y)"
   ]
  },
  {
   "cell_type": "code",
   "execution_count": null,
   "metadata": {},
   "outputs": [],
   "source": [
    "pred_B = clf.predict(trainB_x)\n",
    "pred_err_B = trainB_y-pred_B\n",
    "\n",
    "q = np.quantile(abs(pred_err_B), 0.95)"
   ]
  },
  {
   "cell_type": "code",
   "execution_count": null,
   "metadata": {},
   "outputs": [],
   "source": [
    "pred_test = clf.predict(x_test)\n",
    "lb = pred_test-q\n",
    "ub = pred_test+q\n",
    "\n",
    "for i in range(len(lb)):\n",
    "    if lb[i] < 0:\n",
    "        lb[i] = 0    \n",
    "\n",
    "sum((y_test>=lb) & (y_test<=ub))/len(y_test)"
   ]
  },
  {
   "cell_type": "code",
   "execution_count": null,
   "metadata": {},
   "outputs": [],
   "source": [
    "csv = pd.DataFrame()\n",
    "\n",
    "csv['TSPNDPRPD_Pred'] = pred_test\n",
    "for i in range(len(csv)):\n",
    "    csv['lower_bound'] = lb\n",
    "    csv['upper_bound'] = ub"
   ]
  },
  {
   "cell_type": "code",
   "execution_count": null,
   "metadata": {},
   "outputs": [],
   "source": [
    "csv"
   ]
  },
  {
   "attachments": {},
   "cell_type": "markdown",
   "metadata": {},
   "source": [
    "#### Trying with different preprocessing techniques and features used for training"
   ]
  },
  {
   "cell_type": "code",
   "execution_count": 10,
   "metadata": {},
   "outputs": [
    {
     "name": "stderr",
     "output_type": "stream",
     "text": [
      "/Users/ericwang/opt/miniconda3/lib/python3.8/site-packages/sklearn/utils/extmath.py:981: RuntimeWarning: invalid value encountered in divide\n",
      "  updated_mean = (last_sum + new_sum) / updated_sample_count\n",
      "/Users/ericwang/opt/miniconda3/lib/python3.8/site-packages/sklearn/utils/extmath.py:986: RuntimeWarning: invalid value encountered in divide\n",
      "  T = new_sum / new_sample_count\n",
      "/Users/ericwang/opt/miniconda3/lib/python3.8/site-packages/sklearn/utils/extmath.py:1006: RuntimeWarning: invalid value encountered in divide\n",
      "  new_unnormalized_variance -= correction**2 / new_sample_count\n"
     ]
    },
    {
     "ename": "ValueError",
     "evalue": "Found input variables with inconsistent numbers of samples: [24641, 8861]",
     "output_type": "error",
     "traceback": [
      "\u001b[0;31m---------------------------------------------------------------------------\u001b[0m",
      "\u001b[0;31mValueError\u001b[0m                                Traceback (most recent call last)",
      "\u001b[1;32m/Users/ericwang/Desktop/ECON_148/HW4/EricWang_HW4.ipynb Cell 15\u001b[0m in \u001b[0;36m5\n\u001b[1;32m      <a href='vscode-notebook-cell:/Users/ericwang/Desktop/ECON_148/HW4/EricWang_HW4.ipynb#X20sZmlsZQ%3D%3D?line=1'>2</a>\u001b[0m scaler \u001b[39m=\u001b[39m StandardScaler()\n\u001b[1;32m      <a href='vscode-notebook-cell:/Users/ericwang/Desktop/ECON_148/HW4/EricWang_HW4.ipynb#X20sZmlsZQ%3D%3D?line=2'>3</a>\u001b[0m std_x \u001b[39m=\u001b[39m scaler\u001b[39m.\u001b[39mfit_transform(x)\n\u001b[0;32m----> <a href='vscode-notebook-cell:/Users/ericwang/Desktop/ECON_148/HW4/EricWang_HW4.ipynb#X20sZmlsZQ%3D%3D?line=4'>5</a>\u001b[0m x_train, x_test, y_train, y_test \u001b[39m=\u001b[39m train_test_split(std_x, y, test_size\u001b[39m=\u001b[39;49m\u001b[39m0.4\u001b[39;49m, random_state\u001b[39m=\u001b[39;49m\u001b[39m213\u001b[39;49m)\n\u001b[1;32m      <a href='vscode-notebook-cell:/Users/ericwang/Desktop/ECON_148/HW4/EricWang_HW4.ipynb#X20sZmlsZQ%3D%3D?line=5'>6</a>\u001b[0m trainA_x, trainB_x, trainA_y, trainB_y \u001b[39m=\u001b[39m train_test_split(x_train, y_train, test_size\u001b[39m=\u001b[39m\u001b[39m0.4\u001b[39m, random_state \u001b[39m=\u001b[39m \u001b[39m213\u001b[39m)\n",
      "File \u001b[0;32m~/opt/miniconda3/lib/python3.8/site-packages/sklearn/model_selection/_split.py:2445\u001b[0m, in \u001b[0;36mtrain_test_split\u001b[0;34m(test_size, train_size, random_state, shuffle, stratify, *arrays)\u001b[0m\n\u001b[1;32m   2442\u001b[0m \u001b[39mif\u001b[39;00m n_arrays \u001b[39m==\u001b[39m \u001b[39m0\u001b[39m:\n\u001b[1;32m   2443\u001b[0m     \u001b[39mraise\u001b[39;00m \u001b[39mValueError\u001b[39;00m(\u001b[39m\"\u001b[39m\u001b[39mAt least one array required as input\u001b[39m\u001b[39m\"\u001b[39m)\n\u001b[0;32m-> 2445\u001b[0m arrays \u001b[39m=\u001b[39m indexable(\u001b[39m*\u001b[39;49marrays)\n\u001b[1;32m   2447\u001b[0m n_samples \u001b[39m=\u001b[39m _num_samples(arrays[\u001b[39m0\u001b[39m])\n\u001b[1;32m   2448\u001b[0m n_train, n_test \u001b[39m=\u001b[39m _validate_shuffle_split(\n\u001b[1;32m   2449\u001b[0m     n_samples, test_size, train_size, default_test_size\u001b[39m=\u001b[39m\u001b[39m0.25\u001b[39m\n\u001b[1;32m   2450\u001b[0m )\n",
      "File \u001b[0;32m~/opt/miniconda3/lib/python3.8/site-packages/sklearn/utils/validation.py:433\u001b[0m, in \u001b[0;36mindexable\u001b[0;34m(*iterables)\u001b[0m\n\u001b[1;32m    414\u001b[0m \u001b[39m\"\"\"Make arrays indexable for cross-validation.\u001b[39;00m\n\u001b[1;32m    415\u001b[0m \n\u001b[1;32m    416\u001b[0m \u001b[39mChecks consistent length, passes through None, and ensures that everything\u001b[39;00m\n\u001b[0;32m   (...)\u001b[0m\n\u001b[1;32m    429\u001b[0m \u001b[39m    sparse matrix, or dataframe) or `None`.\u001b[39;00m\n\u001b[1;32m    430\u001b[0m \u001b[39m\"\"\"\u001b[39;00m\n\u001b[1;32m    432\u001b[0m result \u001b[39m=\u001b[39m [_make_indexable(X) \u001b[39mfor\u001b[39;00m X \u001b[39min\u001b[39;00m iterables]\n\u001b[0;32m--> 433\u001b[0m check_consistent_length(\u001b[39m*\u001b[39;49mresult)\n\u001b[1;32m    434\u001b[0m \u001b[39mreturn\u001b[39;00m result\n",
      "File \u001b[0;32m~/opt/miniconda3/lib/python3.8/site-packages/sklearn/utils/validation.py:387\u001b[0m, in \u001b[0;36mcheck_consistent_length\u001b[0;34m(*arrays)\u001b[0m\n\u001b[1;32m    385\u001b[0m uniques \u001b[39m=\u001b[39m np\u001b[39m.\u001b[39munique(lengths)\n\u001b[1;32m    386\u001b[0m \u001b[39mif\u001b[39;00m \u001b[39mlen\u001b[39m(uniques) \u001b[39m>\u001b[39m \u001b[39m1\u001b[39m:\n\u001b[0;32m--> 387\u001b[0m     \u001b[39mraise\u001b[39;00m \u001b[39mValueError\u001b[39;00m(\n\u001b[1;32m    388\u001b[0m         \u001b[39m\"\u001b[39m\u001b[39mFound input variables with inconsistent numbers of samples: \u001b[39m\u001b[39m%r\u001b[39;00m\u001b[39m\"\u001b[39m\n\u001b[1;32m    389\u001b[0m         \u001b[39m%\u001b[39m [\u001b[39mint\u001b[39m(l) \u001b[39mfor\u001b[39;00m l \u001b[39min\u001b[39;00m lengths]\n\u001b[1;32m    390\u001b[0m     )\n",
      "\u001b[0;31mValueError\u001b[0m: Found input variables with inconsistent numbers of samples: [24641, 8861]"
     ]
    }
   ],
   "source": [
    "'''First we will try using scalers'''\n",
    "scaler = StandardScaler()\n",
    "std_x = scaler.fit_transform(x)\n",
    "\n",
    "x_train, x_test, y_train, y_test = train_test_split(std_x, y, test_size=0.4, random_state=213)\n",
    "trainA_x, trainB_x, trainA_y, trainB_y = train_test_split(x_train, y_train, test_size=0.4, random_state = 213)"
   ]
  },
  {
   "cell_type": "code",
   "execution_count": 10,
   "metadata": {},
   "outputs": [],
   "source": [
    "clf = tree.DecisionTreeRegressor()\n",
    "\n",
    "param = {\n",
    "    \"criterion\": ['squared_error', 'friedman_mse', 'absolute_error', 'poisson'],\n",
    "    \"splitter\": [\"best\", \"random\"],\n",
    "    \"max_depth\": [2,5,8,11,14,17,20],\n",
    "    \"min_samples_split\": [2,5,8,11,14,17,20],\n",
    "    \"max_features\": [1.0, 'sqrt', 'log2', 'None']\n",
    "    }\n",
    "\n",
    "grid = GridSearchCV(clf, param_grid=param, cv=10)\n",
    "grid.fit(trainA_x,trainA_y)"
   ]
  },
  {
   "cell_type": "code",
   "execution_count": null,
   "metadata": {},
   "outputs": [],
   "source": [
    "clf = tree.DecisionTreeRegressor(criterion= grid.best_params_['criterion'], splitter= grid.best_params_['splitter'], \n",
    "                                 max_depth= grid.best_params_['max_depth'], min_samples_split= grid.best_params_['min_samples_split'],\n",
    "                                 max_features=grid.best_params_['max_features'])\n",
    "model = clf.fit(trainA_x, trainA_y)"
   ]
  },
  {
   "cell_type": "code",
   "execution_count": null,
   "metadata": {},
   "outputs": [],
   "source": [
    "pred_B = clf.predict(trainB_x)\n",
    "pred_err_B = trainB_y-pred_B\n",
    "\n",
    "q = np.quantile(abs(pred_err_B), 0.95)"
   ]
  },
  {
   "cell_type": "code",
   "execution_count": null,
   "metadata": {},
   "outputs": [],
   "source": [
    "pred_test = clf.predict(x_test)\n",
    "lb = pred_test-q\n",
    "ub = pred_test+q\n",
    "\n",
    "sum((y_test>=lb) & (y_test<=ub))/len(y_test)"
   ]
  },
  {
   "cell_type": "code",
   "execution_count": null,
   "metadata": {},
   "outputs": [],
   "source": [
    "csv = pd.DataFrame()\n",
    "\n",
    "csv['TSPNDPRPD_Pred'] = pred_test\n",
    "for i in range(len(csv)):\n",
    "    csv['lower_bound'] = lb\n",
    "    csv['upper_bound'] = ub"
   ]
  },
  {
   "cell_type": "code",
   "execution_count": null,
   "metadata": {},
   "outputs": [],
   "source": [
    "scaler = RobustScaler()\n",
    "std_x = scaler.fit_transform(x)\n",
    "\n",
    "x_train, x_test, y_train, y_test = train_test_split(std_x, y, test_size=0.4, random_state=213)\n",
    "trainA_x, trainB_x, trainA_y, trainB_y = train_test_split(x_train, y_train, test_size=0.4, random_state = 213)\n",
    "\n",
    "clf = tree.DecisionTreeRegressor()\n",
    "\n",
    "param = {\n",
    "    \"criterion\": ['squared_error', 'friedman_mse', 'absolute_error', 'poisson'],\n",
    "    \"splitter\": [\"best\", \"random\"],\n",
    "    \"max_depth\": [2,5,8,11,14,17,20],\n",
    "    \"min_samples_split\": [2,5,8,11,14,17,20],\n",
    "    \"max_features\": [1.0, 'sqrt', 'log2', 'None']\n",
    "    }\n",
    "\n",
    "grid = GridSearchCV(clf, param_grid=param, cv=10)\n",
    "grid.fit(trainA_x,trainA_y)\n",
    "\n",
    "clf = tree.DecisionTreeRegressor(criterion= grid.best_params_['criterion'], splitter= grid.best_params_['splitter'], \n",
    "                                 max_depth= grid.best_params_['max_depth'], min_samples_split= grid.best_params_['min_samples_split'],\n",
    "                                 max_features=grid.best_params_['max_features'])\n",
    "model = clf.fit(trainA_x, trainA_y)\n",
    "\n",
    "pred_B = clf.predict(trainB_x)\n",
    "pred_err_B = trainB_y-pred_B\n",
    "\n",
    "q = np.quantile(abs(pred_err_B), 0.95)\n",
    "\n",
    "pred_test = clf.predict(x_test)\n",
    "lb = pred_test-q\n",
    "ub = pred_test+q\n",
    "\n",
    "sum((y_test>=lb) & (y_test<=ub))/len(y_test)"
   ]
  },
  {
   "cell_type": "code",
   "execution_count": null,
   "metadata": {},
   "outputs": [],
   "source": [
    "scaler = MinMaxScaler()\n",
    "std_x = scaler.fit_transform(x)\n",
    "\n",
    "x_train, x_test, y_train, y_test = train_test_split(std_x, y, test_size=0.4, random_state=213)\n",
    "trainA_x, trainB_x, trainA_y, trainB_y = train_test_split(x_train, y_train, test_size=0.4, random_state = 213)\n",
    "\n",
    "clf = tree.DecisionTreeRegressor()\n",
    "\n",
    "param = {\n",
    "    \"criterion\": ['squared_error', 'friedman_mse', 'absolute_error', 'poisson'],\n",
    "    \"splitter\": [\"best\", \"random\"],\n",
    "    \"max_depth\": [2,5,8,11,14,17,20],\n",
    "    \"min_samples_split\": [2,5,8,11,14,17,20],\n",
    "    \"max_features\": [1.0, 'sqrt', 'log2', 'None']\n",
    "    }\n",
    "\n",
    "grid = GridSearchCV(clf, param_grid=param, cv=10)\n",
    "grid.fit(trainA_x,trainA_y)\n",
    "grid.best_params_\n",
    "\n",
    "clf = tree.DecisionTreeRegressor(criterion= grid.best_params_['criterion'], splitter= grid.best_params_['splitter'], \n",
    "                                 max_depth= grid.best_params_['max_depth'], min_samples_split= grid.best_params_['min_samples_split'],\n",
    "                                 max_features=grid.best_params_['max_features'])\n",
    "model = clf.fit(trainA_x, trainA_y)\n",
    "\n",
    "pred_B = clf.predict(trainB_x)\n",
    "pred_err_B = trainB_y-pred_B\n",
    "\n",
    "q = np.quantile(abs(pred_err_B), 0.95)\n",
    "\n",
    "pred_test = clf.predict(x_test)\n",
    "lb = pred_test-q\n",
    "ub = pred_test+q\n",
    "\n",
    "sum((y_test>=lb) & (y_test<=ub))/len(y_test)"
   ]
  },
  {
   "attachments": {},
   "cell_type": "markdown",
   "metadata": {},
   "source": [
    "Standard Scaler seem to produce the best estimations"
   ]
  },
  {
   "cell_type": "code",
   "execution_count": null,
   "metadata": {},
   "outputs": [],
   "source": [
    "'''Following Code tests different features'''\n",
    "train2 = train[['PWEIGHT', 'AGE', 'REGION', 'PUBHLTH', 'PRIVHLTH', 'EST_MSA', 'EST_ST', \n",
    "           'INCOME', 'LIVQTRRV', 'MOBILITY', 'MS', 'EEDUC', 'RRACE', 'WRKLOSSRV', 'TSPNDPRPD']] \n",
    "\n",
    "y = train2['TSPNDPRPD']\n",
    "x = train2.drop(columns=['TSPNDPRPD'])\n",
    "\n",
    "\n",
    "x = SelectKBest(f_classif, k=2).fit_transform(x,y)"
   ]
  },
  {
   "cell_type": "code",
   "execution_count": null,
   "metadata": {},
   "outputs": [],
   "source": [
    "display(train2)\n",
    "display(pd.DataFrame(x))"
   ]
  },
  {
   "attachments": {},
   "cell_type": "markdown",
   "metadata": {},
   "source": [
    "Top 5 features chosen using SelectKBest are ['Age', 'PUBHLTH', 'PRIVHLTH', 'INCOME', 'MOBILITY']\n",
    "<br>\n",
    "Top 3 features chosen using SelectKBest are ['Age', 'PUBHLTH','INCOME']\n",
    "<br>\n",
    "Top 2 features chosen using SelectKBest are ['Age', 'INCOME']"
   ]
  },
  {
   "cell_type": "code",
   "execution_count": 17,
   "metadata": {},
   "outputs": [
    {
     "name": "stdout",
     "output_type": "stream",
     "text": [
      "0.9497884344146685\n"
     ]
    },
    {
     "name": "stderr",
     "output_type": "stream",
     "text": [
      "/Users/ericwang/opt/miniconda3/lib/python3.8/site-packages/sklearn/model_selection/_validation.py:378: FitFailedWarning: \n",
      "3920 fits failed out of a total of 15680.\n",
      "The score on these train-test partitions for these parameters will be set to nan.\n",
      "If these failures are not expected, you can try to debug them by setting error_score='raise'.\n",
      "\n",
      "Below are more details about the failures:\n",
      "--------------------------------------------------------------------------------\n",
      "3920 fits failed with the following error:\n",
      "Traceback (most recent call last):\n",
      "  File \"/Users/ericwang/opt/miniconda3/lib/python3.8/site-packages/sklearn/model_selection/_validation.py\", line 686, in _fit_and_score\n",
      "    estimator.fit(X_train, y_train, **fit_params)\n",
      "  File \"/Users/ericwang/opt/miniconda3/lib/python3.8/site-packages/sklearn/tree/_classes.py\", line 1342, in fit\n",
      "    super().fit(\n",
      "  File \"/Users/ericwang/opt/miniconda3/lib/python3.8/site-packages/sklearn/tree/_classes.py\", line 317, in fit\n",
      "    raise ValueError(\n",
      "ValueError: Invalid value for max_features. Allowed string values are 'auto', 'sqrt' or 'log2'.\n",
      "\n",
      "  warnings.warn(some_fits_failed_message, FitFailedWarning)\n",
      "/Users/ericwang/opt/miniconda3/lib/python3.8/site-packages/sklearn/model_selection/_search.py:953: UserWarning: One or more of the test scores are non-finite: [0.07832248 0.07074385 0.07832248 ...        nan        nan        nan]\n",
      "  warnings.warn(\n"
     ]
    },
    {
     "data": {
      "text/html": [
       "<div>\n",
       "<style scoped>\n",
       "    .dataframe tbody tr th:only-of-type {\n",
       "        vertical-align: middle;\n",
       "    }\n",
       "\n",
       "    .dataframe tbody tr th {\n",
       "        vertical-align: top;\n",
       "    }\n",
       "\n",
       "    .dataframe thead th {\n",
       "        text-align: right;\n",
       "    }\n",
       "</style>\n",
       "<table border=\"1\" class=\"dataframe\">\n",
       "  <thead>\n",
       "    <tr style=\"text-align: right;\">\n",
       "      <th></th>\n",
       "      <th>TSPNDPRPD_Pred</th>\n",
       "      <th>lower_bound</th>\n",
       "      <th>upper_bound</th>\n",
       "    </tr>\n",
       "  </thead>\n",
       "  <tbody>\n",
       "    <tr>\n",
       "      <th>0</th>\n",
       "      <td>145.713542</td>\n",
       "      <td>-93.755366</td>\n",
       "      <td>385.182449</td>\n",
       "    </tr>\n",
       "    <tr>\n",
       "      <th>1</th>\n",
       "      <td>114.825963</td>\n",
       "      <td>-124.642945</td>\n",
       "      <td>354.294870</td>\n",
       "    </tr>\n",
       "    <tr>\n",
       "      <th>2</th>\n",
       "      <td>168.231092</td>\n",
       "      <td>-71.237815</td>\n",
       "      <td>407.700000</td>\n",
       "    </tr>\n",
       "    <tr>\n",
       "      <th>3</th>\n",
       "      <td>66.715976</td>\n",
       "      <td>-172.752931</td>\n",
       "      <td>306.184884</td>\n",
       "    </tr>\n",
       "    <tr>\n",
       "      <th>4</th>\n",
       "      <td>114.825963</td>\n",
       "      <td>-124.642945</td>\n",
       "      <td>354.294870</td>\n",
       "    </tr>\n",
       "    <tr>\n",
       "      <th>...</th>\n",
       "      <td>...</td>\n",
       "      <td>...</td>\n",
       "      <td>...</td>\n",
       "    </tr>\n",
       "    <tr>\n",
       "      <th>3540</th>\n",
       "      <td>63.418552</td>\n",
       "      <td>-176.050356</td>\n",
       "      <td>302.887460</td>\n",
       "    </tr>\n",
       "    <tr>\n",
       "      <th>3541</th>\n",
       "      <td>92.712000</td>\n",
       "      <td>-146.756908</td>\n",
       "      <td>332.180908</td>\n",
       "    </tr>\n",
       "    <tr>\n",
       "      <th>3542</th>\n",
       "      <td>66.715976</td>\n",
       "      <td>-172.752931</td>\n",
       "      <td>306.184884</td>\n",
       "    </tr>\n",
       "    <tr>\n",
       "      <th>3543</th>\n",
       "      <td>114.825963</td>\n",
       "      <td>-124.642945</td>\n",
       "      <td>354.294870</td>\n",
       "    </tr>\n",
       "    <tr>\n",
       "      <th>3544</th>\n",
       "      <td>168.231092</td>\n",
       "      <td>-71.237815</td>\n",
       "      <td>407.700000</td>\n",
       "    </tr>\n",
       "  </tbody>\n",
       "</table>\n",
       "<p>3545 rows × 3 columns</p>\n",
       "</div>"
      ],
      "text/plain": [
       "      TSPNDPRPD_Pred  lower_bound  upper_bound\n",
       "0         145.713542   -93.755366   385.182449\n",
       "1         114.825963  -124.642945   354.294870\n",
       "2         168.231092   -71.237815   407.700000\n",
       "3          66.715976  -172.752931   306.184884\n",
       "4         114.825963  -124.642945   354.294870\n",
       "...              ...          ...          ...\n",
       "3540       63.418552  -176.050356   302.887460\n",
       "3541       92.712000  -146.756908   332.180908\n",
       "3542       66.715976  -172.752931   306.184884\n",
       "3543      114.825963  -124.642945   354.294870\n",
       "3544      168.231092   -71.237815   407.700000\n",
       "\n",
       "[3545 rows x 3 columns]"
      ]
     },
     "execution_count": 17,
     "metadata": {},
     "output_type": "execute_result"
    }
   ],
   "source": [
    "scaler = StandardScaler()\n",
    "std_x = scaler.fit_transform(x)\n",
    "\n",
    "x_train, x_test, y_train, y_test = train_test_split(std_x, y, test_size=0.4, random_state=213)\n",
    "trainA_x, trainB_x, trainA_y, trainB_y = train_test_split(x_train, y_train, test_size=0.4, random_state = 213)\n",
    "\n",
    "clf = tree.DecisionTreeRegressor()\n",
    "\n",
    "param = {\n",
    "    \"criterion\": ['squared_error', 'friedman_mse', 'absolute_error', 'poisson'],\n",
    "    \"splitter\": [\"best\", \"random\"],\n",
    "    \"max_depth\": [2,5,8,11,14,17,20],\n",
    "    \"min_samples_split\": [2,5,8,11,14,17,20],\n",
    "    \"max_features\": [1.0, 'sqrt', 'log2', 'None']\n",
    "    }\n",
    "\n",
    "grid = GridSearchCV(clf, param_grid=param, cv=10)\n",
    "grid.fit(trainA_x,trainA_y)\n",
    "grid.best_params_\n",
    "\n",
    "clf = tree.DecisionTreeRegressor(criterion= grid.best_params_['criterion'], splitter= grid.best_params_['splitter'], \n",
    "                                 max_depth= grid.best_params_['max_depth'], min_samples_split= grid.best_params_['min_samples_split'],\n",
    "                                 max_features=grid.best_params_['max_features'])\n",
    "model = clf.fit(trainA_x, trainA_y)\n",
    "\n",
    "pred_B = clf.predict(trainB_x)\n",
    "pred_err_B = trainB_y-pred_B\n",
    "\n",
    "q = np.quantile(abs(pred_err_B), 0.95)\n",
    "\n",
    "pred_test = clf.predict(x_test)\n",
    "lb = pred_test-q\n",
    "ub = pred_test+q\n",
    "\n",
    "print(sum((y_test>=lb) & (y_test<=ub))/len(y_test))\n",
    "\n",
    "csv = pd.DataFrame()\n",
    "\n",
    "csv['TSPNDPRPD_Pred'] = pred_test\n",
    "csv['lower_bound'] = lb\n",
    "csv['upper_bound'] = ub\n",
    "\n",
    "csv"
   ]
  },
  {
   "attachments": {},
   "cell_type": "markdown",
   "metadata": {},
   "source": [
    "Using more features seems to help the regression model produce better predictions that fit in the interval or I can increase the cv in GridSearch when there are less features to learn from. <br> For convenience, I will use all 15 features I picked out by intuition.\n",
    "<br><br>\n",
    "However, increasing cv with all features included does not significantly increase performance so cv will remain at 10"
   ]
  },
  {
   "cell_type": "code",
   "execution_count": 18,
   "metadata": {},
   "outputs": [],
   "source": [
    "x = test"
   ]
  },
  {
   "cell_type": "code",
   "execution_count": 19,
   "metadata": {},
   "outputs": [
    {
     "name": "stderr",
     "output_type": "stream",
     "text": [
      "/Users/ericwang/opt/miniconda3/lib/python3.8/site-packages/sklearn/utils/extmath.py:981: RuntimeWarning: invalid value encountered in divide\n",
      "  updated_mean = (last_sum + new_sum) / updated_sample_count\n",
      "/Users/ericwang/opt/miniconda3/lib/python3.8/site-packages/sklearn/utils/extmath.py:986: RuntimeWarning: invalid value encountered in divide\n",
      "  T = new_sum / new_sample_count\n",
      "/Users/ericwang/opt/miniconda3/lib/python3.8/site-packages/sklearn/utils/extmath.py:1006: RuntimeWarning: invalid value encountered in divide\n",
      "  new_unnormalized_variance -= correction**2 / new_sample_count\n"
     ]
    },
    {
     "data": {
      "text/html": [
       "<div>\n",
       "<style scoped>\n",
       "    .dataframe tbody tr th:only-of-type {\n",
       "        vertical-align: middle;\n",
       "    }\n",
       "\n",
       "    .dataframe tbody tr th {\n",
       "        vertical-align: top;\n",
       "    }\n",
       "\n",
       "    .dataframe thead th {\n",
       "        text-align: right;\n",
       "    }\n",
       "</style>\n",
       "<table border=\"1\" class=\"dataframe\">\n",
       "  <thead>\n",
       "    <tr style=\"text-align: right;\">\n",
       "      <th></th>\n",
       "      <th>TSPNDPRPD_Pred</th>\n",
       "      <th>lower_bound</th>\n",
       "      <th>upper_bound</th>\n",
       "    </tr>\n",
       "  </thead>\n",
       "  <tbody>\n",
       "    <tr>\n",
       "      <th>0</th>\n",
       "      <td>145.713542</td>\n",
       "      <td>0.0</td>\n",
       "      <td>385.182449</td>\n",
       "    </tr>\n",
       "    <tr>\n",
       "      <th>1</th>\n",
       "      <td>114.825963</td>\n",
       "      <td>0.0</td>\n",
       "      <td>354.294870</td>\n",
       "    </tr>\n",
       "    <tr>\n",
       "      <th>2</th>\n",
       "      <td>168.231092</td>\n",
       "      <td>0.0</td>\n",
       "      <td>407.700000</td>\n",
       "    </tr>\n",
       "    <tr>\n",
       "      <th>3</th>\n",
       "      <td>66.715976</td>\n",
       "      <td>0.0</td>\n",
       "      <td>306.184884</td>\n",
       "    </tr>\n",
       "    <tr>\n",
       "      <th>4</th>\n",
       "      <td>114.825963</td>\n",
       "      <td>0.0</td>\n",
       "      <td>354.294870</td>\n",
       "    </tr>\n",
       "    <tr>\n",
       "      <th>...</th>\n",
       "      <td>...</td>\n",
       "      <td>...</td>\n",
       "      <td>...</td>\n",
       "    </tr>\n",
       "    <tr>\n",
       "      <th>3540</th>\n",
       "      <td>63.418552</td>\n",
       "      <td>0.0</td>\n",
       "      <td>302.887460</td>\n",
       "    </tr>\n",
       "    <tr>\n",
       "      <th>3541</th>\n",
       "      <td>92.712000</td>\n",
       "      <td>0.0</td>\n",
       "      <td>332.180908</td>\n",
       "    </tr>\n",
       "    <tr>\n",
       "      <th>3542</th>\n",
       "      <td>66.715976</td>\n",
       "      <td>0.0</td>\n",
       "      <td>306.184884</td>\n",
       "    </tr>\n",
       "    <tr>\n",
       "      <th>3543</th>\n",
       "      <td>114.825963</td>\n",
       "      <td>0.0</td>\n",
       "      <td>354.294870</td>\n",
       "    </tr>\n",
       "    <tr>\n",
       "      <th>3544</th>\n",
       "      <td>168.231092</td>\n",
       "      <td>0.0</td>\n",
       "      <td>407.700000</td>\n",
       "    </tr>\n",
       "  </tbody>\n",
       "</table>\n",
       "<p>3545 rows × 3 columns</p>\n",
       "</div>"
      ],
      "text/plain": [
       "      TSPNDPRPD_Pred  lower_bound  upper_bound\n",
       "0         145.713542          0.0   385.182449\n",
       "1         114.825963          0.0   354.294870\n",
       "2         168.231092          0.0   407.700000\n",
       "3          66.715976          0.0   306.184884\n",
       "4         114.825963          0.0   354.294870\n",
       "...              ...          ...          ...\n",
       "3540       63.418552          0.0   302.887460\n",
       "3541       92.712000          0.0   332.180908\n",
       "3542       66.715976          0.0   306.184884\n",
       "3543      114.825963          0.0   354.294870\n",
       "3544      168.231092          0.0   407.700000\n",
       "\n",
       "[3545 rows x 3 columns]"
      ]
     },
     "execution_count": 19,
     "metadata": {},
     "output_type": "execute_result"
    }
   ],
   "source": [
    "scaler = StandardScaler()\n",
    "std_x = scaler.fit_transform(x)\n",
    "\n",
    "pred_B = clf.predict(trainB_x)\n",
    "pred_err_B = trainB_y-pred_B\n",
    "\n",
    "q = np.quantile(abs(pred_err_B), 0.95)\n",
    "\n",
    "pred_test = clf.predict(x_test)\n",
    "lb = pred_test-q\n",
    "ub = pred_test+q\n",
    "\n",
    "for i in range(len(lb)):\n",
    "    if lb[i] < 0:\n",
    "        lb[i] = 0\n",
    "\n",
    "sum((y_test>=lb) & (y_test<=ub))/len(y_test)\n",
    "\n",
    "csv = pd.DataFrame()\n",
    "\n",
    "csv['TSPNDPRPD_Pred'] = pred_test\n",
    "csv['lower_bound'] = lb\n",
    "csv['upper_bound'] = ub\n",
    "\n",
    "csv"
   ]
  },
  {
   "cell_type": "code",
   "execution_count": null,
   "metadata": {},
   "outputs": [],
   "source": [
    "np.savetxt('/Users/ericwang/Desktop/ECON_148/HW4/HW4_Q1.csv',csv, delimiter=',')"
   ]
  },
  {
   "attachments": {},
   "cell_type": "markdown",
   "metadata": {},
   "source": [
    "### Question 2: suppose that you want to consider the effect of having Covid (HADCOVID) on restaurant expenditure (TSPNDPRPD). You are willing to assume that the unconfoundedness assumption holds once we include age (TBIRTH_YEAR) and vaccination status (RECVDVACC) as confounders. At 5% significance level, can you say that the effect of having Covid always has no effect on restaurant expenditure? "
   ]
  },
  {
   "cell_type": "code",
   "execution_count": 7,
   "metadata": {},
   "outputs": [
    {
     "name": "stdout",
     "output_type": "stream",
     "text": [
      "                            OLS Regression Results                            \n",
      "==============================================================================\n",
      "Dep. Variable:              TSPNDPRPD   R-squared:                       0.028\n",
      "Model:                            OLS   Adj. R-squared:                  0.028\n",
      "Method:                 Least Squares   F-statistic:                     295.2\n",
      "Date:                Fri, 31 Mar 2023   Prob (F-statistic):          6.00e-189\n",
      "Time:                        22:56:16   Log-Likelihood:            -1.8734e+05\n",
      "No. Observations:               31002   AIC:                         3.747e+05\n",
      "Df Residuals:                   30998   BIC:                         3.747e+05\n",
      "Df Model:                           3                                         \n",
      "Covariance Type:            nonrobust                                         \n",
      "===============================================================================\n",
      "                  coef    std err          t      P>|t|      [0.025      0.975]\n",
      "-------------------------------------------------------------------------------\n",
      "const       -2093.2865     75.268    -27.811      0.000   -2240.814   -1945.759\n",
      "HADCOVID       -4.8868      1.232     -3.967      0.000      -7.301      -2.472\n",
      "TBIRTH_YEAR     1.1251      0.038     29.307      0.000       1.050       1.200\n",
      "RECVDVACC      -7.5961      1.726     -4.401      0.000     -10.979      -4.213\n",
      "==============================================================================\n",
      "Omnibus:                    11775.961   Durbin-Watson:                   1.980\n",
      "Prob(Omnibus):                  0.000   Jarque-Bera (JB):            42759.679\n",
      "Skew:                           1.932   Prob(JB):                         0.00\n",
      "Kurtosis:                       7.264   Cond. No.                     2.56e+05\n",
      "==============================================================================\n",
      "\n",
      "Notes:\n",
      "[1] Standard Errors assume that the covariance matrix of the errors is correctly specified.\n",
      "[2] The condition number is large, 2.56e+05. This might indicate that there are\n",
      "strong multicollinearity or other numerical problems.\n"
     ]
    }
   ],
   "source": [
    "import statsmodels.api as sm\n",
    "\n",
    "# Load the data\n",
    "df = pd.read_csv(\"HW4_train.csv\")\n",
    "\n",
    "# Create a regression model with HADCOVID, TBIRTH_YEAR, and RECVDVACC as predictors\n",
    "x = df[[\"HADCOVID\", \"TBIRTH_YEAR\", \"RECVDVACC\"]]\n",
    "x = sm.add_constant(x)\n",
    "y = df[\"TSPNDPRPD\"]\n",
    "model = sm.OLS(y, x).fit()\n",
    "\n",
    "# Print the summary of the model\n",
    "print(model.summary())"
   ]
  },
  {
   "cell_type": "code",
   "execution_count": 9,
   "metadata": {},
   "outputs": [
    {
     "name": "stdout",
     "output_type": "stream",
     "text": [
      "Reject the null hypothesis. There is evidence that HADCOVID has an effect on TSPNDPRPD.\n"
     ]
    }
   ],
   "source": [
    "# Test the null hypothesis that the effect of HADCOVID is equal to zero\n",
    "t_stat = model.tvalues[\"HADCOVID\"]\n",
    "p_value = model.pvalues[\"HADCOVID\"]\n",
    "alpha = 0.05\n",
    "\n",
    "# Print the test results\n",
    "if p_value < alpha:\n",
    "    print(\"Reject the null hypothesis. There is evidence that HADCOVID has an effect on TSPNDPRPD.\")\n",
    "else:\n",
    "    print(\"Fail to reject the null hypothesis. There is no evidence that HADCOVID has an effect on TSPNDPRPD.\")\n"
   ]
  },
  {
   "attachments": {},
   "cell_type": "markdown",
   "metadata": {},
   "source": [
    "### Question 3: suppose that you want to consider the effect of having Covid (HADCOVID) on restaurant expenditure (TSPNDPRPD). You are willing to assume that the unconfoundedness assumption holds once we include enough confounders. For confounders, use age (TBIRTH_YEAR), vaccination status (RECVDVACC) and grocery expenditure (TSPNDFOOD). "
   ]
  },
  {
   "cell_type": "code",
   "execution_count": null,
   "metadata": {},
   "outputs": [],
   "source": [
    "\"\"\"\n",
    "D = HADCOVID, X = TBIRTH_YEAR, RECVDVACC, TSPNFOOD\n",
    "Y = f(D, X)\n",
    "''' Treatment effect of D'''\n",
    "Y = f(1, X) - f(0, X)\n",
    "\"\"\""
   ]
  },
  {
   "cell_type": "code",
   "execution_count": 14,
   "metadata": {},
   "outputs": [],
   "source": [
    "train = pd.read_csv('HW4_train.csv')\n",
    "train['AGE']=2023-train['TBIRTH_YEAR']"
   ]
  },
  {
   "cell_type": "code",
   "execution_count": 16,
   "metadata": {},
   "outputs": [],
   "source": [
    "from sklearn.neighbors import KNeighborsRegressor\n",
    "\n",
    "x = train[['AGE', 'RECVDVACC', 'TSPNDFOOD', 'HADCOVID']]\n",
    "y = train['TSPNDPRPD']\n",
    "\n",
    "treatment = train\n",
    "treatment['HADCOVID'] = 2\n",
    "x_treatment = treatment[['AGE', 'RECVDVACC', 'TSPNDFOOD', 'HADCOVID']]\n",
    "y_treatment = treatment['TSPNDPRPD']\n",
    "\n",
    "control = train\n",
    "control['HADCOVID'] = 1\n",
    "x_control = control[['AGE', 'RECVDVACC', 'TSPNDFOOD', 'HADCOVID']]\n",
    "y_control = control['TSPNDPRPD']"
   ]
  },
  {
   "cell_type": "code",
   "execution_count": 19,
   "metadata": {},
   "outputs": [],
   "source": [
    "### Prediction\n",
    "knn = KNeighborsRegressor(n_neighbors=6)\n",
    "knn.fit(x, y)\n",
    "treated_y_pred = knn.predict(x_treatment)\n",
    "control_y_pred = knn.predict(x_control)\n",
    "\n",
    "### Calculate CATE\n",
    "CATE = treated_y_pred - control_y_pred"
   ]
  },
  {
   "cell_type": "code",
   "execution_count": 21,
   "metadata": {},
   "outputs": [
    {
     "data": {
      "image/png": "[encoded data removed]",
      "text/plain": [
       "<Figure size 640x480 with 1 Axes>"
      ]
     },
     "metadata": {},
     "output_type": "display_data"
    },
    {
     "data": {
      "image/png": "[encoded data removed]",
      "text/plain": [
       "<Figure size 640x480 with 1 Axes>"
      ]
     },
     "metadata": {},
     "output_type": "display_data"
    },
    {
     "data": {
      "image/png": "[encoded data removed]",
      "text/plain": [
       "<Figure size 640x480 with 1 Axes>"
      ]
     },
     "metadata": {},
     "output_type": "display_data"
    }
   ],
   "source": [
    "# Create scatter plot of CATE vs TBIRTH_YEAR\n",
    "plt.scatter(train['AGE'], CATE)\n",
    "plt.xlabel('AGE')\n",
    "plt.ylabel('CATE')\n",
    "plt.show()\n",
    "\n",
    "# Create scatter plot of CATE vs RECVDVACC\n",
    "plt.scatter(train['RECVDVACC'], CATE)\n",
    "plt.xlabel('RECVDVACC')\n",
    "plt.ylabel('CATE')\n",
    "plt.show()\n",
    "\n",
    "# Create scatter plot of CATE vs TSPNDFOOD\n",
    "plt.scatter(train['TSPNDFOOD'], CATE)\n",
    "plt.xlabel('TSPNDFOOD')\n",
    "plt.ylabel('CATE')\n",
    "plt.show()\n"
   ]
  },
  {
   "cell_type": "code",
   "execution_count": null,
   "metadata": {},
   "outputs": [],
   "source": []
  }
 ],
 "metadata": {
  "kernelspec": {
   "display_name": "base",
   "language": "python",
   "name": "python3"
  },
  "language_info": {
   "codemirror_mode": {
    "name": "ipython",
    "version": 3
   },
   "file_extension": ".py",
   "mimetype": "text/x-python",
   "name": "python",
   "nbconvert_exporter": "python",
   "pygments_lexer": "ipython3",
   "version": "3.8.13"
  },
  "orig_nbformat": 4
 },
 "nbformat": 4,
 "nbformat_minor": 2
}
