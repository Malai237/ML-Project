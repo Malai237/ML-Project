{
 "cells": [
  {
   "cell_type": "code",
   "execution_count": 1,
   "id": "7eee2b37",
   "metadata": {
    "scrolled": true
   },
   "outputs": [],
   "source": [
    "import numpy as np\n",
    "import pandas as pd\n",
    "import matplotlib.pyplot as plt"
   ]
  },
  {
   "cell_type": "code",
   "execution_count": 2,
   "id": "98077d88",
   "metadata": {},
   "outputs": [
    {
     "name": "stdout",
     "output_type": "stream",
     "text": [
      "Data set size:  61453\n"
     ]
    }
   ],
   "source": [
    "# load the data set in CSV format\n",
    "data = pd.read_csv(\"sample_data.csv\")\n",
    "print( 'Data set size: ', len( data ) )"
   ]
  },
  {
   "cell_type": "code",
   "execution_count": 3,
   "id": "bb0d675b",
   "metadata": {},
   "outputs": [
    {
     "data": {
      "text/html": [
       "<div>\n",
       "<style scoped>\n",
       "    .dataframe tbody tr th:only-of-type {\n",
       "        vertical-align: middle;\n",
       "    }\n",
       "\n",
       "    .dataframe tbody tr th {\n",
       "        vertical-align: top;\n",
       "    }\n",
       "\n",
       "    .dataframe thead th {\n",
       "        text-align: right;\n",
       "    }\n",
       "</style>\n",
       "<table border=\"1\" class=\"dataframe\">\n",
       "  <thead>\n",
       "    <tr style=\"text-align: right;\">\n",
       "      <th></th>\n",
       "      <th>TBIRTH_YEAR</th>\n",
       "      <th>RHISPANIC</th>\n",
       "      <th>RRACE</th>\n",
       "      <th>EEDUC</th>\n",
       "      <th>MS</th>\n",
       "      <th>EGENID_BIRTH</th>\n",
       "      <th>THHLD_NUMPER</th>\n",
       "      <th>THHLD_NUMKID</th>\n",
       "      <th>THHLD_NUMADLT</th>\n",
       "      <th>KIDS_LT5Y</th>\n",
       "      <th>...</th>\n",
       "      <th>CURFOODSUF</th>\n",
       "      <th>CHILDFOOD</th>\n",
       "      <th>TENURE</th>\n",
       "      <th>ENERGY</th>\n",
       "      <th>INCOME</th>\n",
       "      <th>EST_ST</th>\n",
       "      <th>EST_MSA</th>\n",
       "      <th>PRIVHLTH</th>\n",
       "      <th>PUBHLTH</th>\n",
       "      <th>REGION</th>\n",
       "    </tr>\n",
       "  </thead>\n",
       "  <tbody>\n",
       "    <tr>\n",
       "      <th>0</th>\n",
       "      <td>1973</td>\n",
       "      <td>1</td>\n",
       "      <td>1</td>\n",
       "      <td>7</td>\n",
       "      <td>1</td>\n",
       "      <td>1</td>\n",
       "      <td>4</td>\n",
       "      <td>0</td>\n",
       "      <td>4</td>\n",
       "      <td>-88</td>\n",
       "      <td>...</td>\n",
       "      <td>2</td>\n",
       "      <td>-88</td>\n",
       "      <td>2</td>\n",
       "      <td>1</td>\n",
       "      <td>6</td>\n",
       "      <td>34</td>\n",
       "      <td>35620.0</td>\n",
       "      <td>1</td>\n",
       "      <td>2</td>\n",
       "      <td>1</td>\n",
       "    </tr>\n",
       "    <tr>\n",
       "      <th>1</th>\n",
       "      <td>1945</td>\n",
       "      <td>1</td>\n",
       "      <td>1</td>\n",
       "      <td>6</td>\n",
       "      <td>3</td>\n",
       "      <td>2</td>\n",
       "      <td>1</td>\n",
       "      <td>0</td>\n",
       "      <td>1</td>\n",
       "      <td>-88</td>\n",
       "      <td>...</td>\n",
       "      <td>1</td>\n",
       "      <td>-88</td>\n",
       "      <td>2</td>\n",
       "      <td>3</td>\n",
       "      <td>2</td>\n",
       "      <td>8</td>\n",
       "      <td>NaN</td>\n",
       "      <td>1</td>\n",
       "      <td>1</td>\n",
       "      <td>4</td>\n",
       "    </tr>\n",
       "    <tr>\n",
       "      <th>2</th>\n",
       "      <td>1975</td>\n",
       "      <td>1</td>\n",
       "      <td>1</td>\n",
       "      <td>7</td>\n",
       "      <td>1</td>\n",
       "      <td>2</td>\n",
       "      <td>5</td>\n",
       "      <td>3</td>\n",
       "      <td>2</td>\n",
       "      <td>-99</td>\n",
       "      <td>...</td>\n",
       "      <td>1</td>\n",
       "      <td>-88</td>\n",
       "      <td>2</td>\n",
       "      <td>4</td>\n",
       "      <td>8</td>\n",
       "      <td>51</td>\n",
       "      <td>47900.0</td>\n",
       "      <td>1</td>\n",
       "      <td>2</td>\n",
       "      <td>2</td>\n",
       "    </tr>\n",
       "    <tr>\n",
       "      <th>3</th>\n",
       "      <td>1986</td>\n",
       "      <td>1</td>\n",
       "      <td>1</td>\n",
       "      <td>7</td>\n",
       "      <td>1</td>\n",
       "      <td>2</td>\n",
       "      <td>3</td>\n",
       "      <td>1</td>\n",
       "      <td>2</td>\n",
       "      <td>1</td>\n",
       "      <td>...</td>\n",
       "      <td>1</td>\n",
       "      <td>-88</td>\n",
       "      <td>1</td>\n",
       "      <td>4</td>\n",
       "      <td>6</td>\n",
       "      <td>20</td>\n",
       "      <td>NaN</td>\n",
       "      <td>1</td>\n",
       "      <td>2</td>\n",
       "      <td>3</td>\n",
       "    </tr>\n",
       "    <tr>\n",
       "      <th>4</th>\n",
       "      <td>1948</td>\n",
       "      <td>1</td>\n",
       "      <td>1</td>\n",
       "      <td>5</td>\n",
       "      <td>1</td>\n",
       "      <td>1</td>\n",
       "      <td>2</td>\n",
       "      <td>0</td>\n",
       "      <td>2</td>\n",
       "      <td>-88</td>\n",
       "      <td>...</td>\n",
       "      <td>2</td>\n",
       "      <td>-88</td>\n",
       "      <td>1</td>\n",
       "      <td>4</td>\n",
       "      <td>5</td>\n",
       "      <td>1</td>\n",
       "      <td>NaN</td>\n",
       "      <td>1</td>\n",
       "      <td>1</td>\n",
       "      <td>2</td>\n",
       "    </tr>\n",
       "  </tbody>\n",
       "</table>\n",
       "<p>5 rows × 33 columns</p>\n",
       "</div>"
      ],
      "text/plain": [
       "   TBIRTH_YEAR  RHISPANIC  RRACE  EEDUC  MS  EGENID_BIRTH  THHLD_NUMPER  \\\n",
       "0         1973          1      1      7   1             1             4   \n",
       "1         1945          1      1      6   3             2             1   \n",
       "2         1975          1      1      7   1             2             5   \n",
       "3         1986          1      1      7   1             2             3   \n",
       "4         1948          1      1      5   1             1             2   \n",
       "\n",
       "   THHLD_NUMKID  THHLD_NUMADLT  KIDS_LT5Y  ...  CURFOODSUF  CHILDFOOD  TENURE  \\\n",
       "0             0              4        -88  ...           2        -88       2   \n",
       "1             0              1        -88  ...           1        -88       2   \n",
       "2             3              2        -99  ...           1        -88       2   \n",
       "3             1              2          1  ...           1        -88       1   \n",
       "4             0              2        -88  ...           2        -88       1   \n",
       "\n",
       "   ENERGY  INCOME  EST_ST  EST_MSA  PRIVHLTH  PUBHLTH  REGION  \n",
       "0       1       6      34  35620.0         1        2       1  \n",
       "1       3       2       8      NaN         1        1       4  \n",
       "2       4       8      51  47900.0         1        2       2  \n",
       "3       4       6      20      NaN         1        2       3  \n",
       "4       4       5       1      NaN         1        1       2  \n",
       "\n",
       "[5 rows x 33 columns]"
      ]
     },
     "execution_count": 3,
     "metadata": {},
     "output_type": "execute_result"
    }
   ],
   "source": [
    "# Take a quick look at the data\n",
    "data.head()"
   ]
  },
  {
   "cell_type": "code",
   "execution_count": 21,
   "id": "af2efd74",
   "metadata": {},
   "outputs": [
    {
     "name": "stdout",
     "output_type": "stream",
     "text": [
      "[0.31406115 0.11878997 0.09600833 0.14645339 0.20991652 0.27012514\n",
      " 0.37426977 0.38240607 0.59069533 0.63463134 0.68670366 0.80712089\n",
      " 1.08700958 1.29692611 1.39944348 1.51986071 1.65492327 1.78022228\n",
      " 1.92504841 1.94783005 2.05034742 2.0959107  2.18378273 2.08451988\n",
      " 2.04058386 1.98688429 2.09428344 2.00478414 1.98525703 1.91365759\n",
      " 1.7753405  1.75744065 1.69072299 1.71513189 1.78510406 1.75418613\n",
      " 1.89413047 1.77045872 1.72652271 1.58169658 1.62725986 1.6012237\n",
      " 1.67119587 1.78673132 1.78184954 1.86646706 1.89901225 1.75418613\n",
      " 1.95596635 1.94132101 1.8729761  1.7997494  1.86972158 1.77859502\n",
      " 1.66305957 1.72814997 1.67770491 1.61424178 1.64515972 1.47267017\n",
      " 1.42710689 1.3782891  1.28228077 1.19278148 1.02191919 0.88685662\n",
      " 0.77132117 0.57116821 0.48817796 0.83966609]\n",
      "\n",
      "\n",
      "[1934 1935 1936 1937 1938 1939 1940 1941 1942 1943 1944 1945 1946 1947\n",
      " 1948 1949 1950 1951 1952 1953 1954 1955 1956 1957 1958 1959 1960 1961\n",
      " 1962 1963 1964 1965 1966 1967 1968 1969 1970 1971 1972 1973 1974 1975\n",
      " 1976 1977 1978 1979 1980 1981 1982 1983 1984 1985 1986 1987 1988 1989\n",
      " 1990 1991 1992 1993 1994 1995 1996 1997 1998 1999 2000 2001 2002 2003\n",
      " 2004]\n"
     ]
    },
    {
     "data": {
      "image/png": "[encoded data removed]",
      "text/plain": [
       "<Figure size 576x432 with 1 Axes>"
      ]
     },
     "metadata": {
      "needs_background": "light"
     },
     "output_type": "display_data"
    }
   ],
   "source": [
    "# distribution of an attribute/feature/variable/...\n",
    "cIdx = 0\n",
    "cName = data.columns[cIdx]\n",
    "c = data[cName]\n",
    "\n",
    "plt.figure(figsize=(8,6))\n",
    "\n",
    "histCount, histBins, temp = plt.hist(c, bins=range(min(c), max(c)+1), weights=np.ones(len(c)) / len(c)*100, alpha=1, rwidth=0.85)\n",
    "# histCount, histBins, temp = plt.hist(c, bins=20, weights=np.ones(len(c)) / len(c)*100, alpha=1, rwidth=0.85)\n",
    "\n",
    "plt.xlabel(\"%s\"%(cName), size=12)\n",
    "plt.ylabel(\"Percentage\", size=12)\n",
    "\n",
    "print( histCount )\n",
    "print( \"\\n\" );\n",
    "print( histBins )"
   ]
  },
  {
   "cell_type": "code",
   "execution_count": 50,
   "id": "3a98af20-df12-4f82-b9b2-fe2933c4ea08",
   "metadata": {},
   "outputs": [
    {
     "name": "stdout",
     "output_type": "stream",
     "text": [
      "1 52903\n",
      "2 8076\n",
      "-99 474\n"
     ]
    }
   ],
   "source": [
    "# Check COVID-19 vaccine status\n",
    "# 1: Yes; 2: No; -99: Question seen but category not selected\n",
    "c = data['RECVDVACC']\n",
    "temp = c.value_counts()\n",
    "for k in range(len(temp)):\n",
    "    print( temp.index[k], temp.iloc[k] )"
   ]
  },
  {
   "cell_type": "code",
   "execution_count": 51,
   "id": "9ff56afb-6549-4934-a3b0-b114a5a0eeaa",
   "metadata": {},
   "outputs": [
    {
     "name": "stdout",
     "output_type": "stream",
     "text": [
      "Number of TBIRTH_YEAR < 1970:  29596\n",
      "Probability of TBIRTH_YEAR < 1970:  0.481603827315184\n"
     ]
    }
   ],
   "source": [
    "# Count the number of rows with TBIRTH_YEAR < 1970\n",
    "a = sum( data['TBIRTH_YEAR'] < 1970 )\n",
    "print( 'Number of TBIRTH_YEAR < 1970: ', a );\n",
    "\n",
    "# Estimate the probability of TBIRTH_YEAR < 1970\n",
    "p = a / len( data )\n",
    "print( 'Probability of TBIRTH_YEAR < 1970: ', p );"
   ]
  },
  {
   "cell_type": "code",
   "execution_count": 53,
   "id": "5e2a103c-53e1-4d14-a119-6a5aadaa3723",
   "metadata": {},
   "outputs": [
    {
     "name": "stdout",
     "output_type": "stream",
     "text": [
      "Number of (TBIRTH_YEAR < 1970) && (EEDUC == 5):  3182\n",
      "Joint Probability of (TBIRTH_YEAR < 1970) && (EEDUC == 5):  0.05177940865376792\n"
     ]
    }
   ],
   "source": [
    "# Count the number of rows with TBIRTH_YEAR < 1970 and EEDUC == 5\n",
    "a = sum( ( data['TBIRTH_YEAR'] < 1970 ) & (data['EEDUC'] == 5) )\n",
    "print( 'Number of (TBIRTH_YEAR < 1970) && (EEDUC == 5): ', a );\n",
    "\n",
    "# Estimate the probability of TBIRTH_YEAR < 1970\n",
    "p = a / len( data )\n",
    "print( 'Joint Probability of (TBIRTH_YEAR < 1970) && (EEDUC == 5): ', p );"
   ]
  },
  {
   "cell_type": "code",
   "execution_count": null,
   "id": "25e0f655-dd9c-4ec2-9f2a-67d3ba17d6a6",
   "metadata": {},
   "outputs": [],
   "source": []
  }
 ],
 "metadata": {
  "kernelspec": {
   "display_name": "Python 3 (ipykernel)",
   "language": "python",
   "name": "python3"
  },
  "language_info": {
   "codemirror_mode": {
    "name": "ipython",
    "version": 3
   },
   "file_extension": ".py",
   "mimetype": "text/x-python",
   "name": "python",
   "nbconvert_exporter": "python",
   "pygments_lexer": "ipython3",
   "version": "3.8.13"
  }
 },
 "nbformat": 4,
 "nbformat_minor": 5
}
