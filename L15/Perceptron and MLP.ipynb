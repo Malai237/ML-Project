{
 "cells": [
  {
   "cell_type": "markdown",
   "id": "czech-moisture",
   "metadata": {},
   "source": [
    "# Perceptron and Multilayer Perceptron\n",
    "\n",
    "COSI/ECON-148B-1 : Introduction to Machine Learning with Economic Applications\n",
    "\n",
    "Prepared by Pengyu Hong and Zizhang Chen"
   ]
  },
  {
   "cell_type": "markdown",
   "id": "viral-tulsa",
   "metadata": {},
   "source": [
    "### 0. Load datasets"
   ]
  },
  {
   "cell_type": "code",
   "execution_count": null,
   "id": "muslim-musician",
   "metadata": {},
   "outputs": [],
   "source": [
    "import pandas as pd\n",
    "import matplotlib.pyplot as plt\n",
    "from matplotlib.colors import ListedColormap\n",
    "import numpy as np\n",
    "\n",
    "data_train = pd.read_csv(\"Training.csv\")\n",
    "data_test = pd.read_csv(\"Test.csv\")\n",
    "\n",
    "X_train = data_train.loc[:, ['Feature1', 'Feature2']]\n",
    "Y_train = data_train.loc[:, 'Label']\n",
    "X_test = data_test.loc[:, ['Feature1', 'Feature2']]\n",
    "Y_test = data_test.loc[:, 'Label']\n",
    "\n",
    "colors = ['r', 'g']\n",
    "X1, X2 = np.meshgrid(np.arange(start = X_train['Feature1'].min()-1, stop= X_train['Feature1'].max()+1, step = 0.01), np.arange(start = X_train['Feature2'].min()-1, stop= X_train['Feature2'].max()+1, step = 0.01))\n",
    "plt.xlim(X1.min(), X1.max())\n",
    "plt.ylim(X2.min(), X2.max())\n",
    "for i,j in enumerate(np.unique(Y_test)):\n",
    "    plt.scatter(X_test['Feature1'][Y_test==j], X_test['Feature2'][Y_test==j], color=colors[i], label = j)\n",
    "plt.title(\"Training data\")\n",
    "plt.xlabel(\"Feature 1\")\n",
    "plt.ylabel(\"Feature 2\")\n",
    "plt.legend()\n",
    "plt.show()"
   ]
  },
  {
   "cell_type": "markdown",
   "id": "sufficient-rendering",
   "metadata": {},
   "source": [
    "### 1. Perceptron"
   ]
  },
  {
   "cell_type": "code",
   "execution_count": null,
   "id": "economic-membership",
   "metadata": {},
   "outputs": [],
   "source": [
    "from sklearn.linear_model import Perceptron\n",
    "import time\n",
    "\n",
    "# create a Perceptron model, use the current time stamp to initialize the random state\n",
    "aPerceptron = Perceptron( random_state=int(time.time()) )\n",
    "\n",
    "# train the Percepton model\n",
    "aPerceptron.fit(X_train, Y_train)\n",
    "\n",
    "score_train = aPerceptron.score(X_train, Y_train)\n",
    "score_test = aPerceptron.score(X_test, Y_test)\n",
    "print( 'Training score =', score_train, '; Test score =', score_test )\n",
    "\n",
    "# visualize the deicsion boundary of the trained Percepton on the test data\n",
    "colors = ['r', 'g']\n",
    "X1, X2 = np.meshgrid(np.arange(start = X_test['Feature1'].min()-1, stop= X_test['Feature1'].max()+1, step = 0.01), np.arange(start = X_test['Feature2'].min()-1, stop= X_test['Feature2'].max()+1, step = 0.01))\n",
    "plt.contourf(X1, X2, aPerceptron.predict(np.array([X1.ravel(), X2.ravel()]).T).reshape(X1.shape), alpha=0.75, cmap = ListedColormap(colors) )\n",
    "plt.xlim(X1.min(), X1.max())\n",
    "plt.ylim(X2.min(), X2.max())\n",
    "for i,j in enumerate(np.unique(Y_test)):\n",
    "    plt.scatter(X_test['Feature1'][Y_test==j], X_test['Feature2'][Y_test==j], color=colors[i], label = j)\n",
    "plt.title(\"Perceptron Decision Boundary (Test set)\")\n",
    "plt.xlabel(\"Feature 1\")\n",
    "plt.ylabel(\"Feature 2\")\n",
    "plt.legend()\n",
    "plt.show()"
   ]
  },
  {
   "cell_type": "code",
   "execution_count": null,
   "id": "proprietary-librarian",
   "metadata": {},
   "outputs": [],
   "source": [
    "# Check the parameters of the trained Perceptron model\n",
    "print( aPerceptron.coef_ )\n",
    "print( aPerceptron.intercept_ )"
   ]
  },
  {
   "cell_type": "markdown",
   "id": "downtown-textbook",
   "metadata": {},
   "source": [
    "### 2. Multilayer Perceptron (MLP)"
   ]
  },
  {
   "cell_type": "code",
   "execution_count": null,
   "id": "hired-tours",
   "metadata": {},
   "outputs": [],
   "source": [
    "# import libraries and initialize the random seed\n",
    "from sklearn.neural_network import MLPClassifier\n",
    "from sklearn.model_selection import train_test_split\n",
    "from sklearn.metrics import classification_report"
   ]
  },
  {
   "cell_type": "code",
   "execution_count": null,
   "id": "embedded-sigma",
   "metadata": {},
   "outputs": [],
   "source": [
    "# import libraries and initialize the random seed\n",
    "from sklearn.neural_network import MLPClassifier\n",
    "\n",
    "# create a Perceptron model, use the current time stamp to initialize the random state\n",
    "aMLP = MLPClassifier(hidden_layer_sizes=(3), random_state=int(time.time()), max_iter=1000)\n",
    "\n",
    "aMLP.fit(X_train, Y_train)\n",
    "\n",
    "score_train = aMLP.score(X_train, Y_train)\n",
    "score_test = aMLP.score(X_test, Y_test)\n",
    "print( 'Training score =', score_train, '; Test score =', score_test )\n",
    "\n",
    "# visualize the deicsion boundary of the trained Percepton on the test data\n",
    "colors = ['r', 'g']\n",
    "X1, X2 = np.meshgrid(np.arange(start = X_test['Feature1'].min()-1, stop= X_test['Feature1'].max()+1, step = 0.01), np.arange(start = X_test['Feature2'].min()-1, stop= X_test['Feature2'].max()+1, step = 0.01))\n",
    "plt.contourf(X1, X2, aMLP.predict(np.array([X1.ravel(), X2.ravel()]).T).reshape(X1.shape), alpha=0.75, cmap = ListedColormap(colors) )\n",
    "plt.xlim(X1.min(), X1.max())\n",
    "plt.ylim(X2.min(), X2.max())\n",
    "for i,j in enumerate(np.unique(Y_test)):\n",
    "    plt.scatter(X_test['Feature1'][Y_test==j], X_test['Feature2'][Y_test==j], color=colors[i], label = j)\n",
    "plt.title(\"MLP Decision Boundary (Test set)\")\n",
    "plt.xlabel(\"Feature 1\")\n",
    "plt.ylabel(\"Feature 2\")\n",
    "plt.legend()\n",
    "plt.show()"
   ]
  },
  {
   "cell_type": "code",
   "execution_count": null,
   "id": "close-florence",
   "metadata": {},
   "outputs": [],
   "source": [
    "# Check the parameters of the MLP model\n",
    "print( 'First layer parameters')\n",
    "print( aMLP.coefs_[0] )\n",
    "print( aMLP.intercepts_[0] )\n",
    "\n",
    "print( '\\n' )\n",
    "\n",
    "print( 'Second layer parameters')\n",
    "print( aMLP.coefs_[1] )\n",
    "print( aMLP.intercepts_[1] )"
   ]
  },
  {
   "cell_type": "markdown",
   "id": "electoral-canadian",
   "metadata": {},
   "source": [
    "#### 3. A too for visulizing a MLP"
   ]
  },
  {
   "cell_type": "markdown",
   "id": "sealed-mercy",
   "metadata": {},
   "source": [
    "[Visulization of MLP_sklearn](https://alexlenail.me/NN-SVG/)\n"
   ]
  }
 ],
 "metadata": {
  "kernelspec": {
   "display_name": "Python 3",
   "language": "python",
   "name": "python3"
  },
  "language_info": {
   "codemirror_mode": {
    "name": "ipython",
    "version": 3
   },
   "file_extension": ".py",
   "mimetype": "text/x-python",
   "name": "python",
   "nbconvert_exporter": "python",
   "pygments_lexer": "ipython3",
   "version": "3.9.0"
  }
 },
 "nbformat": 4,
 "nbformat_minor": 5
}
