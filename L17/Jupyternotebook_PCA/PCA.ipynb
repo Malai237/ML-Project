{
 "cells": [
  {
   "cell_type": "code",
   "execution_count": null,
   "id": "e7c1705b",
   "metadata": {},
   "outputs": [],
   "source": [
    "clear()"
   ]
  },
  {
   "cell_type": "code",
   "execution_count": 2,
   "id": "e6f039e1",
   "metadata": {},
   "outputs": [],
   "source": [
    "import numpy as np\n",
    "import pandas as pd\n",
    "import matplotlib.pyplot as plt\n",
    "from sklearn.decomposition import PCA\n",
    "from sklearn.preprocessing import StandardScaler\n"
   ]
  },
  {
   "cell_type": "markdown",
   "id": "35ad9a22-953e-4c37-98af-b7e1e1fe8b4f",
   "metadata": {},
   "source": [
    "# US crime data"
   ]
  },
  {
   "cell_type": "code",
   "execution_count": 40,
   "id": "1a44aead",
   "metadata": {},
   "outputs": [],
   "source": [
    "USArrests = pd.read_csv('USArrests.csv')"
   ]
  },
  {
   "cell_type": "markdown",
   "id": "7f074b2e-9fd6-4bc3-ad36-380fa33774f7",
   "metadata": {},
   "source": [
    "For each of the fifty states in the United States, the data set contains \n",
    "- the number of arrests per 100, 000 residents for each of three crimes: Assault, Murder, and Rape. \n",
    "- UrbanPop (the percent of the population in each state living in urban areas)."
   ]
  },
  {
   "cell_type": "code",
   "execution_count": 41,
   "id": "6671ea10",
   "metadata": {},
   "outputs": [
    {
     "data": {
      "text/plain": [
       "Index(['States', 'Murder', 'Assault', 'UrbanPop', 'Rape'], dtype='object')"
      ]
     },
     "execution_count": 41,
     "metadata": {},
     "output_type": "execute_result"
    }
   ],
   "source": [
    "USArrests.columns"
   ]
  },
  {
   "cell_type": "code",
   "execution_count": 42,
   "id": "7e0d9847",
   "metadata": {},
   "outputs": [
    {
     "data": {
      "text/html": [
       "<div>\n",
       "<style scoped>\n",
       "    .dataframe tbody tr th:only-of-type {\n",
       "        vertical-align: middle;\n",
       "    }\n",
       "\n",
       "    .dataframe tbody tr th {\n",
       "        vertical-align: top;\n",
       "    }\n",
       "\n",
       "    .dataframe thead th {\n",
       "        text-align: right;\n",
       "    }\n",
       "</style>\n",
       "<table border=\"1\" class=\"dataframe\">\n",
       "  <thead>\n",
       "    <tr style=\"text-align: right;\">\n",
       "      <th></th>\n",
       "      <th>Murder</th>\n",
       "      <th>Assault</th>\n",
       "      <th>UrbanPop</th>\n",
       "      <th>Rape</th>\n",
       "    </tr>\n",
       "  </thead>\n",
       "  <tbody>\n",
       "    <tr>\n",
       "      <th>count</th>\n",
       "      <td>50.00000</td>\n",
       "      <td>50.000000</td>\n",
       "      <td>50.000000</td>\n",
       "      <td>50.000000</td>\n",
       "    </tr>\n",
       "    <tr>\n",
       "      <th>mean</th>\n",
       "      <td>7.78800</td>\n",
       "      <td>170.760000</td>\n",
       "      <td>65.540000</td>\n",
       "      <td>21.232000</td>\n",
       "    </tr>\n",
       "    <tr>\n",
       "      <th>std</th>\n",
       "      <td>4.35551</td>\n",
       "      <td>83.337661</td>\n",
       "      <td>14.474763</td>\n",
       "      <td>9.366385</td>\n",
       "    </tr>\n",
       "    <tr>\n",
       "      <th>min</th>\n",
       "      <td>0.80000</td>\n",
       "      <td>45.000000</td>\n",
       "      <td>32.000000</td>\n",
       "      <td>7.300000</td>\n",
       "    </tr>\n",
       "    <tr>\n",
       "      <th>25%</th>\n",
       "      <td>4.07500</td>\n",
       "      <td>109.000000</td>\n",
       "      <td>54.500000</td>\n",
       "      <td>15.075000</td>\n",
       "    </tr>\n",
       "    <tr>\n",
       "      <th>50%</th>\n",
       "      <td>7.25000</td>\n",
       "      <td>159.000000</td>\n",
       "      <td>66.000000</td>\n",
       "      <td>20.100000</td>\n",
       "    </tr>\n",
       "    <tr>\n",
       "      <th>75%</th>\n",
       "      <td>11.25000</td>\n",
       "      <td>249.000000</td>\n",
       "      <td>77.750000</td>\n",
       "      <td>26.175000</td>\n",
       "    </tr>\n",
       "    <tr>\n",
       "      <th>max</th>\n",
       "      <td>17.40000</td>\n",
       "      <td>337.000000</td>\n",
       "      <td>91.000000</td>\n",
       "      <td>46.000000</td>\n",
       "    </tr>\n",
       "  </tbody>\n",
       "</table>\n",
       "</div>"
      ],
      "text/plain": [
       "         Murder     Assault   UrbanPop       Rape\n",
       "count  50.00000   50.000000  50.000000  50.000000\n",
       "mean    7.78800  170.760000  65.540000  21.232000\n",
       "std     4.35551   83.337661  14.474763   9.366385\n",
       "min     0.80000   45.000000  32.000000   7.300000\n",
       "25%     4.07500  109.000000  54.500000  15.075000\n",
       "50%     7.25000  159.000000  66.000000  20.100000\n",
       "75%    11.25000  249.000000  77.750000  26.175000\n",
       "max    17.40000  337.000000  91.000000  46.000000"
      ]
     },
     "execution_count": 42,
     "metadata": {},
     "output_type": "execute_result"
    }
   ],
   "source": [
    "USArrests.describe()"
   ]
  },
  {
   "cell_type": "code",
   "execution_count": 43,
   "id": "3233e26f",
   "metadata": {},
   "outputs": [],
   "source": [
    "# we often standardize the data\n",
    "\n",
    "scaler = StandardScaler(with_std=True,\n",
    "                        with_mean=True)\n",
    "USArrests_scaled = scaler.fit_transform(USArrests.iloc[:,1:5])"
   ]
  },
  {
   "cell_type": "code",
   "execution_count": 44,
   "id": "dc7af552",
   "metadata": {},
   "outputs": [
    {
     "data": {
      "text/plain": [
       "array([[ 1.25517927,  0.79078716, -0.52619514, -0.00345116],\n",
       "       [ 0.51301858,  1.11805959, -1.22406668,  2.50942392],\n",
       "       [ 0.07236067,  1.49381682,  1.00912225,  1.05346626],\n",
       "       [ 0.23470832,  0.23321191, -1.08449238, -0.18679398],\n",
       "       [ 0.28109336,  1.2756352 ,  1.77678094,  2.08881393],\n",
       "       [ 0.02597562,  0.40290872,  0.86954794,  1.88390137],\n",
       "       [-1.04088037, -0.73648418,  0.79976079, -1.09272319],\n",
       "       [-0.43787481,  0.81502956,  0.45082502, -0.58583422],\n",
       "       [ 1.76541475,  1.99078607,  1.00912225,  1.1505301 ],\n",
       "       [ 2.22926518,  0.48775713, -0.38662083,  0.49265293],\n",
       "       [-0.57702994, -1.51224105,  1.21848371, -0.11129987],\n",
       "       [-1.20322802, -0.61527217, -0.80534376, -0.75839217],\n",
       "       [ 0.60578867,  0.94836277,  1.21848371,  0.29852525],\n",
       "       [-0.13637203, -0.70012057, -0.03768506, -0.0250209 ],\n",
       "       [-1.29599811, -1.39102904, -0.5959823 , -1.07115345],\n",
       "       [-0.41468229, -0.67587817,  0.03210209, -0.34856705],\n",
       "       [ 0.44344101, -0.74860538, -0.94491807, -0.53190987],\n",
       "       [ 1.76541475,  0.94836277,  0.03210209,  0.10439756],\n",
       "       [-1.31919063, -1.06375661, -1.01470522, -1.44862395],\n",
       "       [ 0.81452136,  1.56654403,  0.10188925,  0.70835037],\n",
       "       [-0.78576263, -0.26375734,  1.35805802, -0.53190987],\n",
       "       [ 1.00006153,  1.02108998,  0.59039932,  1.49564599],\n",
       "       [-1.1800355 , -1.19708982,  0.03210209, -0.68289807],\n",
       "       [ 1.9277624 ,  1.06957478, -1.5032153 , -0.44563089],\n",
       "       [ 0.28109336,  0.0877575 ,  0.31125071,  0.75148985],\n",
       "       [-0.41468229, -0.74860538, -0.87513091, -0.521125  ],\n",
       "       [-0.80895515, -0.83345379, -0.24704653, -0.51034012],\n",
       "       [ 1.02325405,  0.98472638,  1.0789094 ,  2.671197  ],\n",
       "       [-1.31919063, -1.37890783, -0.66576945, -1.26528114],\n",
       "       [-0.08998698, -0.14254532,  1.63720664, -0.26228808],\n",
       "       [ 0.83771388,  1.38472601,  0.31125071,  1.17209984],\n",
       "       [ 0.76813632,  1.00896878,  1.42784517,  0.52500755],\n",
       "       [ 1.20879423,  2.01502847, -1.43342815, -0.55347961],\n",
       "       [-1.62069341, -1.52436225, -1.5032153 , -1.50254831],\n",
       "       [-0.11317951, -0.61527217,  0.66018648,  0.01811858],\n",
       "       [-0.27552716, -0.23951493,  0.1716764 , -0.13286962],\n",
       "       [-0.66980002, -0.14254532,  0.10188925,  0.87012344],\n",
       "       [-0.34510472, -0.78496898,  0.45082502, -0.68289807],\n",
       "       [-1.01768785,  0.03927269,  1.49763233, -1.39469959],\n",
       "       [ 1.53348953,  1.3119988 , -1.22406668,  0.13675217],\n",
       "       [-0.92491776, -1.027393  , -1.43342815, -0.90938037],\n",
       "       [ 1.25517927,  0.20896951, -0.45640799,  0.61128652],\n",
       "       [ 1.13921666,  0.36654512,  1.00912225,  0.46029832],\n",
       "       [-1.06407289, -0.61527217,  1.00912225,  0.17989166],\n",
       "       [-1.29599811, -1.48799864, -2.34066115, -1.08193832],\n",
       "       [ 0.16513075, -0.17890893, -0.17725937, -0.05737552],\n",
       "       [-0.87853272, -0.31224214,  0.52061217,  0.53579242],\n",
       "       [-0.48425985, -1.08799901, -1.85215107, -1.28685088],\n",
       "       [-1.20322802, -1.42739264,  0.03210209, -1.1250778 ],\n",
       "       [-0.22914211, -0.11830292, -0.38662083, -0.60740397]])"
      ]
     },
     "execution_count": 44,
     "metadata": {},
     "output_type": "execute_result"
    }
   ],
   "source": [
    "USArrests_scaled"
   ]
  },
  {
   "cell_type": "markdown",
   "id": "bd25e45f-667d-427d-9dd4-dabe0bacd91b",
   "metadata": {},
   "source": [
    "##### PCA for USArrests data"
   ]
  },
  {
   "cell_type": "code",
   "execution_count": 45,
   "id": "109df8b2",
   "metadata": {},
   "outputs": [],
   "source": [
    "pcaUS = PCA()"
   ]
  },
  {
   "cell_type": "code",
   "execution_count": 46,
   "id": "1fc81177",
   "metadata": {},
   "outputs": [
    {
     "data": {
      "text/html": [
       "<style>#sk-container-id-3 {color: black;background-color: white;}#sk-container-id-3 pre{padding: 0;}#sk-container-id-3 div.sk-toggleable {background-color: white;}#sk-container-id-3 label.sk-toggleable__label {cursor: pointer;display: block;width: 100%;margin-bottom: 0;padding: 0.3em;box-sizing: border-box;text-align: center;}#sk-container-id-3 label.sk-toggleable__label-arrow:before {content: \"▸\";float: left;margin-right: 0.25em;color: #696969;}#sk-container-id-3 label.sk-toggleable__label-arrow:hover:before {color: black;}#sk-container-id-3 div.sk-estimator:hover label.sk-toggleable__label-arrow:before {color: black;}#sk-container-id-3 div.sk-toggleable__content {max-height: 0;max-width: 0;overflow: hidden;text-align: left;background-color: #f0f8ff;}#sk-container-id-3 div.sk-toggleable__content pre {margin: 0.2em;color: black;border-radius: 0.25em;background-color: #f0f8ff;}#sk-container-id-3 input.sk-toggleable__control:checked~div.sk-toggleable__content {max-height: 200px;max-width: 100%;overflow: auto;}#sk-container-id-3 input.sk-toggleable__control:checked~label.sk-toggleable__label-arrow:before {content: \"▾\";}#sk-container-id-3 div.sk-estimator input.sk-toggleable__control:checked~label.sk-toggleable__label {background-color: #d4ebff;}#sk-container-id-3 div.sk-label input.sk-toggleable__control:checked~label.sk-toggleable__label {background-color: #d4ebff;}#sk-container-id-3 input.sk-hidden--visually {border: 0;clip: rect(1px 1px 1px 1px);clip: rect(1px, 1px, 1px, 1px);height: 1px;margin: -1px;overflow: hidden;padding: 0;position: absolute;width: 1px;}#sk-container-id-3 div.sk-estimator {font-family: monospace;background-color: #f0f8ff;border: 1px dotted black;border-radius: 0.25em;box-sizing: border-box;margin-bottom: 0.5em;}#sk-container-id-3 div.sk-estimator:hover {background-color: #d4ebff;}#sk-container-id-3 div.sk-parallel-item::after {content: \"\";width: 100%;border-bottom: 1px solid gray;flex-grow: 1;}#sk-container-id-3 div.sk-label:hover label.sk-toggleable__label {background-color: #d4ebff;}#sk-container-id-3 div.sk-serial::before {content: \"\";position: absolute;border-left: 1px solid gray;box-sizing: border-box;top: 0;bottom: 0;left: 50%;z-index: 0;}#sk-container-id-3 div.sk-serial {display: flex;flex-direction: column;align-items: center;background-color: white;padding-right: 0.2em;padding-left: 0.2em;position: relative;}#sk-container-id-3 div.sk-item {position: relative;z-index: 1;}#sk-container-id-3 div.sk-parallel {display: flex;align-items: stretch;justify-content: center;background-color: white;position: relative;}#sk-container-id-3 div.sk-item::before, #sk-container-id-3 div.sk-parallel-item::before {content: \"\";position: absolute;border-left: 1px solid gray;box-sizing: border-box;top: 0;bottom: 0;left: 50%;z-index: -1;}#sk-container-id-3 div.sk-parallel-item {display: flex;flex-direction: column;z-index: 1;position: relative;background-color: white;}#sk-container-id-3 div.sk-parallel-item:first-child::after {align-self: flex-end;width: 50%;}#sk-container-id-3 div.sk-parallel-item:last-child::after {align-self: flex-start;width: 50%;}#sk-container-id-3 div.sk-parallel-item:only-child::after {width: 0;}#sk-container-id-3 div.sk-dashed-wrapped {border: 1px dashed gray;margin: 0 0.4em 0.5em 0.4em;box-sizing: border-box;padding-bottom: 0.4em;background-color: white;}#sk-container-id-3 div.sk-label label {font-family: monospace;font-weight: bold;display: inline-block;line-height: 1.2em;}#sk-container-id-3 div.sk-label-container {text-align: center;}#sk-container-id-3 div.sk-container {/* jupyter's `normalize.less` sets `[hidden] { display: none; }` but bootstrap.min.css set `[hidden] { display: none !important; }` so we also need the `!important` here to be able to override the default hidden behavior on the sphinx rendered scikit-learn.org. See: https://github.com/scikit-learn/scikit-learn/issues/21755 */display: inline-block !important;position: relative;}#sk-container-id-3 div.sk-text-repr-fallback {display: none;}</style><div id=\"sk-container-id-3\" class=\"sk-top-container\"><div class=\"sk-text-repr-fallback\"><pre>PCA()</pre><b>In a Jupyter environment, please rerun this cell to show the HTML representation or trust the notebook. <br />On GitHub, the HTML representation is unable to render, please try loading this page with nbviewer.org.</b></div><div class=\"sk-container\" hidden><div class=\"sk-item\"><div class=\"sk-estimator sk-toggleable\"><input class=\"sk-toggleable__control sk-hidden--visually\" id=\"sk-estimator-id-3\" type=\"checkbox\" checked><label for=\"sk-estimator-id-3\" class=\"sk-toggleable__label sk-toggleable__label-arrow\">PCA</label><div class=\"sk-toggleable__content\"><pre>PCA()</pre></div></div></div></div></div>"
      ],
      "text/plain": [
       "PCA()"
      ]
     },
     "execution_count": 46,
     "metadata": {},
     "output_type": "execute_result"
    }
   ],
   "source": [
    "pcaUS.fit(USArrests_scaled)"
   ]
  },
  {
   "cell_type": "code",
   "execution_count": 47,
   "id": "cf7c5739",
   "metadata": {},
   "outputs": [],
   "source": [
    "scores = pcaUS.transform(USArrests_scaled)"
   ]
  },
  {
   "cell_type": "code",
   "execution_count": 48,
   "id": "d7a0aae4",
   "metadata": {},
   "outputs": [
    {
     "data": {
      "text/plain": [
       "(50, 4)"
      ]
     },
     "execution_count": 48,
     "metadata": {},
     "output_type": "execute_result"
    }
   ],
   "source": [
    "np.shape(scores)"
   ]
  },
  {
   "cell_type": "code",
   "execution_count": 49,
   "id": "7de1e35c",
   "metadata": {},
   "outputs": [
    {
     "data": {
      "text/plain": [
       "(4, 4)"
      ]
     },
     "execution_count": 49,
     "metadata": {},
     "output_type": "execute_result"
    }
   ],
   "source": [
    "pcaUS.components_ \n",
    "np.shape(pcaUS.components_)"
   ]
  },
  {
   "cell_type": "code",
   "execution_count": 50,
   "id": "8be2ce02",
   "metadata": {},
   "outputs": [
    {
     "data": {
      "text/plain": [
       "Text(0, 0.5, 'PC2')"
      ]
     },
     "execution_count": 50,
     "metadata": {},
     "output_type": "execute_result"
    },
    {
     "data": {
      "image/png": "[encoded data removed]",
      "text/plain": [
       "<Figure size 800x800 with 1 Axes>"
      ]
     },
     "metadata": {},
     "output_type": "display_data"
    }
   ],
   "source": [
    "fig, ax = plt.subplots(1, 1, figsize=(8, 8))\n",
    "ax.scatter(scores[:,0], scores[:,1])\n",
    "ax.set_xlabel('PC1')\n",
    "ax.set_ylabel('PC2')"
   ]
  },
  {
   "cell_type": "code",
   "execution_count": 51,
   "id": "cda6e811",
   "metadata": {},
   "outputs": [
    {
     "data": {
      "text/html": [
       "<div>\n",
       "<style scoped>\n",
       "    .dataframe tbody tr th:only-of-type {\n",
       "        vertical-align: middle;\n",
       "    }\n",
       "\n",
       "    .dataframe tbody tr th {\n",
       "        vertical-align: top;\n",
       "    }\n",
       "\n",
       "    .dataframe thead th {\n",
       "        text-align: right;\n",
       "    }\n",
       "</style>\n",
       "<table border=\"1\" class=\"dataframe\">\n",
       "  <thead>\n",
       "    <tr style=\"text-align: right;\">\n",
       "      <th></th>\n",
       "      <th>States</th>\n",
       "      <th>Murder</th>\n",
       "      <th>Assault</th>\n",
       "      <th>UrbanPop</th>\n",
       "      <th>Rape</th>\n",
       "      <th>PC1</th>\n",
       "      <th>PC2</th>\n",
       "    </tr>\n",
       "  </thead>\n",
       "  <tbody>\n",
       "    <tr>\n",
       "      <th>0</th>\n",
       "      <td>Alabama</td>\n",
       "      <td>13.2</td>\n",
       "      <td>236</td>\n",
       "      <td>58</td>\n",
       "      <td>21.2</td>\n",
       "      <td>0.985566</td>\n",
       "      <td>1.133392</td>\n",
       "    </tr>\n",
       "    <tr>\n",
       "      <th>1</th>\n",
       "      <td>Alaska</td>\n",
       "      <td>10.0</td>\n",
       "      <td>263</td>\n",
       "      <td>48</td>\n",
       "      <td>44.5</td>\n",
       "      <td>1.950138</td>\n",
       "      <td>1.073213</td>\n",
       "    </tr>\n",
       "    <tr>\n",
       "      <th>2</th>\n",
       "      <td>Arizona</td>\n",
       "      <td>8.1</td>\n",
       "      <td>294</td>\n",
       "      <td>80</td>\n",
       "      <td>31.0</td>\n",
       "      <td>1.763164</td>\n",
       "      <td>-0.745957</td>\n",
       "    </tr>\n",
       "    <tr>\n",
       "      <th>3</th>\n",
       "      <td>Arkansas</td>\n",
       "      <td>8.8</td>\n",
       "      <td>190</td>\n",
       "      <td>50</td>\n",
       "      <td>19.5</td>\n",
       "      <td>-0.141420</td>\n",
       "      <td>1.119797</td>\n",
       "    </tr>\n",
       "    <tr>\n",
       "      <th>4</th>\n",
       "      <td>California</td>\n",
       "      <td>9.0</td>\n",
       "      <td>276</td>\n",
       "      <td>91</td>\n",
       "      <td>40.6</td>\n",
       "      <td>2.523980</td>\n",
       "      <td>-1.542934</td>\n",
       "    </tr>\n",
       "    <tr>\n",
       "      <th>5</th>\n",
       "      <td>Colorado</td>\n",
       "      <td>7.9</td>\n",
       "      <td>204</td>\n",
       "      <td>78</td>\n",
       "      <td>38.7</td>\n",
       "      <td>1.514563</td>\n",
       "      <td>-0.987555</td>\n",
       "    </tr>\n",
       "    <tr>\n",
       "      <th>6</th>\n",
       "      <td>Connecticut</td>\n",
       "      <td>3.3</td>\n",
       "      <td>110</td>\n",
       "      <td>77</td>\n",
       "      <td>11.1</td>\n",
       "      <td>-1.358647</td>\n",
       "      <td>-1.088928</td>\n",
       "    </tr>\n",
       "    <tr>\n",
       "      <th>7</th>\n",
       "      <td>Delaware</td>\n",
       "      <td>5.9</td>\n",
       "      <td>238</td>\n",
       "      <td>72</td>\n",
       "      <td>15.8</td>\n",
       "      <td>0.047709</td>\n",
       "      <td>-0.325359</td>\n",
       "    </tr>\n",
       "    <tr>\n",
       "      <th>8</th>\n",
       "      <td>Florida</td>\n",
       "      <td>15.4</td>\n",
       "      <td>335</td>\n",
       "      <td>80</td>\n",
       "      <td>31.9</td>\n",
       "      <td>3.013042</td>\n",
       "      <td>0.039229</td>\n",
       "    </tr>\n",
       "    <tr>\n",
       "      <th>9</th>\n",
       "      <td>Georgia</td>\n",
       "      <td>17.4</td>\n",
       "      <td>211</td>\n",
       "      <td>60</td>\n",
       "      <td>25.8</td>\n",
       "      <td>1.639283</td>\n",
       "      <td>1.278942</td>\n",
       "    </tr>\n",
       "    <tr>\n",
       "      <th>10</th>\n",
       "      <td>Hawaii</td>\n",
       "      <td>5.3</td>\n",
       "      <td>46</td>\n",
       "      <td>83</td>\n",
       "      <td>20.2</td>\n",
       "      <td>-0.912657</td>\n",
       "      <td>-1.570460</td>\n",
       "    </tr>\n",
       "    <tr>\n",
       "      <th>11</th>\n",
       "      <td>Idaho</td>\n",
       "      <td>2.6</td>\n",
       "      <td>120</td>\n",
       "      <td>54</td>\n",
       "      <td>14.2</td>\n",
       "      <td>-1.639800</td>\n",
       "      <td>0.210973</td>\n",
       "    </tr>\n",
       "    <tr>\n",
       "      <th>12</th>\n",
       "      <td>Illinois</td>\n",
       "      <td>10.4</td>\n",
       "      <td>249</td>\n",
       "      <td>83</td>\n",
       "      <td>24.0</td>\n",
       "      <td>1.378911</td>\n",
       "      <td>-0.681841</td>\n",
       "    </tr>\n",
       "    <tr>\n",
       "      <th>13</th>\n",
       "      <td>Indiana</td>\n",
       "      <td>7.2</td>\n",
       "      <td>113</td>\n",
       "      <td>65</td>\n",
       "      <td>21.0</td>\n",
       "      <td>-0.505461</td>\n",
       "      <td>-0.151563</td>\n",
       "    </tr>\n",
       "    <tr>\n",
       "      <th>14</th>\n",
       "      <td>Iowa</td>\n",
       "      <td>2.2</td>\n",
       "      <td>56</td>\n",
       "      <td>57</td>\n",
       "      <td>11.3</td>\n",
       "      <td>-2.253646</td>\n",
       "      <td>-0.104054</td>\n",
       "    </tr>\n",
       "    <tr>\n",
       "      <th>15</th>\n",
       "      <td>Kansas</td>\n",
       "      <td>6.0</td>\n",
       "      <td>115</td>\n",
       "      <td>66</td>\n",
       "      <td>18.0</td>\n",
       "      <td>-0.796881</td>\n",
       "      <td>-0.270165</td>\n",
       "    </tr>\n",
       "    <tr>\n",
       "      <th>16</th>\n",
       "      <td>Kentucky</td>\n",
       "      <td>9.7</td>\n",
       "      <td>109</td>\n",
       "      <td>52</td>\n",
       "      <td>16.3</td>\n",
       "      <td>-0.750859</td>\n",
       "      <td>0.958440</td>\n",
       "    </tr>\n",
       "    <tr>\n",
       "      <th>17</th>\n",
       "      <td>Louisiana</td>\n",
       "      <td>15.4</td>\n",
       "      <td>249</td>\n",
       "      <td>66</td>\n",
       "      <td>22.2</td>\n",
       "      <td>1.564818</td>\n",
       "      <td>0.871055</td>\n",
       "    </tr>\n",
       "    <tr>\n",
       "      <th>18</th>\n",
       "      <td>Maine</td>\n",
       "      <td>2.1</td>\n",
       "      <td>83</td>\n",
       "      <td>51</td>\n",
       "      <td>7.8</td>\n",
       "      <td>-2.396829</td>\n",
       "      <td>0.376392</td>\n",
       "    </tr>\n",
       "    <tr>\n",
       "      <th>19</th>\n",
       "      <td>Maryland</td>\n",
       "      <td>11.3</td>\n",
       "      <td>300</td>\n",
       "      <td>67</td>\n",
       "      <td>27.8</td>\n",
       "      <td>1.763369</td>\n",
       "      <td>0.427655</td>\n",
       "    </tr>\n",
       "    <tr>\n",
       "      <th>20</th>\n",
       "      <td>Massachusetts</td>\n",
       "      <td>4.4</td>\n",
       "      <td>149</td>\n",
       "      <td>85</td>\n",
       "      <td>16.3</td>\n",
       "      <td>-0.486166</td>\n",
       "      <td>-1.474496</td>\n",
       "    </tr>\n",
       "    <tr>\n",
       "      <th>21</th>\n",
       "      <td>Michigan</td>\n",
       "      <td>12.1</td>\n",
       "      <td>255</td>\n",
       "      <td>74</td>\n",
       "      <td>35.1</td>\n",
       "      <td>2.108441</td>\n",
       "      <td>-0.155397</td>\n",
       "    </tr>\n",
       "    <tr>\n",
       "      <th>22</th>\n",
       "      <td>Minnesota</td>\n",
       "      <td>2.7</td>\n",
       "      <td>72</td>\n",
       "      <td>66</td>\n",
       "      <td>14.9</td>\n",
       "      <td>-1.692682</td>\n",
       "      <td>-0.632261</td>\n",
       "    </tr>\n",
       "    <tr>\n",
       "      <th>23</th>\n",
       "      <td>Mississippi</td>\n",
       "      <td>16.1</td>\n",
       "      <td>259</td>\n",
       "      <td>44</td>\n",
       "      <td>17.1</td>\n",
       "      <td>0.996494</td>\n",
       "      <td>2.393796</td>\n",
       "    </tr>\n",
       "    <tr>\n",
       "      <th>24</th>\n",
       "      <td>Missouri</td>\n",
       "      <td>9.0</td>\n",
       "      <td>178</td>\n",
       "      <td>70</td>\n",
       "      <td>28.2</td>\n",
       "      <td>0.696787</td>\n",
       "      <td>-0.263355</td>\n",
       "    </tr>\n",
       "    <tr>\n",
       "      <th>25</th>\n",
       "      <td>Montana</td>\n",
       "      <td>6.0</td>\n",
       "      <td>109</td>\n",
       "      <td>53</td>\n",
       "      <td>16.4</td>\n",
       "      <td>-1.185452</td>\n",
       "      <td>0.536874</td>\n",
       "    </tr>\n",
       "    <tr>\n",
       "      <th>26</th>\n",
       "      <td>Nebraska</td>\n",
       "      <td>4.3</td>\n",
       "      <td>102</td>\n",
       "      <td>62</td>\n",
       "      <td>16.5</td>\n",
       "      <td>-1.265637</td>\n",
       "      <td>-0.193954</td>\n",
       "    </tr>\n",
       "    <tr>\n",
       "      <th>27</th>\n",
       "      <td>Nevada</td>\n",
       "      <td>12.2</td>\n",
       "      <td>252</td>\n",
       "      <td>81</td>\n",
       "      <td>46.0</td>\n",
       "      <td>2.874395</td>\n",
       "      <td>-0.775600</td>\n",
       "    </tr>\n",
       "    <tr>\n",
       "      <th>28</th>\n",
       "      <td>New Hampshire</td>\n",
       "      <td>2.1</td>\n",
       "      <td>57</td>\n",
       "      <td>56</td>\n",
       "      <td>9.5</td>\n",
       "      <td>-2.383915</td>\n",
       "      <td>-0.018082</td>\n",
       "    </tr>\n",
       "    <tr>\n",
       "      <th>29</th>\n",
       "      <td>New Jersey</td>\n",
       "      <td>7.4</td>\n",
       "      <td>159</td>\n",
       "      <td>89</td>\n",
       "      <td>18.8</td>\n",
       "      <td>0.181566</td>\n",
       "      <td>-1.449506</td>\n",
       "    </tr>\n",
       "    <tr>\n",
       "      <th>30</th>\n",
       "      <td>New Mexico</td>\n",
       "      <td>11.4</td>\n",
       "      <td>285</td>\n",
       "      <td>70</td>\n",
       "      <td>32.1</td>\n",
       "      <td>1.980024</td>\n",
       "      <td>0.142849</td>\n",
       "    </tr>\n",
       "    <tr>\n",
       "      <th>31</th>\n",
       "      <td>New York</td>\n",
       "      <td>11.1</td>\n",
       "      <td>254</td>\n",
       "      <td>86</td>\n",
       "      <td>26.1</td>\n",
       "      <td>1.682577</td>\n",
       "      <td>-0.823184</td>\n",
       "    </tr>\n",
       "    <tr>\n",
       "      <th>32</th>\n",
       "      <td>North Carolina</td>\n",
       "      <td>13.0</td>\n",
       "      <td>337</td>\n",
       "      <td>45</td>\n",
       "      <td>16.1</td>\n",
       "      <td>1.123379</td>\n",
       "      <td>2.228003</td>\n",
       "    </tr>\n",
       "    <tr>\n",
       "      <th>33</th>\n",
       "      <td>North Dakota</td>\n",
       "      <td>0.8</td>\n",
       "      <td>45</td>\n",
       "      <td>44</td>\n",
       "      <td>7.3</td>\n",
       "      <td>-2.992226</td>\n",
       "      <td>0.599119</td>\n",
       "    </tr>\n",
       "    <tr>\n",
       "      <th>34</th>\n",
       "      <td>Ohio</td>\n",
       "      <td>7.3</td>\n",
       "      <td>120</td>\n",
       "      <td>75</td>\n",
       "      <td>21.4</td>\n",
       "      <td>-0.225965</td>\n",
       "      <td>-0.742238</td>\n",
       "    </tr>\n",
       "    <tr>\n",
       "      <th>35</th>\n",
       "      <td>Oklahoma</td>\n",
       "      <td>6.6</td>\n",
       "      <td>151</td>\n",
       "      <td>68</td>\n",
       "      <td>20.0</td>\n",
       "      <td>-0.311783</td>\n",
       "      <td>-0.287854</td>\n",
       "    </tr>\n",
       "    <tr>\n",
       "      <th>36</th>\n",
       "      <td>Oregon</td>\n",
       "      <td>4.9</td>\n",
       "      <td>159</td>\n",
       "      <td>67</td>\n",
       "      <td>29.3</td>\n",
       "      <td>0.059122</td>\n",
       "      <td>-0.541411</td>\n",
       "    </tr>\n",
       "    <tr>\n",
       "      <th>37</th>\n",
       "      <td>Pennsylvania</td>\n",
       "      <td>6.3</td>\n",
       "      <td>106</td>\n",
       "      <td>72</td>\n",
       "      <td>14.9</td>\n",
       "      <td>-0.888416</td>\n",
       "      <td>-0.571100</td>\n",
       "    </tr>\n",
       "    <tr>\n",
       "      <th>38</th>\n",
       "      <td>Rhode Island</td>\n",
       "      <td>3.4</td>\n",
       "      <td>174</td>\n",
       "      <td>87</td>\n",
       "      <td>8.3</td>\n",
       "      <td>-0.863772</td>\n",
       "      <td>-1.491978</td>\n",
       "    </tr>\n",
       "    <tr>\n",
       "      <th>39</th>\n",
       "      <td>South Carolina</td>\n",
       "      <td>14.4</td>\n",
       "      <td>279</td>\n",
       "      <td>48</td>\n",
       "      <td>22.5</td>\n",
       "      <td>1.320724</td>\n",
       "      <td>1.933405</td>\n",
       "    </tr>\n",
       "    <tr>\n",
       "      <th>40</th>\n",
       "      <td>South Dakota</td>\n",
       "      <td>3.8</td>\n",
       "      <td>86</td>\n",
       "      <td>45</td>\n",
       "      <td>12.8</td>\n",
       "      <td>-1.987775</td>\n",
       "      <td>0.823343</td>\n",
       "    </tr>\n",
       "    <tr>\n",
       "      <th>41</th>\n",
       "      <td>Tennessee</td>\n",
       "      <td>13.2</td>\n",
       "      <td>188</td>\n",
       "      <td>59</td>\n",
       "      <td>26.9</td>\n",
       "      <td>0.999742</td>\n",
       "      <td>0.860251</td>\n",
       "    </tr>\n",
       "    <tr>\n",
       "      <th>42</th>\n",
       "      <td>Texas</td>\n",
       "      <td>12.7</td>\n",
       "      <td>201</td>\n",
       "      <td>80</td>\n",
       "      <td>25.5</td>\n",
       "      <td>1.355138</td>\n",
       "      <td>-0.412481</td>\n",
       "    </tr>\n",
       "    <tr>\n",
       "      <th>43</th>\n",
       "      <td>Utah</td>\n",
       "      <td>3.2</td>\n",
       "      <td>120</td>\n",
       "      <td>80</td>\n",
       "      <td>22.9</td>\n",
       "      <td>-0.550565</td>\n",
       "      <td>-1.471505</td>\n",
       "    </tr>\n",
       "    <tr>\n",
       "      <th>44</th>\n",
       "      <td>Vermont</td>\n",
       "      <td>2.2</td>\n",
       "      <td>48</td>\n",
       "      <td>32</td>\n",
       "      <td>11.2</td>\n",
       "      <td>-2.801412</td>\n",
       "      <td>1.402288</td>\n",
       "    </tr>\n",
       "    <tr>\n",
       "      <th>45</th>\n",
       "      <td>Virginia</td>\n",
       "      <td>8.5</td>\n",
       "      <td>156</td>\n",
       "      <td>63</td>\n",
       "      <td>20.7</td>\n",
       "      <td>-0.096335</td>\n",
       "      <td>0.199735</td>\n",
       "    </tr>\n",
       "    <tr>\n",
       "      <th>46</th>\n",
       "      <td>Washington</td>\n",
       "      <td>4.0</td>\n",
       "      <td>145</td>\n",
       "      <td>73</td>\n",
       "      <td>26.2</td>\n",
       "      <td>-0.216903</td>\n",
       "      <td>-0.970124</td>\n",
       "    </tr>\n",
       "    <tr>\n",
       "      <th>47</th>\n",
       "      <td>West Virginia</td>\n",
       "      <td>5.7</td>\n",
       "      <td>81</td>\n",
       "      <td>39</td>\n",
       "      <td>9.3</td>\n",
       "      <td>-2.108585</td>\n",
       "      <td>1.424847</td>\n",
       "    </tr>\n",
       "    <tr>\n",
       "      <th>48</th>\n",
       "      <td>Wisconsin</td>\n",
       "      <td>2.6</td>\n",
       "      <td>53</td>\n",
       "      <td>66</td>\n",
       "      <td>10.8</td>\n",
       "      <td>-2.079714</td>\n",
       "      <td>-0.611269</td>\n",
       "    </tr>\n",
       "    <tr>\n",
       "      <th>49</th>\n",
       "      <td>Wyoming</td>\n",
       "      <td>6.8</td>\n",
       "      <td>161</td>\n",
       "      <td>60</td>\n",
       "      <td>15.6</td>\n",
       "      <td>-0.629427</td>\n",
       "      <td>0.321013</td>\n",
       "    </tr>\n",
       "  </tbody>\n",
       "</table>\n",
       "</div>"
      ],
      "text/plain": [
       "            States  Murder  Assault  UrbanPop  Rape       PC1       PC2\n",
       "0          Alabama    13.2      236        58  21.2  0.985566  1.133392\n",
       "1           Alaska    10.0      263        48  44.5  1.950138  1.073213\n",
       "2          Arizona     8.1      294        80  31.0  1.763164 -0.745957\n",
       "3         Arkansas     8.8      190        50  19.5 -0.141420  1.119797\n",
       "4       California     9.0      276        91  40.6  2.523980 -1.542934\n",
       "5         Colorado     7.9      204        78  38.7  1.514563 -0.987555\n",
       "6      Connecticut     3.3      110        77  11.1 -1.358647 -1.088928\n",
       "7         Delaware     5.9      238        72  15.8  0.047709 -0.325359\n",
       "8          Florida    15.4      335        80  31.9  3.013042  0.039229\n",
       "9          Georgia    17.4      211        60  25.8  1.639283  1.278942\n",
       "10          Hawaii     5.3       46        83  20.2 -0.912657 -1.570460\n",
       "11           Idaho     2.6      120        54  14.2 -1.639800  0.210973\n",
       "12        Illinois    10.4      249        83  24.0  1.378911 -0.681841\n",
       "13         Indiana     7.2      113        65  21.0 -0.505461 -0.151563\n",
       "14            Iowa     2.2       56        57  11.3 -2.253646 -0.104054\n",
       "15          Kansas     6.0      115        66  18.0 -0.796881 -0.270165\n",
       "16        Kentucky     9.7      109        52  16.3 -0.750859  0.958440\n",
       "17       Louisiana    15.4      249        66  22.2  1.564818  0.871055\n",
       "18           Maine     2.1       83        51   7.8 -2.396829  0.376392\n",
       "19        Maryland    11.3      300        67  27.8  1.763369  0.427655\n",
       "20   Massachusetts     4.4      149        85  16.3 -0.486166 -1.474496\n",
       "21        Michigan    12.1      255        74  35.1  2.108441 -0.155397\n",
       "22       Minnesota     2.7       72        66  14.9 -1.692682 -0.632261\n",
       "23     Mississippi    16.1      259        44  17.1  0.996494  2.393796\n",
       "24        Missouri     9.0      178        70  28.2  0.696787 -0.263355\n",
       "25         Montana     6.0      109        53  16.4 -1.185452  0.536874\n",
       "26        Nebraska     4.3      102        62  16.5 -1.265637 -0.193954\n",
       "27          Nevada    12.2      252        81  46.0  2.874395 -0.775600\n",
       "28   New Hampshire     2.1       57        56   9.5 -2.383915 -0.018082\n",
       "29      New Jersey     7.4      159        89  18.8  0.181566 -1.449506\n",
       "30      New Mexico    11.4      285        70  32.1  1.980024  0.142849\n",
       "31        New York    11.1      254        86  26.1  1.682577 -0.823184\n",
       "32  North Carolina    13.0      337        45  16.1  1.123379  2.228003\n",
       "33    North Dakota     0.8       45        44   7.3 -2.992226  0.599119\n",
       "34            Ohio     7.3      120        75  21.4 -0.225965 -0.742238\n",
       "35        Oklahoma     6.6      151        68  20.0 -0.311783 -0.287854\n",
       "36          Oregon     4.9      159        67  29.3  0.059122 -0.541411\n",
       "37    Pennsylvania     6.3      106        72  14.9 -0.888416 -0.571100\n",
       "38    Rhode Island     3.4      174        87   8.3 -0.863772 -1.491978\n",
       "39  South Carolina    14.4      279        48  22.5  1.320724  1.933405\n",
       "40    South Dakota     3.8       86        45  12.8 -1.987775  0.823343\n",
       "41       Tennessee    13.2      188        59  26.9  0.999742  0.860251\n",
       "42           Texas    12.7      201        80  25.5  1.355138 -0.412481\n",
       "43            Utah     3.2      120        80  22.9 -0.550565 -1.471505\n",
       "44         Vermont     2.2       48        32  11.2 -2.801412  1.402288\n",
       "45        Virginia     8.5      156        63  20.7 -0.096335  0.199735\n",
       "46      Washington     4.0      145        73  26.2 -0.216903 -0.970124\n",
       "47   West Virginia     5.7       81        39   9.3 -2.108585  1.424847\n",
       "48       Wisconsin     2.6       53        66  10.8 -2.079714 -0.611269\n",
       "49         Wyoming     6.8      161        60  15.6 -0.629427  0.321013"
      ]
     },
     "execution_count": 51,
     "metadata": {},
     "output_type": "execute_result"
    }
   ],
   "source": [
    "USArrests['PC1']=scores[:,0]\n",
    "USArrests['PC2']=scores[:,1]\n",
    "USArrests"
   ]
  },
  {
   "cell_type": "code",
   "execution_count": 52,
   "id": "9db987bc",
   "metadata": {},
   "outputs": [
    {
     "data": {
      "text/plain": [
       "array([2.53085875, 1.00996444, 0.36383998, 0.17696948])"
      ]
     },
     "execution_count": 52,
     "metadata": {},
     "output_type": "execute_result"
    }
   ],
   "source": [
    "pcaUS.explained_variance_\n"
   ]
  },
  {
   "cell_type": "code",
   "execution_count": 53,
   "id": "216c53f6",
   "metadata": {},
   "outputs": [
    {
     "data": {
      "text/plain": [
       "array([0.62006039, 0.24744129, 0.0891408 , 0.04335752])"
      ]
     },
     "execution_count": 53,
     "metadata": {},
     "output_type": "execute_result"
    }
   ],
   "source": [
    "pcaUS.explained_variance_ratio_\n"
   ]
  },
  {
   "cell_type": "code",
   "execution_count": 54,
   "id": "52adada0",
   "metadata": {},
   "outputs": [
    {
     "data": {
      "text/plain": [
       "[<matplotlib.axis.XTick at 0x293b2ed00>,\n",
       " <matplotlib.axis.XTick at 0x293b2ecd0>,\n",
       " <matplotlib.axis.XTick at 0x293b2e910>,\n",
       " <matplotlib.axis.XTick at 0x293b68340>]"
      ]
     },
     "execution_count": 54,
     "metadata": {},
     "output_type": "execute_result"
    },
    {
     "data": {
      "image/png": "[encoded data removed]",
      "text/plain": [
       "<Figure size 2000x1000 with 2 Axes>"
      ]
     },
     "metadata": {},
     "output_type": "display_data"
    }
   ],
   "source": [
    "fig, axes = plt.subplots(1, 2, figsize=(20, 10))\n",
    "ticks = np.arange(pcaUS.n_components_)+1\n",
    "\n",
    "ax = axes[1]\n",
    "ax.plot(ticks,\n",
    "        pcaUS.explained_variance_ratio_.cumsum(),\n",
    "        marker='o')\n",
    "ax.set_xlabel('Principal Component')\n",
    "ax.set_ylabel('Cumulative Proportion of Variance Explained')\n",
    "ax.set_ylim([0, 1])\n",
    "ax.set_xticks(ticks)\n"
   ]
  },
  {
   "cell_type": "code",
   "execution_count": 55,
   "id": "30c7fed1-352d-4967-81b8-9b21c8fc1875",
   "metadata": {},
   "outputs": [
    {
     "data": {
      "text/plain": [
       "array([[ 0.53589947,  0.58318363,  0.27819087,  0.54343209],\n",
       "       [ 0.41818087,  0.1879856 , -0.87280619, -0.16731864]])"
      ]
     },
     "execution_count": 55,
     "metadata": {},
     "output_type": "execute_result"
    }
   ],
   "source": [
    "np.shape(scores)\n",
    "V=pcaUS.components_ \n",
    "np.min(np.matmul(scores,V)-USArrests_scaled)\n",
    "score12=scores[:,0:2]\n",
    "#score12[:,1]-scores[:,1]\n",
    "np.matmul(np.linalg.inv(np.matmul(np.transpose(score12),score12)), np.matmul(np.transpose(score12),USArrests_scaled))"
   ]
  },
  {
   "cell_type": "code",
   "execution_count": 56,
   "id": "dea7691d-e84d-4ad7-8a9d-b5c7da64f462",
   "metadata": {},
   "outputs": [
    {
     "data": {
      "text/plain": [
       "array([[ 0.53589947,  0.58318363,  0.27819087,  0.54343209],\n",
       "       [ 0.41818087,  0.1879856 , -0.87280619, -0.16731864],\n",
       "       [-0.34123273, -0.26814843, -0.37801579,  0.81777791],\n",
       "       [ 0.6492278 , -0.74340748,  0.13387773,  0.08902432]])"
      ]
     },
     "execution_count": 56,
     "metadata": {},
     "output_type": "execute_result"
    }
   ],
   "source": [
    "V"
   ]
  },
  {
   "cell_type": "markdown",
   "id": "c3277389-11c9-4a89-8b63-111b5d142e62",
   "metadata": {},
   "source": [
    "# 25 Portfolios"
   ]
  },
  {
   "cell_type": "code",
   "execution_count": 57,
   "id": "c2a74d8f",
   "metadata": {},
   "outputs": [
    {
     "data": {
      "text/plain": [
       "(25438, 25)"
      ]
     },
     "execution_count": 57,
     "metadata": {},
     "output_type": "execute_result"
    }
   ],
   "source": [
    "data = pd.read_csv('X25Portfolios.csv')\n",
    "stockdata=data.iloc[:,1:102]\n",
    "np.shape(stockdata)"
   ]
  },
  {
   "cell_type": "code",
   "execution_count": 58,
   "id": "35c652cd",
   "metadata": {},
   "outputs": [
    {
     "data": {
      "text/html": [
       "<div>\n",
       "<style scoped>\n",
       "    .dataframe tbody tr th:only-of-type {\n",
       "        vertical-align: middle;\n",
       "    }\n",
       "\n",
       "    .dataframe tbody tr th {\n",
       "        vertical-align: top;\n",
       "    }\n",
       "\n",
       "    .dataframe thead th {\n",
       "        text-align: right;\n",
       "    }\n",
       "</style>\n",
       "<table border=\"1\" class=\"dataframe\">\n",
       "  <thead>\n",
       "    <tr style=\"text-align: right;\">\n",
       "      <th></th>\n",
       "      <th>SMALL LoBM</th>\n",
       "      <th>ME1 BM2</th>\n",
       "      <th>ME1 BM3</th>\n",
       "      <th>ME1 BM4</th>\n",
       "      <th>SMALL HiBM</th>\n",
       "      <th>ME2 BM1</th>\n",
       "      <th>ME2 BM2</th>\n",
       "      <th>ME2 BM3</th>\n",
       "      <th>ME2 BM4</th>\n",
       "      <th>ME2 BM5</th>\n",
       "      <th>...</th>\n",
       "      <th>ME4 BM1</th>\n",
       "      <th>ME4 BM2</th>\n",
       "      <th>ME4 BM3</th>\n",
       "      <th>ME4 BM4</th>\n",
       "      <th>ME4 BM5</th>\n",
       "      <th>BIG LoBM</th>\n",
       "      <th>ME5 BM2</th>\n",
       "      <th>ME5 BM3</th>\n",
       "      <th>ME5 BM4</th>\n",
       "      <th>BIG HiBM</th>\n",
       "    </tr>\n",
       "  </thead>\n",
       "  <tbody>\n",
       "    <tr>\n",
       "      <th>0</th>\n",
       "      <td>-0.46</td>\n",
       "      <td>0.72</td>\n",
       "      <td>0.85</td>\n",
       "      <td>0.30</td>\n",
       "      <td>-0.57</td>\n",
       "      <td>0.34</td>\n",
       "      <td>1.73</td>\n",
       "      <td>-0.02</td>\n",
       "      <td>-0.55</td>\n",
       "      <td>0.09</td>\n",
       "      <td>...</td>\n",
       "      <td>0.00</td>\n",
       "      <td>0.30</td>\n",
       "      <td>-0.32</td>\n",
       "      <td>0.02</td>\n",
       "      <td>0.41</td>\n",
       "      <td>0.32</td>\n",
       "      <td>-0.06</td>\n",
       "      <td>0.44</td>\n",
       "      <td>-0.31</td>\n",
       "      <td>0.40</td>\n",
       "    </tr>\n",
       "    <tr>\n",
       "      <th>1</th>\n",
       "      <td>0.57</td>\n",
       "      <td>0.77</td>\n",
       "      <td>-1.98</td>\n",
       "      <td>-0.41</td>\n",
       "      <td>-0.52</td>\n",
       "      <td>0.07</td>\n",
       "      <td>-0.06</td>\n",
       "      <td>-0.46</td>\n",
       "      <td>-0.03</td>\n",
       "      <td>0.40</td>\n",
       "      <td>...</td>\n",
       "      <td>-0.03</td>\n",
       "      <td>0.09</td>\n",
       "      <td>1.04</td>\n",
       "      <td>0.49</td>\n",
       "      <td>0.56</td>\n",
       "      <td>0.50</td>\n",
       "      <td>0.60</td>\n",
       "      <td>0.33</td>\n",
       "      <td>0.51</td>\n",
       "      <td>0.24</td>\n",
       "    </tr>\n",
       "    <tr>\n",
       "      <th>2</th>\n",
       "      <td>0.38</td>\n",
       "      <td>-0.46</td>\n",
       "      <td>-0.77</td>\n",
       "      <td>1.48</td>\n",
       "      <td>-0.28</td>\n",
       "      <td>-0.39</td>\n",
       "      <td>-0.04</td>\n",
       "      <td>0.35</td>\n",
       "      <td>0.07</td>\n",
       "      <td>0.26</td>\n",
       "      <td>...</td>\n",
       "      <td>0.33</td>\n",
       "      <td>0.11</td>\n",
       "      <td>0.79</td>\n",
       "      <td>-0.11</td>\n",
       "      <td>-0.44</td>\n",
       "      <td>0.19</td>\n",
       "      <td>0.41</td>\n",
       "      <td>-0.12</td>\n",
       "      <td>-0.23</td>\n",
       "      <td>0.33</td>\n",
       "    </tr>\n",
       "    <tr>\n",
       "      <th>3</th>\n",
       "      <td>-0.81</td>\n",
       "      <td>-1.18</td>\n",
       "      <td>1.26</td>\n",
       "      <td>0.88</td>\n",
       "      <td>-0.61</td>\n",
       "      <td>0.63</td>\n",
       "      <td>-0.59</td>\n",
       "      <td>-0.84</td>\n",
       "      <td>-1.31</td>\n",
       "      <td>-0.92</td>\n",
       "      <td>...</td>\n",
       "      <td>0.05</td>\n",
       "      <td>0.10</td>\n",
       "      <td>0.15</td>\n",
       "      <td>0.51</td>\n",
       "      <td>-0.08</td>\n",
       "      <td>-0.05</td>\n",
       "      <td>0.39</td>\n",
       "      <td>0.09</td>\n",
       "      <td>-0.16</td>\n",
       "      <td>1.53</td>\n",
       "    </tr>\n",
       "    <tr>\n",
       "      <th>4</th>\n",
       "      <td>0.56</td>\n",
       "      <td>-0.13</td>\n",
       "      <td>-1.10</td>\n",
       "      <td>-1.57</td>\n",
       "      <td>0.33</td>\n",
       "      <td>0.49</td>\n",
       "      <td>0.81</td>\n",
       "      <td>0.30</td>\n",
       "      <td>0.17</td>\n",
       "      <td>-0.52</td>\n",
       "      <td>...</td>\n",
       "      <td>0.09</td>\n",
       "      <td>0.36</td>\n",
       "      <td>0.37</td>\n",
       "      <td>0.51</td>\n",
       "      <td>1.27</td>\n",
       "      <td>0.41</td>\n",
       "      <td>0.36</td>\n",
       "      <td>0.01</td>\n",
       "      <td>0.16</td>\n",
       "      <td>0.22</td>\n",
       "    </tr>\n",
       "    <tr>\n",
       "      <th>...</th>\n",
       "      <td>...</td>\n",
       "      <td>...</td>\n",
       "      <td>...</td>\n",
       "      <td>...</td>\n",
       "      <td>...</td>\n",
       "      <td>...</td>\n",
       "      <td>...</td>\n",
       "      <td>...</td>\n",
       "      <td>...</td>\n",
       "      <td>...</td>\n",
       "      <td>...</td>\n",
       "      <td>...</td>\n",
       "      <td>...</td>\n",
       "      <td>...</td>\n",
       "      <td>...</td>\n",
       "      <td>...</td>\n",
       "      <td>...</td>\n",
       "      <td>...</td>\n",
       "      <td>...</td>\n",
       "      <td>...</td>\n",
       "      <td>...</td>\n",
       "    </tr>\n",
       "    <tr>\n",
       "      <th>25433</th>\n",
       "      <td>0.45</td>\n",
       "      <td>0.16</td>\n",
       "      <td>0.50</td>\n",
       "      <td>0.03</td>\n",
       "      <td>-0.10</td>\n",
       "      <td>0.70</td>\n",
       "      <td>0.72</td>\n",
       "      <td>0.50</td>\n",
       "      <td>0.18</td>\n",
       "      <td>-0.09</td>\n",
       "      <td>...</td>\n",
       "      <td>0.44</td>\n",
       "      <td>0.17</td>\n",
       "      <td>0.09</td>\n",
       "      <td>0.24</td>\n",
       "      <td>0.20</td>\n",
       "      <td>0.07</td>\n",
       "      <td>-0.38</td>\n",
       "      <td>-0.27</td>\n",
       "      <td>-0.43</td>\n",
       "      <td>0.16</td>\n",
       "    </tr>\n",
       "    <tr>\n",
       "      <th>25434</th>\n",
       "      <td>0.14</td>\n",
       "      <td>-0.11</td>\n",
       "      <td>0.30</td>\n",
       "      <td>0.82</td>\n",
       "      <td>0.58</td>\n",
       "      <td>1.06</td>\n",
       "      <td>0.89</td>\n",
       "      <td>0.40</td>\n",
       "      <td>0.77</td>\n",
       "      <td>0.43</td>\n",
       "      <td>...</td>\n",
       "      <td>0.39</td>\n",
       "      <td>0.19</td>\n",
       "      <td>0.72</td>\n",
       "      <td>0.23</td>\n",
       "      <td>0.50</td>\n",
       "      <td>0.83</td>\n",
       "      <td>0.11</td>\n",
       "      <td>0.09</td>\n",
       "      <td>0.31</td>\n",
       "      <td>0.07</td>\n",
       "    </tr>\n",
       "    <tr>\n",
       "      <th>25435</th>\n",
       "      <td>-2.53</td>\n",
       "      <td>-2.12</td>\n",
       "      <td>-2.26</td>\n",
       "      <td>-1.87</td>\n",
       "      <td>-0.73</td>\n",
       "      <td>-2.07</td>\n",
       "      <td>-1.59</td>\n",
       "      <td>-0.97</td>\n",
       "      <td>-0.95</td>\n",
       "      <td>-0.50</td>\n",
       "      <td>...</td>\n",
       "      <td>-1.60</td>\n",
       "      <td>-1.00</td>\n",
       "      <td>-0.53</td>\n",
       "      <td>-0.55</td>\n",
       "      <td>0.28</td>\n",
       "      <td>-1.56</td>\n",
       "      <td>-0.89</td>\n",
       "      <td>-0.58</td>\n",
       "      <td>-0.12</td>\n",
       "      <td>0.29</td>\n",
       "    </tr>\n",
       "    <tr>\n",
       "      <th>25436</th>\n",
       "      <td>0.61</td>\n",
       "      <td>0.30</td>\n",
       "      <td>0.43</td>\n",
       "      <td>0.76</td>\n",
       "      <td>0.51</td>\n",
       "      <td>0.28</td>\n",
       "      <td>-0.02</td>\n",
       "      <td>0.45</td>\n",
       "      <td>0.62</td>\n",
       "      <td>-0.06</td>\n",
       "      <td>...</td>\n",
       "      <td>-0.01</td>\n",
       "      <td>0.09</td>\n",
       "      <td>-0.07</td>\n",
       "      <td>0.36</td>\n",
       "      <td>-0.59</td>\n",
       "      <td>0.71</td>\n",
       "      <td>-0.05</td>\n",
       "      <td>-0.20</td>\n",
       "      <td>0.10</td>\n",
       "      <td>0.06</td>\n",
       "    </tr>\n",
       "    <tr>\n",
       "      <th>25437</th>\n",
       "      <td>0.83</td>\n",
       "      <td>0.67</td>\n",
       "      <td>0.66</td>\n",
       "      <td>0.49</td>\n",
       "      <td>0.25</td>\n",
       "      <td>0.95</td>\n",
       "      <td>0.38</td>\n",
       "      <td>0.43</td>\n",
       "      <td>-0.27</td>\n",
       "      <td>0.09</td>\n",
       "      <td>...</td>\n",
       "      <td>-0.15</td>\n",
       "      <td>0.18</td>\n",
       "      <td>-0.38</td>\n",
       "      <td>-0.22</td>\n",
       "      <td>-0.43</td>\n",
       "      <td>-0.15</td>\n",
       "      <td>-0.25</td>\n",
       "      <td>-0.34</td>\n",
       "      <td>-0.83</td>\n",
       "      <td>-0.27</td>\n",
       "    </tr>\n",
       "  </tbody>\n",
       "</table>\n",
       "<p>25438 rows × 25 columns</p>\n",
       "</div>"
      ],
      "text/plain": [
       "       SMALL LoBM  ME1 BM2  ME1 BM3  ME1 BM4  SMALL HiBM  ME2 BM1  ME2 BM2  \\\n",
       "0           -0.46     0.72     0.85     0.30       -0.57     0.34     1.73   \n",
       "1            0.57     0.77    -1.98    -0.41       -0.52     0.07    -0.06   \n",
       "2            0.38    -0.46    -0.77     1.48       -0.28    -0.39    -0.04   \n",
       "3           -0.81    -1.18     1.26     0.88       -0.61     0.63    -0.59   \n",
       "4            0.56    -0.13    -1.10    -1.57        0.33     0.49     0.81   \n",
       "...           ...      ...      ...      ...         ...      ...      ...   \n",
       "25433        0.45     0.16     0.50     0.03       -0.10     0.70     0.72   \n",
       "25434        0.14    -0.11     0.30     0.82        0.58     1.06     0.89   \n",
       "25435       -2.53    -2.12    -2.26    -1.87       -0.73    -2.07    -1.59   \n",
       "25436        0.61     0.30     0.43     0.76        0.51     0.28    -0.02   \n",
       "25437        0.83     0.67     0.66     0.49        0.25     0.95     0.38   \n",
       "\n",
       "       ME2 BM3  ME2 BM4  ME2 BM5  ...  ME4 BM1  ME4 BM2  ME4 BM3  ME4 BM4  \\\n",
       "0        -0.02    -0.55     0.09  ...     0.00     0.30    -0.32     0.02   \n",
       "1        -0.46    -0.03     0.40  ...    -0.03     0.09     1.04     0.49   \n",
       "2         0.35     0.07     0.26  ...     0.33     0.11     0.79    -0.11   \n",
       "3        -0.84    -1.31    -0.92  ...     0.05     0.10     0.15     0.51   \n",
       "4         0.30     0.17    -0.52  ...     0.09     0.36     0.37     0.51   \n",
       "...        ...      ...      ...  ...      ...      ...      ...      ...   \n",
       "25433     0.50     0.18    -0.09  ...     0.44     0.17     0.09     0.24   \n",
       "25434     0.40     0.77     0.43  ...     0.39     0.19     0.72     0.23   \n",
       "25435    -0.97    -0.95    -0.50  ...    -1.60    -1.00    -0.53    -0.55   \n",
       "25436     0.45     0.62    -0.06  ...    -0.01     0.09    -0.07     0.36   \n",
       "25437     0.43    -0.27     0.09  ...    -0.15     0.18    -0.38    -0.22   \n",
       "\n",
       "       ME4 BM5  BIG LoBM  ME5 BM2  ME5 BM3  ME5 BM4  BIG HiBM  \n",
       "0         0.41      0.32    -0.06     0.44    -0.31      0.40  \n",
       "1         0.56      0.50     0.60     0.33     0.51      0.24  \n",
       "2        -0.44      0.19     0.41    -0.12    -0.23      0.33  \n",
       "3        -0.08     -0.05     0.39     0.09    -0.16      1.53  \n",
       "4         1.27      0.41     0.36     0.01     0.16      0.22  \n",
       "...        ...       ...      ...      ...      ...       ...  \n",
       "25433     0.20      0.07    -0.38    -0.27    -0.43      0.16  \n",
       "25434     0.50      0.83     0.11     0.09     0.31      0.07  \n",
       "25435     0.28     -1.56    -0.89    -0.58    -0.12      0.29  \n",
       "25436    -0.59      0.71    -0.05    -0.20     0.10      0.06  \n",
       "25437    -0.43     -0.15    -0.25    -0.34    -0.83     -0.27  \n",
       "\n",
       "[25438 rows x 25 columns]"
      ]
     },
     "execution_count": 58,
     "metadata": {},
     "output_type": "execute_result"
    }
   ],
   "source": [
    "stockdata"
   ]
  },
  {
   "cell_type": "code",
   "execution_count": 59,
   "id": "ad917102-0d26-4240-a691-38a858939aa7",
   "metadata": {},
   "outputs": [],
   "source": [
    "pcaStock = PCA()"
   ]
  },
  {
   "cell_type": "code",
   "execution_count": 60,
   "id": "dec71d6e",
   "metadata": {},
   "outputs": [
    {
     "data": {
      "text/html": [
       "<style>#sk-container-id-4 {color: black;background-color: white;}#sk-container-id-4 pre{padding: 0;}#sk-container-id-4 div.sk-toggleable {background-color: white;}#sk-container-id-4 label.sk-toggleable__label {cursor: pointer;display: block;width: 100%;margin-bottom: 0;padding: 0.3em;box-sizing: border-box;text-align: center;}#sk-container-id-4 label.sk-toggleable__label-arrow:before {content: \"▸\";float: left;margin-right: 0.25em;color: #696969;}#sk-container-id-4 label.sk-toggleable__label-arrow:hover:before {color: black;}#sk-container-id-4 div.sk-estimator:hover label.sk-toggleable__label-arrow:before {color: black;}#sk-container-id-4 div.sk-toggleable__content {max-height: 0;max-width: 0;overflow: hidden;text-align: left;background-color: #f0f8ff;}#sk-container-id-4 div.sk-toggleable__content pre {margin: 0.2em;color: black;border-radius: 0.25em;background-color: #f0f8ff;}#sk-container-id-4 input.sk-toggleable__control:checked~div.sk-toggleable__content {max-height: 200px;max-width: 100%;overflow: auto;}#sk-container-id-4 input.sk-toggleable__control:checked~label.sk-toggleable__label-arrow:before {content: \"▾\";}#sk-container-id-4 div.sk-estimator input.sk-toggleable__control:checked~label.sk-toggleable__label {background-color: #d4ebff;}#sk-container-id-4 div.sk-label input.sk-toggleable__control:checked~label.sk-toggleable__label {background-color: #d4ebff;}#sk-container-id-4 input.sk-hidden--visually {border: 0;clip: rect(1px 1px 1px 1px);clip: rect(1px, 1px, 1px, 1px);height: 1px;margin: -1px;overflow: hidden;padding: 0;position: absolute;width: 1px;}#sk-container-id-4 div.sk-estimator {font-family: monospace;background-color: #f0f8ff;border: 1px dotted black;border-radius: 0.25em;box-sizing: border-box;margin-bottom: 0.5em;}#sk-container-id-4 div.sk-estimator:hover {background-color: #d4ebff;}#sk-container-id-4 div.sk-parallel-item::after {content: \"\";width: 100%;border-bottom: 1px solid gray;flex-grow: 1;}#sk-container-id-4 div.sk-label:hover label.sk-toggleable__label {background-color: #d4ebff;}#sk-container-id-4 div.sk-serial::before {content: \"\";position: absolute;border-left: 1px solid gray;box-sizing: border-box;top: 0;bottom: 0;left: 50%;z-index: 0;}#sk-container-id-4 div.sk-serial {display: flex;flex-direction: column;align-items: center;background-color: white;padding-right: 0.2em;padding-left: 0.2em;position: relative;}#sk-container-id-4 div.sk-item {position: relative;z-index: 1;}#sk-container-id-4 div.sk-parallel {display: flex;align-items: stretch;justify-content: center;background-color: white;position: relative;}#sk-container-id-4 div.sk-item::before, #sk-container-id-4 div.sk-parallel-item::before {content: \"\";position: absolute;border-left: 1px solid gray;box-sizing: border-box;top: 0;bottom: 0;left: 50%;z-index: -1;}#sk-container-id-4 div.sk-parallel-item {display: flex;flex-direction: column;z-index: 1;position: relative;background-color: white;}#sk-container-id-4 div.sk-parallel-item:first-child::after {align-self: flex-end;width: 50%;}#sk-container-id-4 div.sk-parallel-item:last-child::after {align-self: flex-start;width: 50%;}#sk-container-id-4 div.sk-parallel-item:only-child::after {width: 0;}#sk-container-id-4 div.sk-dashed-wrapped {border: 1px dashed gray;margin: 0 0.4em 0.5em 0.4em;box-sizing: border-box;padding-bottom: 0.4em;background-color: white;}#sk-container-id-4 div.sk-label label {font-family: monospace;font-weight: bold;display: inline-block;line-height: 1.2em;}#sk-container-id-4 div.sk-label-container {text-align: center;}#sk-container-id-4 div.sk-container {/* jupyter's `normalize.less` sets `[hidden] { display: none; }` but bootstrap.min.css set `[hidden] { display: none !important; }` so we also need the `!important` here to be able to override the default hidden behavior on the sphinx rendered scikit-learn.org. See: https://github.com/scikit-learn/scikit-learn/issues/21755 */display: inline-block !important;position: relative;}#sk-container-id-4 div.sk-text-repr-fallback {display: none;}</style><div id=\"sk-container-id-4\" class=\"sk-top-container\"><div class=\"sk-text-repr-fallback\"><pre>PCA()</pre><b>In a Jupyter environment, please rerun this cell to show the HTML representation or trust the notebook. <br />On GitHub, the HTML representation is unable to render, please try loading this page with nbviewer.org.</b></div><div class=\"sk-container\" hidden><div class=\"sk-item\"><div class=\"sk-estimator sk-toggleable\"><input class=\"sk-toggleable__control sk-hidden--visually\" id=\"sk-estimator-id-4\" type=\"checkbox\" checked><label for=\"sk-estimator-id-4\" class=\"sk-toggleable__label sk-toggleable__label-arrow\">PCA</label><div class=\"sk-toggleable__content\"><pre>PCA()</pre></div></div></div></div></div>"
      ],
      "text/plain": [
       "PCA()"
      ]
     },
     "execution_count": 60,
     "metadata": {},
     "output_type": "execute_result"
    }
   ],
   "source": [
    "pcaStock.fit(stockdata)"
   ]
  },
  {
   "cell_type": "code",
   "execution_count": 61,
   "id": "5dd01286",
   "metadata": {},
   "outputs": [],
   "source": [
    "scores = pcaStock.transform(stockdata)"
   ]
  },
  {
   "cell_type": "code",
   "execution_count": 62,
   "id": "0cb8b5c0",
   "metadata": {},
   "outputs": [
    {
     "data": {
      "image/png": "[encoded data removed]",
      "text/plain": [
       "<Figure size 2000x1000 with 2 Axes>"
      ]
     },
     "metadata": {},
     "output_type": "display_data"
    }
   ],
   "source": [
    "fig, axes = plt.subplots(1, 2, figsize=(20, 10))\n",
    "ticks = np.arange(pcaStock.n_components_)+1\n",
    "\n",
    "ax = axes[1]\n",
    "ax.plot(ticks,\n",
    "        pcaStock.explained_variance_ratio_.cumsum(),\n",
    "        marker='o');\n",
    "ax.set_xlabel('Principal Component');\n",
    "ax.set_ylabel('Cumulative Proportion of Variance Explained');\n",
    "ax.set_ylim([0, 1]);\n",
    "ax.set_xticks(ticks);"
   ]
  },
  {
   "cell_type": "code",
   "execution_count": 63,
   "id": "bab83d06",
   "metadata": {},
   "outputs": [
    {
     "data": {
      "text/plain": [
       "array([0.65182661, 0.78484777, 0.83738071, 0.86749794, 0.89267426,\n",
       "       0.90641425, 0.91995262, 0.92934452, 0.93736343, 0.94475411,\n",
       "       0.9515396 , 0.95798315, 0.96374839, 0.9684766 , 0.97252886,\n",
       "       0.97646986, 0.98009053, 0.98332612, 0.9863348 , 0.98914076,\n",
       "       0.9917569 , 0.99418957, 0.99640004, 0.9982569 , 1.        ])"
      ]
     },
     "execution_count": 63,
     "metadata": {},
     "output_type": "execute_result"
    }
   ],
   "source": [
    "pcaStock.explained_variance_ratio_.cumsum()"
   ]
  },
  {
   "cell_type": "markdown",
   "id": "1a4981ae-d640-42e0-bb01-70302c64eef9",
   "metadata": {},
   "source": [
    "## Denoise a matrix\n",
    "#### Assume $X=M+u$, where $M$ is a low-rank matrix and $u$ is a matrix of noise with $E(u)=0$.\n",
    " - We observe $X$. \n",
    " - The goal is to compute $\\hat{M}$, which is an estimate for $M$."
   ]
  },
  {
   "cell_type": "code",
   "execution_count": 20,
   "id": "4e346744-f085-49d5-8425-9b6a4ed7273f",
   "metadata": {},
   "outputs": [
    {
     "data": {
      "text/html": [
       "<style>#sk-container-id-2 {color: black;background-color: white;}#sk-container-id-2 pre{padding: 0;}#sk-container-id-2 div.sk-toggleable {background-color: white;}#sk-container-id-2 label.sk-toggleable__label {cursor: pointer;display: block;width: 100%;margin-bottom: 0;padding: 0.3em;box-sizing: border-box;text-align: center;}#sk-container-id-2 label.sk-toggleable__label-arrow:before {content: \"▸\";float: left;margin-right: 0.25em;color: #696969;}#sk-container-id-2 label.sk-toggleable__label-arrow:hover:before {color: black;}#sk-container-id-2 div.sk-estimator:hover label.sk-toggleable__label-arrow:before {color: black;}#sk-container-id-2 div.sk-toggleable__content {max-height: 0;max-width: 0;overflow: hidden;text-align: left;background-color: #f0f8ff;}#sk-container-id-2 div.sk-toggleable__content pre {margin: 0.2em;color: black;border-radius: 0.25em;background-color: #f0f8ff;}#sk-container-id-2 input.sk-toggleable__control:checked~div.sk-toggleable__content {max-height: 200px;max-width: 100%;overflow: auto;}#sk-container-id-2 input.sk-toggleable__control:checked~label.sk-toggleable__label-arrow:before {content: \"▾\";}#sk-container-id-2 div.sk-estimator input.sk-toggleable__control:checked~label.sk-toggleable__label {background-color: #d4ebff;}#sk-container-id-2 div.sk-label input.sk-toggleable__control:checked~label.sk-toggleable__label {background-color: #d4ebff;}#sk-container-id-2 input.sk-hidden--visually {border: 0;clip: rect(1px 1px 1px 1px);clip: rect(1px, 1px, 1px, 1px);height: 1px;margin: -1px;overflow: hidden;padding: 0;position: absolute;width: 1px;}#sk-container-id-2 div.sk-estimator {font-family: monospace;background-color: #f0f8ff;border: 1px dotted black;border-radius: 0.25em;box-sizing: border-box;margin-bottom: 0.5em;}#sk-container-id-2 div.sk-estimator:hover {background-color: #d4ebff;}#sk-container-id-2 div.sk-parallel-item::after {content: \"\";width: 100%;border-bottom: 1px solid gray;flex-grow: 1;}#sk-container-id-2 div.sk-label:hover label.sk-toggleable__label {background-color: #d4ebff;}#sk-container-id-2 div.sk-serial::before {content: \"\";position: absolute;border-left: 1px solid gray;box-sizing: border-box;top: 0;bottom: 0;left: 50%;z-index: 0;}#sk-container-id-2 div.sk-serial {display: flex;flex-direction: column;align-items: center;background-color: white;padding-right: 0.2em;padding-left: 0.2em;position: relative;}#sk-container-id-2 div.sk-item {position: relative;z-index: 1;}#sk-container-id-2 div.sk-parallel {display: flex;align-items: stretch;justify-content: center;background-color: white;position: relative;}#sk-container-id-2 div.sk-item::before, #sk-container-id-2 div.sk-parallel-item::before {content: \"\";position: absolute;border-left: 1px solid gray;box-sizing: border-box;top: 0;bottom: 0;left: 50%;z-index: -1;}#sk-container-id-2 div.sk-parallel-item {display: flex;flex-direction: column;z-index: 1;position: relative;background-color: white;}#sk-container-id-2 div.sk-parallel-item:first-child::after {align-self: flex-end;width: 50%;}#sk-container-id-2 div.sk-parallel-item:last-child::after {align-self: flex-start;width: 50%;}#sk-container-id-2 div.sk-parallel-item:only-child::after {width: 0;}#sk-container-id-2 div.sk-dashed-wrapped {border: 1px dashed gray;margin: 0 0.4em 0.5em 0.4em;box-sizing: border-box;padding-bottom: 0.4em;background-color: white;}#sk-container-id-2 div.sk-label label {font-family: monospace;font-weight: bold;display: inline-block;line-height: 1.2em;}#sk-container-id-2 div.sk-label-container {text-align: center;}#sk-container-id-2 div.sk-container {/* jupyter's `normalize.less` sets `[hidden] { display: none; }` but bootstrap.min.css set `[hidden] { display: none !important; }` so we also need the `!important` here to be able to override the default hidden behavior on the sphinx rendered scikit-learn.org. See: https://github.com/scikit-learn/scikit-learn/issues/21755 */display: inline-block !important;position: relative;}#sk-container-id-2 div.sk-text-repr-fallback {display: none;}</style><div id=\"sk-container-id-2\" class=\"sk-top-container\"><div class=\"sk-text-repr-fallback\"><pre>PCA(n_components=2)</pre><b>In a Jupyter environment, please rerun this cell to show the HTML representation or trust the notebook. <br />On GitHub, the HTML representation is unable to render, please try loading this page with nbviewer.org.</b></div><div class=\"sk-container\" hidden><div class=\"sk-item\"><div class=\"sk-estimator sk-toggleable\"><input class=\"sk-toggleable__control sk-hidden--visually\" id=\"sk-estimator-id-2\" type=\"checkbox\" checked><label for=\"sk-estimator-id-2\" class=\"sk-toggleable__label sk-toggleable__label-arrow\">PCA</label><div class=\"sk-toggleable__content\"><pre>PCA(n_components=2)</pre></div></div></div></div></div>"
      ],
      "text/plain": [
       "PCA(n_components=2)"
      ]
     },
     "execution_count": 20,
     "metadata": {},
     "output_type": "execute_result"
    }
   ],
   "source": [
    "pca_estimator = PCA(n_components=2)\n",
    "pca_estimator.fit(USArrests_scaled)"
   ]
  },
  {
   "cell_type": "code",
   "execution_count": 21,
   "id": "c10f204a-acae-4eb6-8b8f-18d2dab04cb5",
   "metadata": {},
   "outputs": [],
   "source": [
    "data_compressed = pca_estimator.fit_transform(USArrests_scaled)\n",
    "data_decompressed = pca_estimator.inverse_transform(data_compressed)"
   ]
  },
  {
   "cell_type": "code",
   "execution_count": 22,
   "id": "1c3a074f-06de-4c9d-86ad-d759ad85ee17",
   "metadata": {},
   "outputs": [
    {
     "data": {
      "text/plain": [
       "26.499663415533263"
      ]
     },
     "execution_count": 22,
     "metadata": {},
     "output_type": "execute_result"
    }
   ],
   "source": [
    "#info lost\n",
    "sum(sum((USArrests_scaled-data_decompressed)**2))"
   ]
  },
  {
   "cell_type": "code",
   "execution_count": 29,
   "id": "543df939",
   "metadata": {},
   "outputs": [
    {
     "data": {
      "text/plain": [
       "200.0"
      ]
     },
     "execution_count": 29,
     "metadata": {},
     "output_type": "execute_result"
    }
   ],
   "source": [
    "# total info \n",
    "sum(sum((USArrests_scaled)**2))"
   ]
  },
  {
   "cell_type": "markdown",
   "id": "c38c526f-331c-4e8c-b37b-559693cca94f",
   "metadata": {},
   "source": [
    "## Can we use this for matrix completion?\n",
    "- suppose that $X=M+u$ with low-rank $M$ and noise satisfying $E(u)=0$.\n",
    "- we do not observe full $X$ (this is an $n\\times p$ matrix)\n",
    "- data in $X$ is missing at random with probability $1-\\rho$, i.e., $\\rho=\\Pr(observe)$ and $1-\\rho=\\Pr(missing)$.\n",
    "- how to estimate $M$?"
   ]
  },
  {
   "cell_type": "code",
   "execution_count": 65,
   "id": "e703a6f7-a718-41c6-ad1b-e1fca775b50c",
   "metadata": {},
   "outputs": [
    {
     "data": {
      "text/plain": [
       "array([[1., 1., 1., ..., 1., 1., 1.],\n",
       "       [1., 1., 1., ..., 1., 1., 1.],\n",
       "       [1., 1., 1., ..., 1., 1., 1.],\n",
       "       ...,\n",
       "       [1., 1., 1., ..., 1., 1., 1.],\n",
       "       [1., 1., 1., ..., 1., 1., 1.],\n",
       "       [1., 1., 1., ..., 1., 1., 1.]])"
      ]
     },
     "execution_count": 65,
     "metadata": {},
     "output_type": "execute_result"
    }
   ],
   "source": [
    "n=2432\n",
    "p=1243\n",
    "M=np.ones((n,p))\n",
    "M"
   ]
  },
  {
   "cell_type": "code",
   "execution_count": 66,
   "id": "0a5de847-1bc8-447f-83ed-b6dc7bbf5027",
   "metadata": {},
   "outputs": [],
   "source": [
    "u=np.random.normal(loc=0.0, scale=1.0, size=(n,p)) # generate normal random variables with mean 0, std deviation 1"
   ]
  },
  {
   "cell_type": "code",
   "execution_count": 67,
   "id": "df44b514-c1c6-4231-ab68-bfcc3ab4d899",
   "metadata": {},
   "outputs": [
    {
     "data": {
      "text/plain": [
       "array([[ 0.49038692,  1.72614834,  1.27181468, ...,  1.30879703,\n",
       "         1.82920484,  0.18626738],\n",
       "       [ 0.14964384,  1.54214153,  0.34057861, ...,  1.35099695,\n",
       "         3.45943616, -1.15924955],\n",
       "       [-0.17191512,  0.9903619 ,  2.06075376, ...,  2.0382493 ,\n",
       "         1.02311194,  0.34921908],\n",
       "       ...,\n",
       "       [ 2.8447392 , -0.19714253,  1.74556387, ...,  2.32045232,\n",
       "         1.85336933,  1.56278647],\n",
       "       [ 2.28208919,  0.89784564,  1.73255741, ...,  0.27189488,\n",
       "         0.15960565,  1.32384536],\n",
       "       [-0.14520013,  2.10609745,  0.7668011 , ...,  1.91794942,\n",
       "         0.9294374 ,  0.83886622]])"
      ]
     },
     "execution_count": 67,
     "metadata": {},
     "output_type": "execute_result"
    }
   ],
   "source": [
    "X=M+u\n",
    "X"
   ]
  },
  {
   "cell_type": "code",
   "execution_count": 68,
   "id": "bb34f005-0795-4a93-ba0e-7f6b54f6c2f0",
   "metadata": {},
   "outputs": [
    {
     "data": {
      "text/plain": [
       "array([[1, 0, 1, ..., 0, 0, 0],\n",
       "       [0, 0, 0, ..., 0, 1, 0],\n",
       "       [0, 0, 0, ..., 0, 1, 1],\n",
       "       ...,\n",
       "       [0, 0, 1, ..., 0, 0, 1],\n",
       "       [0, 0, 1, ..., 1, 1, 1],\n",
       "       [0, 0, 1, ..., 0, 1, 0]])"
      ]
     },
     "execution_count": 68,
     "metadata": {},
     "output_type": "execute_result"
    }
   ],
   "source": [
    "rho=0.5 # probability of observing the entry\n",
    "Z=np.random.binomial(1, rho, size=(n,p)) # generate Bernoulli variables with mean equal to rho\n",
    "# Z_(i,j): 1 means observed and 0 means missing\n",
    "Z"
   ]
  },
  {
   "cell_type": "code",
   "execution_count": 69,
   "id": "7dd01756-b335-4be2-b125-4ac83d60d558",
   "metadata": {},
   "outputs": [
    {
     "data": {
      "text/plain": [
       "array([[ 0.49038692,  0.        ,  1.27181468, ...,  0.        ,\n",
       "         0.        ,  0.        ],\n",
       "       [ 0.        ,  0.        ,  0.        , ...,  0.        ,\n",
       "         3.45943616, -0.        ],\n",
       "       [-0.        ,  0.        ,  0.        , ...,  0.        ,\n",
       "         1.02311194,  0.34921908],\n",
       "       ...,\n",
       "       [ 0.        , -0.        ,  1.74556387, ...,  0.        ,\n",
       "         0.        ,  1.56278647],\n",
       "       [ 0.        ,  0.        ,  1.73255741, ...,  0.27189488,\n",
       "         0.15960565,  1.32384536],\n",
       "       [-0.        ,  0.        ,  0.7668011 , ...,  0.        ,\n",
       "         0.9294374 ,  0.        ]])"
      ]
     },
     "execution_count": 69,
     "metadata": {},
     "output_type": "execute_result"
    }
   ],
   "source": [
    "X_obs=np.multiply(X,Z) # this is entry-wise multiplication, not the usual matrix multiplication.\n",
    "X_obs"
   ]
  },
  {
   "cell_type": "code",
   "execution_count": 70,
   "id": "6bb225bb",
   "metadata": {},
   "outputs": [
    {
     "data": {
      "text/plain": [
       "array([[0.80008399, 0.91603785, 0.97370837, ..., 0.97586792, 0.92662682,\n",
       "        1.01367113],\n",
       "       [1.11611228, 0.9701539 , 1.10903614, ..., 0.89804559, 0.92918037,\n",
       "        0.9573681 ],\n",
       "       [0.83941487, 0.92676338, 1.00189481, ..., 0.96368603, 0.92452427,\n",
       "        0.99894397],\n",
       "       ...,\n",
       "       [0.76989985, 0.90374454, 0.94052927, ..., 0.98775816, 0.93070411,\n",
       "        1.03283173],\n",
       "       [0.93782823, 0.89885351, 0.91678805, ..., 0.96745585, 0.95246819,\n",
       "        1.06800563],\n",
       "       [1.15222792, 0.89266008, 0.88662211, ..., 0.94150327, 0.98022411,\n",
       "        1.11281443]])"
      ]
     },
     "execution_count": 70,
     "metadata": {},
     "output_type": "execute_result"
    }
   ],
   "source": [
    "pca_estimator = PCA(n_components=2)\n",
    "pca_estimator.fit(X_obs)\n",
    "data_compressed = pca_estimator.fit_transform(X_obs)\n",
    "data_decompressed = pca_estimator.inverse_transform(data_compressed)\n",
    "data_decompressed_final = data_decompressed/np.mean(Z)\n",
    "data_decompressed_final"
   ]
  },
  {
   "cell_type": "markdown",
   "id": "c39a809b-4170-4db4-9889-d6580f80fce0",
   "metadata": {},
   "source": [
    "## Try this on Netflix data?"
   ]
  },
  {
   "cell_type": "code",
   "execution_count": 71,
   "id": "9998480d-dea5-4b1c-985a-fe07adc08546",
   "metadata": {},
   "outputs": [],
   "source": [
    "Netflix = pd.read_csv('Netflix.csv')"
   ]
  },
  {
   "cell_type": "code",
   "execution_count": 72,
   "id": "68a0e475-f049-484c-9104-682bb099a843",
   "metadata": {},
   "outputs": [
    {
     "data": {
      "text/html": [
       "<div>\n",
       "<style scoped>\n",
       "    .dataframe tbody tr th:only-of-type {\n",
       "        vertical-align: middle;\n",
       "    }\n",
       "\n",
       "    .dataframe tbody tr th {\n",
       "        vertical-align: top;\n",
       "    }\n",
       "\n",
       "    .dataframe thead th {\n",
       "        text-align: right;\n",
       "    }\n",
       "</style>\n",
       "<table border=\"1\" class=\"dataframe\">\n",
       "  <thead>\n",
       "    <tr style=\"text-align: right;\">\n",
       "      <th></th>\n",
       "      <th>V1</th>\n",
       "      <th>V2</th>\n",
       "      <th>V3</th>\n",
       "      <th>V4</th>\n",
       "      <th>V5</th>\n",
       "      <th>V6</th>\n",
       "      <th>V7</th>\n",
       "      <th>V8</th>\n",
       "      <th>V9</th>\n",
       "      <th>V10</th>\n",
       "      <th>...</th>\n",
       "      <th>V1232</th>\n",
       "      <th>V1233</th>\n",
       "      <th>V1234</th>\n",
       "      <th>V1235</th>\n",
       "      <th>V1236</th>\n",
       "      <th>V1237</th>\n",
       "      <th>V1238</th>\n",
       "      <th>V1239</th>\n",
       "      <th>V1240</th>\n",
       "      <th>V1241</th>\n",
       "    </tr>\n",
       "  </thead>\n",
       "  <tbody>\n",
       "    <tr>\n",
       "      <th>0</th>\n",
       "      <td>4</td>\n",
       "      <td>4</td>\n",
       "      <td>3</td>\n",
       "      <td>3</td>\n",
       "      <td>4</td>\n",
       "      <td>2</td>\n",
       "      <td>4</td>\n",
       "      <td>3</td>\n",
       "      <td>2</td>\n",
       "      <td>5</td>\n",
       "      <td>...</td>\n",
       "      <td>4</td>\n",
       "      <td>2</td>\n",
       "      <td>2</td>\n",
       "      <td>2</td>\n",
       "      <td>5</td>\n",
       "      <td>4</td>\n",
       "      <td>4</td>\n",
       "      <td>2</td>\n",
       "      <td>3</td>\n",
       "      <td>4</td>\n",
       "    </tr>\n",
       "    <tr>\n",
       "      <th>1</th>\n",
       "      <td>4</td>\n",
       "      <td>2</td>\n",
       "      <td>4</td>\n",
       "      <td>3</td>\n",
       "      <td>4</td>\n",
       "      <td>4</td>\n",
       "      <td>4</td>\n",
       "      <td>4</td>\n",
       "      <td>3</td>\n",
       "      <td>5</td>\n",
       "      <td>...</td>\n",
       "      <td>5</td>\n",
       "      <td>2</td>\n",
       "      <td>2</td>\n",
       "      <td>2</td>\n",
       "      <td>5</td>\n",
       "      <td>4</td>\n",
       "      <td>3</td>\n",
       "      <td>3</td>\n",
       "      <td>4</td>\n",
       "      <td>2</td>\n",
       "    </tr>\n",
       "    <tr>\n",
       "      <th>2</th>\n",
       "      <td>2</td>\n",
       "      <td>2</td>\n",
       "      <td>4</td>\n",
       "      <td>3</td>\n",
       "      <td>1</td>\n",
       "      <td>5</td>\n",
       "      <td>2</td>\n",
       "      <td>4</td>\n",
       "      <td>5</td>\n",
       "      <td>1</td>\n",
       "      <td>...</td>\n",
       "      <td>3</td>\n",
       "      <td>5</td>\n",
       "      <td>5</td>\n",
       "      <td>4</td>\n",
       "      <td>1</td>\n",
       "      <td>2</td>\n",
       "      <td>2</td>\n",
       "      <td>5</td>\n",
       "      <td>4</td>\n",
       "      <td>1</td>\n",
       "    </tr>\n",
       "    <tr>\n",
       "      <th>3</th>\n",
       "      <td>3</td>\n",
       "      <td>4</td>\n",
       "      <td>2</td>\n",
       "      <td>3</td>\n",
       "      <td>4</td>\n",
       "      <td>1</td>\n",
       "      <td>3</td>\n",
       "      <td>2</td>\n",
       "      <td>1</td>\n",
       "      <td>4</td>\n",
       "      <td>...</td>\n",
       "      <td>2</td>\n",
       "      <td>2</td>\n",
       "      <td>1</td>\n",
       "      <td>2</td>\n",
       "      <td>5</td>\n",
       "      <td>3</td>\n",
       "      <td>4</td>\n",
       "      <td>2</td>\n",
       "      <td>2</td>\n",
       "      <td>5</td>\n",
       "    </tr>\n",
       "    <tr>\n",
       "      <th>4</th>\n",
       "      <td>5</td>\n",
       "      <td>2</td>\n",
       "      <td>5</td>\n",
       "      <td>2</td>\n",
       "      <td>5</td>\n",
       "      <td>4</td>\n",
       "      <td>5</td>\n",
       "      <td>5</td>\n",
       "      <td>2</td>\n",
       "      <td>5</td>\n",
       "      <td>...</td>\n",
       "      <td>5</td>\n",
       "      <td>1</td>\n",
       "      <td>1</td>\n",
       "      <td>1</td>\n",
       "      <td>5</td>\n",
       "      <td>5</td>\n",
       "      <td>4</td>\n",
       "      <td>2</td>\n",
       "      <td>5</td>\n",
       "      <td>2</td>\n",
       "    </tr>\n",
       "    <tr>\n",
       "      <th>...</th>\n",
       "      <td>...</td>\n",
       "      <td>...</td>\n",
       "      <td>...</td>\n",
       "      <td>...</td>\n",
       "      <td>...</td>\n",
       "      <td>...</td>\n",
       "      <td>...</td>\n",
       "      <td>...</td>\n",
       "      <td>...</td>\n",
       "      <td>...</td>\n",
       "      <td>...</td>\n",
       "      <td>...</td>\n",
       "      <td>...</td>\n",
       "      <td>...</td>\n",
       "      <td>...</td>\n",
       "      <td>...</td>\n",
       "      <td>...</td>\n",
       "      <td>...</td>\n",
       "      <td>...</td>\n",
       "      <td>...</td>\n",
       "      <td>...</td>\n",
       "    </tr>\n",
       "    <tr>\n",
       "      <th>2407</th>\n",
       "      <td>5</td>\n",
       "      <td>5</td>\n",
       "      <td>2</td>\n",
       "      <td>3</td>\n",
       "      <td>5</td>\n",
       "      <td>1</td>\n",
       "      <td>4</td>\n",
       "      <td>1</td>\n",
       "      <td>1</td>\n",
       "      <td>5</td>\n",
       "      <td>...</td>\n",
       "      <td>4</td>\n",
       "      <td>1</td>\n",
       "      <td>1</td>\n",
       "      <td>1</td>\n",
       "      <td>5</td>\n",
       "      <td>5</td>\n",
       "      <td>5</td>\n",
       "      <td>1</td>\n",
       "      <td>2</td>\n",
       "      <td>5</td>\n",
       "    </tr>\n",
       "    <tr>\n",
       "      <th>2408</th>\n",
       "      <td>1</td>\n",
       "      <td>4</td>\n",
       "      <td>2</td>\n",
       "      <td>4</td>\n",
       "      <td>1</td>\n",
       "      <td>2</td>\n",
       "      <td>2</td>\n",
       "      <td>1</td>\n",
       "      <td>3</td>\n",
       "      <td>1</td>\n",
       "      <td>...</td>\n",
       "      <td>1</td>\n",
       "      <td>5</td>\n",
       "      <td>5</td>\n",
       "      <td>4</td>\n",
       "      <td>1</td>\n",
       "      <td>1</td>\n",
       "      <td>2</td>\n",
       "      <td>4</td>\n",
       "      <td>2</td>\n",
       "      <td>4</td>\n",
       "    </tr>\n",
       "    <tr>\n",
       "      <th>2409</th>\n",
       "      <td>1</td>\n",
       "      <td>5</td>\n",
       "      <td>1</td>\n",
       "      <td>4</td>\n",
       "      <td>1</td>\n",
       "      <td>1</td>\n",
       "      <td>1</td>\n",
       "      <td>1</td>\n",
       "      <td>2</td>\n",
       "      <td>1</td>\n",
       "      <td>...</td>\n",
       "      <td>1</td>\n",
       "      <td>5</td>\n",
       "      <td>5</td>\n",
       "      <td>5</td>\n",
       "      <td>1</td>\n",
       "      <td>1</td>\n",
       "      <td>3</td>\n",
       "      <td>3</td>\n",
       "      <td>1</td>\n",
       "      <td>5</td>\n",
       "    </tr>\n",
       "    <tr>\n",
       "      <th>2410</th>\n",
       "      <td>1</td>\n",
       "      <td>2</td>\n",
       "      <td>3</td>\n",
       "      <td>4</td>\n",
       "      <td>1</td>\n",
       "      <td>4</td>\n",
       "      <td>2</td>\n",
       "      <td>3</td>\n",
       "      <td>5</td>\n",
       "      <td>1</td>\n",
       "      <td>...</td>\n",
       "      <td>1</td>\n",
       "      <td>5</td>\n",
       "      <td>5</td>\n",
       "      <td>5</td>\n",
       "      <td>1</td>\n",
       "      <td>1</td>\n",
       "      <td>1</td>\n",
       "      <td>5</td>\n",
       "      <td>2</td>\n",
       "      <td>1</td>\n",
       "    </tr>\n",
       "    <tr>\n",
       "      <th>2411</th>\n",
       "      <td>5</td>\n",
       "      <td>2</td>\n",
       "      <td>4</td>\n",
       "      <td>3</td>\n",
       "      <td>4</td>\n",
       "      <td>4</td>\n",
       "      <td>4</td>\n",
       "      <td>4</td>\n",
       "      <td>4</td>\n",
       "      <td>5</td>\n",
       "      <td>...</td>\n",
       "      <td>5</td>\n",
       "      <td>2</td>\n",
       "      <td>2</td>\n",
       "      <td>2</td>\n",
       "      <td>5</td>\n",
       "      <td>4</td>\n",
       "      <td>3</td>\n",
       "      <td>3</td>\n",
       "      <td>4</td>\n",
       "      <td>2</td>\n",
       "    </tr>\n",
       "  </tbody>\n",
       "</table>\n",
       "<p>2412 rows × 1241 columns</p>\n",
       "</div>"
      ],
      "text/plain": [
       "      V1  V2  V3  V4  V5  V6  V7  V8  V9  V10  ...  V1232  V1233  V1234  \\\n",
       "0      4   4   3   3   4   2   4   3   2    5  ...      4      2      2   \n",
       "1      4   2   4   3   4   4   4   4   3    5  ...      5      2      2   \n",
       "2      2   2   4   3   1   5   2   4   5    1  ...      3      5      5   \n",
       "3      3   4   2   3   4   1   3   2   1    4  ...      2      2      1   \n",
       "4      5   2   5   2   5   4   5   5   2    5  ...      5      1      1   \n",
       "...   ..  ..  ..  ..  ..  ..  ..  ..  ..  ...  ...    ...    ...    ...   \n",
       "2407   5   5   2   3   5   1   4   1   1    5  ...      4      1      1   \n",
       "2408   1   4   2   4   1   2   2   1   3    1  ...      1      5      5   \n",
       "2409   1   5   1   4   1   1   1   1   2    1  ...      1      5      5   \n",
       "2410   1   2   3   4   1   4   2   3   5    1  ...      1      5      5   \n",
       "2411   5   2   4   3   4   4   4   4   4    5  ...      5      2      2   \n",
       "\n",
       "      V1235  V1236  V1237  V1238  V1239  V1240  V1241  \n",
       "0         2      5      4      4      2      3      4  \n",
       "1         2      5      4      3      3      4      2  \n",
       "2         4      1      2      2      5      4      1  \n",
       "3         2      5      3      4      2      2      5  \n",
       "4         1      5      5      4      2      5      2  \n",
       "...     ...    ...    ...    ...    ...    ...    ...  \n",
       "2407      1      5      5      5      1      2      5  \n",
       "2408      4      1      1      2      4      2      4  \n",
       "2409      5      1      1      3      3      1      5  \n",
       "2410      5      1      1      1      5      2      1  \n",
       "2411      2      5      4      3      3      4      2  \n",
       "\n",
       "[2412 rows x 1241 columns]"
      ]
     },
     "execution_count": 72,
     "metadata": {},
     "output_type": "execute_result"
    }
   ],
   "source": [
    "Netflix"
   ]
  },
  {
   "cell_type": "code",
   "execution_count": 73,
   "id": "dd4ff9c4-83e0-48ac-8408-37eed92e8faf",
   "metadata": {},
   "outputs": [],
   "source": [
    "data=Netflix.to_numpy()"
   ]
  },
  {
   "cell_type": "code",
   "execution_count": 74,
   "id": "47e6fce7-07f4-4ddc-90b2-36af4a0e8c77",
   "metadata": {},
   "outputs": [
    {
     "data": {
      "text/plain": [
       "array([[4, 4, 3, ..., 2, 3, 4],\n",
       "       [4, 2, 4, ..., 3, 4, 2],\n",
       "       [2, 2, 4, ..., 5, 4, 1],\n",
       "       ...,\n",
       "       [1, 5, 1, ..., 3, 1, 5],\n",
       "       [1, 2, 3, ..., 5, 2, 1],\n",
       "       [5, 2, 4, ..., 3, 4, 2]])"
      ]
     },
     "execution_count": 74,
     "metadata": {},
     "output_type": "execute_result"
    }
   ],
   "source": [
    "data"
   ]
  },
  {
   "cell_type": "code",
   "execution_count": 75,
   "id": "681e48d7-2176-46fb-a27c-181e5af07411",
   "metadata": {},
   "outputs": [
    {
     "data": {
      "text/plain": [
       "array([[0, 4, 0, ..., 2, 0, 0],\n",
       "       [4, 0, 4, ..., 3, 4, 2],\n",
       "       [2, 2, 0, ..., 0, 0, 0],\n",
       "       ...,\n",
       "       [0, 5, 0, ..., 3, 0, 0],\n",
       "       [1, 0, 0, ..., 5, 2, 1],\n",
       "       [5, 2, 0, ..., 0, 0, 2]])"
      ]
     },
     "execution_count": 75,
     "metadata": {},
     "output_type": "execute_result"
    }
   ],
   "source": [
    "n=2412\n",
    "p=1241\n",
    "rho=0.5 # probability of observing the entry\n",
    "Z=np.random.binomial(1, rho, size=(n,p)) # generate Bernoulli variables with mean equal to rho\n",
    "X_obs=np.multiply(data,Z) # this is entry-wise multiplication, not the usual matrix multiplication.\n",
    "X_obs"
   ]
  },
  {
   "cell_type": "code",
   "execution_count": 78,
   "id": "c615e2e5",
   "metadata": {},
   "outputs": [
    {
     "data": {
      "text/plain": [
       "array([[3.83036234, 3.7975911 , 2.76975457, ..., 1.6472015 , 3.0025566 ,\n",
       "        4.09466389],\n",
       "       [4.57168383, 2.07770505, 4.37814857, ..., 2.76907544, 4.62564242,\n",
       "        2.38558019],\n",
       "       [2.20934531, 1.69854159, 3.97362842, ..., 4.5648923 , 3.71103373,\n",
       "        1.17088505],\n",
       "       ...,\n",
       "       [0.39763675, 4.9700959 , 0.79346338, ..., 2.67706683, 0.421308  ,\n",
       "        4.28867128],\n",
       "       [1.02239969, 2.38149435, 3.06669101, ..., 4.66662094, 2.61685928,\n",
       "        1.55344104],\n",
       "       [4.07517908, 2.20575957, 4.12576239, ..., 2.95610262, 4.28247234,\n",
       "        2.36642787]])"
      ]
     },
     "execution_count": 78,
     "metadata": {},
     "output_type": "execute_result"
    }
   ],
   "source": [
    "pca_estimator = PCA(n_components=2)\n",
    "pca_estimator.fit(X_obs)\n",
    "data_compressed = pca_estimator.fit_transform(X_obs)\n",
    "data_decompressed = pca_estimator.inverse_transform(data_compressed)\n",
    "data_decompressed_final = data_decompressed/np.mean(Z)\n",
    "data_decompressed_final"
   ]
  },
  {
   "cell_type": "code",
   "execution_count": 79,
   "id": "4bc17ab2",
   "metadata": {},
   "outputs": [
    {
     "data": {
      "text/plain": [
       "array([[4., 4., 3., ..., 2., 3., 4.],\n",
       "       [5., 2., 4., ..., 3., 5., 2.],\n",
       "       [2., 2., 4., ..., 5., 4., 1.],\n",
       "       ...,\n",
       "       [0., 5., 1., ..., 3., 0., 4.],\n",
       "       [1., 2., 3., ..., 5., 3., 2.],\n",
       "       [4., 2., 4., ..., 3., 4., 2.]])"
      ]
     },
     "execution_count": 79,
     "metadata": {},
     "output_type": "execute_result"
    }
   ],
   "source": [
    "data_decompressed_final.round()"
   ]
  },
  {
   "cell_type": "code",
   "execution_count": null,
   "id": "1476931b",
   "metadata": {},
   "outputs": [],
   "source": []
  }
 ],
 "metadata": {
  "kernelspec": {
   "display_name": "Python 3 (ipykernel)",
   "language": "python",
   "name": "python3"
  },
  "language_info": {
   "codemirror_mode": {
    "name": "ipython",
    "version": 3
   },
   "file_extension": ".py",
   "mimetype": "text/x-python",
   "name": "python",
   "nbconvert_exporter": "python",
   "pygments_lexer": "ipython3",
   "version": "3.8.13"
  },
  "varInspector": {
   "cols": {
    "lenName": 16,
    "lenType": 16,
    "lenVar": 40
   },
   "kernels_config": {
    "python": {
     "delete_cmd_postfix": "",
     "delete_cmd_prefix": "del ",
     "library": "var_list.py",
     "varRefreshCmd": "print(var_dic_list())"
    },
    "r": {
     "delete_cmd_postfix": ") ",
     "delete_cmd_prefix": "rm(",
     "library": "var_list.r",
     "varRefreshCmd": "cat(var_dic_list()) "
    }
   },
   "types_to_exclude": [
    "module",
    "function",
    "builtin_function_or_method",
    "instance",
    "_Feature"
   ],
   "window_display": false
  }
 },
 "nbformat": 4,
 "nbformat_minor": 5
}
