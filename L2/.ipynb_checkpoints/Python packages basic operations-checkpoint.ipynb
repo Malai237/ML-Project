{
 "cells": [
  {
   "cell_type": "markdown",
   "id": "dangerous-growing",
   "metadata": {},
   "source": [
    "# Notebook 1: Intro to python packages for data analysis\n",
    "\n",
    "COSI/ECON-148B-1 : Introduction to Machine Learning with Economic Applications\n",
    "\n",
    "Zizhang Chen\n",
    "\n",
    "[zizhang2@brandeis.edu](mailto:zizhang2@brandeis.edu)"
   ]
  },
  {
   "cell_type": "markdown",
   "id": "abstract-hours",
   "metadata": {},
   "source": [
    "## 1. NumPy"
   ]
  },
  {
   "cell_type": "code",
   "execution_count": 2,
   "id": "smooth-silver",
   "metadata": {},
   "outputs": [],
   "source": [
    "import numpy as np"
   ]
  },
  {
   "cell_type": "code",
   "execution_count": 2,
   "id": "checked-registrar",
   "metadata": {},
   "outputs": [
    {
     "name": "stdout",
     "output_type": "stream",
     "text": [
      "[1 2 3 4 5]\n"
     ]
    }
   ],
   "source": [
    "# Create a numpy array from a list\n",
    "aList = [1, 2, 3, 4, 5]\n",
    "numpy_array = np.array( aList )\n",
    "print( numpy_array )"
   ]
  },
  {
   "cell_type": "code",
   "execution_count": 3,
   "id": "twenty-guinea",
   "metadata": {},
   "outputs": [
    {
     "data": {
      "text/plain": [
       "array([[1, 2, 3],\n",
       "       [4, 5, 6]])"
      ]
     },
     "execution_count": 3,
     "metadata": {},
     "output_type": "execute_result"
    }
   ],
   "source": [
    "# Create a 2-D matrix from lists\n",
    "np.array([[1, 2, 3],\n",
    "          [4, 5, 6]])"
   ]
  },
  {
   "cell_type": "code",
   "execution_count": 13,
   "id": "isolated-american",
   "metadata": {},
   "outputs": [
    {
     "name": "stdout",
     "output_type": "stream",
     "text": [
      "a3Darray =  [[[0. 0. 0. 0.]\n",
      "  [0. 0. 0. 0.]\n",
      "  [0. 0. 0. 0.]]\n",
      "\n",
      " [[0. 0. 0. 0.]\n",
      "  [0. 0. 0. 0.]\n",
      "  [0. 0. 0. 0.]]]\n",
      "Dimensions of a3Darray:  (2, 3, 4)\n"
     ]
    }
   ],
   "source": [
    "# create a 3-D matrix\n",
    "a3Darray = np.zeros((2,3,4))\n",
    "print( 'a3Darray = ', a3Darray )"
   ]
  },
  {
   "cell_type": "code",
   "execution_count": 16,
   "id": "rational-compact",
   "metadata": {},
   "outputs": [
    {
     "name": "stdout",
     "output_type": "stream",
     "text": [
      "[[[ 0.  0.  0.  0.]\n",
      "  [ 0.  0.  0.  0.]\n",
      "  [ 0.  0.  0.  0.]]\n",
      "\n",
      " [[ 0.  0.  0.  0.]\n",
      "  [ 0. 10.  0.  0.]\n",
      "  [ 0. 10.  0.  0.]]]\n"
     ]
    }
   ],
   "source": [
    "# Accessing one element in a matrix\n",
    "a3Darray[1, 1, 1] = 10\n",
    "print( a3Darray )"
   ]
  },
  {
   "cell_type": "code",
   "execution_count": 17,
   "id": "unnecessary-corpus",
   "metadata": {},
   "outputs": [
    {
     "name": "stdout",
     "output_type": "stream",
     "text": [
      "[[[ 0.  0.  0.  0.]\n",
      "  [ 0.  0.  0.  0.]\n",
      "  [ 0.  0.  0.  0.]]\n",
      "\n",
      " [[ 0.  0.  0.  0.]\n",
      "  [ 0. 10.  0.  0.]\n",
      "  [ 0. 10.  0.  0.]]]\n"
     ]
    }
   ],
   "source": [
    "# Accessing multiple elements in a matrix\n",
    "a3Darray[1, 1:3, 1] = 10\n",
    "print( a3Darray )"
   ]
  },
  {
   "cell_type": "code",
   "execution_count": null,
   "id": "completed-comparison",
   "metadata": {},
   "outputs": [],
   "source": [
    "# Try: make all elements in a3Darray = 3"
   ]
  },
  {
   "cell_type": "code",
   "execution_count": null,
   "id": "amber-oracle",
   "metadata": {},
   "outputs": [],
   "source": [
    "# Try: make the a3Darray equal to \n",
    "# [[[ 0.  0.  0.  0.]\n",
    "#   [ 0. 10.  0.  0.]\n",
    "#   [ 0. 10.  0.  0.]]\n",
    "#  [[ 0.  0.  0.  0.]\n",
    "#   [ 0. 10.  0.  0.]\n",
    "#   [ 0. 10.  0.  0.]]]"
   ]
  },
  {
   "cell_type": "markdown",
   "id": "cordless-specific",
   "metadata": {},
   "source": [
    "### 1.1 Some useful functions"
   ]
  },
  {
   "cell_type": "code",
   "execution_count": 8,
   "id": "floral-duplicate",
   "metadata": {},
   "outputs": [
    {
     "data": {
      "text/plain": [
       "array([0, 1, 2, 3, 4])"
      ]
     },
     "execution_count": 8,
     "metadata": {},
     "output_type": "execute_result"
    }
   ],
   "source": [
    "# Create an array to contain a range of elements\n",
    "np.arange(5)"
   ]
  },
  {
   "cell_type": "code",
   "execution_count": 4,
   "id": "martial-republic",
   "metadata": {},
   "outputs": [
    {
     "data": {
      "text/plain": [
       "array([0, 2, 4, 6, 8])"
      ]
     },
     "execution_count": 4,
     "metadata": {},
     "output_type": "execute_result"
    }
   ],
   "source": [
    "# array with a range of elements with specific step size\n",
    "# Start from 0 to 10 step size 2\n",
    "np.arange(0, 10, 2)"
   ]
  },
  {
   "cell_type": "code",
   "execution_count": 10,
   "id": "german-matter",
   "metadata": {},
   "outputs": [
    {
     "name": "stdout",
     "output_type": "stream",
     "text": [
      "(2, 3)\n"
     ]
    }
   ],
   "source": [
    "# a is a two rows, three column matrix\n",
    "a = np.array([[1, 2, 3], [4, 5, 6]])\n",
    "print(a.shape)"
   ]
  },
  {
   "cell_type": "code",
   "execution_count": 11,
   "id": "recorded-vietnamese",
   "metadata": {},
   "outputs": [
    {
     "name": "stdout",
     "output_type": "stream",
     "text": [
      "(2, 2, 3)\n"
     ]
    }
   ],
   "source": [
    "# You can think of b as two stacked 2*3 matrices \n",
    "b = np.array([[[ 1,  2,  3],\n",
    "               [ 4,  5,  6]],\n",
    "              [[ 7,  8,  9],\n",
    "               [10, 11, 12]]])\n",
    "print(b.shape)"
   ]
  },
  {
   "cell_type": "markdown",
   "id": "regional-river",
   "metadata": {},
   "source": [
    "### 1.2 Basic operations"
   ]
  },
  {
   "cell_type": "markdown",
   "id": "breathing-tension",
   "metadata": {},
   "source": [
    "#### 1.2.1 Sorting"
   ]
  },
  {
   "cell_type": "code",
   "execution_count": 12,
   "id": "compact-auction",
   "metadata": {},
   "outputs": [
    {
     "data": {
      "text/plain": [
       "array([1, 2, 3, 4, 5, 6, 7, 8])"
      ]
     },
     "execution_count": 12,
     "metadata": {},
     "output_type": "execute_result"
    }
   ],
   "source": [
    "arr = np.array([2, 1, 5, 3, 7, 4, 6, 8])\n",
    "np.sort(arr)"
   ]
  },
  {
   "cell_type": "markdown",
   "id": "empty-battlefield",
   "metadata": {},
   "source": [
    "#### 1.2.2 Concatenating two arrays"
   ]
  },
  {
   "cell_type": "code",
   "execution_count": 9,
   "id": "qualified-colonial",
   "metadata": {},
   "outputs": [
    {
     "data": {
      "text/plain": [
       "array([1, 2, 3, 4, 5, 6, 7, 8])"
      ]
     },
     "execution_count": 9,
     "metadata": {},
     "output_type": "execute_result"
    }
   ],
   "source": [
    "a = np.array([1, 2, 3, 4])\n",
    "b = np.array([5, 6, 7, 8])\n",
    "np.concatenate((a, b))"
   ]
  },
  {
   "cell_type": "code",
   "execution_count": 12,
   "id": "israeli-handbook",
   "metadata": {},
   "outputs": [
    {
     "data": {
      "text/plain": [
       "array([[1, 2],\n",
       "       [3, 4],\n",
       "       [5, 6],\n",
       "       [7, 8]])"
      ]
     },
     "execution_count": 12,
     "metadata": {},
     "output_type": "execute_result"
    }
   ],
   "source": [
    "# for 2-d array, concatnate by dimension\n",
    "a = np.array([[1, 2], [3, 4]])\n",
    "b = np.array([[5, 6], [7, 8]])\n",
    "np.concatenate([a, b], axis = 0)"
   ]
  },
  {
   "cell_type": "code",
   "execution_count": 16,
   "id": "hungarian-england",
   "metadata": {},
   "outputs": [
    {
     "data": {
      "text/plain": [
       "array([[1, 2, 5, 6],\n",
       "       [3, 4, 7, 8]])"
      ]
     },
     "execution_count": 16,
     "metadata": {},
     "output_type": "execute_result"
    }
   ],
   "source": [
    "np.concatenate([a, b], axis = 1)"
   ]
  },
  {
   "cell_type": "markdown",
   "id": "preliminary-natural",
   "metadata": {},
   "source": [
    "#### 1.2.3 +, * operators and broadcasting\n",
    "\n",
    "- The term broadcasting describes how NumPy treats arrays with different shapes during arithmetic operations. \n",
    "- For the full details on broadcasting, read the official [broadcasting documentation (http://docs.scipy.org/doc/numpy/user/basics.broadcasting.html).\n",
    "\n",
    "- **All the below examples are from the NumPy documentation**."
   ]
  },
  {
   "cell_type": "markdown",
   "id": "afraid-fantasy",
   "metadata": {},
   "source": [
    "Let's start with a simple example\n",
    "\n",
    "NumPy operations are usually done on pairs of arrays, with the same length on an element-by-element basis. \n",
    "\n",
    "While, broadcasting rule relaxes this constraint when the arrays’ shapes meet certain constraints"
   ]
  },
  {
   "cell_type": "code",
   "execution_count": 68,
   "id": "amazing-mineral",
   "metadata": {},
   "outputs": [
    {
     "data": {
      "text/plain": [
       "array([2., 4., 6.])"
      ]
     },
     "execution_count": 68,
     "metadata": {},
     "output_type": "execute_result"
    }
   ],
   "source": [
    "a = np.array([1.0, 2.0, 3.0])\n",
    "b = np.array([2.0, 2.0, 2.0])\n",
    "a * b"
   ]
  },
  {
   "cell_type": "code",
   "execution_count": 69,
   "id": "polished-server",
   "metadata": {},
   "outputs": [
    {
     "data": {
      "text/plain": [
       "array([[ 1.,  2.,  3.],\n",
       "       [11., 12., 13.],\n",
       "       [21., 22., 23.],\n",
       "       [31., 32., 33.]])"
      ]
     },
     "execution_count": 69,
     "metadata": {},
     "output_type": "execute_result"
    }
   ],
   "source": [
    "a = np.array([[ 0.0,  0.0,  0.0],\n",
    "              [10.0, 10.0, 10.0],\n",
    "              [20.0, 20.0, 20.0],\n",
    "              [30.0, 30.0, 30.0]])\n",
    "b = np.array([1.0, 2.0, 3.0])\n",
    "a + b"
   ]
  },
  {
   "cell_type": "markdown",
   "id": "still-yacht",
   "metadata": {},
   "source": [
    "#### 1.2.4 Change the array shape"
   ]
  },
  {
   "cell_type": "code",
   "execution_count": 70,
   "id": "functioning-methodology",
   "metadata": {},
   "outputs": [
    {
     "name": "stdout",
     "output_type": "stream",
     "text": [
      "[[1 2 3]\n",
      " [4 5 6]]\n"
     ]
    },
    {
     "data": {
      "text/plain": [
       "array([1, 2, 3, 4, 5, 6])"
      ]
     },
     "execution_count": 70,
     "metadata": {},
     "output_type": "execute_result"
    }
   ],
   "source": [
    "# Flatten an array\n",
    "x = np.array([[1, 2, 3], [4, 5, 6]])\n",
    "print(x)\n",
    "np.ravel(x)"
   ]
  },
  {
   "cell_type": "code",
   "execution_count": 72,
   "id": "indie-integer",
   "metadata": {},
   "outputs": [
    {
     "name": "stdout",
     "output_type": "stream",
     "text": [
      "[1 2 3 4 5 6]\n"
     ]
    }
   ],
   "source": [
    "# Another way to flatten an array\n",
    "x = x.reshape(-1)\n",
    "print(x)"
   ]
  },
  {
   "cell_type": "code",
   "execution_count": 73,
   "id": "overall-figure",
   "metadata": {},
   "outputs": [
    {
     "name": "stdout",
     "output_type": "stream",
     "text": [
      "[[0 1]\n",
      " [2 3]\n",
      " [4 5]]\n"
     ]
    }
   ],
   "source": [
    "# Reshape an array\n",
    "a = np.arange(6).reshape((3, 2))\n",
    "print(a )"
   ]
  },
  {
   "cell_type": "code",
   "execution_count": 74,
   "id": "earned-shelf",
   "metadata": {},
   "outputs": [
    {
     "data": {
      "text/plain": [
       "array([[0, 1, 2],\n",
       "       [3, 4, 5]])"
      ]
     },
     "execution_count": 74,
     "metadata": {},
     "output_type": "execute_result"
    }
   ],
   "source": [
    "np.reshape(a, (2, 3))"
   ]
  },
  {
   "cell_type": "code",
   "execution_count": 76,
   "id": "valid-tribune",
   "metadata": {},
   "outputs": [
    {
     "name": "stdout",
     "output_type": "stream",
     "text": [
      "[[1 2]\n",
      " [3 4]] \n",
      "\n",
      "[[1 3]\n",
      " [2 4]]\n"
     ]
    }
   ],
   "source": [
    "# Transpose an array\n",
    "a = np.array([[1, 2], [3, 4]])\n",
    "print(a, '\\n')\n",
    "\n",
    "b = np.transpose(a)\n",
    "print(b)"
   ]
  },
  {
   "cell_type": "markdown",
   "id": "alpine-concern",
   "metadata": {},
   "source": [
    "#### 1.2.5 Indexing array"
   ]
  },
  {
   "cell_type": "code",
   "execution_count": 77,
   "id": "southwest-spectacular",
   "metadata": {},
   "outputs": [
    {
     "data": {
      "text/plain": [
       "array([[ 0,  1,  2],\n",
       "       [ 3,  4,  5],\n",
       "       [ 6,  7,  8],\n",
       "       [ 9, 10, 11]])"
      ]
     },
     "execution_count": 77,
     "metadata": {},
     "output_type": "execute_result"
    }
   ],
   "source": [
    "a = np.arange(12).reshape(4, 3)\n",
    "a"
   ]
  },
  {
   "cell_type": "code",
   "execution_count": 78,
   "id": "automotive-winner",
   "metadata": {},
   "outputs": [
    {
     "name": "stdout",
     "output_type": "stream",
     "text": [
      "The element at the 2nd row and 2nd column: 4\n"
     ]
    }
   ],
   "source": [
    "print('The element at the 2nd row and 2nd column:', a[1, 1])"
   ]
  },
  {
   "cell_type": "code",
   "execution_count": 79,
   "id": "subjective-girlfriend",
   "metadata": {},
   "outputs": [
    {
     "name": "stdout",
     "output_type": "stream",
     "text": [
      "slicing the first 2 row and first 2 columns \n",
      " [[0 1]\n",
      " [3 4]]\n"
     ]
    }
   ],
   "source": [
    "temp = a[:2, :2]\n",
    "print('slicing the first 2 row and first 2 columns \\n', temp)"
   ]
  },
  {
   "cell_type": "code",
   "execution_count": 80,
   "id": "particular-transparency",
   "metadata": {},
   "outputs": [
    {
     "name": "stdout",
     "output_type": "stream",
     "text": [
      "slicing the odd rows and odd columns \n",
      " [[0 2]\n",
      " [6 8]]\n"
     ]
    }
   ],
   "source": [
    "temp2 = a[::2, ::2]\n",
    "print('slicing the odd rows and odd columns \\n', temp2)"
   ]
  },
  {
   "cell_type": "markdown",
   "id": "historic-istanbul",
   "metadata": {},
   "source": [
    "Boolean array indexing: pick elements from array which satisfy some condition."
   ]
  },
  {
   "cell_type": "code",
   "execution_count": 81,
   "id": "outdoor-terrain",
   "metadata": {},
   "outputs": [
    {
     "data": {
      "text/plain": [
       "array([1, 6, 5, 0, 2, 3, 7, 4, 8, 9])"
      ]
     },
     "execution_count": 81,
     "metadata": {},
     "output_type": "execute_result"
    }
   ],
   "source": [
    "b = np.arange(10)\n",
    "np.random.shuffle(b)\n",
    "b"
   ]
  },
  {
   "cell_type": "code",
   "execution_count": 82,
   "id": "stopped-weight",
   "metadata": {},
   "outputs": [
    {
     "name": "stdout",
     "output_type": "stream",
     "text": [
      "[6 5 7 8 9]\n"
     ]
    }
   ],
   "source": [
    "# select element greater or equal to 5\n",
    "five_up = (b >= 5)\n",
    "print(b[five_up])"
   ]
  },
  {
   "cell_type": "code",
   "execution_count": 83,
   "id": "miniature-twelve",
   "metadata": {},
   "outputs": [
    {
     "name": "stdout",
     "output_type": "stream",
     "text": [
      "[6 0 2 4 8]\n"
     ]
    }
   ],
   "source": [
    "# select elements that are divisible by 2:\n",
    "divisible_by_2 = b[b%2==0]\n",
    "print(divisible_by_2)"
   ]
  },
  {
   "cell_type": "code",
   "execution_count": 84,
   "id": "arctic-paradise",
   "metadata": {},
   "outputs": [
    {
     "name": "stdout",
     "output_type": "stream",
     "text": [
      "[6 5 3 7 4 8 9]\n"
     ]
    }
   ],
   "source": [
    "# select elements within certain range\n",
    "c = b[(b > 2) & (b < 11)]\n",
    "print(c)"
   ]
  },
  {
   "cell_type": "markdown",
   "id": "complimentary-indication",
   "metadata": {},
   "source": [
    "##### 1.2.5 Insert, delete and repeat"
   ]
  },
  {
   "cell_type": "code",
   "execution_count": 85,
   "id": "subsequent-platinum",
   "metadata": {},
   "outputs": [
    {
     "data": {
      "text/plain": [
       "array([1, 2, 3, 4, 5])"
      ]
     },
     "execution_count": 85,
     "metadata": {},
     "output_type": "execute_result"
    }
   ],
   "source": [
    "a = np.array([1, 2, 3, 4, 5])\n",
    "a"
   ]
  },
  {
   "cell_type": "code",
   "execution_count": 86,
   "id": "fewer-formation",
   "metadata": {},
   "outputs": [
    {
     "data": {
      "text/plain": [
       "array([1, 5, 2, 3, 4, 5])"
      ]
     },
     "execution_count": 86,
     "metadata": {},
     "output_type": "execute_result"
    }
   ],
   "source": [
    "# insert 5 at position 1\n",
    "np.insert(a, 1, values = 5)"
   ]
  },
  {
   "cell_type": "code",
   "execution_count": 87,
   "id": "specific-narrow",
   "metadata": {},
   "outputs": [
    {
     "data": {
      "text/plain": [
       "array([[1, 1],\n",
       "       [2, 2],\n",
       "       [3, 3]])"
      ]
     },
     "execution_count": 87,
     "metadata": {},
     "output_type": "execute_result"
    }
   ],
   "source": [
    "a = np.array([[1, 1], [2, 2], [3, 3]])\n",
    "a"
   ]
  },
  {
   "cell_type": "code",
   "execution_count": 88,
   "id": "elect-marks",
   "metadata": {},
   "outputs": [
    {
     "data": {
      "text/plain": [
       "array([1, 5, 1, 2, 2, 3, 3])"
      ]
     },
     "execution_count": 88,
     "metadata": {},
     "output_type": "execute_result"
    }
   ],
   "source": [
    "# if axis(dimension) is not specified, then, the array is flattened first \n",
    "np.insert(a, 1, 5)"
   ]
  },
  {
   "cell_type": "code",
   "execution_count": 89,
   "id": "young-leader",
   "metadata": {},
   "outputs": [
    {
     "data": {
      "text/plain": [
       "array([[1, 5, 1],\n",
       "       [2, 5, 2],\n",
       "       [3, 5, 3]])"
      ]
     },
     "execution_count": 89,
     "metadata": {},
     "output_type": "execute_result"
    }
   ],
   "source": [
    "np.insert(a, 1, 5, axis=1)"
   ]
  },
  {
   "cell_type": "code",
   "execution_count": 90,
   "id": "terminal-tamil",
   "metadata": {},
   "outputs": [
    {
     "name": "stdout",
     "output_type": "stream",
     "text": [
      "[0 1 2 3 4 5 6 7 8 9]\n",
      "deleting the values at position 0, 2, 4\n",
      "[1 3 5 6 7 8 9]\n"
     ]
    }
   ],
   "source": [
    "# Use a Boolean mask to delete elements in an array\n",
    "arr = np.arange(10)\n",
    "print(arr)\n",
    "mask = np.ones(len(arr), dtype=bool)\n",
    "print('deleting the values at position 0, 2, 4')\n",
    "mask[[0,2,4]] = False\n",
    "result = arr[mask]\n",
    "print(result)"
   ]
  },
  {
   "cell_type": "code",
   "execution_count": 91,
   "id": "specified-hormone",
   "metadata": {},
   "outputs": [
    {
     "data": {
      "text/plain": [
       "array([9, 9, 9, 9])"
      ]
     },
     "execution_count": 91,
     "metadata": {},
     "output_type": "execute_result"
    }
   ],
   "source": [
    "# Create an array containing four 9's\n",
    "np.repeat(9, 4)"
   ]
  },
  {
   "cell_type": "markdown",
   "id": "greek-omega",
   "metadata": {},
   "source": [
    "### 1.3 Apply mathematical functions to an array"
   ]
  },
  {
   "cell_type": "code",
   "execution_count": 13,
   "id": "southwest-category",
   "metadata": {},
   "outputs": [
    {
     "name": "stdout",
     "output_type": "stream",
     "text": [
      "[[1. 2.]\n",
      " [3. 4.]]\n"
     ]
    },
    {
     "data": {
      "text/plain": [
       "24.0"
      ]
     },
     "execution_count": 13,
     "metadata": {},
     "output_type": "execute_result"
    }
   ],
   "source": [
    "# when dimension is not specified, return the product of all elements\n",
    "a = np.array([[1., 2.], [3., 4.]])\n",
    "print(a)\n",
    "np.prod(a)"
   ]
  },
  {
   "cell_type": "code",
   "execution_count": 15,
   "id": "intense-sympathy",
   "metadata": {},
   "outputs": [
    {
     "data": {
      "text/plain": [
       "array([3., 8.])"
      ]
     },
     "execution_count": 15,
     "metadata": {},
     "output_type": "execute_result"
    }
   ],
   "source": [
    "# product by columns\n",
    "np.prod(a, axis=0)"
   ]
  },
  {
   "cell_type": "code",
   "execution_count": 17,
   "id": "gross-means",
   "metadata": {},
   "outputs": [
    {
     "data": {
      "text/plain": [
       "array([ 2., 12.])"
      ]
     },
     "execution_count": 17,
     "metadata": {},
     "output_type": "execute_result"
    }
   ],
   "source": [
    "# product by rows\n",
    "np.prod(a, axis=1)"
   ]
  },
  {
   "cell_type": "markdown",
   "id": "dramatic-insertion",
   "metadata": {},
   "source": [
    "Sum of elements"
   ]
  },
  {
   "cell_type": "code",
   "execution_count": 19,
   "id": "imperial-anime",
   "metadata": {},
   "outputs": [
    {
     "data": {
      "text/plain": [
       "array([[0, 1],\n",
       "       [0, 5]])"
      ]
     },
     "execution_count": 19,
     "metadata": {},
     "output_type": "execute_result"
    }
   ],
   "source": [
    "# similar to np.prod\n",
    "b = np.array([[0, 1], [0, 5]])\n",
    "b"
   ]
  },
  {
   "cell_type": "code",
   "execution_count": 21,
   "id": "public-tourism",
   "metadata": {},
   "outputs": [
    {
     "name": "stdout",
     "output_type": "stream",
     "text": [
      "sum all elements:  6\n",
      "sum by rows:  [1 5]\n",
      "sum by columns:  [0 6]\n"
     ]
    }
   ],
   "source": [
    "# sum all \n",
    "print('sum all elements: ', np.sum(b))\n",
    "# sum by rows\n",
    "print('sum by rows: ', np.sum(b, axis=1))\n",
    "# sum by columns\n",
    "print('sum by columns: ', np.sum(b, axis=0))"
   ]
  },
  {
   "cell_type": "markdown",
   "id": "traditional-african",
   "metadata": {},
   "source": [
    "#### 1.3.2 Rounding"
   ]
  },
  {
   "cell_type": "code",
   "execution_count": 46,
   "id": "radio-apartment",
   "metadata": {},
   "outputs": [
    {
     "data": {
      "text/plain": [
       "56131.513"
      ]
     },
     "execution_count": 46,
     "metadata": {},
     "output_type": "execute_result"
    }
   ],
   "source": [
    "# round by 3 decimial\n",
    "np.round(56131.5129837465, 3)"
   ]
  },
  {
   "cell_type": "code",
   "execution_count": 47,
   "id": "iraqi-family",
   "metadata": {},
   "outputs": [
    {
     "data": {
      "text/plain": [
       "array([-2., -2., -1.,  0.,  1.,  1.,  2.])"
      ]
     },
     "execution_count": 47,
     "metadata": {},
     "output_type": "execute_result"
    }
   ],
   "source": [
    "# return the floor of the input \n",
    "a = np.array([-1.7, -1.5, -0.2, 0.2, 1.5, 1.7, 2.1])\n",
    "np.floor(a)"
   ]
  },
  {
   "cell_type": "code",
   "execution_count": 48,
   "id": "spatial-rendering",
   "metadata": {},
   "outputs": [
    {
     "data": {
      "text/plain": [
       "array([-1., -1., -0.,  1.,  2.,  2.,  3.])"
      ]
     },
     "execution_count": 48,
     "metadata": {},
     "output_type": "execute_result"
    }
   ],
   "source": [
    "# return the ceiling of the input\n",
    "a = np.array([-1.7, -1.5, -0.2, 0.2, 1.5, 1.7, 2.1])\n",
    "np.ceil(a)"
   ]
  },
  {
   "cell_type": "markdown",
   "id": "affiliated-reserve",
   "metadata": {},
   "source": [
    "#### 1.3.3 Exponents and logarithms\n"
   ]
  },
  {
   "cell_type": "code",
   "execution_count": 49,
   "id": "married-rental",
   "metadata": {},
   "outputs": [
    {
     "data": {
      "text/plain": [
       "array([ 1.        ,  2.71828183,  7.3890561 , 20.08553692, 54.59815003])"
      ]
     },
     "execution_count": 49,
     "metadata": {},
     "output_type": "execute_result"
    }
   ],
   "source": [
    "# Calculate the exponential of all elements in the input array. check also np.exp2\n",
    "a = np.arange(5)\n",
    "np.exp(a)"
   ]
  },
  {
   "cell_type": "code",
   "execution_count": 50,
   "id": "present-damage",
   "metadata": {},
   "outputs": [
    {
     "data": {
      "text/plain": [
       "array([ 1.        ,  2.71828183,  7.3890561 , 20.08553692, 54.59815003])"
      ]
     },
     "execution_count": 50,
     "metadata": {},
     "output_type": "execute_result"
    }
   ],
   "source": [
    "np.e ** a"
   ]
  },
  {
   "cell_type": "code",
   "execution_count": 51,
   "id": "meaning-pastor",
   "metadata": {},
   "outputs": [
    {
     "data": {
      "text/plain": [
       "array([0., 1., 2.])"
      ]
     },
     "execution_count": 51,
     "metadata": {},
     "output_type": "execute_result"
    }
   ],
   "source": [
    "# Calculate the element-wise natural logarithm, \n",
    "np.log([1, np.e, np.e**2])"
   ]
  },
  {
   "cell_type": "markdown",
   "id": "spoken-witch",
   "metadata": {},
   "source": [
    "### 1.4 Apply a user-defined function to an array along a user-selected axis"
   ]
  },
  {
   "cell_type": "code",
   "execution_count": 22,
   "id": "distinct-economics",
   "metadata": {},
   "outputs": [
    {
     "data": {
      "text/plain": [
       "array([[1, 2, 3],\n",
       "       [4, 5, 6],\n",
       "       [7, 8, 9]])"
      ]
     },
     "execution_count": 22,
     "metadata": {},
     "output_type": "execute_result"
    }
   ],
   "source": [
    "b = np.array([[1,2,3], [4,5,6], [7,8,9]])\n",
    "b"
   ]
  },
  {
   "cell_type": "code",
   "execution_count": 23,
   "id": "informal-andorra",
   "metadata": {},
   "outputs": [],
   "source": [
    "def my_func(a):\n",
    "    \"\"\"Average first and last element of a 1-D array\"\"\"\n",
    "    return (a[0] + a[-1]) * 0.5"
   ]
  },
  {
   "cell_type": "code",
   "execution_count": 24,
   "id": "close-fraud",
   "metadata": {},
   "outputs": [
    {
     "name": "stdout",
     "output_type": "stream",
     "text": [
      "[4. 5. 6.]\n",
      "[4. 5. 6.]\n"
     ]
    }
   ],
   "source": [
    "# Average first and last element by columns \n",
    "print(np.apply_along_axis(my_func, 0, b))\n",
    "\n",
    "print(np.array([(1 + 7) / 2, (2 + 8) / 2, (3 + 9) / 2]))"
   ]
  },
  {
   "cell_type": "code",
   "execution_count": 25,
   "id": "charged-aside",
   "metadata": {},
   "outputs": [
    {
     "name": "stdout",
     "output_type": "stream",
     "text": [
      "[2. 5. 8.]\n",
      "[2. 5. 8.]\n"
     ]
    }
   ],
   "source": [
    "# Average first and last element by rows\n",
    "print(np.apply_along_axis(my_func, 1, b))\n",
    "\n",
    "print(np.array([(1 + 3) / 2, (4 + 6) / 2, (7 + 9) / 2]))"
   ]
  },
  {
   "cell_type": "code",
   "execution_count": null,
   "id": "conditional-guyana",
   "metadata": {},
   "outputs": [],
   "source": []
  },
  {
   "cell_type": "markdown",
   "id": "demographic-davis",
   "metadata": {},
   "source": [
    "## 2. Pandas"
   ]
  },
  {
   "cell_type": "code",
   "execution_count": 26,
   "id": "listed-architect",
   "metadata": {},
   "outputs": [],
   "source": [
    "import pandas as pd"
   ]
  },
  {
   "cell_type": "code",
   "execution_count": 27,
   "id": "exclusive-touch",
   "metadata": {},
   "outputs": [],
   "source": [
    "df = pd.read_csv('sample_data.csv')"
   ]
  },
  {
   "cell_type": "code",
   "execution_count": 28,
   "id": "awful-beginning",
   "metadata": {},
   "outputs": [
    {
     "data": {
      "text/html": [
       "<div>\n",
       "<style scoped>\n",
       "    .dataframe tbody tr th:only-of-type {\n",
       "        vertical-align: middle;\n",
       "    }\n",
       "\n",
       "    .dataframe tbody tr th {\n",
       "        vertical-align: top;\n",
       "    }\n",
       "\n",
       "    .dataframe thead th {\n",
       "        text-align: right;\n",
       "    }\n",
       "</style>\n",
       "<table border=\"1\" class=\"dataframe\">\n",
       "  <thead>\n",
       "    <tr style=\"text-align: right;\">\n",
       "      <th></th>\n",
       "      <th>TBIRTH_YEAR</th>\n",
       "      <th>RHISPANIC</th>\n",
       "      <th>RRACE</th>\n",
       "      <th>EEDUC</th>\n",
       "      <th>MS</th>\n",
       "      <th>EGENID_BIRTH</th>\n",
       "      <th>THHLD_NUMPER</th>\n",
       "      <th>THHLD_NUMKID</th>\n",
       "      <th>THHLD_NUMADLT</th>\n",
       "      <th>KIDS_LT5Y</th>\n",
       "      <th>...</th>\n",
       "      <th>CURFOODSUF</th>\n",
       "      <th>CHILDFOOD</th>\n",
       "      <th>TENURE</th>\n",
       "      <th>ENERGY</th>\n",
       "      <th>INCOME</th>\n",
       "      <th>EST_ST</th>\n",
       "      <th>EST_MSA</th>\n",
       "      <th>PRIVHLTH</th>\n",
       "      <th>PUBHLTH</th>\n",
       "      <th>REGION</th>\n",
       "    </tr>\n",
       "  </thead>\n",
       "  <tbody>\n",
       "    <tr>\n",
       "      <th>0</th>\n",
       "      <td>1973</td>\n",
       "      <td>1</td>\n",
       "      <td>1</td>\n",
       "      <td>7</td>\n",
       "      <td>1</td>\n",
       "      <td>1</td>\n",
       "      <td>4</td>\n",
       "      <td>0</td>\n",
       "      <td>4</td>\n",
       "      <td>-88</td>\n",
       "      <td>...</td>\n",
       "      <td>2</td>\n",
       "      <td>-88</td>\n",
       "      <td>2</td>\n",
       "      <td>1</td>\n",
       "      <td>6</td>\n",
       "      <td>34</td>\n",
       "      <td>35620.0</td>\n",
       "      <td>1</td>\n",
       "      <td>2</td>\n",
       "      <td>1</td>\n",
       "    </tr>\n",
       "    <tr>\n",
       "      <th>1</th>\n",
       "      <td>1945</td>\n",
       "      <td>1</td>\n",
       "      <td>1</td>\n",
       "      <td>6</td>\n",
       "      <td>3</td>\n",
       "      <td>2</td>\n",
       "      <td>1</td>\n",
       "      <td>0</td>\n",
       "      <td>1</td>\n",
       "      <td>-88</td>\n",
       "      <td>...</td>\n",
       "      <td>1</td>\n",
       "      <td>-88</td>\n",
       "      <td>2</td>\n",
       "      <td>3</td>\n",
       "      <td>2</td>\n",
       "      <td>8</td>\n",
       "      <td>NaN</td>\n",
       "      <td>1</td>\n",
       "      <td>1</td>\n",
       "      <td>4</td>\n",
       "    </tr>\n",
       "  </tbody>\n",
       "</table>\n",
       "<p>2 rows × 33 columns</p>\n",
       "</div>"
      ],
      "text/plain": [
       "   TBIRTH_YEAR  RHISPANIC  RRACE  EEDUC  MS  EGENID_BIRTH  THHLD_NUMPER  \\\n",
       "0         1973          1      1      7   1             1             4   \n",
       "1         1945          1      1      6   3             2             1   \n",
       "\n",
       "   THHLD_NUMKID  THHLD_NUMADLT  KIDS_LT5Y  ...  CURFOODSUF  CHILDFOOD  TENURE  \\\n",
       "0             0              4        -88  ...           2        -88       2   \n",
       "1             0              1        -88  ...           1        -88       2   \n",
       "\n",
       "   ENERGY  INCOME  EST_ST  EST_MSA  PRIVHLTH  PUBHLTH  REGION  \n",
       "0       1       6      34  35620.0         1        2       1  \n",
       "1       3       2       8      NaN         1        1       4  \n",
       "\n",
       "[2 rows x 33 columns]"
      ]
     },
     "execution_count": 28,
     "metadata": {},
     "output_type": "execute_result"
    }
   ],
   "source": [
    "# Check the first few rows\n",
    "df.head(2) # 2 refer to the displayed rows"
   ]
  },
  {
   "cell_type": "code",
   "execution_count": 29,
   "id": "static-hunter",
   "metadata": {},
   "outputs": [
    {
     "data": {
      "text/html": [
       "<div>\n",
       "<style scoped>\n",
       "    .dataframe tbody tr th:only-of-type {\n",
       "        vertical-align: middle;\n",
       "    }\n",
       "\n",
       "    .dataframe tbody tr th {\n",
       "        vertical-align: top;\n",
       "    }\n",
       "\n",
       "    .dataframe thead th {\n",
       "        text-align: right;\n",
       "    }\n",
       "</style>\n",
       "<table border=\"1\" class=\"dataframe\">\n",
       "  <thead>\n",
       "    <tr style=\"text-align: right;\">\n",
       "      <th></th>\n",
       "      <th>TBIRTH_YEAR</th>\n",
       "      <th>RHISPANIC</th>\n",
       "      <th>RRACE</th>\n",
       "      <th>EEDUC</th>\n",
       "      <th>MS</th>\n",
       "      <th>EGENID_BIRTH</th>\n",
       "      <th>THHLD_NUMPER</th>\n",
       "      <th>THHLD_NUMKID</th>\n",
       "      <th>THHLD_NUMADLT</th>\n",
       "      <th>KIDS_LT5Y</th>\n",
       "      <th>...</th>\n",
       "      <th>CURFOODSUF</th>\n",
       "      <th>CHILDFOOD</th>\n",
       "      <th>TENURE</th>\n",
       "      <th>ENERGY</th>\n",
       "      <th>INCOME</th>\n",
       "      <th>EST_ST</th>\n",
       "      <th>EST_MSA</th>\n",
       "      <th>PRIVHLTH</th>\n",
       "      <th>PUBHLTH</th>\n",
       "      <th>REGION</th>\n",
       "    </tr>\n",
       "  </thead>\n",
       "  <tbody>\n",
       "    <tr>\n",
       "      <th>61451</th>\n",
       "      <td>1984</td>\n",
       "      <td>1</td>\n",
       "      <td>1</td>\n",
       "      <td>6</td>\n",
       "      <td>1</td>\n",
       "      <td>2</td>\n",
       "      <td>3</td>\n",
       "      <td>1</td>\n",
       "      <td>2</td>\n",
       "      <td>1</td>\n",
       "      <td>...</td>\n",
       "      <td>1</td>\n",
       "      <td>-88</td>\n",
       "      <td>2</td>\n",
       "      <td>4</td>\n",
       "      <td>7</td>\n",
       "      <td>41</td>\n",
       "      <td>NaN</td>\n",
       "      <td>1</td>\n",
       "      <td>2</td>\n",
       "      <td>4</td>\n",
       "    </tr>\n",
       "    <tr>\n",
       "      <th>61452</th>\n",
       "      <td>1970</td>\n",
       "      <td>1</td>\n",
       "      <td>1</td>\n",
       "      <td>4</td>\n",
       "      <td>1</td>\n",
       "      <td>2</td>\n",
       "      <td>2</td>\n",
       "      <td>0</td>\n",
       "      <td>2</td>\n",
       "      <td>-88</td>\n",
       "      <td>...</td>\n",
       "      <td>2</td>\n",
       "      <td>-88</td>\n",
       "      <td>2</td>\n",
       "      <td>4</td>\n",
       "      <td>6</td>\n",
       "      <td>8</td>\n",
       "      <td>NaN</td>\n",
       "      <td>1</td>\n",
       "      <td>2</td>\n",
       "      <td>4</td>\n",
       "    </tr>\n",
       "  </tbody>\n",
       "</table>\n",
       "<p>2 rows × 33 columns</p>\n",
       "</div>"
      ],
      "text/plain": [
       "       TBIRTH_YEAR  RHISPANIC  RRACE  EEDUC  MS  EGENID_BIRTH  THHLD_NUMPER  \\\n",
       "61451         1984          1      1      6   1             2             3   \n",
       "61452         1970          1      1      4   1             2             2   \n",
       "\n",
       "       THHLD_NUMKID  THHLD_NUMADLT  KIDS_LT5Y  ...  CURFOODSUF  CHILDFOOD  \\\n",
       "61451             1              2          1  ...           1        -88   \n",
       "61452             0              2        -88  ...           2        -88   \n",
       "\n",
       "       TENURE  ENERGY  INCOME  EST_ST  EST_MSA  PRIVHLTH  PUBHLTH  REGION  \n",
       "61451       2       4       7      41      NaN         1        2       4  \n",
       "61452       2       4       6       8      NaN         1        2       4  \n",
       "\n",
       "[2 rows x 33 columns]"
      ]
     },
     "execution_count": 29,
     "metadata": {},
     "output_type": "execute_result"
    }
   ],
   "source": [
    "# Check the last few rows\n",
    "df.tail(2)"
   ]
  },
  {
   "cell_type": "markdown",
   "id": "hourly-stone",
   "metadata": {},
   "source": [
    "### 2.1 Obtain columns"
   ]
  },
  {
   "cell_type": "code",
   "execution_count": 36,
   "id": "functional-people",
   "metadata": {},
   "outputs": [
    {
     "name": "stdout",
     "output_type": "stream",
     "text": [
      "0        1\n",
      "1        4\n",
      "2        2\n",
      "3        3\n",
      "4        2\n",
      "        ..\n",
      "61448    2\n",
      "61449    1\n",
      "61450    2\n",
      "61451    4\n",
      "61452    4\n",
      "Name: REGION, Length: 61453, dtype: int64\n"
     ]
    },
    {
     "data": {
      "text/plain": [
       "pandas.core.series.Series"
      ]
     },
     "execution_count": 36,
     "metadata": {},
     "output_type": "execute_result"
    }
   ],
   "source": [
    "# Get one single column\n",
    "region = df['REGION']\n",
    "print( region )\n",
    "type( region )"
   ]
  },
  {
   "cell_type": "code",
   "execution_count": 35,
   "id": "exciting-wealth",
   "metadata": {},
   "outputs": [
    {
     "name": "stdout",
     "output_type": "stream",
     "text": [
      "[1 4 2 ... 2 4 4]\n"
     ]
    },
    {
     "data": {
      "text/plain": [
       "numpy.ndarray"
      ]
     },
     "execution_count": 35,
     "metadata": {},
     "output_type": "execute_result"
    }
   ],
   "source": [
    "# Extract a column into an array:\n",
    "region_arr = df['REGION'].values\n",
    "print(region_arr)\n",
    "type( region_arr )"
   ]
  },
  {
   "cell_type": "code",
   "execution_count": 37,
   "id": "collect-property",
   "metadata": {},
   "outputs": [
    {
     "data": {
      "text/html": [
       "<div>\n",
       "<style scoped>\n",
       "    .dataframe tbody tr th:only-of-type {\n",
       "        vertical-align: middle;\n",
       "    }\n",
       "\n",
       "    .dataframe tbody tr th {\n",
       "        vertical-align: top;\n",
       "    }\n",
       "\n",
       "    .dataframe thead th {\n",
       "        text-align: right;\n",
       "    }\n",
       "</style>\n",
       "<table border=\"1\" class=\"dataframe\">\n",
       "  <thead>\n",
       "    <tr style=\"text-align: right;\">\n",
       "      <th></th>\n",
       "      <th>REGION</th>\n",
       "      <th>TBIRTH_YEAR</th>\n",
       "    </tr>\n",
       "  </thead>\n",
       "  <tbody>\n",
       "    <tr>\n",
       "      <th>0</th>\n",
       "      <td>1</td>\n",
       "      <td>1973</td>\n",
       "    </tr>\n",
       "    <tr>\n",
       "      <th>1</th>\n",
       "      <td>4</td>\n",
       "      <td>1945</td>\n",
       "    </tr>\n",
       "    <tr>\n",
       "      <th>2</th>\n",
       "      <td>2</td>\n",
       "      <td>1975</td>\n",
       "    </tr>\n",
       "    <tr>\n",
       "      <th>3</th>\n",
       "      <td>3</td>\n",
       "      <td>1986</td>\n",
       "    </tr>\n",
       "    <tr>\n",
       "      <th>4</th>\n",
       "      <td>2</td>\n",
       "      <td>1948</td>\n",
       "    </tr>\n",
       "  </tbody>\n",
       "</table>\n",
       "</div>"
      ],
      "text/plain": [
       "   REGION  TBIRTH_YEAR\n",
       "0       1         1973\n",
       "1       4         1945\n",
       "2       2         1975\n",
       "3       3         1986\n",
       "4       2         1948"
      ]
     },
     "execution_count": 37,
     "metadata": {},
     "output_type": "execute_result"
    }
   ],
   "source": [
    "# Get multiple columns\n",
    "df_subset = df[['REGION', 'TBIRTH_YEAR']]\n",
    "df_subset.head()"
   ]
  },
  {
   "cell_type": "code",
   "execution_count": 38,
   "id": "concerned-steering",
   "metadata": {},
   "outputs": [
    {
     "data": {
      "text/html": [
       "<div>\n",
       "<style scoped>\n",
       "    .dataframe tbody tr th:only-of-type {\n",
       "        vertical-align: middle;\n",
       "    }\n",
       "\n",
       "    .dataframe tbody tr th {\n",
       "        vertical-align: top;\n",
       "    }\n",
       "\n",
       "    .dataframe thead th {\n",
       "        text-align: right;\n",
       "    }\n",
       "</style>\n",
       "<table border=\"1\" class=\"dataframe\">\n",
       "  <thead>\n",
       "    <tr style=\"text-align: right;\">\n",
       "      <th></th>\n",
       "      <th>REGION</th>\n",
       "      <th>TBIRTH_YEAR</th>\n",
       "    </tr>\n",
       "  </thead>\n",
       "  <tbody>\n",
       "    <tr>\n",
       "      <th>14</th>\n",
       "      <td>2</td>\n",
       "      <td>2001</td>\n",
       "    </tr>\n",
       "    <tr>\n",
       "      <th>44</th>\n",
       "      <td>4</td>\n",
       "      <td>2003</td>\n",
       "    </tr>\n",
       "    <tr>\n",
       "      <th>105</th>\n",
       "      <td>4</td>\n",
       "      <td>2001</td>\n",
       "    </tr>\n",
       "    <tr>\n",
       "      <th>132</th>\n",
       "      <td>2</td>\n",
       "      <td>2002</td>\n",
       "    </tr>\n",
       "    <tr>\n",
       "      <th>133</th>\n",
       "      <td>1</td>\n",
       "      <td>2001</td>\n",
       "    </tr>\n",
       "    <tr>\n",
       "      <th>...</th>\n",
       "      <td>...</td>\n",
       "      <td>...</td>\n",
       "    </tr>\n",
       "    <tr>\n",
       "      <th>61367</th>\n",
       "      <td>2</td>\n",
       "      <td>2003</td>\n",
       "    </tr>\n",
       "    <tr>\n",
       "      <th>61384</th>\n",
       "      <td>3</td>\n",
       "      <td>2001</td>\n",
       "    </tr>\n",
       "    <tr>\n",
       "      <th>61404</th>\n",
       "      <td>4</td>\n",
       "      <td>1999</td>\n",
       "    </tr>\n",
       "    <tr>\n",
       "      <th>61424</th>\n",
       "      <td>3</td>\n",
       "      <td>2000</td>\n",
       "    </tr>\n",
       "    <tr>\n",
       "      <th>61434</th>\n",
       "      <td>3</td>\n",
       "      <td>2000</td>\n",
       "    </tr>\n",
       "  </tbody>\n",
       "</table>\n",
       "<p>2186 rows × 2 columns</p>\n",
       "</div>"
      ],
      "text/plain": [
       "       REGION  TBIRTH_YEAR\n",
       "14          2         2001\n",
       "44          4         2003\n",
       "105         4         2001\n",
       "132         2         2002\n",
       "133         1         2001\n",
       "...       ...          ...\n",
       "61367       2         2003\n",
       "61384       3         2001\n",
       "61404       4         1999\n",
       "61424       3         2000\n",
       "61434       3         2000\n",
       "\n",
       "[2186 rows x 2 columns]"
      ]
     },
     "execution_count": 38,
     "metadata": {},
     "output_type": "execute_result"
    }
   ],
   "source": [
    "# Filtering\n",
    "above_98 = df_subset[df_subset[\"TBIRTH_YEAR\"] > 1998]\n",
    "above_98"
   ]
  },
  {
   "cell_type": "code",
   "execution_count": 39,
   "id": "characteristic-north",
   "metadata": {},
   "outputs": [
    {
     "data": {
      "text/html": [
       "<div>\n",
       "<style scoped>\n",
       "    .dataframe tbody tr th:only-of-type {\n",
       "        vertical-align: middle;\n",
       "    }\n",
       "\n",
       "    .dataframe tbody tr th {\n",
       "        vertical-align: top;\n",
       "    }\n",
       "\n",
       "    .dataframe thead th {\n",
       "        text-align: right;\n",
       "    }\n",
       "</style>\n",
       "<table border=\"1\" class=\"dataframe\">\n",
       "  <thead>\n",
       "    <tr style=\"text-align: right;\">\n",
       "      <th></th>\n",
       "      <th>REGION</th>\n",
       "      <th>TBIRTH_YEAR</th>\n",
       "    </tr>\n",
       "  </thead>\n",
       "  <tbody>\n",
       "    <tr>\n",
       "      <th>14</th>\n",
       "      <td>2</td>\n",
       "      <td>2001</td>\n",
       "    </tr>\n",
       "    <tr>\n",
       "      <th>132</th>\n",
       "      <td>2</td>\n",
       "      <td>2002</td>\n",
       "    </tr>\n",
       "    <tr>\n",
       "      <th>133</th>\n",
       "      <td>1</td>\n",
       "      <td>2001</td>\n",
       "    </tr>\n",
       "    <tr>\n",
       "      <th>245</th>\n",
       "      <td>2</td>\n",
       "      <td>1999</td>\n",
       "    </tr>\n",
       "    <tr>\n",
       "      <th>269</th>\n",
       "      <td>2</td>\n",
       "      <td>1999</td>\n",
       "    </tr>\n",
       "    <tr>\n",
       "      <th>...</th>\n",
       "      <td>...</td>\n",
       "      <td>...</td>\n",
       "    </tr>\n",
       "    <tr>\n",
       "      <th>61036</th>\n",
       "      <td>2</td>\n",
       "      <td>2001</td>\n",
       "    </tr>\n",
       "    <tr>\n",
       "      <th>61143</th>\n",
       "      <td>2</td>\n",
       "      <td>2002</td>\n",
       "    </tr>\n",
       "    <tr>\n",
       "      <th>61159</th>\n",
       "      <td>2</td>\n",
       "      <td>2001</td>\n",
       "    </tr>\n",
       "    <tr>\n",
       "      <th>61312</th>\n",
       "      <td>2</td>\n",
       "      <td>2002</td>\n",
       "    </tr>\n",
       "    <tr>\n",
       "      <th>61367</th>\n",
       "      <td>2</td>\n",
       "      <td>2003</td>\n",
       "    </tr>\n",
       "  </tbody>\n",
       "</table>\n",
       "<p>983 rows × 2 columns</p>\n",
       "</div>"
      ],
      "text/plain": [
       "       REGION  TBIRTH_YEAR\n",
       "14          2         2001\n",
       "132         2         2002\n",
       "133         1         2001\n",
       "245         2         1999\n",
       "269         2         1999\n",
       "...       ...          ...\n",
       "61036       2         2001\n",
       "61143       2         2002\n",
       "61159       2         2001\n",
       "61312       2         2002\n",
       "61367       2         2003\n",
       "\n",
       "[983 rows x 2 columns]"
      ]
     },
     "execution_count": 39,
     "metadata": {},
     "output_type": "execute_result"
    }
   ],
   "source": [
    "above_98[above_98[\"REGION\"].isin([1, 2])]"
   ]
  },
  {
   "cell_type": "code",
   "execution_count": 40,
   "id": "interstate-immune",
   "metadata": {},
   "outputs": [
    {
     "data": {
      "text/html": [
       "<div>\n",
       "<style scoped>\n",
       "    .dataframe tbody tr th:only-of-type {\n",
       "        vertical-align: middle;\n",
       "    }\n",
       "\n",
       "    .dataframe tbody tr th {\n",
       "        vertical-align: top;\n",
       "    }\n",
       "\n",
       "    .dataframe thead th {\n",
       "        text-align: right;\n",
       "    }\n",
       "</style>\n",
       "<table border=\"1\" class=\"dataframe\">\n",
       "  <thead>\n",
       "    <tr style=\"text-align: right;\">\n",
       "      <th></th>\n",
       "      <th>REGION</th>\n",
       "      <th>TBIRTH_YEAR</th>\n",
       "    </tr>\n",
       "  </thead>\n",
       "  <tbody>\n",
       "    <tr>\n",
       "      <th>14</th>\n",
       "      <td>2</td>\n",
       "      <td>2001</td>\n",
       "    </tr>\n",
       "    <tr>\n",
       "      <th>132</th>\n",
       "      <td>2</td>\n",
       "      <td>2002</td>\n",
       "    </tr>\n",
       "    <tr>\n",
       "      <th>133</th>\n",
       "      <td>1</td>\n",
       "      <td>2001</td>\n",
       "    </tr>\n",
       "    <tr>\n",
       "      <th>245</th>\n",
       "      <td>2</td>\n",
       "      <td>1999</td>\n",
       "    </tr>\n",
       "    <tr>\n",
       "      <th>269</th>\n",
       "      <td>2</td>\n",
       "      <td>1999</td>\n",
       "    </tr>\n",
       "    <tr>\n",
       "      <th>...</th>\n",
       "      <td>...</td>\n",
       "      <td>...</td>\n",
       "    </tr>\n",
       "    <tr>\n",
       "      <th>61036</th>\n",
       "      <td>2</td>\n",
       "      <td>2001</td>\n",
       "    </tr>\n",
       "    <tr>\n",
       "      <th>61143</th>\n",
       "      <td>2</td>\n",
       "      <td>2002</td>\n",
       "    </tr>\n",
       "    <tr>\n",
       "      <th>61159</th>\n",
       "      <td>2</td>\n",
       "      <td>2001</td>\n",
       "    </tr>\n",
       "    <tr>\n",
       "      <th>61312</th>\n",
       "      <td>2</td>\n",
       "      <td>2002</td>\n",
       "    </tr>\n",
       "    <tr>\n",
       "      <th>61367</th>\n",
       "      <td>2</td>\n",
       "      <td>2003</td>\n",
       "    </tr>\n",
       "  </tbody>\n",
       "</table>\n",
       "<p>983 rows × 2 columns</p>\n",
       "</div>"
      ],
      "text/plain": [
       "       REGION  TBIRTH_YEAR\n",
       "14          2         2001\n",
       "132         2         2002\n",
       "133         1         2001\n",
       "245         2         1999\n",
       "269         2         1999\n",
       "...       ...          ...\n",
       "61036       2         2001\n",
       "61143       2         2002\n",
       "61159       2         2001\n",
       "61312       2         2002\n",
       "61367       2         2003\n",
       "\n",
       "[983 rows x 2 columns]"
      ]
     },
     "execution_count": 40,
     "metadata": {},
     "output_type": "execute_result"
    }
   ],
   "source": [
    "df_subset[(df_subset['REGION'].isin([1, 2])) & (df_subset[\"TBIRTH_YEAR\"] > 1998)]"
   ]
  },
  {
   "cell_type": "markdown",
   "id": "classical-manufacturer",
   "metadata": {},
   "source": [
    "### 2.2 Column & Row operations"
   ]
  },
  {
   "cell_type": "code",
   "execution_count": 57,
   "id": "awful-population",
   "metadata": {},
   "outputs": [
    {
     "name": "stdout",
     "output_type": "stream",
     "text": [
      "[1 4 2 ... 2 4 4]\n"
     ]
    }
   ],
   "source": [
    "region_IDs = df_subset['REGION'].values\n",
    "print( region_IDs )"
   ]
  },
  {
   "cell_type": "code",
   "execution_count": 58,
   "id": "recorded-letter",
   "metadata": {},
   "outputs": [
    {
     "name": "stdout",
     "output_type": "stream",
     "text": [
      "{1: 'Northeast', 2: 'South', 3: 'Midwest', 4: 'West'}\n"
     ]
    }
   ],
   "source": [
    "dic_region = dict(zip([1, 2, 3, 4], ['Northeast', 'South', 'Midwest', 'West']))\n",
    "print(dic_region)"
   ]
  },
  {
   "cell_type": "code",
   "execution_count": 59,
   "id": "alpha-above",
   "metadata": {},
   "outputs": [
    {
     "name": "stdout",
     "output_type": "stream",
     "text": [
      "['Northeast', 'West', 'South', 'Midwest', 'South', 'Northeast', 'West', 'Midwest', 'West', 'Midwest']\n"
     ]
    }
   ],
   "source": [
    "# Map region IDs to region names\n",
    "new_columns = [list_dic[i] for i in region_numbers]\n",
    "print(new_columns[0:10])"
   ]
  },
  {
   "cell_type": "code",
   "execution_count": 60,
   "id": "significant-prairie",
   "metadata": {},
   "outputs": [
    {
     "data": {
      "text/html": [
       "<div>\n",
       "<style scoped>\n",
       "    .dataframe tbody tr th:only-of-type {\n",
       "        vertical-align: middle;\n",
       "    }\n",
       "\n",
       "    .dataframe tbody tr th {\n",
       "        vertical-align: top;\n",
       "    }\n",
       "\n",
       "    .dataframe thead th {\n",
       "        text-align: right;\n",
       "    }\n",
       "</style>\n",
       "<table border=\"1\" class=\"dataframe\">\n",
       "  <thead>\n",
       "    <tr style=\"text-align: right;\">\n",
       "      <th></th>\n",
       "      <th>REGION_ACTUAL</th>\n",
       "      <th>REGION</th>\n",
       "      <th>TBIRTH_YEAR</th>\n",
       "    </tr>\n",
       "  </thead>\n",
       "  <tbody>\n",
       "    <tr>\n",
       "      <th>0</th>\n",
       "      <td>Northeast</td>\n",
       "      <td>1</td>\n",
       "      <td>1973</td>\n",
       "    </tr>\n",
       "    <tr>\n",
       "      <th>1</th>\n",
       "      <td>West</td>\n",
       "      <td>4</td>\n",
       "      <td>1945</td>\n",
       "    </tr>\n",
       "    <tr>\n",
       "      <th>2</th>\n",
       "      <td>South</td>\n",
       "      <td>2</td>\n",
       "      <td>1975</td>\n",
       "    </tr>\n",
       "    <tr>\n",
       "      <th>3</th>\n",
       "      <td>Midwest</td>\n",
       "      <td>3</td>\n",
       "      <td>1986</td>\n",
       "    </tr>\n",
       "    <tr>\n",
       "      <th>4</th>\n",
       "      <td>South</td>\n",
       "      <td>2</td>\n",
       "      <td>1948</td>\n",
       "    </tr>\n",
       "  </tbody>\n",
       "</table>\n",
       "</div>"
      ],
      "text/plain": [
       "  REGION_ACTUAL  REGION  TBIRTH_YEAR\n",
       "0     Northeast       1         1973\n",
       "1          West       4         1945\n",
       "2         South       2         1975\n",
       "3       Midwest       3         1986\n",
       "4         South       2         1948"
      ]
     },
     "execution_count": 60,
     "metadata": {},
     "output_type": "execute_result"
    }
   ],
   "source": [
    "# Insert a new column to a given position\n",
    "df_subset.insert(0, 'REGION_ACTUAL', new_columns)\n",
    "df_subset.head()"
   ]
  },
  {
   "cell_type": "code",
   "execution_count": 61,
   "id": "pointed-somewhere",
   "metadata": {},
   "outputs": [
    {
     "data": {
      "text/html": [
       "<div>\n",
       "<style scoped>\n",
       "    .dataframe tbody tr th:only-of-type {\n",
       "        vertical-align: middle;\n",
       "    }\n",
       "\n",
       "    .dataframe tbody tr th {\n",
       "        vertical-align: top;\n",
       "    }\n",
       "\n",
       "    .dataframe thead th {\n",
       "        text-align: right;\n",
       "    }\n",
       "</style>\n",
       "<table border=\"1\" class=\"dataframe\">\n",
       "  <thead>\n",
       "    <tr style=\"text-align: right;\">\n",
       "      <th></th>\n",
       "      <th>REGION_ACTUAL</th>\n",
       "      <th>TBIRTH_YEAR</th>\n",
       "    </tr>\n",
       "  </thead>\n",
       "  <tbody>\n",
       "    <tr>\n",
       "      <th>0</th>\n",
       "      <td>Northeast</td>\n",
       "      <td>1973</td>\n",
       "    </tr>\n",
       "    <tr>\n",
       "      <th>1</th>\n",
       "      <td>West</td>\n",
       "      <td>1945</td>\n",
       "    </tr>\n",
       "    <tr>\n",
       "      <th>2</th>\n",
       "      <td>South</td>\n",
       "      <td>1975</td>\n",
       "    </tr>\n",
       "    <tr>\n",
       "      <th>3</th>\n",
       "      <td>Midwest</td>\n",
       "      <td>1986</td>\n",
       "    </tr>\n",
       "    <tr>\n",
       "      <th>4</th>\n",
       "      <td>South</td>\n",
       "      <td>1948</td>\n",
       "    </tr>\n",
       "    <tr>\n",
       "      <th>...</th>\n",
       "      <td>...</td>\n",
       "      <td>...</td>\n",
       "    </tr>\n",
       "    <tr>\n",
       "      <th>61448</th>\n",
       "      <td>South</td>\n",
       "      <td>1960</td>\n",
       "    </tr>\n",
       "    <tr>\n",
       "      <th>61449</th>\n",
       "      <td>Northeast</td>\n",
       "      <td>1972</td>\n",
       "    </tr>\n",
       "    <tr>\n",
       "      <th>61450</th>\n",
       "      <td>South</td>\n",
       "      <td>1979</td>\n",
       "    </tr>\n",
       "    <tr>\n",
       "      <th>61451</th>\n",
       "      <td>West</td>\n",
       "      <td>1984</td>\n",
       "    </tr>\n",
       "    <tr>\n",
       "      <th>61452</th>\n",
       "      <td>West</td>\n",
       "      <td>1970</td>\n",
       "    </tr>\n",
       "  </tbody>\n",
       "</table>\n",
       "<p>61453 rows × 2 columns</p>\n",
       "</div>"
      ],
      "text/plain": [
       "      REGION_ACTUAL  TBIRTH_YEAR\n",
       "0         Northeast         1973\n",
       "1              West         1945\n",
       "2             South         1975\n",
       "3           Midwest         1986\n",
       "4             South         1948\n",
       "...             ...          ...\n",
       "61448         South         1960\n",
       "61449     Northeast         1972\n",
       "61450         South         1979\n",
       "61451          West         1984\n",
       "61452          West         1970\n",
       "\n",
       "[61453 rows x 2 columns]"
      ]
     },
     "execution_count": 61,
     "metadata": {},
     "output_type": "execute_result"
    }
   ],
   "source": [
    "# delete a cloumn\n",
    "df_subset = df_subset.drop(['REGION'], axis = 1)\n",
    "df_subset"
   ]
  },
  {
   "cell_type": "code",
   "execution_count": 62,
   "id": "technological-monitor",
   "metadata": {},
   "outputs": [
    {
     "data": {
      "text/html": [
       "<div>\n",
       "<style scoped>\n",
       "    .dataframe tbody tr th:only-of-type {\n",
       "        vertical-align: middle;\n",
       "    }\n",
       "\n",
       "    .dataframe tbody tr th {\n",
       "        vertical-align: top;\n",
       "    }\n",
       "\n",
       "    .dataframe thead th {\n",
       "        text-align: right;\n",
       "    }\n",
       "</style>\n",
       "<table border=\"1\" class=\"dataframe\">\n",
       "  <thead>\n",
       "    <tr style=\"text-align: right;\">\n",
       "      <th></th>\n",
       "      <th>REGION_ACTUAL</th>\n",
       "      <th>TBIRTH_YEAR</th>\n",
       "    </tr>\n",
       "  </thead>\n",
       "  <tbody>\n",
       "    <tr>\n",
       "      <th>0</th>\n",
       "      <td>Northeast</td>\n",
       "      <td>1973</td>\n",
       "    </tr>\n",
       "    <tr>\n",
       "      <th>1</th>\n",
       "      <td>West</td>\n",
       "      <td>1945</td>\n",
       "    </tr>\n",
       "    <tr>\n",
       "      <th>2</th>\n",
       "      <td>South</td>\n",
       "      <td>1975</td>\n",
       "    </tr>\n",
       "    <tr>\n",
       "      <th>3</th>\n",
       "      <td>Midwest</td>\n",
       "      <td>1986</td>\n",
       "    </tr>\n",
       "    <tr>\n",
       "      <th>4</th>\n",
       "      <td>South</td>\n",
       "      <td>1948</td>\n",
       "    </tr>\n",
       "    <tr>\n",
       "      <th>...</th>\n",
       "      <td>...</td>\n",
       "      <td>...</td>\n",
       "    </tr>\n",
       "    <tr>\n",
       "      <th>61449</th>\n",
       "      <td>Northeast</td>\n",
       "      <td>1972</td>\n",
       "    </tr>\n",
       "    <tr>\n",
       "      <th>61450</th>\n",
       "      <td>South</td>\n",
       "      <td>1979</td>\n",
       "    </tr>\n",
       "    <tr>\n",
       "      <th>61451</th>\n",
       "      <td>West</td>\n",
       "      <td>1984</td>\n",
       "    </tr>\n",
       "    <tr>\n",
       "      <th>61452</th>\n",
       "      <td>West</td>\n",
       "      <td>1970</td>\n",
       "    </tr>\n",
       "    <tr>\n",
       "      <th>61453</th>\n",
       "      <td>Northeast</td>\n",
       "      <td>1998</td>\n",
       "    </tr>\n",
       "  </tbody>\n",
       "</table>\n",
       "<p>61454 rows × 2 columns</p>\n",
       "</div>"
      ],
      "text/plain": [
       "      REGION_ACTUAL  TBIRTH_YEAR\n",
       "0         Northeast         1973\n",
       "1              West         1945\n",
       "2             South         1975\n",
       "3           Midwest         1986\n",
       "4             South         1948\n",
       "...             ...          ...\n",
       "61449     Northeast         1972\n",
       "61450         South         1979\n",
       "61451          West         1984\n",
       "61452          West         1970\n",
       "61453     Northeast         1998\n",
       "\n",
       "[61454 rows x 2 columns]"
      ]
     },
     "execution_count": 62,
     "metadata": {},
     "output_type": "execute_result"
    }
   ],
   "source": [
    "# Inset a new row\n",
    "df_subset = df_subset.append({'REGION_ACTUAL': 'Northeast', 'TBIRTH_YEAR': 1998}, ignore_index=True)\n",
    "df_subset"
   ]
  },
  {
   "cell_type": "code",
   "execution_count": 67,
   "id": "particular-campaign",
   "metadata": {},
   "outputs": [
    {
     "name": "stdout",
     "output_type": "stream",
     "text": [
      "the new dataframe\n",
      "  REGION_ACTUAL  TBIRTH_YEAR\n",
      "0     Northeast         1998\n",
      "1     Northeast         1999\n",
      "2     Northeast         2000\n",
      "\n",
      "\n",
      "the merged dataframe\n",
      "      REGION_ACTUAL  TBIRTH_YEAR\n",
      "0         Northeast         1973\n",
      "1              West         1945\n",
      "2             South         1975\n",
      "3           Midwest         1986\n",
      "4             South         1948\n",
      "...             ...          ...\n",
      "61452          West         1970\n",
      "61453     Northeast         1998\n",
      "61454     Northeast         1998\n",
      "61455     Northeast         1999\n",
      "61456     Northeast         2000\n",
      "\n",
      "[61457 rows x 2 columns]\n"
     ]
    }
   ],
   "source": [
    "# Merge two dataframes\n",
    "\n",
    "# Create a new dataframe\n",
    "data = {\n",
    "  \"REGION_ACTUAL\": ['Northeast', 'Northeast', 'Northeast'],\n",
    "  \"TBIRTH_YEAR\": [1998, 1999, 2000]\n",
    "}\n",
    "new_collected_df = pd.DataFrame(data)\n",
    "print( 'the new dataframe')\n",
    "print( new_collected_df )\n",
    "\n",
    "print('\\n')\n",
    "\n",
    "# Merge the new dataframe to \n",
    "df_subset_more = pd.concat([df_subset, new_collected_df], ignore_index=True)\n",
    "print( 'the merged dataframe')\n",
    "print( df_subset_more )"
   ]
  },
  {
   "cell_type": "code",
   "execution_count": 85,
   "id": "convertible-germany",
   "metadata": {},
   "outputs": [
    {
     "data": {
      "text/html": [
       "<div>\n",
       "<style scoped>\n",
       "    .dataframe tbody tr th:only-of-type {\n",
       "        vertical-align: middle;\n",
       "    }\n",
       "\n",
       "    .dataframe tbody tr th {\n",
       "        vertical-align: top;\n",
       "    }\n",
       "\n",
       "    .dataframe thead th {\n",
       "        text-align: right;\n",
       "    }\n",
       "</style>\n",
       "<table border=\"1\" class=\"dataframe\">\n",
       "  <thead>\n",
       "    <tr style=\"text-align: right;\">\n",
       "      <th></th>\n",
       "      <th>REGION_ACTUAL</th>\n",
       "      <th>TBIRTH_YEAR</th>\n",
       "    </tr>\n",
       "  </thead>\n",
       "  <tbody>\n",
       "    <tr>\n",
       "      <th>0</th>\n",
       "      <td>Northeast</td>\n",
       "      <td>1973</td>\n",
       "    </tr>\n",
       "    <tr>\n",
       "      <th>1</th>\n",
       "      <td>West</td>\n",
       "      <td>1945</td>\n",
       "    </tr>\n",
       "    <tr>\n",
       "      <th>2</th>\n",
       "      <td>South</td>\n",
       "      <td>1975</td>\n",
       "    </tr>\n",
       "    <tr>\n",
       "      <th>3</th>\n",
       "      <td>Midwest</td>\n",
       "      <td>1986</td>\n",
       "    </tr>\n",
       "    <tr>\n",
       "      <th>4</th>\n",
       "      <td>South</td>\n",
       "      <td>1948</td>\n",
       "    </tr>\n",
       "    <tr>\n",
       "      <th>...</th>\n",
       "      <td>...</td>\n",
       "      <td>...</td>\n",
       "    </tr>\n",
       "    <tr>\n",
       "      <th>61452</th>\n",
       "      <td>West</td>\n",
       "      <td>1970</td>\n",
       "    </tr>\n",
       "    <tr>\n",
       "      <th>61453</th>\n",
       "      <td>Northeast</td>\n",
       "      <td>1998</td>\n",
       "    </tr>\n",
       "    <tr>\n",
       "      <th>61454</th>\n",
       "      <td>Northeast</td>\n",
       "      <td>1998</td>\n",
       "    </tr>\n",
       "    <tr>\n",
       "      <th>61455</th>\n",
       "      <td>Northeast</td>\n",
       "      <td>1999</td>\n",
       "    </tr>\n",
       "    <tr>\n",
       "      <th>61456</th>\n",
       "      <td>Northeast</td>\n",
       "      <td>2000</td>\n",
       "    </tr>\n",
       "  </tbody>\n",
       "</table>\n",
       "<p>61457 rows × 2 columns</p>\n",
       "</div>"
      ],
      "text/plain": [
       "      REGION_ACTUAL  TBIRTH_YEAR\n",
       "0         Northeast         1973\n",
       "1              West         1945\n",
       "2             South         1975\n",
       "3           Midwest         1986\n",
       "4             South         1948\n",
       "...             ...          ...\n",
       "61452          West         1970\n",
       "61453     Northeast         1998\n",
       "61454     Northeast         1998\n",
       "61455     Northeast         1999\n",
       "61456     Northeast         2000\n",
       "\n",
       "[61457 rows x 2 columns]"
      ]
     },
     "execution_count": 85,
     "metadata": {},
     "output_type": "execute_result"
    }
   ],
   "source": [
    "df_subset_more = pd.concat([df_subset, new_collected_df], ignore_index=True)\n",
    "df_subset_more"
   ]
  },
  {
   "cell_type": "markdown",
   "id": "surprising-tiffany",
   "metadata": {},
   "source": [
    "### 2.5 Some other useful operations\n"
   ]
  },
  {
   "cell_type": "code",
   "execution_count": 92,
   "id": "known-grass",
   "metadata": {},
   "outputs": [
    {
     "data": {
      "text/plain": [
       "Index(['REGION_ACTUAL', 'TBIRTH_YEAR'], dtype='object')"
      ]
     },
     "execution_count": 92,
     "metadata": {},
     "output_type": "execute_result"
    }
   ],
   "source": [
    "# Get the column names\n",
    "df_subset.columns"
   ]
  },
  {
   "cell_type": "code",
   "execution_count": 93,
   "id": "streaming-taste",
   "metadata": {},
   "outputs": [
    {
     "data": {
      "text/html": [
       "<div>\n",
       "<style scoped>\n",
       "    .dataframe tbody tr th:only-of-type {\n",
       "        vertical-align: middle;\n",
       "    }\n",
       "\n",
       "    .dataframe tbody tr th {\n",
       "        vertical-align: top;\n",
       "    }\n",
       "\n",
       "    .dataframe thead th {\n",
       "        text-align: right;\n",
       "    }\n",
       "</style>\n",
       "<table border=\"1\" class=\"dataframe\">\n",
       "  <thead>\n",
       "    <tr style=\"text-align: right;\">\n",
       "      <th></th>\n",
       "      <th>region_actual</th>\n",
       "      <th>date_of_birth</th>\n",
       "    </tr>\n",
       "  </thead>\n",
       "  <tbody>\n",
       "    <tr>\n",
       "      <th>0</th>\n",
       "      <td>Northeast</td>\n",
       "      <td>1973</td>\n",
       "    </tr>\n",
       "    <tr>\n",
       "      <th>1</th>\n",
       "      <td>West</td>\n",
       "      <td>1945</td>\n",
       "    </tr>\n",
       "    <tr>\n",
       "      <th>2</th>\n",
       "      <td>South</td>\n",
       "      <td>1975</td>\n",
       "    </tr>\n",
       "    <tr>\n",
       "      <th>3</th>\n",
       "      <td>Midwest</td>\n",
       "      <td>1986</td>\n",
       "    </tr>\n",
       "    <tr>\n",
       "      <th>4</th>\n",
       "      <td>South</td>\n",
       "      <td>1948</td>\n",
       "    </tr>\n",
       "  </tbody>\n",
       "</table>\n",
       "</div>"
      ],
      "text/plain": [
       "  region_actual  date_of_birth\n",
       "0     Northeast           1973\n",
       "1          West           1945\n",
       "2         South           1975\n",
       "3       Midwest           1986\n",
       "4         South           1948"
      ]
     },
     "execution_count": 93,
     "metadata": {},
     "output_type": "execute_result"
    }
   ],
   "source": [
    "# Rename the columns\n",
    "df_subset.columns = ['region_actual', 'date_of_birth']\n",
    "df_subset.head()"
   ]
  },
  {
   "cell_type": "code",
   "execution_count": 95,
   "id": "personal-teddy",
   "metadata": {},
   "outputs": [
    {
     "data": {
      "text/plain": [
       "count    61454.000000\n",
       "mean      1970.927295\n",
       "std         16.440455\n",
       "min       1934.000000\n",
       "25%       1957.000000\n",
       "50%       1970.000000\n",
       "75%       1985.000000\n",
       "max       2004.000000\n",
       "Name: date_of_birth, dtype: float64"
      ]
     },
     "execution_count": 95,
     "metadata": {},
     "output_type": "execute_result"
    }
   ],
   "source": [
    "# Get the summary (statistics) of the data\n",
    "df_subset['date_of_birth'].describe()"
   ]
  },
  {
   "cell_type": "code",
   "execution_count": 96,
   "id": "traditional-addition",
   "metadata": {},
   "outputs": [
    {
     "data": {
      "text/html": [
       "<div>\n",
       "<style scoped>\n",
       "    .dataframe tbody tr th:only-of-type {\n",
       "        vertical-align: middle;\n",
       "    }\n",
       "\n",
       "    .dataframe tbody tr th {\n",
       "        vertical-align: top;\n",
       "    }\n",
       "\n",
       "    .dataframe thead th {\n",
       "        text-align: right;\n",
       "    }\n",
       "</style>\n",
       "<table border=\"1\" class=\"dataframe\">\n",
       "  <thead>\n",
       "    <tr style=\"text-align: right;\">\n",
       "      <th></th>\n",
       "      <th>date_of_birth</th>\n",
       "    </tr>\n",
       "    <tr>\n",
       "      <th>region_actual</th>\n",
       "      <th></th>\n",
       "    </tr>\n",
       "  </thead>\n",
       "  <tbody>\n",
       "    <tr>\n",
       "      <th>Midwest</th>\n",
       "      <td>1971.539768</td>\n",
       "    </tr>\n",
       "    <tr>\n",
       "      <th>Northeast</th>\n",
       "      <td>1971.201438</td>\n",
       "    </tr>\n",
       "    <tr>\n",
       "      <th>South</th>\n",
       "      <td>1970.669554</td>\n",
       "    </tr>\n",
       "    <tr>\n",
       "      <th>West</th>\n",
       "      <td>1970.629911</td>\n",
       "    </tr>\n",
       "  </tbody>\n",
       "</table>\n",
       "</div>"
      ],
      "text/plain": [
       "               date_of_birth\n",
       "region_actual               \n",
       "Midwest          1971.539768\n",
       "Northeast        1971.201438\n",
       "South            1970.669554\n",
       "West             1970.629911"
      ]
     },
     "execution_count": 96,
     "metadata": {},
     "output_type": "execute_result"
    }
   ],
   "source": [
    "# Groupby / Aggregation\n",
    "df_subset.groupby(\"region_actual\").mean()"
   ]
  },
  {
   "cell_type": "markdown",
   "id": "stunning-knock",
   "metadata": {},
   "source": [
    "Suppose we want to count how may people for each region"
   ]
  },
  {
   "cell_type": "code",
   "execution_count": 97,
   "id": "vocational-proposition",
   "metadata": {},
   "outputs": [
    {
     "data": {
      "text/html": [
       "<div>\n",
       "<style scoped>\n",
       "    .dataframe tbody tr th:only-of-type {\n",
       "        vertical-align: middle;\n",
       "    }\n",
       "\n",
       "    .dataframe tbody tr th {\n",
       "        vertical-align: top;\n",
       "    }\n",
       "\n",
       "    .dataframe thead th {\n",
       "        text-align: right;\n",
       "    }\n",
       "</style>\n",
       "<table border=\"1\" class=\"dataframe\">\n",
       "  <thead>\n",
       "    <tr style=\"text-align: right;\">\n",
       "      <th></th>\n",
       "      <th>date_of_birth</th>\n",
       "    </tr>\n",
       "    <tr>\n",
       "      <th>region_actual</th>\n",
       "      <th></th>\n",
       "    </tr>\n",
       "  </thead>\n",
       "  <tbody>\n",
       "    <tr>\n",
       "      <th>Midwest</th>\n",
       "      <td>13717</td>\n",
       "    </tr>\n",
       "    <tr>\n",
       "      <th>Northeast</th>\n",
       "      <td>8762</td>\n",
       "    </tr>\n",
       "    <tr>\n",
       "      <th>South</th>\n",
       "      <td>19858</td>\n",
       "    </tr>\n",
       "    <tr>\n",
       "      <th>West</th>\n",
       "      <td>19117</td>\n",
       "    </tr>\n",
       "  </tbody>\n",
       "</table>\n",
       "</div>"
      ],
      "text/plain": [
       "               date_of_birth\n",
       "region_actual               \n",
       "Midwest                13717\n",
       "Northeast               8762\n",
       "South                  19858\n",
       "West                   19117"
      ]
     },
     "execution_count": 97,
     "metadata": {},
     "output_type": "execute_result"
    }
   ],
   "source": [
    "df_subset.groupby(\"region_actual\").count()"
   ]
  },
  {
   "cell_type": "markdown",
   "id": "reported-lyric",
   "metadata": {},
   "source": [
    "## 3. Matplotlib"
   ]
  },
  {
   "cell_type": "code",
   "execution_count": 98,
   "id": "experienced-february",
   "metadata": {},
   "outputs": [],
   "source": [
    "import matplotlib.pyplot as plt"
   ]
  },
  {
   "cell_type": "code",
   "execution_count": 100,
   "id": "shaped-crisis",
   "metadata": {},
   "outputs": [],
   "source": [
    "df = pd.read_csv('sample_data.csv')"
   ]
  },
  {
   "cell_type": "code",
   "execution_count": 102,
   "id": "vertical-serial",
   "metadata": {},
   "outputs": [
    {
     "name": "stderr",
     "output_type": "stream",
     "text": [
      "No handles with labels found to put in legend.\n",
      "No handles with labels found to put in legend.\n"
     ]
    },
    {
     "data": {
      "image/png": "[encoded data removed]",
      "text/plain": [
       "<Figure size 576x432 with 1 Axes>"
      ]
     },
     "metadata": {
      "needs_background": "light"
     },
     "output_type": "display_data"
    },
    {
     "data": {
      "image/png": "[encoded data removed]",
      "text/plain": [
       "<Figure size 576x432 with 1 Axes>"
      ]
     },
     "metadata": {
      "needs_background": "light"
     },
     "output_type": "display_data"
    }
   ],
   "source": [
    "# From prof. pengyu's code\n",
    "selected_columns = ['TBIRTH_YEAR','RRACE']\n",
    "for ele in selected_columns:\n",
    "    c = df[ele]\n",
    "    plt.figure(figsize=(8,6))\n",
    "    plt.hist(c, weights=np.ones(len(c)) / len(c)*100,alpha=1)\n",
    "    plt.xlabel(\"%s\"%(ele), size=14)\n",
    "    plt.ylabel(\"Percentage\", size=14)\n",
    "    plt.title(\"Frequency percentage distribution of %s\"%(ele))\n",
    "    plt.legend(loc='center right')"
   ]
  }
 ],
 "metadata": {
  "kernelspec": {
   "display_name": "Python 3 (ipykernel)",
   "language": "python",
   "name": "python3"
  },
  "language_info": {
   "codemirror_mode": {
    "name": "ipython",
    "version": 3
   },
   "file_extension": ".py",
   "mimetype": "text/x-python",
   "name": "python",
   "nbconvert_exporter": "python",
   "pygments_lexer": "ipython3",
   "version": "3.8.13"
  }
 },
 "nbformat": 4,
 "nbformat_minor": 5
}
