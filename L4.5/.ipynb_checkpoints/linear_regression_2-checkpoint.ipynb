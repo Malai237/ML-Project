{
 "cells": [
  {
   "cell_type": "code",
   "execution_count": 75,
   "id": "bf587dd5-87fa-4796-ad66-7c77716107de",
   "metadata": {},
   "outputs": [
    {
     "name": "stdout",
     "output_type": "stream",
     "text": [
      "\u001b[H\u001b[2J"
     ]
    }
   ],
   "source": [
    "clear()"
   ]
  },
  {
   "cell_type": "code",
   "execution_count": 2,
   "id": "faa04264-12b2-41e8-9e9c-7e5206d19c4c",
   "metadata": {},
   "outputs": [],
   "source": [
    "import numpy as np\n",
    "import pandas as pd\n",
    "import matplotlib.pyplot as plt\n",
    "from sklearn.linear_model import LinearRegression\n",
    "from sklearn.model_selection import train_test_split\n",
    "from sklearn import preprocessing\n",
    "from sklearn.model_selection import cross_val_score\n",
    "from sklearn.model_selection import KFold\n",
    "import os"
   ]
  },
  {
   "cell_type": "code",
   "execution_count": 7,
   "id": "ec221361",
   "metadata": {},
   "outputs": [],
   "source": [
    "os.chdir('/Users/ericwang/Desktop/ECON_148/L4.5/full_data')"
   ]
  },
  {
   "cell_type": "markdown",
   "id": "832da8d7-01a7-4d75-a28d-33c2f59c9716",
   "metadata": {},
   "source": [
    "### Useful tool 1: normalizing data"
   ]
  },
  {
   "cell_type": "code",
   "execution_count": 77,
   "id": "a357c7e2-26e6-4630-a741-1f89a4dbd983",
   "metadata": {},
   "outputs": [
    {
     "name": "stdout",
     "output_type": "stream",
     "text": [
      "Data set size:  61453\n"
     ]
    },
    {
     "data": {
      "text/plain": [
       "count    61453.000000\n",
       "mean      1970.926855\n",
       "std         16.440226\n",
       "min       1934.000000\n",
       "25%       1957.000000\n",
       "50%       1970.000000\n",
       "75%       1985.000000\n",
       "max       2004.000000\n",
       "Name: TBIRTH_YEAR, dtype: float64"
      ]
     },
     "execution_count": 77,
     "metadata": {},
     "output_type": "execute_result"
    }
   ],
   "source": [
    "data = pd.read_csv(\"pulse2022_puf_51.csv\")\n",
    "print( 'Data set size: ', len( data ) )\n",
    "data['TBIRTH_YEAR'].describe()"
   ]
  },
  {
   "cell_type": "code",
   "execution_count": 78,
   "id": "d92139ed-eb83-4fe3-b6f9-0ed70404caba",
   "metadata": {},
   "outputs": [
    {
     "data": {
      "text/plain": [
       "count    61453.000000\n",
       "mean         0.527526\n",
       "std          0.234860\n",
       "min          0.000000\n",
       "25%          0.328571\n",
       "50%          0.514286\n",
       "75%          0.728571\n",
       "max          1.000000\n",
       "Name: TBIRTH_YEAR, dtype: float64"
      ]
     },
     "execution_count": 78,
     "metadata": {},
     "output_type": "execute_result"
    }
   ],
   "source": [
    "data_scaled=data.copy()\n",
    "data_scaled['TBIRTH_YEAR'] = (data_scaled['TBIRTH_YEAR'] - data_scaled['TBIRTH_YEAR'].min()) / (data_scaled['TBIRTH_YEAR'].max() - data_scaled['TBIRTH_YEAR'].min()) \n",
    "data_scaled['TBIRTH_YEAR'].describe()"
   ]
  },
  {
   "cell_type": "code",
   "execution_count": 79,
   "id": "94abe6ab-af40-49ff-9d99-3526d7ed4f9c",
   "metadata": {},
   "outputs": [
    {
     "data": {
      "text/plain": [
       "(array([ 940., 3371., 7545., 8905., 7757., 7347., 7814., 7776., 6451.,\n",
       "        3547.]),\n",
       " array([1934., 1941., 1948., 1955., 1962., 1969., 1976., 1983., 1990.,\n",
       "        1997., 2004.]),\n",
       " <BarContainer object of 10 artists>)"
      ]
     },
     "execution_count": 79,
     "metadata": {},
     "output_type": "execute_result"
    },
    {
     "data": {
      "image/png": "[encoded data removed]",
      "text/plain": [
       "<Figure size 432x288 with 1 Axes>"
      ]
     },
     "metadata": {
      "needs_background": "light"
     },
     "output_type": "display_data"
    }
   ],
   "source": [
    "plt.hist(data['TBIRTH_YEAR'])"
   ]
  },
  {
   "cell_type": "code",
   "execution_count": 80,
   "id": "517f7d2b-a210-4450-8a8b-298e9dbc5d95",
   "metadata": {},
   "outputs": [
    {
     "data": {
      "text/plain": [
       "(array([ 940., 3371., 8833., 7617., 7757., 8374., 7980., 6583., 6451.,\n",
       "        3547.]),\n",
       " array([0. , 0.1, 0.2, 0.3, 0.4, 0.5, 0.6, 0.7, 0.8, 0.9, 1. ]),\n",
       " <BarContainer object of 10 artists>)"
      ]
     },
     "execution_count": 80,
     "metadata": {},
     "output_type": "execute_result"
    },
    {
     "data": {
      "image/png": "[encoded data removed]",
      "text/plain": [
       "<Figure size 432x288 with 1 Axes>"
      ]
     },
     "metadata": {
      "needs_background": "light"
     },
     "output_type": "display_data"
    }
   ],
   "source": [
    "plt.hist(data_scaled['TBIRTH_YEAR'])"
   ]
  },
  {
   "cell_type": "markdown",
   "id": "f1f3b224-b834-4cb4-ac11-256a63622635",
   "metadata": {},
   "source": [
    "### Useful tool 2: generate random numbers"
   ]
  },
  {
   "cell_type": "code",
   "execution_count": 81,
   "id": "9ba5acfe-3dce-4ca7-bb3e-74887242b984",
   "metadata": {},
   "outputs": [
    {
     "data": {
      "text/plain": [
       "array([[ 0.35982505,  0.5732027 ,  0.02805948],\n",
       "       [ 1.08341508, -0.01745318, -0.28205375],\n",
       "       [-0.89520986,  0.63533531, -0.14478273],\n",
       "       [ 0.02340272, -1.45424375, -1.47366739],\n",
       "       [ 1.4722387 , -1.03752228,  1.25827835]])"
      ]
     },
     "execution_count": 81,
     "metadata": {},
     "output_type": "execute_result"
    }
   ],
   "source": [
    "# generate normal random numbers\n",
    "np.random.normal(loc=0.0, scale=1.0, size=(5,3)) # generate normal random variables with mean 0, std deviation 1; we want 5*3 of these and put them in an array"
   ]
  },
  {
   "cell_type": "code",
   "execution_count": 82,
   "id": "898ca515-7a22-40d2-9c36-b20b1a939393",
   "metadata": {},
   "outputs": [
    {
     "data": {
      "text/plain": [
       "(array([  13.,  117.,  433.,  961., 1394., 1205.,  640.,  195.,   38.,\n",
       "           4.]),\n",
       " array([-3.441761  , -2.71215342, -1.98254584, -1.25293827, -0.52333069,\n",
       "         0.20627689,  0.93588446,  1.66549204,  2.39509962,  3.1247072 ,\n",
       "         3.85431477]),\n",
       " <BarContainer object of 10 artists>)"
      ]
     },
     "execution_count": 82,
     "metadata": {},
     "output_type": "execute_result"
    },
    {
     "data": {
      "image/png": "[encoded data removed]",
      "text/plain": [
       "<Figure size 432x288 with 1 Axes>"
      ]
     },
     "metadata": {
      "needs_background": "light"
     },
     "output_type": "display_data"
    }
   ],
   "source": [
    "plt.hist(np.random.normal(loc=0.0, scale=1.0, size=(5000,1)))"
   ]
  },
  {
   "cell_type": "code",
   "execution_count": 83,
   "id": "002a98f6-05c8-4578-8ddc-13c00c7c4deb",
   "metadata": {},
   "outputs": [
    {
     "data": {
      "text/plain": [
       "array([[0.75457194, 0.8190543 , 0.40581013],\n",
       "       [0.45456849, 0.26533047, 0.06203794],\n",
       "       [0.99818881, 0.5514986 , 0.05197661],\n",
       "       [0.09428182, 0.56013161, 0.65359131],\n",
       "       [0.90257726, 0.30442241, 0.89520909]])"
      ]
     },
     "execution_count": 83,
     "metadata": {},
     "output_type": "execute_result"
    }
   ],
   "source": [
    "# generate uniform random numbers\n",
    "np.random.uniform(low=0.0, high=1.0, size=(5,3)) # generate uniform random variables between 0 and 1; we want 5*3 of these and put them in an array"
   ]
  },
  {
   "cell_type": "code",
   "execution_count": 84,
   "id": "deb35b8a-4414-486a-864b-3c35df05cfd8",
   "metadata": {},
   "outputs": [
    {
     "data": {
      "text/plain": [
       "(array([489., 497., 530., 501., 519., 492., 495., 521., 466., 490.]),\n",
       " array([1.11341218e-04, 1.00077199e-01, 2.00043057e-01, 3.00008916e-01,\n",
       "        3.99974774e-01, 4.99940632e-01, 5.99906490e-01, 6.99872348e-01,\n",
       "        7.99838206e-01, 8.99804064e-01, 9.99769923e-01]),\n",
       " <BarContainer object of 10 artists>)"
      ]
     },
     "execution_count": 84,
     "metadata": {},
     "output_type": "execute_result"
    },
    {
     "data": {
      "image/png": "[encoded data removed]",
      "text/plain": [
       "<Figure size 432x288 with 1 Axes>"
      ]
     },
     "metadata": {
      "needs_background": "light"
     },
     "output_type": "display_data"
    }
   ],
   "source": [
    "plt.hist(np.random.uniform(low=0.0, high=1.0, size=(5000,1)))"
   ]
  },
  {
   "cell_type": "markdown",
   "id": "2453bf2e-03d7-4744-b0c0-c3408be36edb",
   "metadata": {},
   "source": [
    "### Useful tool 3: accessing arrays and dataframes"
   ]
  },
  {
   "cell_type": "code",
   "execution_count": 85,
   "id": "73f71f3a-9ccc-43ab-a153-2d00d2f5bad0",
   "metadata": {},
   "outputs": [],
   "source": [
    "# quick note on selecting columns (Part 1: array)\n",
    "n=500\n",
    "p=490\n",
    "X=np.random.normal(loc=0.0, scale=1.0, size=(n,p))\n",
    "X_small=X[:,0:100]"
   ]
  },
  {
   "cell_type": "code",
   "execution_count": 86,
   "id": "659c7631-35ff-416f-8a5b-a387042f6adc",
   "metadata": {},
   "outputs": [
    {
     "data": {
      "text/plain": [
       "(500, 100)"
      ]
     },
     "execution_count": 86,
     "metadata": {},
     "output_type": "execute_result"
    }
   ],
   "source": [
    "X_small.shape"
   ]
  },
  {
   "cell_type": "code",
   "execution_count": 87,
   "id": "2d4ff9fd-b833-4df8-9340-e264b93f7ec0",
   "metadata": {},
   "outputs": [
    {
     "data": {
      "text/plain": [
       "array([[-0.02726807,  0.66029658,  1.79415064, ...,  0.11193233,\n",
       "        -0.25692863,  1.42463452],\n",
       "       [-0.9131645 ,  1.11151324, -1.22505507, ...,  0.72113322,\n",
       "        -0.25098958, -0.1699761 ],\n",
       "       [ 0.97726585, -0.13459687, -1.99205761, ..., -0.63651469,\n",
       "        -1.7924137 , -0.34470289],\n",
       "       ...,\n",
       "       [-0.20370311,  0.45571627, -0.92923277, ...,  0.29097049,\n",
       "         0.59258182, -0.78802793],\n",
       "       [ 0.1120144 ,  0.17457215, -0.52901041, ..., -0.17540014,\n",
       "         0.55112778,  0.555449  ],\n",
       "       [-0.39785681,  0.01046871,  2.17970054, ...,  1.99358141,\n",
       "         0.1077552 , -1.95006179]])"
      ]
     },
     "execution_count": 87,
     "metadata": {},
     "output_type": "execute_result"
    }
   ],
   "source": [
    "X_small"
   ]
  },
  {
   "cell_type": "code",
   "execution_count": 88,
   "id": "95e1f275-108d-4bb2-af20-8edbf05029c4",
   "metadata": {},
   "outputs": [],
   "source": [
    "# quick note on selecting columns (Part 2: dataframe)\n",
    "n=500\n",
    "p=490\n",
    "X=np.random.normal(loc=0.0, scale=1.0, size=(n,p))\n",
    "X=pd.DataFrame(X)\n",
    "X_small=X.iloc[:,0:100]"
   ]
  },
  {
   "cell_type": "code",
   "execution_count": 89,
   "id": "46111e3c-6f14-4d64-97d6-b00526b8ebed",
   "metadata": {},
   "outputs": [
    {
     "data": {
      "text/html": [
       "<div>\n",
       "<style scoped>\n",
       "    .dataframe tbody tr th:only-of-type {\n",
       "        vertical-align: middle;\n",
       "    }\n",
       "\n",
       "    .dataframe tbody tr th {\n",
       "        vertical-align: top;\n",
       "    }\n",
       "\n",
       "    .dataframe thead th {\n",
       "        text-align: right;\n",
       "    }\n",
       "</style>\n",
       "<table border=\"1\" class=\"dataframe\">\n",
       "  <thead>\n",
       "    <tr style=\"text-align: right;\">\n",
       "      <th></th>\n",
       "      <th>0</th>\n",
       "      <th>1</th>\n",
       "      <th>2</th>\n",
       "      <th>3</th>\n",
       "      <th>4</th>\n",
       "      <th>5</th>\n",
       "      <th>6</th>\n",
       "      <th>7</th>\n",
       "      <th>8</th>\n",
       "      <th>9</th>\n",
       "      <th>...</th>\n",
       "      <th>90</th>\n",
       "      <th>91</th>\n",
       "      <th>92</th>\n",
       "      <th>93</th>\n",
       "      <th>94</th>\n",
       "      <th>95</th>\n",
       "      <th>96</th>\n",
       "      <th>97</th>\n",
       "      <th>98</th>\n",
       "      <th>99</th>\n",
       "    </tr>\n",
       "  </thead>\n",
       "  <tbody>\n",
       "    <tr>\n",
       "      <th>0</th>\n",
       "      <td>-0.513528</td>\n",
       "      <td>-0.311791</td>\n",
       "      <td>-0.762200</td>\n",
       "      <td>1.584707</td>\n",
       "      <td>-0.389056</td>\n",
       "      <td>1.643825</td>\n",
       "      <td>-0.575634</td>\n",
       "      <td>0.827684</td>\n",
       "      <td>-0.724685</td>\n",
       "      <td>0.185396</td>\n",
       "      <td>...</td>\n",
       "      <td>0.359103</td>\n",
       "      <td>-1.116205</td>\n",
       "      <td>0.251075</td>\n",
       "      <td>-1.273089</td>\n",
       "      <td>0.731638</td>\n",
       "      <td>1.515156</td>\n",
       "      <td>0.320083</td>\n",
       "      <td>1.117225</td>\n",
       "      <td>0.191175</td>\n",
       "      <td>-1.371834</td>\n",
       "    </tr>\n",
       "    <tr>\n",
       "      <th>1</th>\n",
       "      <td>-0.519209</td>\n",
       "      <td>-0.969027</td>\n",
       "      <td>1.497904</td>\n",
       "      <td>0.520053</td>\n",
       "      <td>-0.793518</td>\n",
       "      <td>-0.840522</td>\n",
       "      <td>1.668587</td>\n",
       "      <td>0.213764</td>\n",
       "      <td>-1.017486</td>\n",
       "      <td>1.440324</td>\n",
       "      <td>...</td>\n",
       "      <td>0.479315</td>\n",
       "      <td>-1.668679</td>\n",
       "      <td>-2.002366</td>\n",
       "      <td>-0.552920</td>\n",
       "      <td>0.729055</td>\n",
       "      <td>-2.601409</td>\n",
       "      <td>1.725493</td>\n",
       "      <td>0.014597</td>\n",
       "      <td>2.465303</td>\n",
       "      <td>-1.513587</td>\n",
       "    </tr>\n",
       "    <tr>\n",
       "      <th>2</th>\n",
       "      <td>-0.259249</td>\n",
       "      <td>-0.762004</td>\n",
       "      <td>0.859149</td>\n",
       "      <td>-0.963352</td>\n",
       "      <td>-0.592236</td>\n",
       "      <td>-0.913078</td>\n",
       "      <td>0.820986</td>\n",
       "      <td>1.607962</td>\n",
       "      <td>-1.139021</td>\n",
       "      <td>-0.642836</td>\n",
       "      <td>...</td>\n",
       "      <td>-2.003088</td>\n",
       "      <td>0.552517</td>\n",
       "      <td>0.139882</td>\n",
       "      <td>2.456437</td>\n",
       "      <td>1.690755</td>\n",
       "      <td>0.241358</td>\n",
       "      <td>-0.920227</td>\n",
       "      <td>-2.068571</td>\n",
       "      <td>0.564094</td>\n",
       "      <td>2.428941</td>\n",
       "    </tr>\n",
       "    <tr>\n",
       "      <th>3</th>\n",
       "      <td>-0.325933</td>\n",
       "      <td>-0.621826</td>\n",
       "      <td>0.919364</td>\n",
       "      <td>0.801953</td>\n",
       "      <td>0.768994</td>\n",
       "      <td>0.021506</td>\n",
       "      <td>0.197861</td>\n",
       "      <td>2.515583</td>\n",
       "      <td>1.773334</td>\n",
       "      <td>0.882274</td>\n",
       "      <td>...</td>\n",
       "      <td>0.724463</td>\n",
       "      <td>0.332652</td>\n",
       "      <td>-0.896810</td>\n",
       "      <td>0.468792</td>\n",
       "      <td>-0.153962</td>\n",
       "      <td>-1.003561</td>\n",
       "      <td>0.743315</td>\n",
       "      <td>-0.158701</td>\n",
       "      <td>-1.266061</td>\n",
       "      <td>0.064734</td>\n",
       "    </tr>\n",
       "    <tr>\n",
       "      <th>4</th>\n",
       "      <td>0.422834</td>\n",
       "      <td>-0.792898</td>\n",
       "      <td>-0.289205</td>\n",
       "      <td>0.720326</td>\n",
       "      <td>0.491238</td>\n",
       "      <td>-1.098963</td>\n",
       "      <td>-2.347523</td>\n",
       "      <td>0.446442</td>\n",
       "      <td>-2.121818</td>\n",
       "      <td>-0.731766</td>\n",
       "      <td>...</td>\n",
       "      <td>-1.629545</td>\n",
       "      <td>-0.242544</td>\n",
       "      <td>-2.105642</td>\n",
       "      <td>2.264288</td>\n",
       "      <td>-1.275177</td>\n",
       "      <td>-0.539664</td>\n",
       "      <td>0.677547</td>\n",
       "      <td>1.229784</td>\n",
       "      <td>0.626444</td>\n",
       "      <td>0.749778</td>\n",
       "    </tr>\n",
       "    <tr>\n",
       "      <th>...</th>\n",
       "      <td>...</td>\n",
       "      <td>...</td>\n",
       "      <td>...</td>\n",
       "      <td>...</td>\n",
       "      <td>...</td>\n",
       "      <td>...</td>\n",
       "      <td>...</td>\n",
       "      <td>...</td>\n",
       "      <td>...</td>\n",
       "      <td>...</td>\n",
       "      <td>...</td>\n",
       "      <td>...</td>\n",
       "      <td>...</td>\n",
       "      <td>...</td>\n",
       "      <td>...</td>\n",
       "      <td>...</td>\n",
       "      <td>...</td>\n",
       "      <td>...</td>\n",
       "      <td>...</td>\n",
       "      <td>...</td>\n",
       "      <td>...</td>\n",
       "    </tr>\n",
       "    <tr>\n",
       "      <th>495</th>\n",
       "      <td>0.012537</td>\n",
       "      <td>-0.668166</td>\n",
       "      <td>0.010389</td>\n",
       "      <td>0.800008</td>\n",
       "      <td>0.552969</td>\n",
       "      <td>-0.453990</td>\n",
       "      <td>-0.704103</td>\n",
       "      <td>-0.833578</td>\n",
       "      <td>-0.232972</td>\n",
       "      <td>0.003513</td>\n",
       "      <td>...</td>\n",
       "      <td>0.630948</td>\n",
       "      <td>0.657742</td>\n",
       "      <td>-0.213024</td>\n",
       "      <td>-0.959022</td>\n",
       "      <td>1.256803</td>\n",
       "      <td>-0.226350</td>\n",
       "      <td>0.291966</td>\n",
       "      <td>0.500603</td>\n",
       "      <td>1.204347</td>\n",
       "      <td>0.065970</td>\n",
       "    </tr>\n",
       "    <tr>\n",
       "      <th>496</th>\n",
       "      <td>1.203301</td>\n",
       "      <td>0.380609</td>\n",
       "      <td>0.300674</td>\n",
       "      <td>-0.367297</td>\n",
       "      <td>-0.214372</td>\n",
       "      <td>1.621894</td>\n",
       "      <td>-0.613041</td>\n",
       "      <td>-0.815089</td>\n",
       "      <td>-0.670841</td>\n",
       "      <td>-0.075681</td>\n",
       "      <td>...</td>\n",
       "      <td>1.149674</td>\n",
       "      <td>2.287487</td>\n",
       "      <td>-0.459733</td>\n",
       "      <td>-0.778887</td>\n",
       "      <td>-0.886050</td>\n",
       "      <td>-0.613667</td>\n",
       "      <td>-0.721804</td>\n",
       "      <td>1.898512</td>\n",
       "      <td>0.692704</td>\n",
       "      <td>1.646204</td>\n",
       "    </tr>\n",
       "    <tr>\n",
       "      <th>497</th>\n",
       "      <td>0.285347</td>\n",
       "      <td>-0.723379</td>\n",
       "      <td>-0.175790</td>\n",
       "      <td>-0.075190</td>\n",
       "      <td>0.818405</td>\n",
       "      <td>-0.773407</td>\n",
       "      <td>-0.459524</td>\n",
       "      <td>1.038060</td>\n",
       "      <td>0.166323</td>\n",
       "      <td>-0.255269</td>\n",
       "      <td>...</td>\n",
       "      <td>-0.537349</td>\n",
       "      <td>-1.004377</td>\n",
       "      <td>-0.297858</td>\n",
       "      <td>-1.485455</td>\n",
       "      <td>-0.854246</td>\n",
       "      <td>0.979737</td>\n",
       "      <td>0.029186</td>\n",
       "      <td>-1.509587</td>\n",
       "      <td>-1.056766</td>\n",
       "      <td>-1.967111</td>\n",
       "    </tr>\n",
       "    <tr>\n",
       "      <th>498</th>\n",
       "      <td>1.717875</td>\n",
       "      <td>0.228338</td>\n",
       "      <td>0.461135</td>\n",
       "      <td>0.017327</td>\n",
       "      <td>-0.618323</td>\n",
       "      <td>0.616600</td>\n",
       "      <td>-1.714228</td>\n",
       "      <td>0.423361</td>\n",
       "      <td>-0.514415</td>\n",
       "      <td>-0.048174</td>\n",
       "      <td>...</td>\n",
       "      <td>0.377656</td>\n",
       "      <td>0.527313</td>\n",
       "      <td>0.401472</td>\n",
       "      <td>0.954992</td>\n",
       "      <td>-0.236514</td>\n",
       "      <td>0.338852</td>\n",
       "      <td>-0.121156</td>\n",
       "      <td>-0.205566</td>\n",
       "      <td>-0.459245</td>\n",
       "      <td>-0.168938</td>\n",
       "    </tr>\n",
       "    <tr>\n",
       "      <th>499</th>\n",
       "      <td>-0.093472</td>\n",
       "      <td>-0.110765</td>\n",
       "      <td>0.697229</td>\n",
       "      <td>2.240798</td>\n",
       "      <td>-1.341314</td>\n",
       "      <td>0.336755</td>\n",
       "      <td>-0.084268</td>\n",
       "      <td>-0.733765</td>\n",
       "      <td>-1.431296</td>\n",
       "      <td>-1.269725</td>\n",
       "      <td>...</td>\n",
       "      <td>0.278173</td>\n",
       "      <td>-0.429272</td>\n",
       "      <td>0.575784</td>\n",
       "      <td>0.940785</td>\n",
       "      <td>0.563170</td>\n",
       "      <td>-0.452424</td>\n",
       "      <td>-0.002801</td>\n",
       "      <td>-0.766793</td>\n",
       "      <td>0.074240</td>\n",
       "      <td>-1.273054</td>\n",
       "    </tr>\n",
       "  </tbody>\n",
       "</table>\n",
       "<p>500 rows × 100 columns</p>\n",
       "</div>"
      ],
      "text/plain": [
       "           0         1         2         3         4         5         6   \\\n",
       "0   -0.513528 -0.311791 -0.762200  1.584707 -0.389056  1.643825 -0.575634   \n",
       "1   -0.519209 -0.969027  1.497904  0.520053 -0.793518 -0.840522  1.668587   \n",
       "2   -0.259249 -0.762004  0.859149 -0.963352 -0.592236 -0.913078  0.820986   \n",
       "3   -0.325933 -0.621826  0.919364  0.801953  0.768994  0.021506  0.197861   \n",
       "4    0.422834 -0.792898 -0.289205  0.720326  0.491238 -1.098963 -2.347523   \n",
       "..        ...       ...       ...       ...       ...       ...       ...   \n",
       "495  0.012537 -0.668166  0.010389  0.800008  0.552969 -0.453990 -0.704103   \n",
       "496  1.203301  0.380609  0.300674 -0.367297 -0.214372  1.621894 -0.613041   \n",
       "497  0.285347 -0.723379 -0.175790 -0.075190  0.818405 -0.773407 -0.459524   \n",
       "498  1.717875  0.228338  0.461135  0.017327 -0.618323  0.616600 -1.714228   \n",
       "499 -0.093472 -0.110765  0.697229  2.240798 -1.341314  0.336755 -0.084268   \n",
       "\n",
       "           7         8         9   ...        90        91        92  \\\n",
       "0    0.827684 -0.724685  0.185396  ...  0.359103 -1.116205  0.251075   \n",
       "1    0.213764 -1.017486  1.440324  ...  0.479315 -1.668679 -2.002366   \n",
       "2    1.607962 -1.139021 -0.642836  ... -2.003088  0.552517  0.139882   \n",
       "3    2.515583  1.773334  0.882274  ...  0.724463  0.332652 -0.896810   \n",
       "4    0.446442 -2.121818 -0.731766  ... -1.629545 -0.242544 -2.105642   \n",
       "..        ...       ...       ...  ...       ...       ...       ...   \n",
       "495 -0.833578 -0.232972  0.003513  ...  0.630948  0.657742 -0.213024   \n",
       "496 -0.815089 -0.670841 -0.075681  ...  1.149674  2.287487 -0.459733   \n",
       "497  1.038060  0.166323 -0.255269  ... -0.537349 -1.004377 -0.297858   \n",
       "498  0.423361 -0.514415 -0.048174  ...  0.377656  0.527313  0.401472   \n",
       "499 -0.733765 -1.431296 -1.269725  ...  0.278173 -0.429272  0.575784   \n",
       "\n",
       "           93        94        95        96        97        98        99  \n",
       "0   -1.273089  0.731638  1.515156  0.320083  1.117225  0.191175 -1.371834  \n",
       "1   -0.552920  0.729055 -2.601409  1.725493  0.014597  2.465303 -1.513587  \n",
       "2    2.456437  1.690755  0.241358 -0.920227 -2.068571  0.564094  2.428941  \n",
       "3    0.468792 -0.153962 -1.003561  0.743315 -0.158701 -1.266061  0.064734  \n",
       "4    2.264288 -1.275177 -0.539664  0.677547  1.229784  0.626444  0.749778  \n",
       "..        ...       ...       ...       ...       ...       ...       ...  \n",
       "495 -0.959022  1.256803 -0.226350  0.291966  0.500603  1.204347  0.065970  \n",
       "496 -0.778887 -0.886050 -0.613667 -0.721804  1.898512  0.692704  1.646204  \n",
       "497 -1.485455 -0.854246  0.979737  0.029186 -1.509587 -1.056766 -1.967111  \n",
       "498  0.954992 -0.236514  0.338852 -0.121156 -0.205566 -0.459245 -0.168938  \n",
       "499  0.940785  0.563170 -0.452424 -0.002801 -0.766793  0.074240 -1.273054  \n",
       "\n",
       "[500 rows x 100 columns]"
      ]
     },
     "execution_count": 89,
     "metadata": {},
     "output_type": "execute_result"
    }
   ],
   "source": [
    "X_small"
   ]
  },
  {
   "cell_type": "code",
   "execution_count": 90,
   "id": "0b5c7860-a4d9-4d8d-a1b2-490e8e6120d3",
   "metadata": {},
   "outputs": [],
   "source": [
    "# normalizing data"
   ]
  },
  {
   "cell_type": "markdown",
   "id": "1ebca3c1-c272-41cd-9edb-46f814c6af95",
   "metadata": {},
   "source": [
    "### Simulation: can we just select the best model?"
   ]
  },
  {
   "cell_type": "code",
   "execution_count": 91,
   "id": "af4fd010-2361-4eee-8d15-e76e9e6ac7ad",
   "metadata": {},
   "outputs": [
    {
     "name": "stdout",
     "output_type": "stream",
     "text": [
      "R^2 of reg1 is  0.9851479057335356\n"
     ]
    }
   ],
   "source": [
    "# train a linear model (Reg1) using all the data\n",
    "\n",
    "n=500\n",
    "p=490\n",
    "X=np.random.normal(loc=0.0, scale=1.0, size=(n,p))\n",
    "X=pd.DataFrame(X)\n",
    "y=np.random.normal(loc=0.0, scale=1.0, size=(n,1))\n",
    "reg1 = LinearRegression().fit(X, y)\n",
    "# print(reg.intercept_, reg.coef_, reg.score(X,y))\n",
    "print('R^2 of reg1 is ',reg1.score(X,y))\n"
   ]
  },
  {
   "cell_type": "code",
   "execution_count": 92,
   "id": "caf32ee5-b813-40a6-8034-96cec84438de",
   "metadata": {},
   "outputs": [
    {
     "name": "stdout",
     "output_type": "stream",
     "text": [
      "MSE of reg1 is  125.32117512434928\n"
     ]
    }
   ],
   "source": [
    "# apply the model (reg1) on new data and check the performance (MSE)\n",
    "\n",
    "X_new=np.random.normal(loc=0.0, scale=1.0, size=(n,p))\n",
    "X_new=pd.DataFrame(X_new)\n",
    "y_new=np.random.normal(loc=0.0, scale=1.0, size=(n,1))\n",
    "\n",
    "y_pred_new=reg1.predict(X_new)\n",
    "MSE_reg1=np.mean(np.square(y_new - y_pred_new))\n",
    "print('MSE of reg1 is ', MSE_reg1)"
   ]
  },
  {
   "cell_type": "code",
   "execution_count": 93,
   "id": "4d2cf0b2-6aa0-45ee-9fe0-f4fb55a6a894",
   "metadata": {},
   "outputs": [
    {
     "name": "stdout",
     "output_type": "stream",
     "text": [
      "R^2 of reg2 is  0.24846732164468677\n"
     ]
    }
   ],
   "source": [
    "# train a linear model (Reg2) using only a few features (columns)\n",
    "\n",
    "X_small=X.iloc[:,0:100]\n",
    "reg2 = LinearRegression().fit(X_small, y)\n",
    "print('R^2 of reg2 is ',reg2.score(X_small,y))"
   ]
  },
  {
   "cell_type": "code",
   "execution_count": 94,
   "id": "6007c0fb-50d8-4089-afc9-b46cb0f936d9",
   "metadata": {},
   "outputs": [
    {
     "name": "stdout",
     "output_type": "stream",
     "text": [
      "MSE of reg2 is  1.1652237688757126\n"
     ]
    }
   ],
   "source": [
    "# apply the model (reg2) on new data and check the performance (MSE)\n",
    "\n",
    "X_new_small=X_new.iloc[:,0:100]\n",
    "y_pred_new=reg2.predict(X_new_small)\n",
    "MSE_reg2=np.mean(np.square(y_new - y_pred_new))\n",
    "print('MSE of reg2 is ', MSE_reg2)"
   ]
  },
  {
   "cell_type": "markdown",
   "id": "30cd1bcc-8467-44dc-802d-dc0d52713a55",
   "metadata": {},
   "source": [
    "### Sample splitting"
   ]
  },
  {
   "cell_type": "code",
   "execution_count": 95,
   "id": "881b90e5-2a27-4965-96eb-1571f6c3bc99",
   "metadata": {},
   "outputs": [
    {
     "data": {
      "text/plain": [
       "array([[-7.04781454e-01],\n",
       "       [-1.67041917e+00],\n",
       "       [ 8.84023432e-01],\n",
       "       [-3.94565067e-01],\n",
       "       [ 2.17142384e+00],\n",
       "       [ 1.90831943e+00],\n",
       "       [-2.49669768e-01],\n",
       "       [-7.47453343e-01],\n",
       "       [-6.61832256e-01],\n",
       "       [-1.80964592e+00],\n",
       "       [-3.75884606e-01],\n",
       "       [ 8.80895721e-02],\n",
       "       [-4.51671487e-01],\n",
       "       [ 2.32588360e-01],\n",
       "       [-8.63529687e-01],\n",
       "       [ 1.25905897e+00],\n",
       "       [ 8.68707442e-01],\n",
       "       [ 6.15036190e-01],\n",
       "       [-3.05275040e-01],\n",
       "       [ 8.91491810e-01],\n",
       "       [ 2.04794806e+00],\n",
       "       [-4.48545626e-01],\n",
       "       [-8.76166605e-01],\n",
       "       [ 1.69816338e+00],\n",
       "       [ 2.12054102e-01],\n",
       "       [-1.93960600e-01],\n",
       "       [-5.03371265e-01],\n",
       "       [-4.06872415e-01],\n",
       "       [ 5.07592285e-01],\n",
       "       [ 8.84989535e-02],\n",
       "       [ 4.54270511e-01],\n",
       "       [ 2.95863501e+00],\n",
       "       [-4.01578341e-01],\n",
       "       [ 1.46261845e+00],\n",
       "       [-1.26932835e-01],\n",
       "       [ 2.02526895e-01],\n",
       "       [-7.95399657e-01],\n",
       "       [-6.05935951e-02],\n",
       "       [-1.72507104e+00],\n",
       "       [-1.83646677e+00],\n",
       "       [-2.02499312e-01],\n",
       "       [-4.34005271e-01],\n",
       "       [-1.03120494e+00],\n",
       "       [-7.03277776e-01],\n",
       "       [ 3.12005772e-01],\n",
       "       [ 1.83920441e-01],\n",
       "       [-2.42708831e-01],\n",
       "       [-4.32901379e-02],\n",
       "       [-3.74175095e-01],\n",
       "       [-9.32419054e-01],\n",
       "       [-1.18388285e-01],\n",
       "       [-1.64675410e-03],\n",
       "       [-9.18990680e-02],\n",
       "       [-6.08882482e-01],\n",
       "       [-5.51661524e-01],\n",
       "       [-4.38625656e-01],\n",
       "       [ 3.87575791e-02],\n",
       "       [-1.09375360e+00],\n",
       "       [ 1.39364926e+00],\n",
       "       [-6.79675881e-01],\n",
       "       [ 2.62670139e-01],\n",
       "       [-3.38349504e-01],\n",
       "       [ 1.94026250e-01],\n",
       "       [-7.01324447e-01],\n",
       "       [ 5.50568052e-01],\n",
       "       [-5.36270977e-01],\n",
       "       [-1.00436474e+00],\n",
       "       [ 5.52555583e-01],\n",
       "       [ 7.34442205e-01],\n",
       "       [-1.59555727e+00],\n",
       "       [-2.69379775e-01],\n",
       "       [ 8.65565540e-01],\n",
       "       [ 3.84032268e-01],\n",
       "       [-7.47083308e-01],\n",
       "       [ 9.55335024e-01],\n",
       "       [-4.43864814e-01],\n",
       "       [ 5.09085348e-01],\n",
       "       [-1.77695719e+00],\n",
       "       [ 8.60985723e-01],\n",
       "       [-1.14395163e-01],\n",
       "       [ 1.88937802e+00],\n",
       "       [ 6.76007563e-01],\n",
       "       [ 8.02414857e-01],\n",
       "       [-7.79870031e-01],\n",
       "       [-7.07814779e-01],\n",
       "       [-1.02676032e+00],\n",
       "       [-1.95698688e+00],\n",
       "       [ 1.52144349e+00],\n",
       "       [ 1.78490762e-01],\n",
       "       [-2.20791930e+00],\n",
       "       [ 1.51707329e-01],\n",
       "       [ 9.51347580e-02],\n",
       "       [-7.19477845e-01],\n",
       "       [-1.91361243e-01],\n",
       "       [-2.00792463e+00],\n",
       "       [ 7.94031997e-01],\n",
       "       [-1.74804847e+00],\n",
       "       [-8.25497361e-01],\n",
       "       [-4.88193397e-01],\n",
       "       [ 1.19010656e+00],\n",
       "       [-1.38052141e+00],\n",
       "       [-8.29288225e-01],\n",
       "       [-2.92471430e-03],\n",
       "       [ 1.66337921e-02],\n",
       "       [ 5.85636869e-01],\n",
       "       [ 9.11486448e-01],\n",
       "       [ 3.15351147e-01],\n",
       "       [-2.46396143e-01],\n",
       "       [ 3.34745690e-01],\n",
       "       [-7.44274576e-01],\n",
       "       [-9.78021861e-01],\n",
       "       [ 1.00457072e+00],\n",
       "       [-5.68626297e-01],\n",
       "       [ 1.21967516e+00],\n",
       "       [-2.64273035e-02],\n",
       "       [-7.68821210e-02],\n",
       "       [-1.72142125e+00],\n",
       "       [-2.86672037e-01],\n",
       "       [-1.59919282e+00],\n",
       "       [-6.74779484e-01],\n",
       "       [-1.62849819e+00],\n",
       "       [-9.94707695e-01],\n",
       "       [ 9.32789969e-01],\n",
       "       [ 1.76710205e-01],\n",
       "       [ 6.89281576e-01],\n",
       "       [-3.69928412e-01],\n",
       "       [ 1.38082527e+00],\n",
       "       [-8.70675623e-01],\n",
       "       [-2.46345698e+00],\n",
       "       [ 1.01154390e+00],\n",
       "       [-6.04480518e-01],\n",
       "       [-2.34344196e-01],\n",
       "       [-2.86931815e-01],\n",
       "       [-1.28401675e+00],\n",
       "       [-8.67903613e-01],\n",
       "       [-4.49432286e-01],\n",
       "       [-1.41896895e+00],\n",
       "       [ 1.68342616e-01],\n",
       "       [-2.88367006e-01],\n",
       "       [ 4.42689819e-01],\n",
       "       [-8.52923068e-01],\n",
       "       [ 6.29745454e-01],\n",
       "       [ 1.08905546e+00],\n",
       "       [ 8.97194050e-01],\n",
       "       [ 1.46798835e+00],\n",
       "       [ 8.47319041e-01],\n",
       "       [-1.26278403e+00],\n",
       "       [-1.04303552e+00],\n",
       "       [ 6.01668328e-01],\n",
       "       [ 7.55782006e-01],\n",
       "       [ 8.15041173e-01],\n",
       "       [-1.86075752e+00],\n",
       "       [-1.27280662e+00],\n",
       "       [-2.34700314e-01],\n",
       "       [ 4.92503707e-01],\n",
       "       [-1.10336226e+00],\n",
       "       [ 1.08737536e+00],\n",
       "       [ 5.79558078e-01],\n",
       "       [ 4.03403755e-01],\n",
       "       [-2.92997472e-01],\n",
       "       [-6.68602221e-02],\n",
       "       [-4.01449544e-01],\n",
       "       [ 1.23572361e+00],\n",
       "       [-7.53413865e-01],\n",
       "       [-1.68784665e-01],\n",
       "       [ 1.64947064e-01],\n",
       "       [ 8.07702101e-01],\n",
       "       [ 1.33723162e+00],\n",
       "       [ 5.13960162e-01],\n",
       "       [ 4.67269262e-01],\n",
       "       [-3.21370798e-02],\n",
       "       [-1.25024077e+00],\n",
       "       [ 5.03447352e-01],\n",
       "       [-5.58819078e-01],\n",
       "       [ 4.02598196e-01],\n",
       "       [-7.16165679e-01],\n",
       "       [-1.63655685e-01],\n",
       "       [ 1.59722196e+00],\n",
       "       [ 4.57812341e-02],\n",
       "       [ 1.56319903e+00],\n",
       "       [-3.46783518e-01],\n",
       "       [ 3.54475619e-01],\n",
       "       [ 4.31893562e-01],\n",
       "       [ 2.97314903e-01],\n",
       "       [ 5.46307550e-01],\n",
       "       [ 5.82526693e-01],\n",
       "       [ 7.78567009e-01],\n",
       "       [ 4.74449551e-01],\n",
       "       [-1.15029744e-01],\n",
       "       [ 3.00841846e-01],\n",
       "       [ 1.50359889e-01],\n",
       "       [ 4.95326183e-01],\n",
       "       [-1.14814166e+00],\n",
       "       [-5.90870463e-02],\n",
       "       [ 1.90946813e+00],\n",
       "       [-8.19781732e-01],\n",
       "       [-2.22440099e+00],\n",
       "       [-1.44606217e-01],\n",
       "       [ 6.03993148e-01],\n",
       "       [-1.09052860e+00]])"
      ]
     },
     "execution_count": 95,
     "metadata": {},
     "output_type": "execute_result"
    }
   ],
   "source": [
    "# split data randomly\n",
    "train_x, test_x, train_y, test_y = train_test_split(X, y, test_size=0.4, random_state = 213)\n",
    "test_y"
   ]
  },
  {
   "cell_type": "code",
   "execution_count": 96,
   "id": "025ba899-a665-4abc-bff5-0bdd28ab6695",
   "metadata": {},
   "outputs": [
    {
     "name": "stdout",
     "output_type": "stream",
     "text": [
      "R^2 of reg1 is  1.0\n",
      "MSE of reg1 is  2.8343995027770164\n"
     ]
    }
   ],
   "source": [
    "reg1 = LinearRegression().fit(train_x, train_y)\n",
    "# print(reg.intercept_, reg.coef_, reg.score(X,y))\n",
    "print('R^2 of reg1 is ',reg1.score(train_x,train_y))\n",
    "y_pred_new=reg1.predict(test_x)\n",
    "MSE_reg1=np.mean(np.square(test_y - y_pred_new))\n",
    "print('MSE of reg1 is ', MSE_reg1)"
   ]
  },
  {
   "cell_type": "code",
   "execution_count": 97,
   "id": "e4b19f18-0291-4cb5-b37b-88e574e06119",
   "metadata": {},
   "outputs": [
    {
     "name": "stdout",
     "output_type": "stream",
     "text": [
      "R^2 of reg2 is  0.32107785441029857\n",
      "MSE of reg2 is  1.1113013849100342\n"
     ]
    }
   ],
   "source": [
    "train_x, test_x, train_y, test_y = train_test_split(X_small, y, test_size=0.4, random_state = 213)\n",
    "\n",
    "reg2 = LinearRegression().fit(train_x, train_y)\n",
    "print('R^2 of reg2 is ',reg2.score(train_x,train_y))\n",
    "y_pred_new=reg2.predict(test_x)\n",
    "MSE_reg2=np.mean(np.square(test_y - y_pred_new))\n",
    "print('MSE of reg2 is ', MSE_reg2)"
   ]
  },
  {
   "cell_type": "code",
   "execution_count": 98,
   "id": "96e74c62-0d50-45d8-8d41-995ab8a6e311",
   "metadata": {},
   "outputs": [
    {
     "data": {
      "text/plain": [
       "array([[-7.04781454e-01],\n",
       "       [-1.67041917e+00],\n",
       "       [ 8.84023432e-01],\n",
       "       [-3.94565067e-01],\n",
       "       [ 2.17142384e+00],\n",
       "       [ 1.90831943e+00],\n",
       "       [-2.49669768e-01],\n",
       "       [-7.47453343e-01],\n",
       "       [-6.61832256e-01],\n",
       "       [-1.80964592e+00],\n",
       "       [-3.75884606e-01],\n",
       "       [ 8.80895721e-02],\n",
       "       [-4.51671487e-01],\n",
       "       [ 2.32588360e-01],\n",
       "       [-8.63529687e-01],\n",
       "       [ 1.25905897e+00],\n",
       "       [ 8.68707442e-01],\n",
       "       [ 6.15036190e-01],\n",
       "       [-3.05275040e-01],\n",
       "       [ 8.91491810e-01],\n",
       "       [ 2.04794806e+00],\n",
       "       [-4.48545626e-01],\n",
       "       [-8.76166605e-01],\n",
       "       [ 1.69816338e+00],\n",
       "       [ 2.12054102e-01],\n",
       "       [-1.93960600e-01],\n",
       "       [-5.03371265e-01],\n",
       "       [-4.06872415e-01],\n",
       "       [ 5.07592285e-01],\n",
       "       [ 8.84989535e-02],\n",
       "       [ 4.54270511e-01],\n",
       "       [ 2.95863501e+00],\n",
       "       [-4.01578341e-01],\n",
       "       [ 1.46261845e+00],\n",
       "       [-1.26932835e-01],\n",
       "       [ 2.02526895e-01],\n",
       "       [-7.95399657e-01],\n",
       "       [-6.05935951e-02],\n",
       "       [-1.72507104e+00],\n",
       "       [-1.83646677e+00],\n",
       "       [-2.02499312e-01],\n",
       "       [-4.34005271e-01],\n",
       "       [-1.03120494e+00],\n",
       "       [-7.03277776e-01],\n",
       "       [ 3.12005772e-01],\n",
       "       [ 1.83920441e-01],\n",
       "       [-2.42708831e-01],\n",
       "       [-4.32901379e-02],\n",
       "       [-3.74175095e-01],\n",
       "       [-9.32419054e-01],\n",
       "       [-1.18388285e-01],\n",
       "       [-1.64675410e-03],\n",
       "       [-9.18990680e-02],\n",
       "       [-6.08882482e-01],\n",
       "       [-5.51661524e-01],\n",
       "       [-4.38625656e-01],\n",
       "       [ 3.87575791e-02],\n",
       "       [-1.09375360e+00],\n",
       "       [ 1.39364926e+00],\n",
       "       [-6.79675881e-01],\n",
       "       [ 2.62670139e-01],\n",
       "       [-3.38349504e-01],\n",
       "       [ 1.94026250e-01],\n",
       "       [-7.01324447e-01],\n",
       "       [ 5.50568052e-01],\n",
       "       [-5.36270977e-01],\n",
       "       [-1.00436474e+00],\n",
       "       [ 5.52555583e-01],\n",
       "       [ 7.34442205e-01],\n",
       "       [-1.59555727e+00],\n",
       "       [-2.69379775e-01],\n",
       "       [ 8.65565540e-01],\n",
       "       [ 3.84032268e-01],\n",
       "       [-7.47083308e-01],\n",
       "       [ 9.55335024e-01],\n",
       "       [-4.43864814e-01],\n",
       "       [ 5.09085348e-01],\n",
       "       [-1.77695719e+00],\n",
       "       [ 8.60985723e-01],\n",
       "       [-1.14395163e-01],\n",
       "       [ 1.88937802e+00],\n",
       "       [ 6.76007563e-01],\n",
       "       [ 8.02414857e-01],\n",
       "       [-7.79870031e-01],\n",
       "       [-7.07814779e-01],\n",
       "       [-1.02676032e+00],\n",
       "       [-1.95698688e+00],\n",
       "       [ 1.52144349e+00],\n",
       "       [ 1.78490762e-01],\n",
       "       [-2.20791930e+00],\n",
       "       [ 1.51707329e-01],\n",
       "       [ 9.51347580e-02],\n",
       "       [-7.19477845e-01],\n",
       "       [-1.91361243e-01],\n",
       "       [-2.00792463e+00],\n",
       "       [ 7.94031997e-01],\n",
       "       [-1.74804847e+00],\n",
       "       [-8.25497361e-01],\n",
       "       [-4.88193397e-01],\n",
       "       [ 1.19010656e+00],\n",
       "       [-1.38052141e+00],\n",
       "       [-8.29288225e-01],\n",
       "       [-2.92471430e-03],\n",
       "       [ 1.66337921e-02],\n",
       "       [ 5.85636869e-01],\n",
       "       [ 9.11486448e-01],\n",
       "       [ 3.15351147e-01],\n",
       "       [-2.46396143e-01],\n",
       "       [ 3.34745690e-01],\n",
       "       [-7.44274576e-01],\n",
       "       [-9.78021861e-01],\n",
       "       [ 1.00457072e+00],\n",
       "       [-5.68626297e-01],\n",
       "       [ 1.21967516e+00],\n",
       "       [-2.64273035e-02],\n",
       "       [-7.68821210e-02],\n",
       "       [-1.72142125e+00],\n",
       "       [-2.86672037e-01],\n",
       "       [-1.59919282e+00],\n",
       "       [-6.74779484e-01],\n",
       "       [-1.62849819e+00],\n",
       "       [-9.94707695e-01],\n",
       "       [ 9.32789969e-01],\n",
       "       [ 1.76710205e-01],\n",
       "       [ 6.89281576e-01],\n",
       "       [-3.69928412e-01],\n",
       "       [ 1.38082527e+00],\n",
       "       [-8.70675623e-01],\n",
       "       [-2.46345698e+00],\n",
       "       [ 1.01154390e+00],\n",
       "       [-6.04480518e-01],\n",
       "       [-2.34344196e-01],\n",
       "       [-2.86931815e-01],\n",
       "       [-1.28401675e+00],\n",
       "       [-8.67903613e-01],\n",
       "       [-4.49432286e-01],\n",
       "       [-1.41896895e+00],\n",
       "       [ 1.68342616e-01],\n",
       "       [-2.88367006e-01],\n",
       "       [ 4.42689819e-01],\n",
       "       [-8.52923068e-01],\n",
       "       [ 6.29745454e-01],\n",
       "       [ 1.08905546e+00],\n",
       "       [ 8.97194050e-01],\n",
       "       [ 1.46798835e+00],\n",
       "       [ 8.47319041e-01],\n",
       "       [-1.26278403e+00],\n",
       "       [-1.04303552e+00],\n",
       "       [ 6.01668328e-01],\n",
       "       [ 7.55782006e-01],\n",
       "       [ 8.15041173e-01],\n",
       "       [-1.86075752e+00],\n",
       "       [-1.27280662e+00],\n",
       "       [-2.34700314e-01],\n",
       "       [ 4.92503707e-01],\n",
       "       [-1.10336226e+00],\n",
       "       [ 1.08737536e+00],\n",
       "       [ 5.79558078e-01],\n",
       "       [ 4.03403755e-01],\n",
       "       [-2.92997472e-01],\n",
       "       [-6.68602221e-02],\n",
       "       [-4.01449544e-01],\n",
       "       [ 1.23572361e+00],\n",
       "       [-7.53413865e-01],\n",
       "       [-1.68784665e-01],\n",
       "       [ 1.64947064e-01],\n",
       "       [ 8.07702101e-01],\n",
       "       [ 1.33723162e+00],\n",
       "       [ 5.13960162e-01],\n",
       "       [ 4.67269262e-01],\n",
       "       [-3.21370798e-02],\n",
       "       [-1.25024077e+00],\n",
       "       [ 5.03447352e-01],\n",
       "       [-5.58819078e-01],\n",
       "       [ 4.02598196e-01],\n",
       "       [-7.16165679e-01],\n",
       "       [-1.63655685e-01],\n",
       "       [ 1.59722196e+00],\n",
       "       [ 4.57812341e-02],\n",
       "       [ 1.56319903e+00],\n",
       "       [-3.46783518e-01],\n",
       "       [ 3.54475619e-01],\n",
       "       [ 4.31893562e-01],\n",
       "       [ 2.97314903e-01],\n",
       "       [ 5.46307550e-01],\n",
       "       [ 5.82526693e-01],\n",
       "       [ 7.78567009e-01],\n",
       "       [ 4.74449551e-01],\n",
       "       [-1.15029744e-01],\n",
       "       [ 3.00841846e-01],\n",
       "       [ 1.50359889e-01],\n",
       "       [ 4.95326183e-01],\n",
       "       [-1.14814166e+00],\n",
       "       [-5.90870463e-02],\n",
       "       [ 1.90946813e+00],\n",
       "       [-8.19781732e-01],\n",
       "       [-2.22440099e+00],\n",
       "       [-1.44606217e-01],\n",
       "       [ 6.03993148e-01],\n",
       "       [-1.09052860e+00]])"
      ]
     },
     "execution_count": 98,
     "metadata": {},
     "output_type": "execute_result"
    }
   ],
   "source": [
    "test_y"
   ]
  },
  {
   "cell_type": "markdown",
   "id": "bd087f80-2b55-407e-a238-4ba692805c8e",
   "metadata": {},
   "source": [
    "### Cross validation"
   ]
  },
  {
   "cell_type": "code",
   "execution_count": 108,
   "id": "ec5864d9-4e79-48a4-b0c3-bafa695f568e",
   "metadata": {},
   "outputs": [
    {
     "data": {
      "text/plain": [
       "11.99091805731161"
      ]
     },
     "execution_count": 108,
     "metadata": {},
     "output_type": "execute_result"
    }
   ],
   "source": [
    "#define cross-validation method to use\n",
    "cv = KFold(n_splits=10, random_state=213, shuffle=True)\n",
    "\n",
    "#build multiple linear regression model\n",
    "model = LinearRegression()\n",
    "\n",
    "#use k-fold CV to evaluate model\n",
    "scores = cross_val_score(model, X, y, scoring='neg_mean_squared_error',cv=cv)\n",
    "\n",
    "#view mean square error\n",
    "-np.mean(scores)\n",
    "\n"
   ]
  },
  {
   "cell_type": "code",
   "execution_count": 109,
   "id": "e1186d95-f58a-4cf9-b00c-ea3843573e8e",
   "metadata": {},
   "outputs": [
    {
     "data": {
      "text/plain": [
       "KFold(n_splits=10, random_state=213, shuffle=True)"
      ]
     },
     "execution_count": 109,
     "metadata": {},
     "output_type": "execute_result"
    }
   ],
   "source": [
    "cv"
   ]
  },
  {
   "cell_type": "code",
   "execution_count": 110,
   "id": "4b8e0421-7cdc-4965-abac-bcff0c201509",
   "metadata": {},
   "outputs": [
    {
     "data": {
      "text/plain": [
       "1.1567171471443838"
      ]
     },
     "execution_count": 110,
     "metadata": {},
     "output_type": "execute_result"
    }
   ],
   "source": [
    "#define cross-validation method to use\n",
    "cv = KFold(n_splits=10, random_state=1, shuffle=True)\n",
    "\n",
    "#build multiple linear regression model\n",
    "model = LinearRegression()\n",
    "\n",
    "#use k-fold CV to evaluate model\n",
    "scores = cross_val_score(model, X_small, y, scoring='neg_mean_squared_error',cv=cv)\n",
    "\n",
    "#view mean square error\n",
    "-np.mean(scores)\n"
   ]
  },
  {
   "cell_type": "code",
   "execution_count": null,
   "id": "36759abb-0b5d-4667-b795-e5dde6bf06b9",
   "metadata": {},
   "outputs": [],
   "source": []
  }
 ],
 "metadata": {
  "kernelspec": {
   "display_name": "Python 3 (ipykernel)",
   "language": "python",
   "name": "python3"
  },
  "language_info": {
   "codemirror_mode": {
    "name": "ipython",
    "version": 3
   },
   "file_extension": ".py",
   "mimetype": "text/x-python",
   "name": "python",
   "nbconvert_exporter": "python",
   "pygments_lexer": "ipython3",
   "version": "3.8.13"
  }
 },
 "nbformat": 4,
 "nbformat_minor": 5
}
