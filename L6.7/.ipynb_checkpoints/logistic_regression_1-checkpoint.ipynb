{
 "cells": [
  {
   "cell_type": "code",
   "execution_count": 67,
   "id": "7b574bd4-3321-41c1-bb58-b868db9270b1",
   "metadata": {},
   "outputs": [
    {
     "name": "stdout",
     "output_type": "stream",
     "text": [
      "\u001b[H\u001b[2J"
     ]
    }
   ],
   "source": [
    "clear()"
   ]
  },
  {
   "cell_type": "code",
   "execution_count": 68,
   "id": "c49416e1-de12-45c9-b6bd-a3d735338eae",
   "metadata": {},
   "outputs": [],
   "source": [
    "import numpy as np\n",
    "import pandas as pd\n",
    "import statistics\n",
    "import matplotlib.pyplot as plt\n",
    "from sklearn.linear_model import LinearRegression\n",
    "from sklearn.model_selection import train_test_split\n",
    "from sklearn import preprocessing\n",
    "from sklearn.model_selection import cross_val_score\n",
    "from sklearn.model_selection import KFold\n",
    "from sklearn.linear_model import LogisticRegression"
   ]
  },
  {
   "cell_type": "code",
   "execution_count": 69,
   "id": "afb6f96c-b767-4342-8283-ee0c9075f05f",
   "metadata": {},
   "outputs": [
    {
     "name": "stdout",
     "output_type": "stream",
     "text": [
      "Data set size:  61453\n"
     ]
    },
    {
     "data": {
      "text/plain": [
       "count    61453.000000\n",
       "mean      1970.926855\n",
       "std         16.440226\n",
       "min       1934.000000\n",
       "25%       1957.000000\n",
       "50%       1970.000000\n",
       "75%       1985.000000\n",
       "max       2004.000000\n",
       "Name: TBIRTH_YEAR, dtype: float64"
      ]
     },
     "execution_count": 69,
     "metadata": {},
     "output_type": "execute_result"
    }
   ],
   "source": [
    "data = pd.read_csv(\"pulse2022_puf_51.csv\")\n",
    "print( 'Data set size: ', len( data ) )\n",
    "data['TBIRTH_YEAR'].describe()"
   ]
  },
  {
   "cell_type": "code",
   "execution_count": 70,
   "id": "963c10c5",
   "metadata": {},
   "outputs": [
    {
     "data": {
      "text/plain": [
       "(array([  474.,     0.,     0.,     0.,     0.,     0.,     0.,     0.,\n",
       "            0., 60979.]),\n",
       " array([-99. , -88.9, -78.8, -68.7, -58.6, -48.5, -38.4, -28.3, -18.2,\n",
       "         -8.1,   2. ]),\n",
       " <BarContainer object of 10 artists>)"
      ]
     },
     "execution_count": 70,
     "metadata": {},
     "output_type": "execute_result"
    },
    {
     "data": {
      "image/png": "[encoded data removed]",
      "text/plain": [
       "<Figure size 640x480 with 1 Axes>"
      ]
     },
     "metadata": {},
     "output_type": "display_data"
    }
   ],
   "source": [
    "plt.hist(data['RECVDVACC'])"
   ]
  },
  {
   "cell_type": "code",
   "execution_count": 71,
   "id": "7c9c14c5-39e8-4be4-87d7-e55b46b35557",
   "metadata": {},
   "outputs": [],
   "source": [
    "data=data[data['RECVDVACC']>=0]\n",
    "data['age']=2023-data['TBIRTH_YEAR']\n",
    "X=data[['age','RRACE','EEDUC','MS']] # age, race, education, marital status"
   ]
  },
  {
   "cell_type": "code",
   "execution_count": 72,
   "id": "ed22b33e-8db8-446b-967d-3698b07e914b",
   "metadata": {},
   "outputs": [
    {
     "data": {
      "text/html": [
       "<div>\n",
       "<style scoped>\n",
       "    .dataframe tbody tr th:only-of-type {\n",
       "        vertical-align: middle;\n",
       "    }\n",
       "\n",
       "    .dataframe tbody tr th {\n",
       "        vertical-align: top;\n",
       "    }\n",
       "\n",
       "    .dataframe thead th {\n",
       "        text-align: right;\n",
       "    }\n",
       "</style>\n",
       "<table border=\"1\" class=\"dataframe\">\n",
       "  <thead>\n",
       "    <tr style=\"text-align: right;\">\n",
       "      <th></th>\n",
       "      <th>age</th>\n",
       "      <th>RRACE</th>\n",
       "      <th>EEDUC</th>\n",
       "      <th>MS</th>\n",
       "    </tr>\n",
       "  </thead>\n",
       "  <tbody>\n",
       "    <tr>\n",
       "      <th>count</th>\n",
       "      <td>60979.000000</td>\n",
       "      <td>60979.000000</td>\n",
       "      <td>60979.000000</td>\n",
       "      <td>60979.000000</td>\n",
       "    </tr>\n",
       "    <tr>\n",
       "      <th>mean</th>\n",
       "      <td>52.044737</td>\n",
       "      <td>1.313452</td>\n",
       "      <td>5.288706</td>\n",
       "      <td>1.968858</td>\n",
       "    </tr>\n",
       "    <tr>\n",
       "      <th>std</th>\n",
       "      <td>16.440800</td>\n",
       "      <td>0.779513</td>\n",
       "      <td>1.454991</td>\n",
       "      <td>5.774937</td>\n",
       "    </tr>\n",
       "    <tr>\n",
       "      <th>min</th>\n",
       "      <td>19.000000</td>\n",
       "      <td>1.000000</td>\n",
       "      <td>1.000000</td>\n",
       "      <td>-99.000000</td>\n",
       "    </tr>\n",
       "    <tr>\n",
       "      <th>25%</th>\n",
       "      <td>38.000000</td>\n",
       "      <td>1.000000</td>\n",
       "      <td>4.000000</td>\n",
       "      <td>1.000000</td>\n",
       "    </tr>\n",
       "    <tr>\n",
       "      <th>50%</th>\n",
       "      <td>52.000000</td>\n",
       "      <td>1.000000</td>\n",
       "      <td>6.000000</td>\n",
       "      <td>1.000000</td>\n",
       "    </tr>\n",
       "    <tr>\n",
       "      <th>75%</th>\n",
       "      <td>66.000000</td>\n",
       "      <td>1.000000</td>\n",
       "      <td>7.000000</td>\n",
       "      <td>3.000000</td>\n",
       "    </tr>\n",
       "    <tr>\n",
       "      <th>max</th>\n",
       "      <td>89.000000</td>\n",
       "      <td>4.000000</td>\n",
       "      <td>7.000000</td>\n",
       "      <td>5.000000</td>\n",
       "    </tr>\n",
       "  </tbody>\n",
       "</table>\n",
       "</div>"
      ],
      "text/plain": [
       "                age         RRACE         EEDUC            MS\n",
       "count  60979.000000  60979.000000  60979.000000  60979.000000\n",
       "mean      52.044737      1.313452      5.288706      1.968858\n",
       "std       16.440800      0.779513      1.454991      5.774937\n",
       "min       19.000000      1.000000      1.000000    -99.000000\n",
       "25%       38.000000      1.000000      4.000000      1.000000\n",
       "50%       52.000000      1.000000      6.000000      1.000000\n",
       "75%       66.000000      1.000000      7.000000      3.000000\n",
       "max       89.000000      4.000000      7.000000      5.000000"
      ]
     },
     "execution_count": 72,
     "metadata": {},
     "output_type": "execute_result"
    }
   ],
   "source": [
    "X.describe()"
   ]
  },
  {
   "cell_type": "code",
   "execution_count": 73,
   "id": "e02cf206-b50e-4093-974d-f58baf0421d7",
   "metadata": {
    "scrolled": true
   },
   "outputs": [
    {
     "name": "stderr",
     "output_type": "stream",
     "text": [
      "/var/folders/2k/dnd2__js6jj4mhyp9kgx7l680000gp/T/ipykernel_35880/2871831656.py:1: SettingWithCopyWarning: \n",
      "A value is trying to be set on a copy of a slice from a DataFrame\n",
      "\n",
      "See the caveats in the documentation: https://pandas.pydata.org/pandas-docs/stable/user_guide/indexing.html#returning-a-view-versus-a-copy\n",
      "  X.replace(-99, 1, inplace = True) # replace -99 with 1.\n"
     ]
    }
   ],
   "source": [
    "X.replace(-99, 1, inplace = True) # replace -99 with 1. \n",
    "\n",
    "# it might create error messages but let's see if it worked"
   ]
  },
  {
   "cell_type": "code",
   "execution_count": 74,
   "id": "3cd1f9d6-f786-4a75-88eb-9f10d7445847",
   "metadata": {},
   "outputs": [
    {
     "data": {
      "text/html": [
       "<div>\n",
       "<style scoped>\n",
       "    .dataframe tbody tr th:only-of-type {\n",
       "        vertical-align: middle;\n",
       "    }\n",
       "\n",
       "    .dataframe tbody tr th {\n",
       "        vertical-align: top;\n",
       "    }\n",
       "\n",
       "    .dataframe thead th {\n",
       "        text-align: right;\n",
       "    }\n",
       "</style>\n",
       "<table border=\"1\" class=\"dataframe\">\n",
       "  <thead>\n",
       "    <tr style=\"text-align: right;\">\n",
       "      <th></th>\n",
       "      <th>age</th>\n",
       "      <th>RRACE</th>\n",
       "      <th>EEDUC</th>\n",
       "      <th>MS</th>\n",
       "    </tr>\n",
       "  </thead>\n",
       "  <tbody>\n",
       "    <tr>\n",
       "      <th>count</th>\n",
       "      <td>60979.000000</td>\n",
       "      <td>60979.000000</td>\n",
       "      <td>60979.000000</td>\n",
       "      <td>60979.000000</td>\n",
       "    </tr>\n",
       "    <tr>\n",
       "      <th>mean</th>\n",
       "      <td>52.044737</td>\n",
       "      <td>1.313452</td>\n",
       "      <td>5.288706</td>\n",
       "      <td>2.268961</td>\n",
       "    </tr>\n",
       "    <tr>\n",
       "      <th>std</th>\n",
       "      <td>16.440800</td>\n",
       "      <td>0.779513</td>\n",
       "      <td>1.454991</td>\n",
       "      <td>1.633243</td>\n",
       "    </tr>\n",
       "    <tr>\n",
       "      <th>min</th>\n",
       "      <td>19.000000</td>\n",
       "      <td>1.000000</td>\n",
       "      <td>1.000000</td>\n",
       "      <td>1.000000</td>\n",
       "    </tr>\n",
       "    <tr>\n",
       "      <th>25%</th>\n",
       "      <td>38.000000</td>\n",
       "      <td>1.000000</td>\n",
       "      <td>4.000000</td>\n",
       "      <td>1.000000</td>\n",
       "    </tr>\n",
       "    <tr>\n",
       "      <th>50%</th>\n",
       "      <td>52.000000</td>\n",
       "      <td>1.000000</td>\n",
       "      <td>6.000000</td>\n",
       "      <td>1.000000</td>\n",
       "    </tr>\n",
       "    <tr>\n",
       "      <th>75%</th>\n",
       "      <td>66.000000</td>\n",
       "      <td>1.000000</td>\n",
       "      <td>7.000000</td>\n",
       "      <td>3.000000</td>\n",
       "    </tr>\n",
       "    <tr>\n",
       "      <th>max</th>\n",
       "      <td>89.000000</td>\n",
       "      <td>4.000000</td>\n",
       "      <td>7.000000</td>\n",
       "      <td>5.000000</td>\n",
       "    </tr>\n",
       "  </tbody>\n",
       "</table>\n",
       "</div>"
      ],
      "text/plain": [
       "                age         RRACE         EEDUC            MS\n",
       "count  60979.000000  60979.000000  60979.000000  60979.000000\n",
       "mean      52.044737      1.313452      5.288706      2.268961\n",
       "std       16.440800      0.779513      1.454991      1.633243\n",
       "min       19.000000      1.000000      1.000000      1.000000\n",
       "25%       38.000000      1.000000      4.000000      1.000000\n",
       "50%       52.000000      1.000000      6.000000      1.000000\n",
       "75%       66.000000      1.000000      7.000000      3.000000\n",
       "max       89.000000      4.000000      7.000000      5.000000"
      ]
     },
     "execution_count": 74,
     "metadata": {},
     "output_type": "execute_result"
    }
   ],
   "source": [
    "X.describe()"
   ]
  },
  {
   "cell_type": "code",
   "execution_count": 75,
   "id": "34e36013-764f-470a-9279-cdf273ab01db",
   "metadata": {},
   "outputs": [
    {
     "data": {
      "text/html": [
       "<div>\n",
       "<style scoped>\n",
       "    .dataframe tbody tr th:only-of-type {\n",
       "        vertical-align: middle;\n",
       "    }\n",
       "\n",
       "    .dataframe tbody tr th {\n",
       "        vertical-align: top;\n",
       "    }\n",
       "\n",
       "    .dataframe thead th {\n",
       "        text-align: right;\n",
       "    }\n",
       "</style>\n",
       "<table border=\"1\" class=\"dataframe\">\n",
       "  <thead>\n",
       "    <tr style=\"text-align: right;\">\n",
       "      <th></th>\n",
       "      <th>age</th>\n",
       "      <th>RRACE_2</th>\n",
       "      <th>RRACE_3</th>\n",
       "      <th>RRACE_4</th>\n",
       "      <th>EEDUC_2</th>\n",
       "      <th>EEDUC_3</th>\n",
       "      <th>EEDUC_4</th>\n",
       "      <th>EEDUC_5</th>\n",
       "      <th>EEDUC_6</th>\n",
       "      <th>EEDUC_7</th>\n",
       "      <th>MS_2</th>\n",
       "      <th>MS_3</th>\n",
       "      <th>MS_4</th>\n",
       "      <th>MS_5</th>\n",
       "    </tr>\n",
       "  </thead>\n",
       "  <tbody>\n",
       "    <tr>\n",
       "      <th>count</th>\n",
       "      <td>60979.000000</td>\n",
       "      <td>60979.000000</td>\n",
       "      <td>60979.000000</td>\n",
       "      <td>60979.000000</td>\n",
       "      <td>60979.000000</td>\n",
       "      <td>60979.000000</td>\n",
       "      <td>60979.000000</td>\n",
       "      <td>60979.000000</td>\n",
       "      <td>60979.000000</td>\n",
       "      <td>60979.000000</td>\n",
       "      <td>60979.000000</td>\n",
       "      <td>60979.000000</td>\n",
       "      <td>60979.000000</td>\n",
       "      <td>60979.000000</td>\n",
       "    </tr>\n",
       "    <tr>\n",
       "      <th>mean</th>\n",
       "      <td>52.044737</td>\n",
       "      <td>0.072304</td>\n",
       "      <td>0.044934</td>\n",
       "      <td>0.050427</td>\n",
       "      <td>0.012644</td>\n",
       "      <td>0.117368</td>\n",
       "      <td>0.217468</td>\n",
       "      <td>0.101888</td>\n",
       "      <td>0.289559</td>\n",
       "      <td>0.255596</td>\n",
       "      <td>0.053986</td>\n",
       "      <td>0.147215</td>\n",
       "      <td>0.015776</td>\n",
       "      <td>0.218305</td>\n",
       "    </tr>\n",
       "    <tr>\n",
       "      <th>std</th>\n",
       "      <td>16.440800</td>\n",
       "      <td>0.258992</td>\n",
       "      <td>0.207160</td>\n",
       "      <td>0.218827</td>\n",
       "      <td>0.111732</td>\n",
       "      <td>0.321861</td>\n",
       "      <td>0.412527</td>\n",
       "      <td>0.302503</td>\n",
       "      <td>0.453561</td>\n",
       "      <td>0.436199</td>\n",
       "      <td>0.225992</td>\n",
       "      <td>0.354323</td>\n",
       "      <td>0.124609</td>\n",
       "      <td>0.413099</td>\n",
       "    </tr>\n",
       "    <tr>\n",
       "      <th>min</th>\n",
       "      <td>19.000000</td>\n",
       "      <td>0.000000</td>\n",
       "      <td>0.000000</td>\n",
       "      <td>0.000000</td>\n",
       "      <td>0.000000</td>\n",
       "      <td>0.000000</td>\n",
       "      <td>0.000000</td>\n",
       "      <td>0.000000</td>\n",
       "      <td>0.000000</td>\n",
       "      <td>0.000000</td>\n",
       "      <td>0.000000</td>\n",
       "      <td>0.000000</td>\n",
       "      <td>0.000000</td>\n",
       "      <td>0.000000</td>\n",
       "    </tr>\n",
       "    <tr>\n",
       "      <th>25%</th>\n",
       "      <td>38.000000</td>\n",
       "      <td>0.000000</td>\n",
       "      <td>0.000000</td>\n",
       "      <td>0.000000</td>\n",
       "      <td>0.000000</td>\n",
       "      <td>0.000000</td>\n",
       "      <td>0.000000</td>\n",
       "      <td>0.000000</td>\n",
       "      <td>0.000000</td>\n",
       "      <td>0.000000</td>\n",
       "      <td>0.000000</td>\n",
       "      <td>0.000000</td>\n",
       "      <td>0.000000</td>\n",
       "      <td>0.000000</td>\n",
       "    </tr>\n",
       "    <tr>\n",
       "      <th>50%</th>\n",
       "      <td>52.000000</td>\n",
       "      <td>0.000000</td>\n",
       "      <td>0.000000</td>\n",
       "      <td>0.000000</td>\n",
       "      <td>0.000000</td>\n",
       "      <td>0.000000</td>\n",
       "      <td>0.000000</td>\n",
       "      <td>0.000000</td>\n",
       "      <td>0.000000</td>\n",
       "      <td>0.000000</td>\n",
       "      <td>0.000000</td>\n",
       "      <td>0.000000</td>\n",
       "      <td>0.000000</td>\n",
       "      <td>0.000000</td>\n",
       "    </tr>\n",
       "    <tr>\n",
       "      <th>75%</th>\n",
       "      <td>66.000000</td>\n",
       "      <td>0.000000</td>\n",
       "      <td>0.000000</td>\n",
       "      <td>0.000000</td>\n",
       "      <td>0.000000</td>\n",
       "      <td>0.000000</td>\n",
       "      <td>0.000000</td>\n",
       "      <td>0.000000</td>\n",
       "      <td>1.000000</td>\n",
       "      <td>1.000000</td>\n",
       "      <td>0.000000</td>\n",
       "      <td>0.000000</td>\n",
       "      <td>0.000000</td>\n",
       "      <td>0.000000</td>\n",
       "    </tr>\n",
       "    <tr>\n",
       "      <th>max</th>\n",
       "      <td>89.000000</td>\n",
       "      <td>1.000000</td>\n",
       "      <td>1.000000</td>\n",
       "      <td>1.000000</td>\n",
       "      <td>1.000000</td>\n",
       "      <td>1.000000</td>\n",
       "      <td>1.000000</td>\n",
       "      <td>1.000000</td>\n",
       "      <td>1.000000</td>\n",
       "      <td>1.000000</td>\n",
       "      <td>1.000000</td>\n",
       "      <td>1.000000</td>\n",
       "      <td>1.000000</td>\n",
       "      <td>1.000000</td>\n",
       "    </tr>\n",
       "  </tbody>\n",
       "</table>\n",
       "</div>"
      ],
      "text/plain": [
       "                age       RRACE_2       RRACE_3       RRACE_4       EEDUC_2  \\\n",
       "count  60979.000000  60979.000000  60979.000000  60979.000000  60979.000000   \n",
       "mean      52.044737      0.072304      0.044934      0.050427      0.012644   \n",
       "std       16.440800      0.258992      0.207160      0.218827      0.111732   \n",
       "min       19.000000      0.000000      0.000000      0.000000      0.000000   \n",
       "25%       38.000000      0.000000      0.000000      0.000000      0.000000   \n",
       "50%       52.000000      0.000000      0.000000      0.000000      0.000000   \n",
       "75%       66.000000      0.000000      0.000000      0.000000      0.000000   \n",
       "max       89.000000      1.000000      1.000000      1.000000      1.000000   \n",
       "\n",
       "            EEDUC_3       EEDUC_4       EEDUC_5       EEDUC_6       EEDUC_7  \\\n",
       "count  60979.000000  60979.000000  60979.000000  60979.000000  60979.000000   \n",
       "mean       0.117368      0.217468      0.101888      0.289559      0.255596   \n",
       "std        0.321861      0.412527      0.302503      0.453561      0.436199   \n",
       "min        0.000000      0.000000      0.000000      0.000000      0.000000   \n",
       "25%        0.000000      0.000000      0.000000      0.000000      0.000000   \n",
       "50%        0.000000      0.000000      0.000000      0.000000      0.000000   \n",
       "75%        0.000000      0.000000      0.000000      1.000000      1.000000   \n",
       "max        1.000000      1.000000      1.000000      1.000000      1.000000   \n",
       "\n",
       "               MS_2          MS_3          MS_4          MS_5  \n",
       "count  60979.000000  60979.000000  60979.000000  60979.000000  \n",
       "mean       0.053986      0.147215      0.015776      0.218305  \n",
       "std        0.225992      0.354323      0.124609      0.413099  \n",
       "min        0.000000      0.000000      0.000000      0.000000  \n",
       "25%        0.000000      0.000000      0.000000      0.000000  \n",
       "50%        0.000000      0.000000      0.000000      0.000000  \n",
       "75%        0.000000      0.000000      0.000000      0.000000  \n",
       "max        1.000000      1.000000      1.000000      1.000000  "
      ]
     },
     "execution_count": 75,
     "metadata": {},
     "output_type": "execute_result"
    }
   ],
   "source": [
    "X_reg=pd.get_dummies(X, columns=['RRACE','EEDUC','MS'], drop_first=True) # create dummy variables\n",
    "X_reg.describe()"
   ]
  },
  {
   "cell_type": "code",
   "execution_count": 76,
   "id": "1c2e5c86-1d70-4f43-b3e9-d1bc5d2b4e43",
   "metadata": {},
   "outputs": [
    {
     "data": {
      "text/plain": [
       "(array([52903.,     0.,     0.,     0.,     0.,     0.,     0.,     0.,\n",
       "            0.,  8076.]),\n",
       " array([1. , 1.1, 1.2, 1.3, 1.4, 1.5, 1.6, 1.7, 1.8, 1.9, 2. ]),\n",
       " <BarContainer object of 10 artists>)"
      ]
     },
     "execution_count": 76,
     "metadata": {},
     "output_type": "execute_result"
    },
    {
     "data": {
      "image/png": "[encoded data removed]",
      "text/plain": [
       "<Figure size 640x480 with 1 Axes>"
      ]
     },
     "metadata": {},
     "output_type": "display_data"
    }
   ],
   "source": [
    "yy=data['RECVDVACC'] # the target is RECVDVACC: 1 means YES (received vaccine) and 2 means NO.\n",
    "plt.hist(yy)"
   ]
  },
  {
   "cell_type": "code",
   "execution_count": 77,
   "id": "f5f23cc2-8d56-40d1-bc83-9f859619640b",
   "metadata": {},
   "outputs": [
    {
     "name": "stdout",
     "output_type": "stream",
     "text": [
      "[0.73071179] [[-0.02823143 -0.20620293 -1.1483948   0.13733042  0.05371847 -0.21130877\n",
      "  -0.714718   -0.7445758  -1.58519741 -2.1894128   0.06385538  0.14331976\n",
      "   0.25229228 -0.45111764]] 0.867413371816527\n"
     ]
    }
   ],
   "source": [
    "# train a logistic model\n",
    "\n",
    "logit = LogisticRegression(solver='newton-cg').fit(X_reg,yy)\n",
    "print(logit.intercept_, logit.coef_, logit.score(X_reg,yy)) # the last one is accuracy rate (proportion of correct predictions)"
   ]
  },
  {
   "cell_type": "code",
   "execution_count": 78,
   "id": "29e1c59e-b694-4969-8fa5-04e1de481383",
   "metadata": {},
   "outputs": [
    {
     "name": "stdout",
     "output_type": "stream",
     "text": [
      "0.867413371816527\n"
     ]
    }
   ],
   "source": [
    "# we can compute the accuracy rate manually\n",
    "\n",
    "y_pred=logit.predict(X_reg) # generate the prediction\n",
    "misclass_rate=np.sum(np.abs(yy-y_pred))/len(yy) # compute misclasssification rate\n",
    "Accuracy_logit=1-misclass_rate\n",
    "print(Accuracy_logit)"
   ]
  },
  {
   "cell_type": "code",
   "execution_count": 79,
   "id": "1fc461a8-ebc7-4601-bed1-b620f9896317",
   "metadata": {},
   "outputs": [
    {
     "name": "stdout",
     "output_type": "stream",
     "text": [
      "[1.06990678 1.03452218 1.0757777  ... 1.1194294  1.13410671 1.18997412]\n"
     ]
    }
   ],
   "source": [
    "# train a linear model\n",
    "reg_linear = LinearRegression().fit(X_reg, yy)\n",
    "y_pred_linear=reg_linear.predict(X_reg)\n",
    "print(y_pred_linear)"
   ]
  },
  {
   "cell_type": "code",
   "execution_count": 81,
   "id": "7e4deb75-68cd-4536-a6d2-2cfff4cb7935",
   "metadata": {},
   "outputs": [
    {
     "data": {
      "text/plain": [
       "(array([   27.,   724.,  7423., 13663., 15970., 10517.,  8707.,  3117.,\n",
       "          793.,    38.]),\n",
       " array([0.8437684 , 0.90566403, 0.96755966, 1.02945529, 1.09135091,\n",
       "        1.15324654, 1.21514217, 1.2770378 , 1.33893342, 1.40082905,\n",
       "        1.46272468]),\n",
       " <BarContainer object of 10 artists>)"
      ]
     },
     "execution_count": 81,
     "metadata": {},
     "output_type": "execute_result"
    },
    {
     "data": {
      "image/png": "[encoded data removed]",
      "text/plain": [
       "<Figure size 640x480 with 1 Axes>"
      ]
     },
     "metadata": {},
     "output_type": "display_data"
    }
   ],
   "source": [
    "plt.hist(y_pred_linear) # histogram of the predictions"
   ]
  },
  {
   "cell_type": "code",
   "execution_count": 82,
   "id": "122465fe-2ae5-4b8a-975e-7cd5d50bbc2e",
   "metadata": {},
   "outputs": [
    {
     "name": "stdout",
     "output_type": "stream",
     "text": [
      "0.8675609636104232\n"
     ]
    }
   ],
   "source": [
    "# convert the prediction from the linear model to either 1 or 2.\n",
    "for i in range(len(y_pred_linear)):\n",
    "    if y_pred_linear[i] <1.5:\n",
    "        y_pred_linear[i] = 1\n",
    "    else:\n",
    "        y_pred_linear[i] = 2\n",
    "        \n",
    "        \n",
    "# compute the accuracy of the prediction from linear model (after converting it to 1 or 2)\n",
    "Accuracy_linear=1-np.sum(np.abs(yy-y_pred_linear))/len(yy)\n",
    "print(Accuracy_linear)"
   ]
  },
  {
   "cell_type": "code",
   "execution_count": 83,
   "id": "df919528",
   "metadata": {},
   "outputs": [
    {
     "data": {
      "text/plain": [
       "0.8675609636104232"
      ]
     },
     "execution_count": 83,
     "metadata": {},
     "output_type": "execute_result"
    }
   ],
   "source": [
    "# sanity check: what if we always predict 1\n",
    "1-np.sum(np.abs(yy-1))/len(yy)"
   ]
  },
  {
   "cell_type": "code",
   "execution_count": 84,
   "id": "72e62efa",
   "metadata": {},
   "outputs": [
    {
     "data": {
      "text/plain": [
       "0.13243903638957677"
      ]
     },
     "execution_count": 84,
     "metadata": {},
     "output_type": "execute_result"
    }
   ],
   "source": [
    "# sanity check: what if we always predict 2\n",
    "1-np.sum(np.abs(yy-2))/len(yy)"
   ]
  },
  {
   "cell_type": "markdown",
   "id": "7f13a637-ba38-44f9-9058-e125c99d0190",
   "metadata": {},
   "source": [
    "# Let's predict something else "
   ]
  },
  {
   "cell_type": "code",
   "execution_count": 85,
   "id": "bbd831ea",
   "metadata": {},
   "outputs": [
    {
     "name": "stdout",
     "output_type": "stream",
     "text": [
      "Data set size:  61453\n"
     ]
    }
   ],
   "source": [
    "data = pd.read_csv(\"pulse2022_puf_51.csv\")\n",
    "print( 'Data set size: ', len( data ) )"
   ]
  },
  {
   "cell_type": "code",
   "execution_count": 86,
   "id": "6062f5e1",
   "metadata": {},
   "outputs": [
    {
     "data": {
      "text/plain": [
       "count    61453.000000\n",
       "mean        -0.814492\n",
       "std         14.091881\n",
       "min        -99.000000\n",
       "25%          1.000000\n",
       "50%          1.000000\n",
       "75%          2.000000\n",
       "max          2.000000\n",
       "Name: ANYWORK, dtype: float64"
      ]
     },
     "execution_count": 86,
     "metadata": {},
     "output_type": "execute_result"
    }
   ],
   "source": [
    "data['ANYWORK'].describe() # if a person worked: 1 means YES and 2 means NO"
   ]
  },
  {
   "cell_type": "code",
   "execution_count": 87,
   "id": "11aba1a5",
   "metadata": {},
   "outputs": [
    {
     "data": {
      "text/plain": [
       "(array([37948.,     0.,     0.,     0.,     0.,     0.,     0.,     0.,\n",
       "            0., 22060.]),\n",
       " array([1. , 1.1, 1.2, 1.3, 1.4, 1.5, 1.6, 1.7, 1.8, 1.9, 2. ]),\n",
       " <BarContainer object of 10 artists>)"
      ]
     },
     "execution_count": 87,
     "metadata": {},
     "output_type": "execute_result"
    },
    {
     "data": {
      "image/png": "[encoded data removed]",
      "text/plain": [
       "<Figure size 640x480 with 1 Axes>"
      ]
     },
     "metadata": {},
     "output_type": "display_data"
    }
   ],
   "source": [
    "data=data[data['ANYWORK']>=0]\n",
    "data['age']=2023-data['TBIRTH_YEAR']\n",
    "X=data[['age','RRACE','EEDUC','MS']] # age, race, education, marital status\n",
    "yy=data['ANYWORK']\n",
    "yy.describe()\n",
    "plt.hist(yy)"
   ]
  },
  {
   "cell_type": "code",
   "execution_count": 88,
   "id": "467c37e5",
   "metadata": {},
   "outputs": [
    {
     "data": {
      "text/plain": [
       "Index(['RRACE', 'EEDUC', 'MS'], dtype='object')"
      ]
     },
     "execution_count": 88,
     "metadata": {},
     "output_type": "execute_result"
    }
   ],
   "source": [
    "X.columns[1:] # in the array X.columns, choose everything except the first one"
   ]
  },
  {
   "cell_type": "code",
   "execution_count": 89,
   "id": "543eb8dc-4fc1-47bf-abd0-531ba23c9cca",
   "metadata": {},
   "outputs": [
    {
     "name": "stderr",
     "output_type": "stream",
     "text": [
      "/var/folders/2k/dnd2__js6jj4mhyp9kgx7l680000gp/T/ipykernel_35880/971156715.py:1: SettingWithCopyWarning: \n",
      "A value is trying to be set on a copy of a slice from a DataFrame\n",
      "\n",
      "See the caveats in the documentation: https://pandas.pydata.org/pandas-docs/stable/user_guide/indexing.html#returning-a-view-versus-a-copy\n",
      "  X.replace(-99, 1, inplace = True) # replace -99 with 1.\n"
     ]
    }
   ],
   "source": [
    "X.replace(-99, 1, inplace = True) # replace -99 with 1. \n",
    "X_reg=pd.get_dummies(X, columns=X.columns[1:], drop_first=True)"
   ]
  },
  {
   "cell_type": "code",
   "execution_count": 90,
   "id": "a82d6f36-3248-4e9a-a3f0-3bebd0047398",
   "metadata": {},
   "outputs": [
    {
     "name": "stdout",
     "output_type": "stream",
     "text": [
      "[-3.15669287] [[ 0.07140038  0.12166274  0.14090655  0.21220597 -0.05240077 -0.82346278\n",
      "  -1.06019678 -1.26547784 -1.60274747 -1.87208782  0.48792758 -0.10296017\n",
      "   0.16342611  0.44685239]] 0.7556992401013198\n"
     ]
    }
   ],
   "source": [
    "# logistic model\n",
    "logit = LogisticRegression(solver='newton-cg').fit(X_reg,yy)\n",
    "print(logit.intercept_, logit.coef_, logit.score(X_reg,yy))"
   ]
  },
  {
   "cell_type": "code",
   "execution_count": 91,
   "id": "dcb554af-1a4b-4fe3-ba30-8bec5ce00c79",
   "metadata": {},
   "outputs": [
    {
     "name": "stdout",
     "output_type": "stream",
     "text": [
      "0.7548660178642848\n"
     ]
    }
   ],
   "source": [
    "# linear model with 1.5 cut-off\n",
    "reg_linear = LinearRegression().fit(X_reg, yy)\n",
    "y_pred_linear=reg_linear.predict(X_reg)\n",
    "\n",
    "\n",
    "for i in range(len(y_pred_linear)):\n",
    "    if y_pred_linear[i] <1.5:\n",
    "        y_pred_linear[i] = 1\n",
    "    else:\n",
    "        y_pred_linear[i] = 2\n",
    "        \n",
    "        \n",
    "Accuracy_linear=1-np.sum(np.abs(yy-y_pred_linear))/len(yy)\n",
    "print(Accuracy_linear)"
   ]
  },
  {
   "cell_type": "code",
   "execution_count": 92,
   "id": "5a6eee3d-cf38-4463-a3ce-cb0ed15598d3",
   "metadata": {},
   "outputs": [
    {
     "data": {
      "text/plain": [
       "0.6323823490201306"
      ]
     },
     "execution_count": 92,
     "metadata": {},
     "output_type": "execute_result"
    }
   ],
   "source": [
    "# sanity check\n",
    "1-np.sum(np.abs(yy-1))/len(yy) # you can also use this one: statistics.mean(np.abs(yy-y_pred_linear)==0)"
   ]
  },
  {
   "cell_type": "code",
   "execution_count": 93,
   "id": "012ea8ca-d8c9-42c4-b4f7-89b3307da9e5",
   "metadata": {},
   "outputs": [
    {
     "data": {
      "text/plain": [
       "0.3676176509798693"
      ]
     },
     "execution_count": 93,
     "metadata": {},
     "output_type": "execute_result"
    }
   ],
   "source": [
    "1-np.sum(np.abs(yy-2))/len(yy) # you can also use this one: statistics.mean(np.abs(yy-y_pred_linear)==0)"
   ]
  },
  {
   "cell_type": "markdown",
   "id": "bcbc3849",
   "metadata": {},
   "source": [
    "# Out-of-sample performance"
   ]
  },
  {
   "cell_type": "code",
   "execution_count": 94,
   "id": "e36fb2ae",
   "metadata": {},
   "outputs": [],
   "source": [
    "# split data randomly\n",
    "train_x, test_x, train_y, test_y = train_test_split(X_reg, yy, test_size=0.4, random_state = 213)"
   ]
  },
  {
   "cell_type": "markdown",
   "id": "5350aada",
   "metadata": {},
   "source": [
    "##  1. train the logistic model and apply it to test data"
   ]
  },
  {
   "cell_type": "code",
   "execution_count": 95,
   "id": "d2c24148",
   "metadata": {},
   "outputs": [
    {
     "name": "stdout",
     "output_type": "stream",
     "text": [
      "0.7541659723379437\n"
     ]
    }
   ],
   "source": [
    "logit = LogisticRegression(solver='newton-cg').fit(train_x,train_y)\n",
    "y_pred=logit.predict(test_x)\n",
    "Accuracy_logit=1-np.sum(np.abs(test_y-y_pred))/len(test_y)\n",
    "print(Accuracy_logit)"
   ]
  },
  {
   "cell_type": "markdown",
   "id": "6ee93e1c",
   "metadata": {},
   "source": [
    "##  2. train the linear model and apply it to test data"
   ]
  },
  {
   "cell_type": "code",
   "execution_count": 96,
   "id": "06e3c553",
   "metadata": {},
   "outputs": [
    {
     "name": "stdout",
     "output_type": "stream",
     "text": [
      "0.7552074654224296\n"
     ]
    }
   ],
   "source": [
    "# try this yourself\n",
    "# linear model with 1.5 cut-off\n",
    "reg_linear = LinearRegression().fit(train_x,train_y)\n",
    "y_pred_linear=reg_linear.predict(test_x)\n",
    "\n",
    "\n",
    "for i in range(len(y_pred_linear)):\n",
    "    if y_pred_linear[i] <1.5:\n",
    "        y_pred_linear[i] = 1\n",
    "    else:\n",
    "        y_pred_linear[i] = 2\n",
    "        \n",
    "        \n",
    "Accuracy_linear=1-np.sum(np.abs(test_y-y_pred_linear))/len(test_y)\n",
    "print(Accuracy_linear)"
   ]
  },
  {
   "cell_type": "markdown",
   "id": "2b8921b2",
   "metadata": {},
   "source": [
    "## 3. Sanity check"
   ]
  },
  {
   "cell_type": "code",
   "execution_count": 97,
   "id": "e04001ec",
   "metadata": {},
   "outputs": [
    {
     "data": {
      "text/plain": [
       "0.6306448925179137"
      ]
     },
     "execution_count": 97,
     "metadata": {},
     "output_type": "execute_result"
    }
   ],
   "source": [
    "# accuracy if we always predict 1\n",
    "1-np.sum(np.abs(test_y-1))/len(test_y)"
   ]
  },
  {
   "cell_type": "code",
   "execution_count": 98,
   "id": "abef7f95",
   "metadata": {},
   "outputs": [
    {
     "data": {
      "text/plain": [
       "0.36935510748208633"
      ]
     },
     "execution_count": 98,
     "metadata": {},
     "output_type": "execute_result"
    }
   ],
   "source": [
    "# accuracy if we always predict 2\n",
    "1-np.sum(np.abs(test_y-2))/len(test_y)"
   ]
  }
 ],
 "metadata": {
  "kernelspec": {
   "display_name": "Python 3 (ipykernel)",
   "language": "python",
   "name": "python3"
  },
  "language_info": {
   "codemirror_mode": {
    "name": "ipython",
    "version": 3
   },
   "file_extension": ".py",
   "mimetype": "text/x-python",
   "name": "python",
   "nbconvert_exporter": "python",
   "pygments_lexer": "ipython3",
   "version": "3.8.13"
  }
 },
 "nbformat": 4,
 "nbformat_minor": 5
}
