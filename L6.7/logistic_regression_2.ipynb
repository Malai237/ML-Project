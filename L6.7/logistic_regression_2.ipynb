{
 "cells": [
  {
   "cell_type": "code",
   "execution_count": null,
   "id": "60a2baf9-8d48-4e7e-9526-3170f4511089",
   "metadata": {},
   "outputs": [],
   "source": [
    "clear()"
   ]
  },
  {
   "cell_type": "code",
   "execution_count": 1,
   "id": "6b5b73ec-e811-413f-b358-043823f0b458",
   "metadata": {},
   "outputs": [
    {
     "ename": "ModuleNotFoundError",
     "evalue": "No module named 'numpy'",
     "output_type": "error",
     "traceback": [
      "\u001b[0;31m---------------------------------------------------------------------------\u001b[0m",
      "\u001b[0;31mModuleNotFoundError\u001b[0m                       Traceback (most recent call last)",
      "Cell \u001b[0;32mIn [1], line 1\u001b[0m\n\u001b[0;32m----> 1\u001b[0m \u001b[39mimport\u001b[39;00m \u001b[39mnumpy\u001b[39;00m \u001b[39mas\u001b[39;00m \u001b[39mnp\u001b[39;00m\n\u001b[1;32m      2\u001b[0m \u001b[39mimport\u001b[39;00m \u001b[39mpandas\u001b[39;00m \u001b[39mas\u001b[39;00m \u001b[39mpd\u001b[39;00m\n\u001b[1;32m      3\u001b[0m \u001b[39mimport\u001b[39;00m \u001b[39mmatplotlib\u001b[39;00m\u001b[39m.\u001b[39;00m\u001b[39mpyplot\u001b[39;00m \u001b[39mas\u001b[39;00m \u001b[39mplt\u001b[39;00m\n",
      "\u001b[0;31mModuleNotFoundError\u001b[0m: No module named 'numpy'"
     ]
    }
   ],
   "source": [
    "import numpy as np\n",
    "import pandas as pd\n",
    "import matplotlib.pyplot as plt\n",
    "from sklearn.linear_model import LinearRegression\n",
    "from sklearn.model_selection import train_test_split\n",
    "from sklearn import preprocessing\n",
    "from sklearn.model_selection import cross_val_score\n",
    "from sklearn.model_selection import KFold\n",
    "from sklearn.linear_model import LogisticRegression\n",
    "from sklearn.preprocessing import PolynomialFeatures\n",
    "\n",
    "from sklearn.linear_model import LassoCV\n",
    "from sklearn.linear_model import RidgeCV\n",
    "from sklearn.linear_model import ElasticNetCV"
   ]
  },
  {
   "cell_type": "code",
   "execution_count": null,
   "id": "369bb0c1-3582-4f02-b601-e505c0b5725d",
   "metadata": {},
   "outputs": [],
   "source": [
    "data = pd.read_csv(\"pulse2022_puf_51.csv\")\n",
    "print( 'Data set size: ', len( data ) )"
   ]
  },
  {
   "cell_type": "code",
   "execution_count": null,
   "id": "407f543a-6c0e-493c-83d6-1f4615f6e709",
   "metadata": {},
   "outputs": [],
   "source": [
    "data=data[data['ANYWORK']>=0]\n",
    "data['age']=2023-data['TBIRTH_YEAR']\n",
    "X=data[['age','RRACE','EEDUC','MS']] # age, race, education, marital status\n",
    "yy=data['ANYWORK']\n",
    "yy.describe()\n",
    "plt.hist(yy)"
   ]
  },
  {
   "cell_type": "code",
   "execution_count": null,
   "id": "10b54d86-198b-4d2b-bf57-76c0e4cf5b1d",
   "metadata": {},
   "outputs": [],
   "source": [
    "X.replace(-99, 1, inplace = True) # replace -99 with 1. \n",
    "X_reg=pd.get_dummies(X, columns=X.columns[1:], drop_first=True)"
   ]
  },
  {
   "cell_type": "code",
   "execution_count": null,
   "id": "a52f88da-8dff-4f9f-bc0e-80d119b54ef3",
   "metadata": {},
   "outputs": [],
   "source": [
    "reg_linear = LinearRegression().fit(X_reg, yy)\n",
    "reg_linear.score(X_reg, yy)\n",
    "y_pred_linear=reg_linear.predict(X_reg)\n",
    "for i in range(len(y_pred_linear)):\n",
    "    if y_pred_linear[i] <1.5:\n",
    "        y_pred_linear[i] = 1\n",
    "    else:\n",
    "        y_pred_linear[i] = 2\n",
    "        \n",
    "        \n",
    "Accuracy_linear=1-np.sum(np.abs(yy-y_pred_linear))/len(yy)\n",
    "print(Accuracy_linear)"
   ]
  },
  {
   "cell_type": "code",
   "execution_count": null,
   "id": "7c24b995-0ba7-4eac-a92e-a44b36acdc73",
   "metadata": {},
   "outputs": [],
   "source": [
    "reg_linear.coef_"
   ]
  },
  {
   "cell_type": "markdown",
   "id": "347103eb-b509-4f56-9ccc-54161c941859",
   "metadata": {},
   "source": [
    "# Explore the linear model"
   ]
  },
  {
   "cell_type": "code",
   "execution_count": null,
   "id": "62bec40f-c2c6-443c-be56-0378259351d9",
   "metadata": {},
   "outputs": [],
   "source": [
    "# count the number of missing values in each column and record columns with many missing values\n",
    "\n",
    "remove_list=[]\n",
    "threshold=20000\n",
    "for i in data.columns:\n",
    "    a = sum( data[i] == -88 ) + sum( data[i] == -99 ) \n",
    "    print(a,data[i].name)\n",
    "    if a>threshold:\n",
    "        remove_list.append(data[i].name)  # if we have too many missing data in this column, add this column to remove_list"
   ]
  },
  {
   "cell_type": "code",
   "execution_count": null,
   "id": "afc4f2dd-cb40-4e9c-99ac-2b987d6fe4a1",
   "metadata": {},
   "outputs": [],
   "source": [
    "remove_list"
   ]
  },
  {
   "cell_type": "code",
   "execution_count": null,
   "id": "d0a6653e-2db5-4729-ad37-0d21dac61e9d",
   "metadata": {},
   "outputs": [],
   "source": [
    "X=data[data.columns.difference(remove_list)] # let X be columns outside remove_list\n",
    "X.columns"
   ]
  },
  {
   "cell_type": "code",
   "execution_count": null,
   "id": "615b79ca-decb-42c9-a737-6ce70ffb6fe1",
   "metadata": {},
   "outputs": [],
   "source": [
    "# fill the remaining missing values with 1\n",
    "X.replace(-88, 1, inplace = True)\n",
    "X.replace(-99, 1, inplace = True)\n",
    "X.describe()"
   ]
  },
  {
   "cell_type": "code",
   "execution_count": null,
   "id": "1410c0cc-60b8-42f8-9619-6c83f67f0751",
   "metadata": {},
   "outputs": [],
   "source": [
    "# find out which ones should be dropped, look like categorical variables, etc\n",
    "\n",
    "for i in X.columns:\n",
    "    a = len(pd.unique(X[i]))    # pd.unique gives the list of unique values in a column.\n",
    "    print(a,X[i].name)"
   ]
  },
  {
   "cell_type": "code",
   "execution_count": null,
   "id": "72f32152-927f-4b70-8662-3974ce403fd2",
   "metadata": {},
   "outputs": [],
   "source": [
    "more_remove_list=['ACTVDUTY1','KIDBSTR_LT5Y','SPND_SRCRV1','WEEK','SCRAM'] # why these?\n",
    "numerical_var_list=['HWEIGHT','TSPNDFOOD','TSPNDPRPD','PWEIGHT','age','TBIRTH_YEAR'] \n",
    "X=X[X.columns.difference(more_remove_list)]"
   ]
  },
  {
   "cell_type": "code",
   "execution_count": null,
   "id": "cf54703a-2763-4bc2-8612-69413be17862",
   "metadata": {},
   "outputs": [],
   "source": [
    "X.columns.difference(numerical_var_list)"
   ]
  },
  {
   "cell_type": "code",
   "execution_count": null,
   "id": "a2ed3797-301a-4219-8614-3d8342b0ef21",
   "metadata": {},
   "outputs": [],
   "source": [
    "X_reg=pd.get_dummies(X, columns=X.columns.difference(numerical_var_list), drop_first=True)\n",
    "X_reg.describe()"
   ]
  },
  {
   "cell_type": "code",
   "execution_count": null,
   "id": "bbed3c4f-91aa-418c-b41d-c1e8ea68dd6a",
   "metadata": {},
   "outputs": [],
   "source": [
    "reg_linear = LinearRegression().fit(X_reg, yy)\n",
    "reg_linear.score(X_reg, yy)"
   ]
  },
  {
   "cell_type": "code",
   "execution_count": null,
   "id": "1c68bc28-8010-4682-9850-bf665e3cbabf",
   "metadata": {},
   "outputs": [],
   "source": [
    "reg_linear.coef_"
   ]
  },
  {
   "cell_type": "code",
   "execution_count": null,
   "id": "372ceab3-45c6-481b-a904-c210531bd952",
   "metadata": {},
   "outputs": [],
   "source": [
    "plt.plot(reg_linear.coef_)"
   ]
  },
  {
   "cell_type": "code",
   "execution_count": null,
   "id": "e5013732-7bbb-4c6f-9855-d9eb14d8f6d0",
   "metadata": {},
   "outputs": [],
   "source": [
    "# let's normalize the covariates so we can compare betas (in order to figure out which ones are important)\n",
    "Xreg_scaled=X_reg.copy()\n",
    "for i in Xreg_scaled.columns:\n",
    "    Xreg_scaled[i] = (Xreg_scaled[i]-Xreg_scaled[i].min())/(Xreg_scaled[i].max()-Xreg_scaled[i].min())\n",
    "Xreg_scaled.describe()"
   ]
  },
  {
   "cell_type": "code",
   "execution_count": null,
   "id": "01e3ab86-9381-4ac7-b11c-ff066c9bb84b",
   "metadata": {},
   "outputs": [],
   "source": [
    "reg_linear = LinearRegression().fit(Xreg_scaled, yy)\n",
    "reg_linear.score(Xreg_scaled, yy)"
   ]
  },
  {
   "cell_type": "code",
   "execution_count": null,
   "id": "841869d8-a0b2-4ffb-ab1a-d9234bc65fbf",
   "metadata": {},
   "outputs": [],
   "source": [
    "reg_linear.coef_"
   ]
  },
  {
   "cell_type": "code",
   "execution_count": null,
   "id": "b9668f3e-efb5-4dc5-b742-3f9d5dd52d04",
   "metadata": {},
   "outputs": [],
   "source": [
    "plt.plot(reg_linear.coef_)"
   ]
  },
  {
   "cell_type": "code",
   "execution_count": null,
   "id": "8164c415-d5d2-4153-92e2-8cc6b9f4d4b0",
   "metadata": {},
   "outputs": [],
   "source": [
    "Xreg_scaled.columns[abs(reg_linear.coef_)>0.1]"
   ]
  },
  {
   "cell_type": "code",
   "execution_count": null,
   "id": "a7637d72-c65f-40bf-9251-9aad58c9dcc1",
   "metadata": {},
   "outputs": [],
   "source": [
    "\n",
    "# put beta coefficients in a data frame\n",
    "df = pd.DataFrame({'Name': Xreg_scaled.columns,\n",
    "        'beta': reg_linear.coef_,\n",
    "        'abs_val': abs(reg_linear.coef_) })   # we add the absolute column because we rank betas by their magnitude\n",
    "df"
   ]
  },
  {
   "cell_type": "code",
   "execution_count": null,
   "id": "8832a9f4-9b77-4031-97ab-8f5d42513fbe",
   "metadata": {},
   "outputs": [],
   "source": [
    "df.sort_values(by='abs_val', ascending=False) # sort "
   ]
  },
  {
   "cell_type": "code",
   "execution_count": null,
   "id": "9f129c99-9de8-4d37-8271-e4577e8a3583",
   "metadata": {},
   "outputs": [],
   "source": [
    "df.nlargest(10, ['abs_val']) # another way to sort"
   ]
  },
  {
   "cell_type": "code",
   "execution_count": null,
   "id": "35c90ee7-ecbd-4391-863a-14d2f2b09a3f",
   "metadata": {},
   "outputs": [],
   "source": [
    "C=df.nlargest(20, ['abs_val'])"
   ]
  },
  {
   "cell_type": "code",
   "execution_count": null,
   "id": "db706199-6951-4b4d-a4f8-b475cc99d221",
   "metadata": {},
   "outputs": [],
   "source": [
    "C"
   ]
  },
  {
   "cell_type": "markdown",
   "id": "b4267767-7a7a-4ff6-8045-be0324119984",
   "metadata": {},
   "source": [
    "# Should we regularize the models? Let's focus on one state (regression)"
   ]
  },
  {
   "cell_type": "code",
   "execution_count": null,
   "id": "609494b5-23ad-4832-90fd-86a8068fd846",
   "metadata": {},
   "outputs": [],
   "source": [
    "data = pd.read_csv(\"pulse2022_puf_51.csv\")\n",
    "print( 'Data set size: ', len( data ) )\n",
    "data=data[data['TSPNDFOOD']>=0]\n",
    "data['age']=2023-data['TBIRTH_YEAR']\n",
    "yy=data['TSPNDFOOD'] # let's predict the expenditure on food and groceries"
   ]
  },
  {
   "cell_type": "code",
   "execution_count": null,
   "id": "b247e22a-bbad-4f5c-aa4c-8911ccb4e65f",
   "metadata": {},
   "outputs": [],
   "source": [
    "remove_list=[]\n",
    "threshold=20000\n",
    "for i in data.columns:\n",
    "    a = sum( data[i] == -88 ) + sum( data[i] == -99 ) \n",
    "    # print(a,data[i].name)\n",
    "    if a>threshold:\n",
    "        remove_list.append(data[i].name)  # if we have too many missing data in this column, add this column to remove_list\n",
    "        \n",
    "X=data[data.columns.difference(remove_list)] # let X be columns outside remove_list\n",
    "\n",
    "X.replace(-99, 1, inplace = True) # replace -99 with 1. \n",
    "X.replace(-88, 1, inplace = True) # replace -99 with 1. \n",
    "\n",
    "X.columns"
   ]
  },
  {
   "cell_type": "code",
   "execution_count": null,
   "id": "fc4c5b7e-a92e-4cf1-93de-58800a41ca63",
   "metadata": {},
   "outputs": [],
   "source": [
    "XX=X[X['EST_ST']==25] # Massachusetts\n",
    "yy=yy[X['EST_ST']==25]\n"
   ]
  },
  {
   "cell_type": "code",
   "execution_count": null,
   "id": "c8f4e442-0c2b-4827-9223-4c4bcab94ff8",
   "metadata": {},
   "outputs": [],
   "source": [
    "for i in XX.columns:\n",
    "    a = len(pd.unique(XX[i]))\n",
    "    print(a,XX[i].name)"
   ]
  },
  {
   "cell_type": "code",
   "execution_count": null,
   "id": "ec850c02-7f31-400d-8f10-99df31a04ccb",
   "metadata": {},
   "outputs": [],
   "source": [
    "XX.columns[XX.isna().any()].tolist() # list all the columns that have any na values. "
   ]
  },
  {
   "cell_type": "code",
   "execution_count": null,
   "id": "a91f894c-e730-47f7-923e-22c557704371",
   "metadata": {},
   "outputs": [],
   "source": [
    "remove_list=['EST_MSA', 'KIDBSTR_LT5Y','TSPNDFOOD','ACTVDUTY1','EST_ST','REGION',\n",
    "             'SPND_SRCRV1','WEEK','TBIRTH_YEAR','SCRAM','HEARING','THHLD_NUMPER',\n",
    "             'LIVQTRRV','REMEMBERING','SEEING','SETTING','THHLD_NUMADLT','UNDERSTAND','ABIRTH_YEAR']\n",
    "XX=XX[XX.columns.difference(remove_list)]"
   ]
  },
  {
   "cell_type": "code",
   "execution_count": null,
   "id": "9f4b3437-fbb5-404c-9101-352afb531a5b",
   "metadata": {},
   "outputs": [],
   "source": [
    "numerical_var_list=['HWEIGHT','PWEIGHT','TBIRTH_YEAR','TSPNDFOOD','TSPNDPRPD','age']\n",
    "XX_reg=pd.get_dummies(XX, columns=XX.columns.difference(numerical_var_list), drop_first=True)\n",
    "XX_reg.columns"
   ]
  },
  {
   "cell_type": "code",
   "execution_count": null,
   "id": "42cf3d92-7433-4f33-a569-7918b2a86e03",
   "metadata": {},
   "outputs": [],
   "source": [
    "XX_reg.columns[XX_reg.isna().any()].tolist()"
   ]
  },
  {
   "cell_type": "code",
   "execution_count": null,
   "id": "73d672c2-2947-4d98-9b12-a510272eb29d",
   "metadata": {},
   "outputs": [],
   "source": [
    "# split data randomly\n",
    "train_x, test_x, train_y, test_y = train_test_split(XX_reg, yy, test_size=0.4, random_state = 138)"
   ]
  },
  {
   "cell_type": "code",
   "execution_count": null,
   "id": "48fe3951-9ee8-4f3a-a6bd-fbfbdba106fd",
   "metadata": {},
   "outputs": [],
   "source": [
    "# normalize the data (both training and test)\n",
    "\n",
    "Xtrain_scaled=train_x.copy()\n",
    "for i in Xtrain_scaled.columns:\n",
    "    Xtrain_scaled[i] = (Xtrain_scaled[i]-Xtrain_scaled[i].min())/(Xtrain_scaled[i].max()-Xtrain_scaled[i].min())\n",
    "\n",
    "    \n",
    "Xtest_scaled=test_x.copy()\n",
    "for i in Xtest_scaled.columns:\n",
    "    Xtest_scaled[i] = (Xtest_scaled[i]-Xtest_scaled[i].min())/(Xtest_scaled[i].max()-Xtest_scaled[i].min())"
   ]
  },
  {
   "cell_type": "code",
   "execution_count": null,
   "id": "6ecf4ece-259c-4e84-8bae-41c87a204964",
   "metadata": {},
   "outputs": [],
   "source": [
    "Xtrain_scaled.columns[Xtrain_scaled.isna().any()].tolist()"
   ]
  },
  {
   "cell_type": "code",
   "execution_count": null,
   "id": "f1603e8d-6eeb-4b64-8d89-ae8737423d41",
   "metadata": {},
   "outputs": [],
   "source": [
    "Xtest_scaled.columns[Xtest_scaled.isna().any()].tolist()"
   ]
  },
  {
   "cell_type": "code",
   "execution_count": null,
   "id": "201aea03-8dee-4fa9-8bb1-7d40eef77cbf",
   "metadata": {},
   "outputs": [],
   "source": [
    "# linear model\n",
    "reg1 = LinearRegression().fit(Xtrain_scaled, train_y) # train a linear model\n",
    "y_pred_linear=reg1.predict(Xtest_scaled) # predict using the linear model on test data\n",
    "Accuracy_linear_full=np.sum(np.square(y_pred_linear-test_y))/len(test_y) # evaluate MSE on test data\n",
    "Accuracy_linear_full"
   ]
  },
  {
   "cell_type": "code",
   "execution_count": null,
   "id": "d21a3d94-efc9-4377-a64f-bc9ebb7a0710",
   "metadata": {},
   "outputs": [],
   "source": [
    "# linear model with manual variable selection\n",
    "df = pd.DataFrame({'Name': Xtrain_scaled.columns,\n",
    "        'beta': reg1.coef_,\n",
    "        'abs_val': abs(reg1.coef_) })   # we add the absolute column because we rank betas by their magnitude\n",
    "C=df.nlargest(52, ['abs_val'])\n",
    "\n",
    "ind_chosen=C['Name']\n",
    "\n",
    "reg1 = LinearRegression().fit(Xtrain_scaled[ind_chosen], train_y)\n",
    "y_pred_linear=reg1.predict(Xtest_scaled[ind_chosen])\n",
    "Accuracy_linear_small=np.sum(np.square(y_pred_linear-test_y))/len(test_y)\n",
    "Accuracy_linear_small"
   ]
  },
  {
   "cell_type": "code",
   "execution_count": null,
   "id": "f81d7291-a09b-4794-9493-d7452f09822d",
   "metadata": {},
   "outputs": [],
   "source": [
    "# Lasso\n",
    "Lasso_model=LassoCV(cv=5, random_state=0).fit(Xtrain_scaled, train_y) # train Lasso with cross validation\n",
    "y_pred_lasso=Lasso_model.predict(Xtest_scaled)\n",
    "Accuracy_linear_lasso=np.sum(np.square(y_pred_lasso-test_y))/len(test_y)\n",
    "Accuracy_linear_lasso"
   ]
  },
  {
   "cell_type": "code",
   "execution_count": null,
   "id": "2a8c3196-2c4b-463b-89ba-724376667a67",
   "metadata": {},
   "outputs": [],
   "source": [
    "# linear model with LASSO variable selection\n",
    "ind_lasso=Xtrain_scaled.columns[abs(Lasso_model.coef_)>0]\n",
    "reg1 = LinearRegression().fit(Xtrain_scaled[ind_lasso], train_y)\n",
    "y_pred_linear=reg1.predict(Xtest_scaled[ind_lasso])\n",
    "Accuracy_linear_post_lasso=np.sum(np.square(y_pred_linear-test_y))/len(test_y)\n",
    "Accuracy_linear_post_lasso"
   ]
  },
  {
   "cell_type": "code",
   "execution_count": null,
   "id": "65ea36e1-18d0-4cb6-a11b-565d82e1688d",
   "metadata": {},
   "outputs": [],
   "source": [
    "# Ridge \n",
    "Ridge_model = RidgeCV(alphas=[1e-3, 1e-2, 1e-1, 1]).fit(Xtrain_scaled, train_y) # train ridge with cross validation\n",
    "y_pred_ridge=Ridge_model.predict(Xtest_scaled)\n",
    "Accuracy_linear_ridge=np.sum(np.square(y_pred_ridge-test_y))/len(test_y)\n",
    "Accuracy_linear_ridge"
   ]
  },
  {
   "cell_type": "code",
   "execution_count": null,
   "id": "cce44c16-5bd5-4821-8dc1-0df7e402a2c0",
   "metadata": {},
   "outputs": [],
   "source": [
    "# Elastic net\n",
    "EN_model = ElasticNetCV(cv=5, random_state=0).fit(Xtrain_scaled, train_y) # train elastic net with cross validation\n",
    "y_pred_EN=EN_model.predict(Xtest_scaled)\n",
    "Accuracy_linear_EN=np.sum(np.square(y_pred_EN-test_y))/len(test_y)\n",
    "Accuracy_linear_EN"
   ]
  },
  {
   "cell_type": "code",
   "execution_count": null,
   "id": "fa307a02-c56a-40cc-a2cc-00fa3cf05bf0",
   "metadata": {},
   "outputs": [],
   "source": [
    "# put all together in one place\n",
    "print(Accuracy_linear_full, Accuracy_linear_small, Accuracy_linear_lasso, Accuracy_linear_post_lasso, Accuracy_linear_ridge, Accuracy_linear_EN)"
   ]
  },
  {
   "cell_type": "code",
   "execution_count": null,
   "id": "93407509-c25b-4018-8bdb-b0e78787a39b",
   "metadata": {},
   "outputs": [],
   "source": []
  }
 ],
 "metadata": {
  "kernelspec": {
   "display_name": "Python 3",
   "language": "python",
   "name": "python3"
  },
  "language_info": {
   "codemirror_mode": {
    "name": "ipython",
    "version": 3
   },
   "file_extension": ".py",
   "mimetype": "text/x-python",
   "name": "python",
   "nbconvert_exporter": "python",
   "pygments_lexer": "ipython3",
   "version": "3.9.6"
  },
  "vscode": {
   "interpreter": {
    "hash": "31f2aee4e71d21fbe5cf8b01ff0e069b9275f58929596ceb00d14d90e3e16cd6"
   }
  }
 },
 "nbformat": 4,
 "nbformat_minor": 5
}
