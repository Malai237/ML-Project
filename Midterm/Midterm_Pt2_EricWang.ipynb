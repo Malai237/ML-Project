{
 "cells": [
  {
   "cell_type": "code",
   "execution_count": 1,
   "metadata": {},
   "outputs": [],
   "source": [
    "import pandas as pd\n",
    "import matplotlib.pyplot as plt\n",
    "from sklearn.linear_model import LogisticRegression\n",
    "from sklearn.metrics import f1_score, confusion_matrix\n",
    "from sklearn.model_selection import train_test_split, GridSearchCV\n",
    "from sklearn import tree\n",
    "import numpy as np\n",
    "from sklearn import decomposition\n",
    "from sklearn.feature_selection import SelectKBest, f_classif\n",
    "from sklearn.preprocessing import StandardScaler, RobustScaler, MinMaxScaler\n",
    "\n",
    "train = pd.read_csv('train_data.csv')"
   ]
  },
  {
   "cell_type": "code",
   "execution_count": 3,
   "metadata": {},
   "outputs": [],
   "source": [
    "df_model = train.copy()\n",
    "class2 = df_model[df_model['Class']==2]\n",
    "\n",
    "df_model = df_model.append(class2)\n",
    "df_model = df_model.append(class2)\n",
    "df_model = df_model.append(class2)\n",
    "df_model = df_model.append(class2)"
   ]
  },
  {
   "attachments": {},
   "cell_type": "markdown",
   "metadata": {},
   "source": [
    "##### Feature Selection"
   ]
  },
  {
   "cell_type": "code",
   "execution_count": 4,
   "metadata": {},
   "outputs": [],
   "source": [
    "# drops unknown incomes as it drops performance of prediction\n",
    "df_model = df_model[df_model['Income']!='Unknown']\n",
    "\n",
    "'''Manual feature selection''' ### Terrible way to choose features, model will always predict 1\n",
    "# x = df_model[['CLimit', 'Utilization', 'Income', 'Importance']]\n",
    "# x = pd.get_dummies(x, columns=['Income'], drop_first=True)\n",
    "\n",
    "\n",
    "'''Using VarianceThreshold and decomposition package''' ### Better than trying different features manually but still extremely biased towards predicting 1\n",
    "# x = df_model.drop(columns=['Class'])\n",
    "# x = pd.get_dummies(x, columns=['Gender','Education','Marital','Income', \n",
    "#                                 'KCategory', 'Group'], drop_first=True)\n",
    "# sel = VarianceThreshold(threshold=0.95*(1-0.95))\n",
    "# sel.fit_transform(x)\n",
    "\n",
    "# pca = decomposition.PCA()\n",
    "# pca.n_components= 4\n",
    "# x = pca.fit_transform(x)\n",
    "\n",
    "\n",
    "'''Selecting features via decomposition package'''\n",
    "# # create dummy variables for categorical features\n",
    "# x = df_model.drop(columns=['Class'])\n",
    "# x = pd.get_dummies(x, columns=['Gender','Education','Marital','Income', \n",
    "#                                'KCategory', 'Group'], drop_first=True)\n",
    "\n",
    "# # Uses decomposition.PCA package from sklearn to select the 4 best features\n",
    "# pca = decomposition.PCA()\n",
    "# pca.n_components= 4\n",
    "# x = pca.fit_transform(x)\n",
    "\n",
    "# y = df_model['Class']\n",
    "# x_train, x_test, y_train, y_test = train_test_split(x, y, test_size=0.26, random_state=4)\n",
    "\n",
    "'''Selecting features using variance'''\n",
    "x = df_model.drop(columns=['Class'])\n",
    "y = df_model['Class']\n",
    "x = pd.get_dummies(x, columns=['Gender','Education','Marital','Income', \n",
    "                               'KCategory', 'Group'], drop_first=True)\n",
    "x = SelectKBest(f_classif, k=4).fit_transform(x,y)\n"
   ]
  },
  {
   "cell_type": "code",
   "execution_count": 5,
   "metadata": {},
   "outputs": [
    {
     "data": {
      "text/html": [
       "<div>\n",
       "<style scoped>\n",
       "    .dataframe tbody tr th:only-of-type {\n",
       "        vertical-align: middle;\n",
       "    }\n",
       "\n",
       "    .dataframe tbody tr th {\n",
       "        vertical-align: top;\n",
       "    }\n",
       "\n",
       "    .dataframe thead th {\n",
       "        text-align: right;\n",
       "    }\n",
       "</style>\n",
       "<table border=\"1\" class=\"dataframe\">\n",
       "  <thead>\n",
       "    <tr style=\"text-align: right;\">\n",
       "      <th></th>\n",
       "      <th>0</th>\n",
       "      <th>1</th>\n",
       "      <th>2</th>\n",
       "      <th>3</th>\n",
       "    </tr>\n",
       "  </thead>\n",
       "  <tbody>\n",
       "    <tr>\n",
       "      <th>0</th>\n",
       "      <td>3.0</td>\n",
       "      <td>4.0</td>\n",
       "      <td>67.0</td>\n",
       "      <td>0.914</td>\n",
       "    </tr>\n",
       "    <tr>\n",
       "      <th>1</th>\n",
       "      <td>3.0</td>\n",
       "      <td>1.0</td>\n",
       "      <td>89.0</td>\n",
       "      <td>0.679</td>\n",
       "    </tr>\n",
       "    <tr>\n",
       "      <th>2</th>\n",
       "      <td>4.0</td>\n",
       "      <td>2.0</td>\n",
       "      <td>111.0</td>\n",
       "      <td>0.850</td>\n",
       "    </tr>\n",
       "    <tr>\n",
       "      <th>3</th>\n",
       "      <td>3.0</td>\n",
       "      <td>1.0</td>\n",
       "      <td>69.0</td>\n",
       "      <td>0.568</td>\n",
       "    </tr>\n",
       "    <tr>\n",
       "      <th>4</th>\n",
       "      <td>6.0</td>\n",
       "      <td>4.0</td>\n",
       "      <td>44.0</td>\n",
       "      <td>0.517</td>\n",
       "    </tr>\n",
       "    <tr>\n",
       "      <th>...</th>\n",
       "      <td>...</td>\n",
       "      <td>...</td>\n",
       "      <td>...</td>\n",
       "      <td>...</td>\n",
       "    </tr>\n",
       "    <tr>\n",
       "      <th>6749</th>\n",
       "      <td>3.0</td>\n",
       "      <td>1.0</td>\n",
       "      <td>28.0</td>\n",
       "      <td>0.273</td>\n",
       "    </tr>\n",
       "    <tr>\n",
       "      <th>6750</th>\n",
       "      <td>4.0</td>\n",
       "      <td>3.0</td>\n",
       "      <td>36.0</td>\n",
       "      <td>0.161</td>\n",
       "    </tr>\n",
       "    <tr>\n",
       "      <th>6751</th>\n",
       "      <td>4.0</td>\n",
       "      <td>2.0</td>\n",
       "      <td>38.0</td>\n",
       "      <td>0.520</td>\n",
       "    </tr>\n",
       "    <tr>\n",
       "      <th>6752</th>\n",
       "      <td>5.0</td>\n",
       "      <td>4.0</td>\n",
       "      <td>39.0</td>\n",
       "      <td>0.696</td>\n",
       "    </tr>\n",
       "    <tr>\n",
       "      <th>6753</th>\n",
       "      <td>2.0</td>\n",
       "      <td>2.0</td>\n",
       "      <td>85.0</td>\n",
       "      <td>0.545</td>\n",
       "    </tr>\n",
       "  </tbody>\n",
       "</table>\n",
       "<p>6754 rows × 4 columns</p>\n",
       "</div>"
      ],
      "text/plain": [
       "        0    1      2      3\n",
       "0     3.0  4.0   67.0  0.914\n",
       "1     3.0  1.0   89.0  0.679\n",
       "2     4.0  2.0  111.0  0.850\n",
       "3     3.0  1.0   69.0  0.568\n",
       "4     6.0  4.0   44.0  0.517\n",
       "...   ...  ...    ...    ...\n",
       "6749  3.0  1.0   28.0  0.273\n",
       "6750  4.0  3.0   36.0  0.161\n",
       "6751  4.0  2.0   38.0  0.520\n",
       "6752  5.0  4.0   39.0  0.696\n",
       "6753  2.0  2.0   85.0  0.545\n",
       "\n",
       "[6754 rows x 4 columns]"
      ]
     },
     "execution_count": 5,
     "metadata": {},
     "output_type": "execute_result"
    }
   ],
   "source": [
    "x  = pd.DataFrame(x)\n",
    "x"
   ]
  },
  {
   "cell_type": "code",
   "execution_count": 6,
   "metadata": {},
   "outputs": [
    {
     "data": {
      "text/html": [
       "<div>\n",
       "<style scoped>\n",
       "    .dataframe tbody tr th:only-of-type {\n",
       "        vertical-align: middle;\n",
       "    }\n",
       "\n",
       "    .dataframe tbody tr th {\n",
       "        vertical-align: top;\n",
       "    }\n",
       "\n",
       "    .dataframe thead th {\n",
       "        text-align: right;\n",
       "    }\n",
       "</style>\n",
       "<table border=\"1\" class=\"dataframe\">\n",
       "  <thead>\n",
       "    <tr style=\"text-align: right;\">\n",
       "      <th></th>\n",
       "      <th>Relationship</th>\n",
       "      <th>ContactNum</th>\n",
       "      <th>TransCt</th>\n",
       "      <th>Ct_41</th>\n",
       "    </tr>\n",
       "  </thead>\n",
       "  <tbody>\n",
       "    <tr>\n",
       "      <th>1</th>\n",
       "      <td>3</td>\n",
       "      <td>4</td>\n",
       "      <td>67</td>\n",
       "      <td>0.914</td>\n",
       "    </tr>\n",
       "    <tr>\n",
       "      <th>2</th>\n",
       "      <td>3</td>\n",
       "      <td>1</td>\n",
       "      <td>89</td>\n",
       "      <td>0.679</td>\n",
       "    </tr>\n",
       "    <tr>\n",
       "      <th>3</th>\n",
       "      <td>4</td>\n",
       "      <td>2</td>\n",
       "      <td>111</td>\n",
       "      <td>0.850</td>\n",
       "    </tr>\n",
       "    <tr>\n",
       "      <th>4</th>\n",
       "      <td>3</td>\n",
       "      <td>1</td>\n",
       "      <td>69</td>\n",
       "      <td>0.568</td>\n",
       "    </tr>\n",
       "    <tr>\n",
       "      <th>5</th>\n",
       "      <td>6</td>\n",
       "      <td>4</td>\n",
       "      <td>44</td>\n",
       "      <td>0.517</td>\n",
       "    </tr>\n",
       "    <tr>\n",
       "      <th>...</th>\n",
       "      <td>...</td>\n",
       "      <td>...</td>\n",
       "      <td>...</td>\n",
       "      <td>...</td>\n",
       "    </tr>\n",
       "    <tr>\n",
       "      <th>7590</th>\n",
       "      <td>3</td>\n",
       "      <td>1</td>\n",
       "      <td>28</td>\n",
       "      <td>0.273</td>\n",
       "    </tr>\n",
       "    <tr>\n",
       "      <th>7591</th>\n",
       "      <td>4</td>\n",
       "      <td>3</td>\n",
       "      <td>36</td>\n",
       "      <td>0.161</td>\n",
       "    </tr>\n",
       "    <tr>\n",
       "      <th>7592</th>\n",
       "      <td>4</td>\n",
       "      <td>2</td>\n",
       "      <td>38</td>\n",
       "      <td>0.520</td>\n",
       "    </tr>\n",
       "    <tr>\n",
       "      <th>7593</th>\n",
       "      <td>5</td>\n",
       "      <td>4</td>\n",
       "      <td>39</td>\n",
       "      <td>0.696</td>\n",
       "    </tr>\n",
       "    <tr>\n",
       "      <th>7594</th>\n",
       "      <td>2</td>\n",
       "      <td>2</td>\n",
       "      <td>85</td>\n",
       "      <td>0.545</td>\n",
       "    </tr>\n",
       "  </tbody>\n",
       "</table>\n",
       "<p>6754 rows × 4 columns</p>\n",
       "</div>"
      ],
      "text/plain": [
       "      Relationship  ContactNum  TransCt  Ct_41\n",
       "1                3           4       67  0.914\n",
       "2                3           1       89  0.679\n",
       "3                4           2      111  0.850\n",
       "4                3           1       69  0.568\n",
       "5                6           4       44  0.517\n",
       "...            ...         ...      ...    ...\n",
       "7590             3           1       28  0.273\n",
       "7591             4           3       36  0.161\n",
       "7592             4           2       38  0.520\n",
       "7593             5           4       39  0.696\n",
       "7594             2           2       85  0.545\n",
       "\n",
       "[6754 rows x 4 columns]"
      ]
     },
     "execution_count": 6,
     "metadata": {},
     "output_type": "execute_result"
    }
   ],
   "source": [
    "X = df_model[['Relationship', 'ContactNum','TransCt', 'Ct_41']]\n",
    "X ## to show that these are the features that are selected using SelectKBest()"
   ]
  },
  {
   "attachments": {},
   "cell_type": "markdown",
   "metadata": {},
   "source": [
    "##### Figured out that SelectKBest chose ['Relationship', 'ContactNum','TransCt', 'Ct_41'] to be the best features based on univariate statistical tests"
   ]
  },
  {
   "cell_type": "code",
   "execution_count": 7,
   "metadata": {},
   "outputs": [
    {
     "name": "stdout",
     "output_type": "stream",
     "text": [
      "{'criterion': 'log_loss', 'max_depth': 9, 'min_samples_split': 12, 'splitter': 'random'}\n"
     ]
    }
   ],
   "source": [
    "x_train, x_test, y_train, y_test = train_test_split(x, y, test_size=0.26, random_state=4)\n",
    "clf = tree.DecisionTreeClassifier()\n",
    "# Different hyper-parameters for the decision tree\n",
    "param = {\n",
    "    \"criterion\": [\"gini\", \"entropy\", \"log_loss\"],\n",
    "    \"max_depth\": [3,6,9,12,15],\n",
    "    \"splitter\": [\"best\", \"random\"],\n",
    "    \"min_samples_split\": [6,8,10,12,14]\n",
    "    }\n",
    "# ready's the hyper-parameters for the decision tree\n",
    "grid = GridSearchCV(clf, param_grid=param, cv=10)\n",
    "# fits all combinations of specified hyper-parameter for decision tree\n",
    "grid.fit(x_train,y_train)\n",
    "print(grid.best_params_) # prints the best parameters"
   ]
  },
  {
   "cell_type": "code",
   "execution_count": 8,
   "metadata": {},
   "outputs": [
    {
     "data": {
      "text/plain": [
       "0.8716755319148936"
      ]
     },
     "execution_count": 8,
     "metadata": {},
     "output_type": "execute_result"
    }
   ],
   "source": [
    "# creates decision tree with the best parameters for the training data\n",
    "clf = tree.DecisionTreeClassifier(criterion=grid.best_params_['criterion'],max_depth=grid.best_params_['max_depth'],\n",
    "                                  splitter=grid.best_params_['splitter'], min_samples_split=grid.best_params_['min_samples_split'],\n",
    "                                  class_weight={1:1.58})\n",
    "                                #   class_weight=grid.best_params_['class_weight'])\n",
    "tree_model = clf.fit(x_train, y_train)\n",
    "y_pred = tree_model.predict(x_test)\n",
    "f1_score(y_test, y_pred)"
   ]
  },
  {
   "cell_type": "code",
   "execution_count": 9,
   "metadata": {},
   "outputs": [
    {
     "data": {
      "text/plain": [
       "Text(0.5, 1.0, 'Confusion Matrix')"
      ]
     },
     "execution_count": 9,
     "metadata": {},
     "output_type": "execute_result"
    },
    {
     "data": {
      "image/png": "[encoded data removed]",
      "text/plain": [
       "<Figure size 640x480 with 1 Axes>"
      ]
     },
     "metadata": {},
     "output_type": "display_data"
    }
   ],
   "source": [
    "# Looks at predictions\n",
    "cm = confusion_matrix(y_test, y_pred)\n",
    "cols = [\"Pred 1\", \"Pred 2\"]\n",
    "rows = [\"Actual 1\", \"Actual 2\"]\n",
    "\n",
    "plt.imshow( cm )\n",
    "\n",
    "# Show all ticks and label them with the respective list entries\n",
    "plt.xticks(np.arange(len(cols)), labels=cols)\n",
    "plt.yticks(np.arange(len(rows)), labels=rows)\n",
    "\n",
    "for i in range(len(cols)):\n",
    "    for j in range(len(rows)):\n",
    "        if i == j:\n",
    "            c = 'black'\n",
    "        else:\n",
    "            c = 'white'\n",
    "        text = plt.text(j, i, cm[i, j], ha=\"center\", va=\"center\", color=c)\n",
    "\n",
    "plt.title( 'Confusion Matrix' )"
   ]
  },
  {
   "attachments": {},
   "cell_type": "markdown",
   "metadata": {},
   "source": [
    "### Trying a few scalar functions to see if any significant improvements can be made"
   ]
  },
  {
   "cell_type": "code",
   "execution_count": 10,
   "metadata": {},
   "outputs": [],
   "source": [
    "std_scaler = StandardScaler()\n",
    "rob_scaler = RobustScaler()\n",
    "mm_scaler = MinMaxScaler()\n",
    "\n",
    "std_x = std_scaler.fit_transform(X)\n",
    "rob_x = rob_scaler.fit_transform(X)\n",
    "mm_x = mm_scaler.fit_transform(X)"
   ]
  },
  {
   "cell_type": "code",
   "execution_count": 11,
   "metadata": {},
   "outputs": [],
   "source": [
    "y = df_model['Class']"
   ]
  },
  {
   "attachments": {},
   "cell_type": "markdown",
   "metadata": {},
   "source": [
    "#### Standard Scaler"
   ]
  },
  {
   "cell_type": "code",
   "execution_count": 12,
   "metadata": {},
   "outputs": [],
   "source": [
    "x_train, x_test, y_train, y_test = train_test_split(std_x, y, test_size=0.26, random_state=4)"
   ]
  },
  {
   "cell_type": "code",
   "execution_count": 13,
   "metadata": {},
   "outputs": [
    {
     "name": "stdout",
     "output_type": "stream",
     "text": [
      "{'criterion': 'gini', 'max_depth': 15, 'min_samples_split': 6, 'splitter': 'best'}\n"
     ]
    }
   ],
   "source": [
    "clf = tree.DecisionTreeClassifier()\n",
    "# Different hyper-parameters for the decision tree\n",
    "param = {\n",
    "    \"criterion\": [\"gini\", \"entropy\", \"log_loss\"],\n",
    "    \"max_depth\": [3,6,9,12,15],\n",
    "    \"splitter\": [\"best\", \"random\"],\n",
    "    \"min_samples_split\": [6,8,10,12,14]\n",
    "    }\n",
    "# ready's the hyper-parameters for the decision tree\n",
    "grid = GridSearchCV(clf, param_grid=param, cv=10)\n",
    "# fits all combinations of specified hyper-parameter for decision tree\n",
    "grid.fit(x_train,y_train)\n",
    "print(grid.best_params_) # prints the best parameters"
   ]
  },
  {
   "cell_type": "code",
   "execution_count": 14,
   "metadata": {},
   "outputs": [
    {
     "data": {
      "text/plain": [
       "0.9012517385257303"
      ]
     },
     "execution_count": 14,
     "metadata": {},
     "output_type": "execute_result"
    }
   ],
   "source": [
    "# creates decision tree with the best parameters for the training data\n",
    "clf = tree.DecisionTreeClassifier(criterion=grid.best_params_['criterion'],max_depth=grid.best_params_['max_depth'],\n",
    "                                  splitter=grid.best_params_['splitter'], min_samples_split=grid.best_params_['min_samples_split']\n",
    "                                  )\n",
    "tree_model = clf.fit(x_train, y_train)\n",
    "y_pred = tree_model.predict(x_test)\n",
    "f1_score(y_test, y_pred)"
   ]
  },
  {
   "cell_type": "code",
   "execution_count": 15,
   "metadata": {},
   "outputs": [
    {
     "data": {
      "text/plain": [
       "Text(0.5, 1.0, 'Confusion Matrix')"
      ]
     },
     "execution_count": 15,
     "metadata": {},
     "output_type": "execute_result"
    },
    {
     "data": {
      "image/png": "[encoded data removed]",
      "text/plain": [
       "<Figure size 640x480 with 1 Axes>"
      ]
     },
     "metadata": {},
     "output_type": "display_data"
    }
   ],
   "source": [
    "# Looks at predictions\n",
    "cm = confusion_matrix(y_test, y_pred)\n",
    "cols = [\"Pred 1\", \"Pred 2\"]\n",
    "rows = [\"Actual 1\", \"Actual 2\"]\n",
    "\n",
    "plt.imshow( cm )\n",
    "\n",
    "# Show all ticks and label them with the respective list entries\n",
    "plt.xticks(np.arange(len(cols)), labels=cols)\n",
    "plt.yticks(np.arange(len(rows)), labels=rows)\n",
    "\n",
    "for i in range(len(cols)):\n",
    "    for j in range(len(rows)):\n",
    "        if i == j:\n",
    "            c = 'black'\n",
    "        else:\n",
    "            c = 'white'\n",
    "        text = plt.text(j, i, cm[i, j], ha=\"center\", va=\"center\", color=c)\n",
    "\n",
    "plt.title( 'Confusion Matrix' )"
   ]
  },
  {
   "attachments": {},
   "cell_type": "markdown",
   "metadata": {},
   "source": [
    "#### Robust Scaler"
   ]
  },
  {
   "cell_type": "code",
   "execution_count": 16,
   "metadata": {},
   "outputs": [
    {
     "name": "stdout",
     "output_type": "stream",
     "text": [
      "{'criterion': 'gini', 'max_depth': 15, 'min_samples_split': 6, 'splitter': 'best'}\n"
     ]
    }
   ],
   "source": [
    "clf = tree.DecisionTreeClassifier()\n",
    "# Different hyper-parameters for the decision tree\n",
    "param = {\n",
    "    \"criterion\": [\"gini\", \"entropy\", \"log_loss\"],\n",
    "    \"max_depth\": [3,6,9,12,15],\n",
    "    \"splitter\": [\"best\", \"random\"],\n",
    "    \"min_samples_split\": [6,8,10,12,14]\n",
    "    }\n",
    "# ready's the hyper-parameters for the decision tree\n",
    "grid = GridSearchCV(clf, param_grid=param, cv=10)\n",
    "# fits all combinations of specified hyper-parameter for decision tree\n",
    "grid.fit(x_train,y_train)\n",
    "print(grid.best_params_) # prints the best parameters"
   ]
  },
  {
   "cell_type": "code",
   "execution_count": 17,
   "metadata": {},
   "outputs": [
    {
     "data": {
      "text/plain": [
       "0.8925729442970823"
      ]
     },
     "execution_count": 17,
     "metadata": {},
     "output_type": "execute_result"
    }
   ],
   "source": [
    "# creates decision tree with the best parameters for the training data\n",
    "clf = tree.DecisionTreeClassifier(criterion=grid.best_params_['criterion'],max_depth=grid.best_params_['max_depth'],\n",
    "                                  splitter=grid.best_params_['splitter'], min_samples_split=grid.best_params_['min_samples_split'],\n",
    "                                  class_weight={2:0.46}\n",
    "                                  )\n",
    "tree_model = clf.fit(x_train, y_train)\n",
    "y_pred = tree_model.predict(x_test)\n",
    "f1_score(y_test, y_pred)"
   ]
  },
  {
   "cell_type": "code",
   "execution_count": 18,
   "metadata": {},
   "outputs": [
    {
     "data": {
      "text/plain": [
       "Text(0.5, 1.0, 'Confusion Matrix')"
      ]
     },
     "execution_count": 18,
     "metadata": {},
     "output_type": "execute_result"
    },
    {
     "data": {
      "image/png": "[encoded data removed]",
      "text/plain": [
       "<Figure size 640x480 with 1 Axes>"
      ]
     },
     "metadata": {},
     "output_type": "display_data"
    }
   ],
   "source": [
    "# Looks at predictions\n",
    "cm = confusion_matrix(y_test, y_pred)\n",
    "cols = [\"Pred 1\", \"Pred 2\"]\n",
    "rows = [\"Actual 1\", \"Actual 2\"]\n",
    "\n",
    "plt.imshow( cm )\n",
    "\n",
    "# Show all ticks and label them with the respective list entries\n",
    "plt.xticks(np.arange(len(cols)), labels=cols)\n",
    "plt.yticks(np.arange(len(rows)), labels=rows)\n",
    "\n",
    "for i in range(len(cols)):\n",
    "    for j in range(len(rows)):\n",
    "        if i == j:\n",
    "            c = 'black'\n",
    "        else:\n",
    "            c = 'white'\n",
    "        text = plt.text(j, i, cm[i, j], ha=\"center\", va=\"center\", color=c)\n",
    "\n",
    "plt.title( 'Confusion Matrix' )"
   ]
  },
  {
   "attachments": {},
   "cell_type": "markdown",
   "metadata": {},
   "source": [
    "#### Effect of Scaler functions:\n",
    "-> The scalar functions seem to effect the prediction bias, by altering the class_weight param I could sacrifice accuracy of predicting 1 for it to predict 2, vice versa. \n",
    "##### Conclusion\n",
    "-> I will use StandardScaler function to alter test_data.csv and tweak the standard decision tree weights to try an maximize accuracy of predicting 1 when it is 1 and 2 when it is 2."
   ]
  },
  {
   "attachments": {},
   "cell_type": "markdown",
   "metadata": {},
   "source": [
    "## Test Data\n",
    "\n",
    "##### Focus on this next section of code is to balance accuracy of predicting 1 and 2 while keeping bias as low as possible"
   ]
  },
  {
   "cell_type": "code",
   "execution_count": 6,
   "metadata": {},
   "outputs": [],
   "source": [
    "test = pd.read_csv('test_data.csv')"
   ]
  },
  {
   "cell_type": "code",
   "execution_count": 10,
   "metadata": {},
   "outputs": [
    {
     "ename": "AttributeError",
     "evalue": "'DataFrame' object has no attribute 'append'",
     "output_type": "error",
     "traceback": [
      "\u001b[0;31m---------------------------------------------------------------------------\u001b[0m",
      "\u001b[0;31mAttributeError\u001b[0m                            Traceback (most recent call last)",
      "\u001b[1;32m/Users/ericwang/Desktop/ECON_148/Midterm/Midterm_Pt2_EricWang.ipynb Cell 26\u001b[0m in \u001b[0;36m3\n\u001b[1;32m      <a href='vscode-notebook-cell:/Users/ericwang/Desktop/ECON_148/Midterm/Midterm_Pt2_EricWang.ipynb#X34sZmlsZQ%3D%3D?line=0'>1</a>\u001b[0m df_model \u001b[39m=\u001b[39m train\u001b[39m.\u001b[39mcopy()\n\u001b[1;32m      <a href='vscode-notebook-cell:/Users/ericwang/Desktop/ECON_148/Midterm/Midterm_Pt2_EricWang.ipynb#X34sZmlsZQ%3D%3D?line=1'>2</a>\u001b[0m class2 \u001b[39m=\u001b[39m df_model[df_model[\u001b[39m'\u001b[39m\u001b[39mClass\u001b[39m\u001b[39m'\u001b[39m]\u001b[39m==\u001b[39m\u001b[39m2\u001b[39m]\n\u001b[0;32m----> <a href='vscode-notebook-cell:/Users/ericwang/Desktop/ECON_148/Midterm/Midterm_Pt2_EricWang.ipynb#X34sZmlsZQ%3D%3D?line=2'>3</a>\u001b[0m df_model \u001b[39m=\u001b[39m df_model\u001b[39m.\u001b[39;49mappend(class2)\n\u001b[1;32m      <a href='vscode-notebook-cell:/Users/ericwang/Desktop/ECON_148/Midterm/Midterm_Pt2_EricWang.ipynb#X34sZmlsZQ%3D%3D?line=3'>4</a>\u001b[0m df_model \u001b[39m=\u001b[39m df_model\u001b[39m.\u001b[39mappend(class2)\n\u001b[1;32m      <a href='vscode-notebook-cell:/Users/ericwang/Desktop/ECON_148/Midterm/Midterm_Pt2_EricWang.ipynb#X34sZmlsZQ%3D%3D?line=4'>5</a>\u001b[0m df_model \u001b[39m=\u001b[39m df_model\u001b[39m.\u001b[39mappend(class2)\n",
      "File \u001b[0;32m~/Library/Python/3.9/lib/python/site-packages/pandas/core/generic.py:5989\u001b[0m, in \u001b[0;36mNDFrame.__getattr__\u001b[0;34m(self, name)\u001b[0m\n\u001b[1;32m   5982\u001b[0m \u001b[39mif\u001b[39;00m (\n\u001b[1;32m   5983\u001b[0m     name \u001b[39mnot\u001b[39;00m \u001b[39min\u001b[39;00m \u001b[39mself\u001b[39m\u001b[39m.\u001b[39m_internal_names_set\n\u001b[1;32m   5984\u001b[0m     \u001b[39mand\u001b[39;00m name \u001b[39mnot\u001b[39;00m \u001b[39min\u001b[39;00m \u001b[39mself\u001b[39m\u001b[39m.\u001b[39m_metadata\n\u001b[1;32m   5985\u001b[0m     \u001b[39mand\u001b[39;00m name \u001b[39mnot\u001b[39;00m \u001b[39min\u001b[39;00m \u001b[39mself\u001b[39m\u001b[39m.\u001b[39m_accessors\n\u001b[1;32m   5986\u001b[0m     \u001b[39mand\u001b[39;00m \u001b[39mself\u001b[39m\u001b[39m.\u001b[39m_info_axis\u001b[39m.\u001b[39m_can_hold_identifiers_and_holds_name(name)\n\u001b[1;32m   5987\u001b[0m ):\n\u001b[1;32m   5988\u001b[0m     \u001b[39mreturn\u001b[39;00m \u001b[39mself\u001b[39m[name]\n\u001b[0;32m-> 5989\u001b[0m \u001b[39mreturn\u001b[39;00m \u001b[39mobject\u001b[39;49m\u001b[39m.\u001b[39;49m\u001b[39m__getattribute__\u001b[39;49m(\u001b[39mself\u001b[39;49m, name)\n",
      "\u001b[0;31mAttributeError\u001b[0m: 'DataFrame' object has no attribute 'append'"
     ]
    }
   ],
   "source": [
    "df_model = train.copy()\n",
    "class2 = df_model[df_model['Class']==2]\n",
    "# df_model = df_model.append(class2)\n",
    "# df_model = df_model.append(class2)\n",
    "# df_model = df_model.append(class2)\n",
    "# df_model = df_model.append(class2)"
   ]
  },
  {
   "cell_type": "code",
   "execution_count": 7,
   "metadata": {},
   "outputs": [
    {
     "name": "stdout",
     "output_type": "stream",
     "text": [
      "     0    1      2      3\n",
      "0  3.0  4.0   67.0  0.914\n",
      "1  3.0  1.0   89.0  0.679\n",
      "2  4.0  2.0  111.0  0.850\n",
      "3  3.0  1.0   69.0  0.568\n",
      "4  6.0  4.0   44.0  0.517\n",
      "         0         1         2         3\n",
      "0 -0.50903  1.394811  0.099743  0.860939\n",
      "1 -0.50903 -1.316659  1.027476 -0.135041\n",
      "2  0.13143 -0.412836  1.955209  0.589693\n",
      "3 -0.50903 -1.316659  0.184082 -0.605483\n",
      "4  1.41235  1.394811 -0.870161 -0.821631\n"
     ]
    }
   ],
   "source": [
    "df_model = df_model[df_model['Income']!='Unknown']\n",
    "\n",
    "'''Selecting features via decomposition package'''\n",
    "# create dummy variables for categorical features\n",
    "x = df_model.drop(columns=['Class'])\n",
    "x = pd.get_dummies(x, columns=['Gender','Education','Marital','Income', \n",
    "                               'KCategory', 'Group'], drop_first=True)\n",
    "y = df_model['Class']\n",
    "x = SelectKBest(f_classif, k=4).fit_transform(x,y)\n",
    "print(pd.DataFrame(x).head(5)) ### sanity check\n",
    "x = StandardScaler().fit_transform(x)\n",
    "print(pd.DataFrame(x).head(5))\n",
    "x_train, x_test, y_train, y_test = train_test_split(x, y, test_size=0.3, random_state=30)"
   ]
  },
  {
   "cell_type": "code",
   "execution_count": 22,
   "metadata": {},
   "outputs": [
    {
     "name": "stdout",
     "output_type": "stream",
     "text": [
      "{'criterion': 'entropy', 'max_depth': 15, 'min_samples_split': 6, 'splitter': 'best'}\n"
     ]
    }
   ],
   "source": [
    "clf = tree.DecisionTreeClassifier()\n",
    "# Different hyper-parameters for the decision tree\n",
    "param = {\n",
    "    \"criterion\": [\"gini\", \"entropy\", \"log_loss\"],\n",
    "    \"max_depth\": [3,6,9,12,15],\n",
    "    \"splitter\": [\"best\", \"random\"],\n",
    "    \"min_samples_split\": [6,8,10,12,14]\n",
    "    }\n",
    "# ready's the hyper-parameters for the decision tree\n",
    "grid = GridSearchCV(clf, param_grid=param, cv=10)\n",
    "# fits all combinations of specified hyper-parameter for decision tree\n",
    "grid.fit(x_train,y_train)\n",
    "print(grid.best_params_) # prints the best parameters"
   ]
  },
  {
   "cell_type": "code",
   "execution_count": 8,
   "metadata": {},
   "outputs": [
    {
     "data": {
      "text/plain": [
       "0.9432440218957073"
      ]
     },
     "execution_count": 8,
     "metadata": {},
     "output_type": "execute_result"
    }
   ],
   "source": [
    "# creates decision tree with the best parameters for the training data\n",
    "clf = tree.DecisionTreeClassifier(criterion='gini',max_depth=6,\n",
    "                                  splitter='best', min_samples_split=10,\n",
    "                                  class_weight={2:1.07})\n",
    "tree_model = clf.fit(x_train, y_train)\n",
    "y_pred = tree_model.predict(x_test)\n",
    "f1_score(y_test, y_pred)"
   ]
  },
  {
   "cell_type": "code",
   "execution_count": 9,
   "metadata": {},
   "outputs": [
    {
     "data": {
      "text/plain": [
       "Text(0.5, 1.0, 'Confusion Matrix')"
      ]
     },
     "execution_count": 9,
     "metadata": {},
     "output_type": "execute_result"
    },
    {
     "data": {
      "image/png": "[encoded data removed]",
      "text/plain": [
       "<Figure size 640x480 with 1 Axes>"
      ]
     },
     "metadata": {},
     "output_type": "display_data"
    }
   ],
   "source": [
    "# Looks at predictions\n",
    "cm = confusion_matrix(y_test, y_pred)\n",
    "cols = [\"Pred 1\", \"Pred 2\"]\n",
    "rows = [\"Actual 1\", \"Actual 2\"]\n",
    "\n",
    "plt.imshow( cm )\n",
    "\n",
    "# Show all ticks and label them with the respective list entries\n",
    "plt.xticks(np.arange(len(cols)), labels=cols)\n",
    "plt.yticks(np.arange(len(rows)), labels=rows)\n",
    "\n",
    "for i in range(len(cols)):\n",
    "    for j in range(len(rows)):\n",
    "        if i == j:\n",
    "            c = 'black'\n",
    "        else:\n",
    "            c = 'white'\n",
    "        text = plt.text(j, i, cm[i, j], ha=\"center\", va=\"center\", color=c)\n",
    "\n",
    "plt.title( 'Confusion Matrix' )"
   ]
  },
  {
   "attachments": {},
   "cell_type": "markdown",
   "metadata": {},
   "source": [
    "### Apply to test_data.csv"
   ]
  },
  {
   "cell_type": "code",
   "execution_count": 10,
   "metadata": {},
   "outputs": [
    {
     "name": "stderr",
     "output_type": "stream",
     "text": [
      "/Users/ericwang/Library/Python/3.9/lib/python/site-packages/sklearn/base.py:432: UserWarning: X has feature names, but DecisionTreeClassifier was fitted without feature names\n",
      "  warnings.warn(\n"
     ]
    }
   ],
   "source": [
    "# test = test[test['Income']!='Unknown'] # drops unknown incomes as it drops performance of prediction\n",
    "\n",
    "x = test[['Relationship', 'ContactNum','TransCt', 'Ct_41']]\n",
    "# use tree_model to predict y\n",
    "y_pred = tree_model.predict(x)"
   ]
  },
  {
   "cell_type": "code",
   "execution_count": 26,
   "metadata": {},
   "outputs": [],
   "source": [
    "np.savetxt('/Users/ericwang/Desktop/ECON_148/Midterm/test_result2.csv.csv',y_pred, delimiter=',')"
   ]
  },
  {
   "cell_type": "code",
   "execution_count": 11,
   "metadata": {},
   "outputs": [
    {
     "data": {
      "text/plain": [
       "2532"
      ]
     },
     "execution_count": 11,
     "metadata": {},
     "output_type": "execute_result"
    }
   ],
   "source": [
    "len(test)"
   ]
  },
  {
   "cell_type": "code",
   "execution_count": 12,
   "metadata": {},
   "outputs": [
    {
     "data": {
      "text/plain": [
       "2532"
      ]
     },
     "execution_count": 12,
     "metadata": {},
     "output_type": "execute_result"
    }
   ],
   "source": [
    "len(y_pred)"
   ]
  },
  {
   "cell_type": "code",
   "execution_count": null,
   "metadata": {},
   "outputs": [],
   "source": []
  }
 ],
 "metadata": {
  "kernelspec": {
   "display_name": "base",
   "language": "python",
   "name": "python3"
  },
  "language_info": {
   "codemirror_mode": {
    "name": "ipython",
    "version": 3
   },
   "file_extension": ".py",
   "mimetype": "text/x-python",
   "name": "python",
   "nbconvert_exporter": "python",
   "pygments_lexer": "ipython3",
   "version": "3.9.6"
  },
  "orig_nbformat": 4
 },
 "nbformat": 4,
 "nbformat_minor": 2
}
